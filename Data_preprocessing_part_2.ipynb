{
  "nbformat": 4,
  "nbformat_minor": 0,
  "metadata": {
    "colab": {
      "provenance": [],
      "authorship_tag": "ABX9TyPi1zxRnxODpCsvXmrvlu9F",
      "include_colab_link": true
    },
    "kernelspec": {
      "name": "python3",
      "display_name": "Python 3"
    },
    "language_info": {
      "name": "python"
    }
  },
  "cells": [
    {
      "cell_type": "markdown",
      "metadata": {
        "id": "view-in-github",
        "colab_type": "text"
      },
      "source": [
        "<a href=\"https://colab.research.google.com/github/kishon45229/Customer-Churn-Prediction-in-Telecom-Industry/blob/main/Data_preprocessing_part_2.ipynb\" target=\"_parent\"><img src=\"https://colab.research.google.com/assets/colab-badge.svg\" alt=\"Open In Colab\"/></a>"
      ]
    },
    {
      "cell_type": "markdown",
      "source": [
        "# Customer Churn Prediction in Telecom Industry"
      ],
      "metadata": {
        "id": "I_FXB6R0MwYl"
      }
    },
    {
      "cell_type": "markdown",
      "source": [
        "This repository focuses on predicting customer churn in the telecom industry. The data preprocessing section is key to ensuring the accuracy of the predictive model. It involves handling missing values, encoding categorical variables into numerical formats, and performing feature engineering to create and modify features that enhance model performance. Additionally, attribute subset selection techniques, such as Recursive Feature Elimination (RFE), are applied to identify the most relevant features. These preprocessing steps are essential for building a reliable churn prediction model, helping telecom companies proactively retain their customers.\n",
        "\n",
        "ITBIN-2110-0031\n",
        "\n",
        "TF.FATHIMA"
      ],
      "metadata": {
        "id": "yP5LYKPjp08l"
      }
    },
    {
      "cell_type": "markdown",
      "source": [
        "# Import Necessary Libraries"
      ],
      "metadata": {
        "id": "vDYqTcDi_SW_"
      }
    },
    {
      "cell_type": "code",
      "source": [
        "import pandas as pd\n",
        "import seaborn as sns\n",
        "import matplotlib.pyplot as plt\n",
        "from sklearn.ensemble import RandomForestClassifier\n",
        "from sklearn.feature_selection import SelectFromModel"
      ],
      "metadata": {
        "id": "crceegDi9EUH"
      },
      "execution_count": 8,
      "outputs": []
    },
    {
      "cell_type": "markdown",
      "source": [
        "# Add Dataset\n",
        "I am going to continue from previous section data preprocessing part 1. therefore I read the csv file that completed the data preprocessing part."
      ],
      "metadata": {
        "id": "dDRBCjoT_ma4"
      }
    },
    {
      "cell_type": "code",
      "source": [
        "file_path = '/content/Section 2 finished dataset.csv'\n",
        "df = pd.read_csv('/content/Section 2 finished dataset.csv')"
      ],
      "metadata": {
        "id": "LEI-e-dz_NlK"
      },
      "execution_count": 9,
      "outputs": []
    },
    {
      "cell_type": "code",
      "source": [
        "print(df.info())\n",
        "print(df.head())\n"
      ],
      "metadata": {
        "colab": {
          "base_uri": "https://localhost:8080/"
        },
        "id": "TmvfGl34AICQ",
        "outputId": "11a2db3e-d13e-45fc-9c7e-5f2f7092e4d2"
      },
      "execution_count": null,
      "outputs": [
        {
          "output_type": "stream",
          "name": "stdout",
          "text": [
            "<class 'pandas.core.frame.DataFrame'>\n",
            "RangeIndex: 7032 entries, 0 to 7031\n",
            "Data columns (total 26 columns):\n",
            " #   Column              Non-Null Count  Dtype  \n",
            "---  ------              --------------  -----  \n",
            " 0   customerID          7032 non-null   object \n",
            " 1   gender              7032 non-null   object \n",
            " 2   SeniorCitizen       7032 non-null   int64  \n",
            " 3   Partner             7032 non-null   object \n",
            " 4   Dependents          7032 non-null   object \n",
            " 5   tenure              7032 non-null   int64  \n",
            " 6   PhoneService        7032 non-null   object \n",
            " 7   MultipleLines       7032 non-null   object \n",
            " 8   InternetService     7032 non-null   object \n",
            " 9   OnlineSecurity      7032 non-null   object \n",
            " 10  OnlineBackup        7032 non-null   object \n",
            " 11  DeviceProtection    7032 non-null   object \n",
            " 12  TechSupport         7032 non-null   object \n",
            " 13  StreamingTV         7032 non-null   object \n",
            " 14  StreamingMovies     7032 non-null   object \n",
            " 15  Contract            7032 non-null   object \n",
            " 16  PaperlessBilling    7032 non-null   object \n",
            " 17  PaymentMethod       7032 non-null   object \n",
            " 18  MonthlyCharges      7032 non-null   float64\n",
            " 19  TotalCharges        7032 non-null   float64\n",
            " 20  Churn               7032 non-null   object \n",
            " 21  tenure_bin          7032 non-null   object \n",
            " 22  MonthlyCharges_bin  7032 non-null   object \n",
            " 23  Cluster             7032 non-null   int64  \n",
            " 24  PCA1                7032 non-null   float64\n",
            " 25  PCA2                7032 non-null   float64\n",
            "dtypes: float64(4), int64(3), object(19)\n",
            "memory usage: 1.4+ MB\n",
            "None\n",
            "   customerID  gender  SeniorCitizen Partner Dependents  tenure PhoneService  \\\n",
            "0  7590-VHVEG  Female              0     Yes         No       1           No   \n",
            "1  5575-GNVDE    Male              0      No         No      34          Yes   \n",
            "2  3668-QPYBK    Male              0      No         No       2          Yes   \n",
            "3  7795-CFOCW    Male              0      No         No      45           No   \n",
            "4  9237-HQITU  Female              0      No         No       2          Yes   \n",
            "\n",
            "      MultipleLines InternetService OnlineSecurity  ... PaperlessBilling  \\\n",
            "0  No phone service             DSL             No  ...              Yes   \n",
            "1                No             DSL            Yes  ...               No   \n",
            "2                No             DSL            Yes  ...              Yes   \n",
            "3  No phone service             DSL            Yes  ...               No   \n",
            "4                No     Fiber optic             No  ...              Yes   \n",
            "\n",
            "               PaymentMethod MonthlyCharges TotalCharges Churn tenure_bin  \\\n",
            "0           Electronic check          29.85        29.85    No       0-12   \n",
            "1               Mailed check          56.95      1889.50    No      25-36   \n",
            "2               Mailed check          53.85       108.15   Yes       0-12   \n",
            "3  Bank transfer (automatic)          42.30      1840.75    No      37-48   \n",
            "4           Electronic check          70.70       151.65   Yes       0-12   \n",
            "\n",
            "  MonthlyCharges_bin Cluster      PCA1      PCA2  \n",
            "0              21-40       0 -2.186195 -0.654456  \n",
            "1              41-60       2 -0.115181  0.583276  \n",
            "2              41-60       2 -1.311383  1.343579  \n",
            "3              41-60       0 -0.570548 -1.533997  \n",
            "4              61-80       2 -0.992743  1.557438  \n",
            "\n",
            "[5 rows x 26 columns]\n"
          ]
        }
      ]
    },
    {
      "cell_type": "code",
      "source": [
        "print(df.isnull().sum())\n",
        "print(df.dtypes)"
      ],
      "metadata": {
        "colab": {
          "base_uri": "https://localhost:8080/"
        },
        "id": "5bD2XUeXBrYQ",
        "outputId": "4220a04b-dec6-46b0-a6ec-0648c382dfde"
      },
      "execution_count": null,
      "outputs": [
        {
          "output_type": "stream",
          "name": "stdout",
          "text": [
            "customerID            0\n",
            "gender                0\n",
            "SeniorCitizen         0\n",
            "Partner               0\n",
            "Dependents            0\n",
            "tenure                0\n",
            "PhoneService          0\n",
            "MultipleLines         0\n",
            "InternetService       0\n",
            "OnlineSecurity        0\n",
            "OnlineBackup          0\n",
            "DeviceProtection      0\n",
            "TechSupport           0\n",
            "StreamingTV           0\n",
            "StreamingMovies       0\n",
            "Contract              0\n",
            "PaperlessBilling      0\n",
            "PaymentMethod         0\n",
            "MonthlyCharges        0\n",
            "TotalCharges          0\n",
            "Churn                 0\n",
            "tenure_bin            0\n",
            "MonthlyCharges_bin    0\n",
            "Cluster               0\n",
            "PCA1                  0\n",
            "PCA2                  0\n",
            "dtype: int64\n",
            "customerID             object\n",
            "gender                 object\n",
            "SeniorCitizen           int64\n",
            "Partner                object\n",
            "Dependents             object\n",
            "tenure                  int64\n",
            "PhoneService           object\n",
            "MultipleLines          object\n",
            "InternetService        object\n",
            "OnlineSecurity         object\n",
            "OnlineBackup           object\n",
            "DeviceProtection       object\n",
            "TechSupport            object\n",
            "StreamingTV            object\n",
            "StreamingMovies        object\n",
            "Contract               object\n",
            "PaperlessBilling       object\n",
            "PaymentMethod          object\n",
            "MonthlyCharges        float64\n",
            "TotalCharges          float64\n",
            "Churn                  object\n",
            "tenure_bin             object\n",
            "MonthlyCharges_bin     object\n",
            "Cluster                 int64\n",
            "PCA1                  float64\n",
            "PCA2                  float64\n",
            "dtype: object\n"
          ]
        }
      ]
    },
    {
      "cell_type": "markdown",
      "source": [
        "# Numerosity Reduction - Sampling or Modeling"
      ],
      "metadata": {
        "id": "Tf5yv-aZvSzK"
      }
    },
    {
      "cell_type": "code",
      "source": [
        "import pandas as pd\n",
        "\n",
        "# Load dataset\n",
        "df = pd.read_csv('/content/Section 2 finished dataset.csv')\n",
        "\n",
        "# Random Sampling: Select a subset of 30% of the original data\n",
        "sampled_df = df.sample(frac=0.3, random_state=42)\n",
        "\n",
        "print(\"Original Dataset Shape:\", df.shape)\n",
        "print(\"Sampled Dataset Shape:\", sampled_df.shape)\n"
      ],
      "metadata": {
        "colab": {
          "base_uri": "https://localhost:8080/"
        },
        "id": "DRMVSritwQ6Z",
        "outputId": "fd11fe1e-0e88-407e-e998-668b931a1bbd"
      },
      "execution_count": 13,
      "outputs": [
        {
          "output_type": "stream",
          "name": "stdout",
          "text": [
            "Original Dataset Shape: (7032, 26)\n",
            "Sampled Dataset Shape: (2110, 26)\n"
          ]
        }
      ]
    },
    {
      "cell_type": "markdown",
      "source": [
        "# Modeling\n",
        "Modeling for numerosity reduction can involve techniques like regression, clustering, or PCA, where the data is approximated using a model with fewer parameters."
      ],
      "metadata": {
        "id": "5GxTKWc0wa50"
      }
    },
    {
      "cell_type": "code",
      "source": [
        "from sklearn.decomposition import PCA\n",
        "from sklearn.preprocessing import StandardScaler\n",
        "\n",
        "# Preprocessing: Standardize the data\n",
        "df = df.dropna()  # Handling missing values\n",
        "#X = pd.get_dummies(df.drop( axis=1))  # Assuming 'target' is the label column\n",
        "scaler = StandardScaler()\n",
        "X_scaled = scaler.fit_transform(X)\n",
        "\n",
        "# Applying PCA: Reduce the data to 2 principal components\n",
        "pca = PCA(n_components=2)\n",
        "X_pca = pca.fit_transform(X_scaled)\n",
        "\n",
        "print(\"Original Dataset Shape:\", X.shape)\n",
        "print(\"Reduced Dataset Shape after PCA:\", X_pca.shape)\n"
      ],
      "metadata": {
        "colab": {
          "base_uri": "https://localhost:8080/",
          "height": 211
        },
        "id": "iWNqv6wLwj4v",
        "outputId": "48f40cb5-dc18-418c-83d2-02a90a5d8964"
      },
      "execution_count": 16,
      "outputs": [
        {
          "output_type": "error",
          "ename": "NameError",
          "evalue": "name 'X' is not defined",
          "traceback": [
            "\u001b[0;31m---------------------------------------------------------------------------\u001b[0m",
            "\u001b[0;31mNameError\u001b[0m                                 Traceback (most recent call last)",
            "\u001b[0;32m<ipython-input-16-c9219b0a97f8>\u001b[0m in \u001b[0;36m<cell line: 8>\u001b[0;34m()\u001b[0m\n\u001b[1;32m      6\u001b[0m \u001b[0;31m#X = pd.get_dummies(df.drop( axis=1))  # Assuming 'target' is the label column\u001b[0m\u001b[0;34m\u001b[0m\u001b[0;34m\u001b[0m\u001b[0m\n\u001b[1;32m      7\u001b[0m \u001b[0mscaler\u001b[0m \u001b[0;34m=\u001b[0m \u001b[0mStandardScaler\u001b[0m\u001b[0;34m(\u001b[0m\u001b[0;34m)\u001b[0m\u001b[0;34m\u001b[0m\u001b[0;34m\u001b[0m\u001b[0m\n\u001b[0;32m----> 8\u001b[0;31m \u001b[0mX_scaled\u001b[0m \u001b[0;34m=\u001b[0m \u001b[0mscaler\u001b[0m\u001b[0;34m.\u001b[0m\u001b[0mfit_transform\u001b[0m\u001b[0;34m(\u001b[0m\u001b[0mX\u001b[0m\u001b[0;34m)\u001b[0m\u001b[0;34m\u001b[0m\u001b[0;34m\u001b[0m\u001b[0m\n\u001b[0m\u001b[1;32m      9\u001b[0m \u001b[0;34m\u001b[0m\u001b[0m\n\u001b[1;32m     10\u001b[0m \u001b[0;31m# Applying PCA: Reduce the data to 2 principal components\u001b[0m\u001b[0;34m\u001b[0m\u001b[0;34m\u001b[0m\u001b[0m\n",
            "\u001b[0;31mNameError\u001b[0m: name 'X' is not defined"
          ]
        }
      ]
    },
    {
      "cell_type": "markdown",
      "source": [
        "# Normalization"
      ],
      "metadata": {
        "id": "0ksUVNmSxXMw"
      }
    }
  ]
}