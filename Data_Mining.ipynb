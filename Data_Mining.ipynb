{
  "cells": [
    {
      "cell_type": "markdown",
      "metadata": {
        "id": "view-in-github",
        "colab_type": "text"
      },
      "source": [
        "<a href=\"https://colab.research.google.com/github/kishon45229/Customer-Churn-Prediction-in-Telecom-Industry/blob/main/Data_Mining.ipynb\" target=\"_parent\"><img src=\"https://colab.research.google.com/assets/colab-badge.svg\" alt=\"Open In Colab\"/></a>"
      ]
    },
    {
      "cell_type": "markdown",
      "metadata": {
        "id": "6RraookqF0Nz"
      },
      "source": [
        "# **Customer Churn Prediction in Telecom Industry**\n",
        "\n",
        "\n",
        "\n"
      ]
    },
    {
      "cell_type": "code",
      "execution_count": 78,
      "metadata": {
        "colab": {
          "base_uri": "https://localhost:8080/"
        },
        "id": "j9RRyP9zm1Zw",
        "outputId": "2f76af2f-dd1d-4b8e-80d0-9ed71b3dd925"
      },
      "outputs": [
        {
          "output_type": "stream",
          "name": "stdout",
          "text": [
            "Mounted at /mount.drive\n"
          ]
        }
      ],
      "source": [
        "from google.colab import drive\n",
        "drive.mount('/mount.drive')"
      ]
    },
    {
      "cell_type": "markdown",
      "metadata": {
        "id": "t0C9N_AUX9lh"
      },
      "source": [
        "# **Data Mining**"
      ]
    },
    {
      "cell_type": "markdown",
      "metadata": {
        "id": "E5zyH58TPn23"
      },
      "source": [
        "In the \"Customer Churn Prediction in the Telecom Industry\" project, I was responsible for the data mining aspect, which is crucial for extracting actionable insights from vast amounts of customer data. My role involved collecting, cleaning, and analyzing large datasets to identify patterns and trends that indicate potential customer churn. By applying various data mining techniques, such as clustering, classification, and association rule mining, I was able to uncover key factors contributing to customer attrition. This process enabled the development of predictive models that help telecom companies proactively address customer needs, ultimately reducing churn rates and improving customer retention strategies."
      ]
    },
    {
      "cell_type": "markdown",
      "metadata": {
        "id": "HMk2FVIZXlaC"
      },
      "source": [
        "ITBIN-2110-0013\\\n",
        "H.M.F.Asma"
      ]
    },
    {
      "cell_type": "markdown",
      "metadata": {
        "id": "9Mls_MHEXsDx"
      },
      "source": [
        "## **Import Libraries**"
      ]
    },
    {
      "cell_type": "code",
      "execution_count": 48,
      "metadata": {
        "id": "tMatgT9Xi3EV"
      },
      "outputs": [],
      "source": [
        "import pandas as pd\n",
        "import numpy as np\n",
        "import seaborn as sns\n",
        "import matplotlib.pyplot as plt\n",
        "import plotly.express as px\n",
        "import plotly.figure_factory as ff\n",
        "\n",
        "from sklearn.model_selection import train_test_split, GridSearchCV\n",
        "from sklearn.linear_model import LinearRegression\n",
        "from sklearn.metrics import mean_absolute_error, mean_squared_error, r2_score\n",
        "from sklearn.preprocessing import StandardScaler\n",
        "from sklearn.cluster import KMeans\n",
        "from sklearn.decomposition import PCA\n",
        "from sklearn.feature_selection import SelectKBest, f_classif\n",
        "from sklearn.preprocessing import MinMaxScaler\n",
        "from sklearn.linear_model import LogisticRegression\n",
        "from sklearn.ensemble import RandomForestClassifier\n",
        "from sklearn.metrics import accuracy_score, precision_score, recall_score, f1_score, confusion_matrix, roc_curve, auc\n",
        "from sklearn.metrics import accuracy_score, classification_report, roc_auc_score\n",
        "from sklearn.tree import DecisionTreeClassifier\n",
        "from sklearn.ensemble import RandomForestClassifier\n",
        "from sklearn.ensemble import GradientBoostingClassifier"
      ]
    },
    {
      "cell_type": "markdown",
      "metadata": {
        "id": "vEX3LDo59pV2"
      },
      "source": [
        "Let's load the dataset to check its contents."
      ]
    },
    {
      "cell_type": "markdown",
      "metadata": {
        "id": "uzi98W-_GuDZ"
      },
      "source": [
        "## **Add Dataset**"
      ]
    },
    {
      "cell_type": "markdown",
      "metadata": {
        "id": "UUPHNKuc9q_X"
      },
      "source": [
        "I'll start by loading the dataset and showing the first few rows. Then, we can proceed with the data mining tasks"
      ]
    },
    {
      "cell_type": "code",
      "execution_count": 49,
      "metadata": {
        "colab": {
          "base_uri": "https://localhost:8080/",
          "height": 290
        },
        "id": "4VDIit-Nr2u4",
        "outputId": "048f6aff-8ed5-49b3-b71f-5d2cda1c1508"
      },
      "outputs": [
        {
          "output_type": "execute_result",
          "data": {
            "text/plain": [
              "     tenure  MonthlyCharges  TotalCharges  Cluster      PCA2  \\\n",
              "0  0.845070        0.063063      0.171414      0.0  0.197946   \n",
              "1  0.253521        0.060060      0.051674      0.0  0.243191   \n",
              "2  0.169014        0.836336      0.154913      1.0  0.793704   \n",
              "3  0.507042        0.363864      0.232560      0.0  0.221083   \n",
              "4  0.070423        0.107608      0.016489      0.0  0.312633   \n",
              "\n",
              "   InternetService_Fiber optic  InternetService_No  \\\n",
              "0                          0.0                 1.0   \n",
              "1                          0.0                 1.0   \n",
              "2                          1.0                 0.0   \n",
              "3                          0.0                 0.0   \n",
              "4                          0.0                 0.0   \n",
              "\n",
              "   OnlineSecurity_No internet service  OnlineSecurity_Yes  \\\n",
              "0                                 1.0                 0.0   \n",
              "1                                 1.0                 0.0   \n",
              "2                                 0.0                 0.0   \n",
              "3                                 0.0                 1.0   \n",
              "4                                 0.0                 1.0   \n",
              "\n",
              "   OnlineBackup_No internet service  ...  StreamingMovies_No internet service  \\\n",
              "0                               1.0  ...                                  1.0   \n",
              "1                               1.0  ...                                  1.0   \n",
              "2                               0.0  ...                                  0.0   \n",
              "3                               0.0  ...                                  0.0   \n",
              "4                               0.0  ...                                  0.0   \n",
              "\n",
              "   Contract_One year  Contract_Two year  PaperlessBilling_Yes  \\\n",
              "0                0.0                1.0                   0.0   \n",
              "1                0.0                0.0                   0.0   \n",
              "2                0.0                0.0                   1.0   \n",
              "3                0.0                0.0                   1.0   \n",
              "4                0.0                0.0                   0.0   \n",
              "\n",
              "   PaymentMethod_Electronic check  tenure_bin_61-72  Churn  MonthlyTenure  \\\n",
              "0                             0.0               1.0      0       2.718129   \n",
              "1                             0.0               0.0      0       0.860377   \n",
              "2                             0.0               0.0      1       0.185228   \n",
              "3                             0.0               0.0      0       0.639141   \n",
              "4                             0.0               0.0      0       0.153231   \n",
              "\n",
              "   MonthlyChargesBinned  TotalChargesBinned  \n",
              "0                     0                   0  \n",
              "1                     0                   0  \n",
              "2                     4                   0  \n",
              "3                     1                   1  \n",
              "4                     0                   0  \n",
              "\n",
              "[5 rows x 24 columns]"
            ],
            "text/html": [
              "\n",
              "  <div id=\"df-f9048cec-1866-4161-b302-2c5edbe50249\" class=\"colab-df-container\">\n",
              "    <div>\n",
              "<style scoped>\n",
              "    .dataframe tbody tr th:only-of-type {\n",
              "        vertical-align: middle;\n",
              "    }\n",
              "\n",
              "    .dataframe tbody tr th {\n",
              "        vertical-align: top;\n",
              "    }\n",
              "\n",
              "    .dataframe thead th {\n",
              "        text-align: right;\n",
              "    }\n",
              "</style>\n",
              "<table border=\"1\" class=\"dataframe\">\n",
              "  <thead>\n",
              "    <tr style=\"text-align: right;\">\n",
              "      <th></th>\n",
              "      <th>tenure</th>\n",
              "      <th>MonthlyCharges</th>\n",
              "      <th>TotalCharges</th>\n",
              "      <th>Cluster</th>\n",
              "      <th>PCA2</th>\n",
              "      <th>InternetService_Fiber optic</th>\n",
              "      <th>InternetService_No</th>\n",
              "      <th>OnlineSecurity_No internet service</th>\n",
              "      <th>OnlineSecurity_Yes</th>\n",
              "      <th>OnlineBackup_No internet service</th>\n",
              "      <th>...</th>\n",
              "      <th>StreamingMovies_No internet service</th>\n",
              "      <th>Contract_One year</th>\n",
              "      <th>Contract_Two year</th>\n",
              "      <th>PaperlessBilling_Yes</th>\n",
              "      <th>PaymentMethod_Electronic check</th>\n",
              "      <th>tenure_bin_61-72</th>\n",
              "      <th>Churn</th>\n",
              "      <th>MonthlyTenure</th>\n",
              "      <th>MonthlyChargesBinned</th>\n",
              "      <th>TotalChargesBinned</th>\n",
              "    </tr>\n",
              "  </thead>\n",
              "  <tbody>\n",
              "    <tr>\n",
              "      <th>0</th>\n",
              "      <td>0.845070</td>\n",
              "      <td>0.063063</td>\n",
              "      <td>0.171414</td>\n",
              "      <td>0.0</td>\n",
              "      <td>0.197946</td>\n",
              "      <td>0.0</td>\n",
              "      <td>1.0</td>\n",
              "      <td>1.0</td>\n",
              "      <td>0.0</td>\n",
              "      <td>1.0</td>\n",
              "      <td>...</td>\n",
              "      <td>1.0</td>\n",
              "      <td>0.0</td>\n",
              "      <td>1.0</td>\n",
              "      <td>0.0</td>\n",
              "      <td>0.0</td>\n",
              "      <td>1.0</td>\n",
              "      <td>0</td>\n",
              "      <td>2.718129</td>\n",
              "      <td>0</td>\n",
              "      <td>0</td>\n",
              "    </tr>\n",
              "    <tr>\n",
              "      <th>1</th>\n",
              "      <td>0.253521</td>\n",
              "      <td>0.060060</td>\n",
              "      <td>0.051674</td>\n",
              "      <td>0.0</td>\n",
              "      <td>0.243191</td>\n",
              "      <td>0.0</td>\n",
              "      <td>1.0</td>\n",
              "      <td>1.0</td>\n",
              "      <td>0.0</td>\n",
              "      <td>1.0</td>\n",
              "      <td>...</td>\n",
              "      <td>1.0</td>\n",
              "      <td>0.0</td>\n",
              "      <td>0.0</td>\n",
              "      <td>0.0</td>\n",
              "      <td>0.0</td>\n",
              "      <td>0.0</td>\n",
              "      <td>0</td>\n",
              "      <td>0.860377</td>\n",
              "      <td>0</td>\n",
              "      <td>0</td>\n",
              "    </tr>\n",
              "    <tr>\n",
              "      <th>2</th>\n",
              "      <td>0.169014</td>\n",
              "      <td>0.836336</td>\n",
              "      <td>0.154913</td>\n",
              "      <td>1.0</td>\n",
              "      <td>0.793704</td>\n",
              "      <td>1.0</td>\n",
              "      <td>0.0</td>\n",
              "      <td>0.0</td>\n",
              "      <td>0.0</td>\n",
              "      <td>0.0</td>\n",
              "      <td>...</td>\n",
              "      <td>0.0</td>\n",
              "      <td>0.0</td>\n",
              "      <td>0.0</td>\n",
              "      <td>1.0</td>\n",
              "      <td>0.0</td>\n",
              "      <td>0.0</td>\n",
              "      <td>1</td>\n",
              "      <td>0.185228</td>\n",
              "      <td>4</td>\n",
              "      <td>0</td>\n",
              "    </tr>\n",
              "    <tr>\n",
              "      <th>3</th>\n",
              "      <td>0.507042</td>\n",
              "      <td>0.363864</td>\n",
              "      <td>0.232560</td>\n",
              "      <td>0.0</td>\n",
              "      <td>0.221083</td>\n",
              "      <td>0.0</td>\n",
              "      <td>0.0</td>\n",
              "      <td>0.0</td>\n",
              "      <td>1.0</td>\n",
              "      <td>0.0</td>\n",
              "      <td>...</td>\n",
              "      <td>0.0</td>\n",
              "      <td>0.0</td>\n",
              "      <td>0.0</td>\n",
              "      <td>1.0</td>\n",
              "      <td>0.0</td>\n",
              "      <td>0.0</td>\n",
              "      <td>0</td>\n",
              "      <td>0.639141</td>\n",
              "      <td>1</td>\n",
              "      <td>1</td>\n",
              "    </tr>\n",
              "    <tr>\n",
              "      <th>4</th>\n",
              "      <td>0.070423</td>\n",
              "      <td>0.107608</td>\n",
              "      <td>0.016489</td>\n",
              "      <td>0.0</td>\n",
              "      <td>0.312633</td>\n",
              "      <td>0.0</td>\n",
              "      <td>0.0</td>\n",
              "      <td>0.0</td>\n",
              "      <td>1.0</td>\n",
              "      <td>0.0</td>\n",
              "      <td>...</td>\n",
              "      <td>0.0</td>\n",
              "      <td>0.0</td>\n",
              "      <td>0.0</td>\n",
              "      <td>0.0</td>\n",
              "      <td>0.0</td>\n",
              "      <td>0.0</td>\n",
              "      <td>0</td>\n",
              "      <td>0.153231</td>\n",
              "      <td>0</td>\n",
              "      <td>0</td>\n",
              "    </tr>\n",
              "  </tbody>\n",
              "</table>\n",
              "<p>5 rows × 24 columns</p>\n",
              "</div>\n",
              "    <div class=\"colab-df-buttons\">\n",
              "\n",
              "  <div class=\"colab-df-container\">\n",
              "    <button class=\"colab-df-convert\" onclick=\"convertToInteractive('df-f9048cec-1866-4161-b302-2c5edbe50249')\"\n",
              "            title=\"Convert this dataframe to an interactive table.\"\n",
              "            style=\"display:none;\">\n",
              "\n",
              "  <svg xmlns=\"http://www.w3.org/2000/svg\" height=\"24px\" viewBox=\"0 -960 960 960\">\n",
              "    <path d=\"M120-120v-720h720v720H120Zm60-500h600v-160H180v160Zm220 220h160v-160H400v160Zm0 220h160v-160H400v160ZM180-400h160v-160H180v160Zm440 0h160v-160H620v160ZM180-180h160v-160H180v160Zm440 0h160v-160H620v160Z\"/>\n",
              "  </svg>\n",
              "    </button>\n",
              "\n",
              "  <style>\n",
              "    .colab-df-container {\n",
              "      display:flex;\n",
              "      gap: 12px;\n",
              "    }\n",
              "\n",
              "    .colab-df-convert {\n",
              "      background-color: #E8F0FE;\n",
              "      border: none;\n",
              "      border-radius: 50%;\n",
              "      cursor: pointer;\n",
              "      display: none;\n",
              "      fill: #1967D2;\n",
              "      height: 32px;\n",
              "      padding: 0 0 0 0;\n",
              "      width: 32px;\n",
              "    }\n",
              "\n",
              "    .colab-df-convert:hover {\n",
              "      background-color: #E2EBFA;\n",
              "      box-shadow: 0px 1px 2px rgba(60, 64, 67, 0.3), 0px 1px 3px 1px rgba(60, 64, 67, 0.15);\n",
              "      fill: #174EA6;\n",
              "    }\n",
              "\n",
              "    .colab-df-buttons div {\n",
              "      margin-bottom: 4px;\n",
              "    }\n",
              "\n",
              "    [theme=dark] .colab-df-convert {\n",
              "      background-color: #3B4455;\n",
              "      fill: #D2E3FC;\n",
              "    }\n",
              "\n",
              "    [theme=dark] .colab-df-convert:hover {\n",
              "      background-color: #434B5C;\n",
              "      box-shadow: 0px 1px 3px 1px rgba(0, 0, 0, 0.15);\n",
              "      filter: drop-shadow(0px 1px 2px rgba(0, 0, 0, 0.3));\n",
              "      fill: #FFFFFF;\n",
              "    }\n",
              "  </style>\n",
              "\n",
              "    <script>\n",
              "      const buttonEl =\n",
              "        document.querySelector('#df-f9048cec-1866-4161-b302-2c5edbe50249 button.colab-df-convert');\n",
              "      buttonEl.style.display =\n",
              "        google.colab.kernel.accessAllowed ? 'block' : 'none';\n",
              "\n",
              "      async function convertToInteractive(key) {\n",
              "        const element = document.querySelector('#df-f9048cec-1866-4161-b302-2c5edbe50249');\n",
              "        const dataTable =\n",
              "          await google.colab.kernel.invokeFunction('convertToInteractive',\n",
              "                                                    [key], {});\n",
              "        if (!dataTable) return;\n",
              "\n",
              "        const docLinkHtml = 'Like what you see? Visit the ' +\n",
              "          '<a target=\"_blank\" href=https://colab.research.google.com/notebooks/data_table.ipynb>data table notebook</a>'\n",
              "          + ' to learn more about interactive tables.';\n",
              "        element.innerHTML = '';\n",
              "        dataTable['output_type'] = 'display_data';\n",
              "        await google.colab.output.renderOutput(dataTable, element);\n",
              "        const docLink = document.createElement('div');\n",
              "        docLink.innerHTML = docLinkHtml;\n",
              "        element.appendChild(docLink);\n",
              "      }\n",
              "    </script>\n",
              "  </div>\n",
              "\n",
              "\n",
              "<div id=\"df-c459e268-1d9e-4883-8566-6288739b2bac\">\n",
              "  <button class=\"colab-df-quickchart\" onclick=\"quickchart('df-c459e268-1d9e-4883-8566-6288739b2bac')\"\n",
              "            title=\"Suggest charts\"\n",
              "            style=\"display:none;\">\n",
              "\n",
              "<svg xmlns=\"http://www.w3.org/2000/svg\" height=\"24px\"viewBox=\"0 0 24 24\"\n",
              "     width=\"24px\">\n",
              "    <g>\n",
              "        <path d=\"M19 3H5c-1.1 0-2 .9-2 2v14c0 1.1.9 2 2 2h14c1.1 0 2-.9 2-2V5c0-1.1-.9-2-2-2zM9 17H7v-7h2v7zm4 0h-2V7h2v10zm4 0h-2v-4h2v4z\"/>\n",
              "    </g>\n",
              "</svg>\n",
              "  </button>\n",
              "\n",
              "<style>\n",
              "  .colab-df-quickchart {\n",
              "      --bg-color: #E8F0FE;\n",
              "      --fill-color: #1967D2;\n",
              "      --hover-bg-color: #E2EBFA;\n",
              "      --hover-fill-color: #174EA6;\n",
              "      --disabled-fill-color: #AAA;\n",
              "      --disabled-bg-color: #DDD;\n",
              "  }\n",
              "\n",
              "  [theme=dark] .colab-df-quickchart {\n",
              "      --bg-color: #3B4455;\n",
              "      --fill-color: #D2E3FC;\n",
              "      --hover-bg-color: #434B5C;\n",
              "      --hover-fill-color: #FFFFFF;\n",
              "      --disabled-bg-color: #3B4455;\n",
              "      --disabled-fill-color: #666;\n",
              "  }\n",
              "\n",
              "  .colab-df-quickchart {\n",
              "    background-color: var(--bg-color);\n",
              "    border: none;\n",
              "    border-radius: 50%;\n",
              "    cursor: pointer;\n",
              "    display: none;\n",
              "    fill: var(--fill-color);\n",
              "    height: 32px;\n",
              "    padding: 0;\n",
              "    width: 32px;\n",
              "  }\n",
              "\n",
              "  .colab-df-quickchart:hover {\n",
              "    background-color: var(--hover-bg-color);\n",
              "    box-shadow: 0 1px 2px rgba(60, 64, 67, 0.3), 0 1px 3px 1px rgba(60, 64, 67, 0.15);\n",
              "    fill: var(--button-hover-fill-color);\n",
              "  }\n",
              "\n",
              "  .colab-df-quickchart-complete:disabled,\n",
              "  .colab-df-quickchart-complete:disabled:hover {\n",
              "    background-color: var(--disabled-bg-color);\n",
              "    fill: var(--disabled-fill-color);\n",
              "    box-shadow: none;\n",
              "  }\n",
              "\n",
              "  .colab-df-spinner {\n",
              "    border: 2px solid var(--fill-color);\n",
              "    border-color: transparent;\n",
              "    border-bottom-color: var(--fill-color);\n",
              "    animation:\n",
              "      spin 1s steps(1) infinite;\n",
              "  }\n",
              "\n",
              "  @keyframes spin {\n",
              "    0% {\n",
              "      border-color: transparent;\n",
              "      border-bottom-color: var(--fill-color);\n",
              "      border-left-color: var(--fill-color);\n",
              "    }\n",
              "    20% {\n",
              "      border-color: transparent;\n",
              "      border-left-color: var(--fill-color);\n",
              "      border-top-color: var(--fill-color);\n",
              "    }\n",
              "    30% {\n",
              "      border-color: transparent;\n",
              "      border-left-color: var(--fill-color);\n",
              "      border-top-color: var(--fill-color);\n",
              "      border-right-color: var(--fill-color);\n",
              "    }\n",
              "    40% {\n",
              "      border-color: transparent;\n",
              "      border-right-color: var(--fill-color);\n",
              "      border-top-color: var(--fill-color);\n",
              "    }\n",
              "    60% {\n",
              "      border-color: transparent;\n",
              "      border-right-color: var(--fill-color);\n",
              "    }\n",
              "    80% {\n",
              "      border-color: transparent;\n",
              "      border-right-color: var(--fill-color);\n",
              "      border-bottom-color: var(--fill-color);\n",
              "    }\n",
              "    90% {\n",
              "      border-color: transparent;\n",
              "      border-bottom-color: var(--fill-color);\n",
              "    }\n",
              "  }\n",
              "</style>\n",
              "\n",
              "  <script>\n",
              "    async function quickchart(key) {\n",
              "      const quickchartButtonEl =\n",
              "        document.querySelector('#' + key + ' button');\n",
              "      quickchartButtonEl.disabled = true;  // To prevent multiple clicks.\n",
              "      quickchartButtonEl.classList.add('colab-df-spinner');\n",
              "      try {\n",
              "        const charts = await google.colab.kernel.invokeFunction(\n",
              "            'suggestCharts', [key], {});\n",
              "      } catch (error) {\n",
              "        console.error('Error during call to suggestCharts:', error);\n",
              "      }\n",
              "      quickchartButtonEl.classList.remove('colab-df-spinner');\n",
              "      quickchartButtonEl.classList.add('colab-df-quickchart-complete');\n",
              "    }\n",
              "    (() => {\n",
              "      let quickchartButtonEl =\n",
              "        document.querySelector('#df-c459e268-1d9e-4883-8566-6288739b2bac button');\n",
              "      quickchartButtonEl.style.display =\n",
              "        google.colab.kernel.accessAllowed ? 'block' : 'none';\n",
              "    })();\n",
              "  </script>\n",
              "</div>\n",
              "\n",
              "    </div>\n",
              "  </div>\n"
            ],
            "application/vnd.google.colaboratory.intrinsic+json": {
              "type": "dataframe",
              "variable_name": "df"
            }
          },
          "metadata": {},
          "execution_count": 49
        }
      ],
      "source": [
        "df = pd.read_csv('/content/drive/MyDrive/Data preprocessing part 2 completed dataset.csv')\n",
        "df.head()"
      ]
    },
    {
      "cell_type": "markdown",
      "metadata": {
        "id": "F1bDVrB9-LMm"
      },
      "source": [
        "Before applying any data mining techniques, it's essential to preprocess the data. In previous steps as a group we did some preprocessing steps.\n",
        "\n",
        "*   Handling missing values\n",
        "*   Normalizing or scaling numerical features\n",
        "*   Determining the features\n",
        "\n",
        "\n",
        "\n"
      ]
    },
    {
      "cell_type": "markdown",
      "metadata": {
        "id": "HW43LqIjClAg"
      },
      "source": [
        "Therefore, now the dataset is ready to do Data Mining tasks."
      ]
    },
    {
      "cell_type": "markdown",
      "metadata": {
        "id": "LwKNDHQWDP7x"
      },
      "source": [
        "## **Train a Model**"
      ]
    },
    {
      "cell_type": "markdown",
      "metadata": {
        "id": "I8PzHKeiDU3X"
      },
      "source": [
        "Now we are ready to train a model. There are multiple training model. We will experiment our dataset with each of them."
      ]
    },
    {
      "cell_type": "markdown",
      "metadata": {
        "id": "7wKzo2eDDxG0"
      },
      "source": [
        "**1. Logistic Regression**"
      ]
    },
    {
      "cell_type": "markdown",
      "metadata": {
        "id": "2BnCYHhnD12K"
      },
      "source": [
        "As a first step I have to split the data into training and testing sets. For this I choosed column `Churn`."
      ]
    },
    {
      "cell_type": "code",
      "execution_count": 50,
      "metadata": {
        "id": "jSD56xsED2KD"
      },
      "outputs": [],
      "source": [
        "X = df[['tenure', 'MonthlyCharges', 'TotalCharges']]\n",
        "y = df['Churn']\n",
        "\n",
        "X_train, X_test, y_train, y_test = train_test_split(X, y, test_size=0.2, random_state=42)"
      ]
    },
    {
      "cell_type": "markdown",
      "metadata": {
        "id": "JhgdVZlGFOYG"
      },
      "source": [
        "I trained the Logistic Reression model."
      ]
    },
    {
      "cell_type": "code",
      "execution_count": 51,
      "metadata": {
        "id": "EuCgdgF4FZsg"
      },
      "outputs": [],
      "source": [
        "model_lr = LogisticRegression(max_iter=1000, random_state=42)\n",
        "model_lr.fit(X_train, y_train)\n",
        "\n",
        "y_pred_lr = model_lr.predict(X_test)"
      ]
    },
    {
      "cell_type": "markdown",
      "metadata": {
        "id": "hVbZ1nlkFW_3"
      },
      "source": [
        "We evaluate the Logistic Regression model's performance using accuracy score and classification report."
      ]
    },
    {
      "cell_type": "code",
      "execution_count": 52,
      "metadata": {
        "colab": {
          "base_uri": "https://localhost:8080/"
        },
        "id": "yw8f-Q5JFiOi",
        "outputId": "174fdecd-0024-4ce8-e8f5-91defbf0152d"
      },
      "outputs": [
        {
          "output_type": "stream",
          "name": "stdout",
          "text": [
            "Accuracy: 0.76\n",
            "              precision    recall  f1-score   support\n",
            "\n",
            "           0       0.79      0.91      0.85       207\n",
            "           1       0.58      0.35      0.43        75\n",
            "\n",
            "    accuracy                           0.76       282\n",
            "   macro avg       0.69      0.63      0.64       282\n",
            "weighted avg       0.74      0.76      0.74       282\n",
            "\n"
          ]
        }
      ],
      "source": [
        "accuracy_lr = accuracy_score(y_test, y_pred_lr)\n",
        "print(f'Accuracy: {accuracy_lr:.2f}')\n",
        "\n",
        "print(classification_report(y_test, y_pred_lr))"
      ]
    },
    {
      "cell_type": "markdown",
      "metadata": {
        "id": "2M9Rt6xPFqvP"
      },
      "source": [
        "By using the Logistic Regression model I made predictions on test set."
      ]
    },
    {
      "cell_type": "code",
      "execution_count": 53,
      "metadata": {
        "colab": {
          "base_uri": "https://localhost:8080/",
          "height": 424
        },
        "id": "XflODuGbFugL",
        "outputId": "3aaea16d-98d3-4cf5-84ec-80a6edf47a98"
      },
      "outputs": [
        {
          "output_type": "execute_result",
          "data": {
            "text/plain": [
              "        tenure  MonthlyCharges  TotalCharges  Churn_Probabilities  \\\n",
              "1075  0.042254        0.377377      0.024973             0.469186   \n",
              "1015  0.774648        0.411411      0.397472             0.065765   \n",
              "650   1.000000        0.457958      0.534290             0.034022   \n",
              "447   0.873239        0.008008      0.138280             0.019468   \n",
              "1290  1.000000        0.711712      0.750367             0.057853   \n",
              "...        ...             ...           ...                  ...   \n",
              "188   0.732394        0.773273      0.580040             0.164714   \n",
              "1237  0.197183        0.832833      0.190544             0.637892   \n",
              "380   0.507042        0.011011      0.081756             0.062786   \n",
              "354   0.464789        0.463463      0.247211             0.198289   \n",
              "289   0.380282        0.779780      0.308110             0.434259   \n",
              "\n",
              "      Churn_Predictions  \n",
              "1075                  0  \n",
              "1015                  0  \n",
              "650                   0  \n",
              "447                   0  \n",
              "1290                  0  \n",
              "...                 ...  \n",
              "188                   0  \n",
              "1237                  1  \n",
              "380                   0  \n",
              "354                   0  \n",
              "289                   0  \n",
              "\n",
              "[282 rows x 5 columns]"
            ],
            "text/html": [
              "\n",
              "  <div id=\"df-05dd6fea-8d40-40da-88d4-a226ad33f75b\" class=\"colab-df-container\">\n",
              "    <div>\n",
              "<style scoped>\n",
              "    .dataframe tbody tr th:only-of-type {\n",
              "        vertical-align: middle;\n",
              "    }\n",
              "\n",
              "    .dataframe tbody tr th {\n",
              "        vertical-align: top;\n",
              "    }\n",
              "\n",
              "    .dataframe thead th {\n",
              "        text-align: right;\n",
              "    }\n",
              "</style>\n",
              "<table border=\"1\" class=\"dataframe\">\n",
              "  <thead>\n",
              "    <tr style=\"text-align: right;\">\n",
              "      <th></th>\n",
              "      <th>tenure</th>\n",
              "      <th>MonthlyCharges</th>\n",
              "      <th>TotalCharges</th>\n",
              "      <th>Churn_Probabilities</th>\n",
              "      <th>Churn_Predictions</th>\n",
              "    </tr>\n",
              "  </thead>\n",
              "  <tbody>\n",
              "    <tr>\n",
              "      <th>1075</th>\n",
              "      <td>0.042254</td>\n",
              "      <td>0.377377</td>\n",
              "      <td>0.024973</td>\n",
              "      <td>0.469186</td>\n",
              "      <td>0</td>\n",
              "    </tr>\n",
              "    <tr>\n",
              "      <th>1015</th>\n",
              "      <td>0.774648</td>\n",
              "      <td>0.411411</td>\n",
              "      <td>0.397472</td>\n",
              "      <td>0.065765</td>\n",
              "      <td>0</td>\n",
              "    </tr>\n",
              "    <tr>\n",
              "      <th>650</th>\n",
              "      <td>1.000000</td>\n",
              "      <td>0.457958</td>\n",
              "      <td>0.534290</td>\n",
              "      <td>0.034022</td>\n",
              "      <td>0</td>\n",
              "    </tr>\n",
              "    <tr>\n",
              "      <th>447</th>\n",
              "      <td>0.873239</td>\n",
              "      <td>0.008008</td>\n",
              "      <td>0.138280</td>\n",
              "      <td>0.019468</td>\n",
              "      <td>0</td>\n",
              "    </tr>\n",
              "    <tr>\n",
              "      <th>1290</th>\n",
              "      <td>1.000000</td>\n",
              "      <td>0.711712</td>\n",
              "      <td>0.750367</td>\n",
              "      <td>0.057853</td>\n",
              "      <td>0</td>\n",
              "    </tr>\n",
              "    <tr>\n",
              "      <th>...</th>\n",
              "      <td>...</td>\n",
              "      <td>...</td>\n",
              "      <td>...</td>\n",
              "      <td>...</td>\n",
              "      <td>...</td>\n",
              "    </tr>\n",
              "    <tr>\n",
              "      <th>188</th>\n",
              "      <td>0.732394</td>\n",
              "      <td>0.773273</td>\n",
              "      <td>0.580040</td>\n",
              "      <td>0.164714</td>\n",
              "      <td>0</td>\n",
              "    </tr>\n",
              "    <tr>\n",
              "      <th>1237</th>\n",
              "      <td>0.197183</td>\n",
              "      <td>0.832833</td>\n",
              "      <td>0.190544</td>\n",
              "      <td>0.637892</td>\n",
              "      <td>1</td>\n",
              "    </tr>\n",
              "    <tr>\n",
              "      <th>380</th>\n",
              "      <td>0.507042</td>\n",
              "      <td>0.011011</td>\n",
              "      <td>0.081756</td>\n",
              "      <td>0.062786</td>\n",
              "      <td>0</td>\n",
              "    </tr>\n",
              "    <tr>\n",
              "      <th>354</th>\n",
              "      <td>0.464789</td>\n",
              "      <td>0.463463</td>\n",
              "      <td>0.247211</td>\n",
              "      <td>0.198289</td>\n",
              "      <td>0</td>\n",
              "    </tr>\n",
              "    <tr>\n",
              "      <th>289</th>\n",
              "      <td>0.380282</td>\n",
              "      <td>0.779780</td>\n",
              "      <td>0.308110</td>\n",
              "      <td>0.434259</td>\n",
              "      <td>0</td>\n",
              "    </tr>\n",
              "  </tbody>\n",
              "</table>\n",
              "<p>282 rows × 5 columns</p>\n",
              "</div>\n",
              "    <div class=\"colab-df-buttons\">\n",
              "\n",
              "  <div class=\"colab-df-container\">\n",
              "    <button class=\"colab-df-convert\" onclick=\"convertToInteractive('df-05dd6fea-8d40-40da-88d4-a226ad33f75b')\"\n",
              "            title=\"Convert this dataframe to an interactive table.\"\n",
              "            style=\"display:none;\">\n",
              "\n",
              "  <svg xmlns=\"http://www.w3.org/2000/svg\" height=\"24px\" viewBox=\"0 -960 960 960\">\n",
              "    <path d=\"M120-120v-720h720v720H120Zm60-500h600v-160H180v160Zm220 220h160v-160H400v160Zm0 220h160v-160H400v160ZM180-400h160v-160H180v160Zm440 0h160v-160H620v160ZM180-180h160v-160H180v160Zm440 0h160v-160H620v160Z\"/>\n",
              "  </svg>\n",
              "    </button>\n",
              "\n",
              "  <style>\n",
              "    .colab-df-container {\n",
              "      display:flex;\n",
              "      gap: 12px;\n",
              "    }\n",
              "\n",
              "    .colab-df-convert {\n",
              "      background-color: #E8F0FE;\n",
              "      border: none;\n",
              "      border-radius: 50%;\n",
              "      cursor: pointer;\n",
              "      display: none;\n",
              "      fill: #1967D2;\n",
              "      height: 32px;\n",
              "      padding: 0 0 0 0;\n",
              "      width: 32px;\n",
              "    }\n",
              "\n",
              "    .colab-df-convert:hover {\n",
              "      background-color: #E2EBFA;\n",
              "      box-shadow: 0px 1px 2px rgba(60, 64, 67, 0.3), 0px 1px 3px 1px rgba(60, 64, 67, 0.15);\n",
              "      fill: #174EA6;\n",
              "    }\n",
              "\n",
              "    .colab-df-buttons div {\n",
              "      margin-bottom: 4px;\n",
              "    }\n",
              "\n",
              "    [theme=dark] .colab-df-convert {\n",
              "      background-color: #3B4455;\n",
              "      fill: #D2E3FC;\n",
              "    }\n",
              "\n",
              "    [theme=dark] .colab-df-convert:hover {\n",
              "      background-color: #434B5C;\n",
              "      box-shadow: 0px 1px 3px 1px rgba(0, 0, 0, 0.15);\n",
              "      filter: drop-shadow(0px 1px 2px rgba(0, 0, 0, 0.3));\n",
              "      fill: #FFFFFF;\n",
              "    }\n",
              "  </style>\n",
              "\n",
              "    <script>\n",
              "      const buttonEl =\n",
              "        document.querySelector('#df-05dd6fea-8d40-40da-88d4-a226ad33f75b button.colab-df-convert');\n",
              "      buttonEl.style.display =\n",
              "        google.colab.kernel.accessAllowed ? 'block' : 'none';\n",
              "\n",
              "      async function convertToInteractive(key) {\n",
              "        const element = document.querySelector('#df-05dd6fea-8d40-40da-88d4-a226ad33f75b');\n",
              "        const dataTable =\n",
              "          await google.colab.kernel.invokeFunction('convertToInteractive',\n",
              "                                                    [key], {});\n",
              "        if (!dataTable) return;\n",
              "\n",
              "        const docLinkHtml = 'Like what you see? Visit the ' +\n",
              "          '<a target=\"_blank\" href=https://colab.research.google.com/notebooks/data_table.ipynb>data table notebook</a>'\n",
              "          + ' to learn more about interactive tables.';\n",
              "        element.innerHTML = '';\n",
              "        dataTable['output_type'] = 'display_data';\n",
              "        await google.colab.output.renderOutput(dataTable, element);\n",
              "        const docLink = document.createElement('div');\n",
              "        docLink.innerHTML = docLinkHtml;\n",
              "        element.appendChild(docLink);\n",
              "      }\n",
              "    </script>\n",
              "  </div>\n",
              "\n",
              "\n",
              "<div id=\"df-b0efefac-39ab-493e-b21f-cfbaf0dd31d8\">\n",
              "  <button class=\"colab-df-quickchart\" onclick=\"quickchart('df-b0efefac-39ab-493e-b21f-cfbaf0dd31d8')\"\n",
              "            title=\"Suggest charts\"\n",
              "            style=\"display:none;\">\n",
              "\n",
              "<svg xmlns=\"http://www.w3.org/2000/svg\" height=\"24px\"viewBox=\"0 0 24 24\"\n",
              "     width=\"24px\">\n",
              "    <g>\n",
              "        <path d=\"M19 3H5c-1.1 0-2 .9-2 2v14c0 1.1.9 2 2 2h14c1.1 0 2-.9 2-2V5c0-1.1-.9-2-2-2zM9 17H7v-7h2v7zm4 0h-2V7h2v10zm4 0h-2v-4h2v4z\"/>\n",
              "    </g>\n",
              "</svg>\n",
              "  </button>\n",
              "\n",
              "<style>\n",
              "  .colab-df-quickchart {\n",
              "      --bg-color: #E8F0FE;\n",
              "      --fill-color: #1967D2;\n",
              "      --hover-bg-color: #E2EBFA;\n",
              "      --hover-fill-color: #174EA6;\n",
              "      --disabled-fill-color: #AAA;\n",
              "      --disabled-bg-color: #DDD;\n",
              "  }\n",
              "\n",
              "  [theme=dark] .colab-df-quickchart {\n",
              "      --bg-color: #3B4455;\n",
              "      --fill-color: #D2E3FC;\n",
              "      --hover-bg-color: #434B5C;\n",
              "      --hover-fill-color: #FFFFFF;\n",
              "      --disabled-bg-color: #3B4455;\n",
              "      --disabled-fill-color: #666;\n",
              "  }\n",
              "\n",
              "  .colab-df-quickchart {\n",
              "    background-color: var(--bg-color);\n",
              "    border: none;\n",
              "    border-radius: 50%;\n",
              "    cursor: pointer;\n",
              "    display: none;\n",
              "    fill: var(--fill-color);\n",
              "    height: 32px;\n",
              "    padding: 0;\n",
              "    width: 32px;\n",
              "  }\n",
              "\n",
              "  .colab-df-quickchart:hover {\n",
              "    background-color: var(--hover-bg-color);\n",
              "    box-shadow: 0 1px 2px rgba(60, 64, 67, 0.3), 0 1px 3px 1px rgba(60, 64, 67, 0.15);\n",
              "    fill: var(--button-hover-fill-color);\n",
              "  }\n",
              "\n",
              "  .colab-df-quickchart-complete:disabled,\n",
              "  .colab-df-quickchart-complete:disabled:hover {\n",
              "    background-color: var(--disabled-bg-color);\n",
              "    fill: var(--disabled-fill-color);\n",
              "    box-shadow: none;\n",
              "  }\n",
              "\n",
              "  .colab-df-spinner {\n",
              "    border: 2px solid var(--fill-color);\n",
              "    border-color: transparent;\n",
              "    border-bottom-color: var(--fill-color);\n",
              "    animation:\n",
              "      spin 1s steps(1) infinite;\n",
              "  }\n",
              "\n",
              "  @keyframes spin {\n",
              "    0% {\n",
              "      border-color: transparent;\n",
              "      border-bottom-color: var(--fill-color);\n",
              "      border-left-color: var(--fill-color);\n",
              "    }\n",
              "    20% {\n",
              "      border-color: transparent;\n",
              "      border-left-color: var(--fill-color);\n",
              "      border-top-color: var(--fill-color);\n",
              "    }\n",
              "    30% {\n",
              "      border-color: transparent;\n",
              "      border-left-color: var(--fill-color);\n",
              "      border-top-color: var(--fill-color);\n",
              "      border-right-color: var(--fill-color);\n",
              "    }\n",
              "    40% {\n",
              "      border-color: transparent;\n",
              "      border-right-color: var(--fill-color);\n",
              "      border-top-color: var(--fill-color);\n",
              "    }\n",
              "    60% {\n",
              "      border-color: transparent;\n",
              "      border-right-color: var(--fill-color);\n",
              "    }\n",
              "    80% {\n",
              "      border-color: transparent;\n",
              "      border-right-color: var(--fill-color);\n",
              "      border-bottom-color: var(--fill-color);\n",
              "    }\n",
              "    90% {\n",
              "      border-color: transparent;\n",
              "      border-bottom-color: var(--fill-color);\n",
              "    }\n",
              "  }\n",
              "</style>\n",
              "\n",
              "  <script>\n",
              "    async function quickchart(key) {\n",
              "      const quickchartButtonEl =\n",
              "        document.querySelector('#' + key + ' button');\n",
              "      quickchartButtonEl.disabled = true;  // To prevent multiple clicks.\n",
              "      quickchartButtonEl.classList.add('colab-df-spinner');\n",
              "      try {\n",
              "        const charts = await google.colab.kernel.invokeFunction(\n",
              "            'suggestCharts', [key], {});\n",
              "      } catch (error) {\n",
              "        console.error('Error during call to suggestCharts:', error);\n",
              "      }\n",
              "      quickchartButtonEl.classList.remove('colab-df-spinner');\n",
              "      quickchartButtonEl.classList.add('colab-df-quickchart-complete');\n",
              "    }\n",
              "    (() => {\n",
              "      let quickchartButtonEl =\n",
              "        document.querySelector('#df-b0efefac-39ab-493e-b21f-cfbaf0dd31d8 button');\n",
              "      quickchartButtonEl.style.display =\n",
              "        google.colab.kernel.accessAllowed ? 'block' : 'none';\n",
              "    })();\n",
              "  </script>\n",
              "</div>\n",
              "\n",
              "  <div id=\"id_1fbb701c-3ee8-4daf-8857-7025765acb7e\">\n",
              "    <style>\n",
              "      .colab-df-generate {\n",
              "        background-color: #E8F0FE;\n",
              "        border: none;\n",
              "        border-radius: 50%;\n",
              "        cursor: pointer;\n",
              "        display: none;\n",
              "        fill: #1967D2;\n",
              "        height: 32px;\n",
              "        padding: 0 0 0 0;\n",
              "        width: 32px;\n",
              "      }\n",
              "\n",
              "      .colab-df-generate:hover {\n",
              "        background-color: #E2EBFA;\n",
              "        box-shadow: 0px 1px 2px rgba(60, 64, 67, 0.3), 0px 1px 3px 1px rgba(60, 64, 67, 0.15);\n",
              "        fill: #174EA6;\n",
              "      }\n",
              "\n",
              "      [theme=dark] .colab-df-generate {\n",
              "        background-color: #3B4455;\n",
              "        fill: #D2E3FC;\n",
              "      }\n",
              "\n",
              "      [theme=dark] .colab-df-generate:hover {\n",
              "        background-color: #434B5C;\n",
              "        box-shadow: 0px 1px 3px 1px rgba(0, 0, 0, 0.15);\n",
              "        filter: drop-shadow(0px 1px 2px rgba(0, 0, 0, 0.3));\n",
              "        fill: #FFFFFF;\n",
              "      }\n",
              "    </style>\n",
              "    <button class=\"colab-df-generate\" onclick=\"generateWithVariable('X_test')\"\n",
              "            title=\"Generate code using this dataframe.\"\n",
              "            style=\"display:none;\">\n",
              "\n",
              "  <svg xmlns=\"http://www.w3.org/2000/svg\" height=\"24px\"viewBox=\"0 0 24 24\"\n",
              "       width=\"24px\">\n",
              "    <path d=\"M7,19H8.4L18.45,9,17,7.55,7,17.6ZM5,21V16.75L18.45,3.32a2,2,0,0,1,2.83,0l1.4,1.43a1.91,1.91,0,0,1,.58,1.4,1.91,1.91,0,0,1-.58,1.4L9.25,21ZM18.45,9,17,7.55Zm-12,3A5.31,5.31,0,0,0,4.9,8.1,5.31,5.31,0,0,0,1,6.5,5.31,5.31,0,0,0,4.9,4.9,5.31,5.31,0,0,0,6.5,1,5.31,5.31,0,0,0,8.1,4.9,5.31,5.31,0,0,0,12,6.5,5.46,5.46,0,0,0,6.5,12Z\"/>\n",
              "  </svg>\n",
              "    </button>\n",
              "    <script>\n",
              "      (() => {\n",
              "      const buttonEl =\n",
              "        document.querySelector('#id_1fbb701c-3ee8-4daf-8857-7025765acb7e button.colab-df-generate');\n",
              "      buttonEl.style.display =\n",
              "        google.colab.kernel.accessAllowed ? 'block' : 'none';\n",
              "\n",
              "      buttonEl.onclick = () => {\n",
              "        google.colab.notebook.generateWithVariable('X_test');\n",
              "      }\n",
              "      })();\n",
              "    </script>\n",
              "  </div>\n",
              "\n",
              "    </div>\n",
              "  </div>\n"
            ],
            "application/vnd.google.colaboratory.intrinsic+json": {
              "type": "dataframe",
              "variable_name": "X_test",
              "summary": "{\n  \"name\": \"X_test\",\n  \"rows\": 282,\n  \"fields\": [\n    {\n      \"column\": \"tenure\",\n      \"properties\": {\n        \"dtype\": \"number\",\n        \"std\": 0.35434321735853164,\n        \"min\": 0.0,\n        \"max\": 1.0,\n        \"num_unique_values\": 72,\n        \"samples\": [\n          0.9859154929577464,\n          0.8873239436619719,\n          0.8450704225352113\n        ],\n        \"semantic_type\": \"\",\n        \"description\": \"\"\n      }\n    },\n    {\n      \"column\": \"MonthlyCharges\",\n      \"properties\": {\n        \"dtype\": \"number\",\n        \"std\": 0.2984248054487358,\n        \"min\": 0.0,\n        \"max\": 1.0,\n        \"num_unique_values\": 239,\n        \"samples\": [\n          0.6666666666666667,\n          0.8113113113113115,\n          0.8993993993993995\n        ],\n        \"semantic_type\": \"\",\n        \"description\": \"\"\n      }\n    },\n    {\n      \"column\": \"TotalCharges\",\n      \"properties\": {\n        \"dtype\": \"number\",\n        \"std\": 0.27269087338930503,\n        \"min\": 0.0,\n        \"max\": 1.0,\n        \"num_unique_values\": 279,\n        \"samples\": [\n          0.1995538242807439,\n          0.9213933166113762,\n          0.1064464300162981\n        ],\n        \"semantic_type\": \"\",\n        \"description\": \"\"\n      }\n    },\n    {\n      \"column\": \"Churn_Probabilities\",\n      \"properties\": {\n        \"dtype\": \"number\",\n        \"std\": 0.20411689305863165,\n        \"min\": 0.012971790829557905,\n        \"max\": 0.7557903817167951,\n        \"num_unique_values\": 279,\n        \"samples\": [\n          0.456981347009088,\n          0.1279964511964877,\n          0.35023845521800473\n        ],\n        \"semantic_type\": \"\",\n        \"description\": \"\"\n      }\n    },\n    {\n      \"column\": \"Churn_Predictions\",\n      \"properties\": {\n        \"dtype\": \"number\",\n        \"std\": 0,\n        \"min\": 0,\n        \"max\": 1,\n        \"num_unique_values\": 2,\n        \"samples\": [\n          1,\n          0\n        ],\n        \"semantic_type\": \"\",\n        \"description\": \"\"\n      }\n    }\n  ]\n}"
            }
          },
          "metadata": {},
          "execution_count": 53
        }
      ],
      "source": [
        "churn_probabilities = model_lr.predict_proba(X_test)[:, 1]\n",
        "\n",
        "X_test['Churn_Probabilities'] = churn_probabilities\n",
        "X_test['Churn_Predictions'] = y_pred_lr\n",
        "\n",
        "X_test"
      ]
    },
    {
      "cell_type": "markdown",
      "metadata": {
        "id": "Vt9MXtTVFzWX"
      },
      "source": [
        "In the output you can see there are two new columns indicate the `Churn_Probabilities` and `Churn_Predictions` based on the data."
      ]
    },
    {
      "cell_type": "markdown",
      "metadata": {
        "id": "RRtaY3LwF0Y4"
      },
      "source": [
        "I filtered those two columns and added a percentage column for easy to unnderstand."
      ]
    },
    {
      "cell_type": "code",
      "execution_count": 54,
      "metadata": {
        "colab": {
          "base_uri": "https://localhost:8080/",
          "height": 424
        },
        "id": "t8q_wlyRJDKf",
        "outputId": "db3af5a8-b941-4a17-cd84-03e1a60905cf"
      },
      "outputs": [
        {
          "output_type": "execute_result",
          "data": {
            "text/plain": [
              "      Churn_Probabilities  Churn_Predictions  Churn_Probabilities_Percentage\n",
              "1075             0.469186                  0                       46.918560\n",
              "1015             0.065765                  0                        6.576502\n",
              "650              0.034022                  0                        3.402208\n",
              "447              0.019468                  0                        1.946755\n",
              "1290             0.057853                  0                        5.785318\n",
              "...                   ...                ...                             ...\n",
              "188              0.164714                  0                       16.471432\n",
              "1237             0.637892                  1                       63.789196\n",
              "380              0.062786                  0                        6.278558\n",
              "354              0.198289                  0                       19.828854\n",
              "289              0.434259                  0                       43.425855\n",
              "\n",
              "[282 rows x 3 columns]"
            ],
            "text/html": [
              "\n",
              "  <div id=\"df-c45e29d0-21e5-4521-bf8e-55c48d0e4e06\" class=\"colab-df-container\">\n",
              "    <div>\n",
              "<style scoped>\n",
              "    .dataframe tbody tr th:only-of-type {\n",
              "        vertical-align: middle;\n",
              "    }\n",
              "\n",
              "    .dataframe tbody tr th {\n",
              "        vertical-align: top;\n",
              "    }\n",
              "\n",
              "    .dataframe thead th {\n",
              "        text-align: right;\n",
              "    }\n",
              "</style>\n",
              "<table border=\"1\" class=\"dataframe\">\n",
              "  <thead>\n",
              "    <tr style=\"text-align: right;\">\n",
              "      <th></th>\n",
              "      <th>Churn_Probabilities</th>\n",
              "      <th>Churn_Predictions</th>\n",
              "      <th>Churn_Probabilities_Percentage</th>\n",
              "    </tr>\n",
              "  </thead>\n",
              "  <tbody>\n",
              "    <tr>\n",
              "      <th>1075</th>\n",
              "      <td>0.469186</td>\n",
              "      <td>0</td>\n",
              "      <td>46.918560</td>\n",
              "    </tr>\n",
              "    <tr>\n",
              "      <th>1015</th>\n",
              "      <td>0.065765</td>\n",
              "      <td>0</td>\n",
              "      <td>6.576502</td>\n",
              "    </tr>\n",
              "    <tr>\n",
              "      <th>650</th>\n",
              "      <td>0.034022</td>\n",
              "      <td>0</td>\n",
              "      <td>3.402208</td>\n",
              "    </tr>\n",
              "    <tr>\n",
              "      <th>447</th>\n",
              "      <td>0.019468</td>\n",
              "      <td>0</td>\n",
              "      <td>1.946755</td>\n",
              "    </tr>\n",
              "    <tr>\n",
              "      <th>1290</th>\n",
              "      <td>0.057853</td>\n",
              "      <td>0</td>\n",
              "      <td>5.785318</td>\n",
              "    </tr>\n",
              "    <tr>\n",
              "      <th>...</th>\n",
              "      <td>...</td>\n",
              "      <td>...</td>\n",
              "      <td>...</td>\n",
              "    </tr>\n",
              "    <tr>\n",
              "      <th>188</th>\n",
              "      <td>0.164714</td>\n",
              "      <td>0</td>\n",
              "      <td>16.471432</td>\n",
              "    </tr>\n",
              "    <tr>\n",
              "      <th>1237</th>\n",
              "      <td>0.637892</td>\n",
              "      <td>1</td>\n",
              "      <td>63.789196</td>\n",
              "    </tr>\n",
              "    <tr>\n",
              "      <th>380</th>\n",
              "      <td>0.062786</td>\n",
              "      <td>0</td>\n",
              "      <td>6.278558</td>\n",
              "    </tr>\n",
              "    <tr>\n",
              "      <th>354</th>\n",
              "      <td>0.198289</td>\n",
              "      <td>0</td>\n",
              "      <td>19.828854</td>\n",
              "    </tr>\n",
              "    <tr>\n",
              "      <th>289</th>\n",
              "      <td>0.434259</td>\n",
              "      <td>0</td>\n",
              "      <td>43.425855</td>\n",
              "    </tr>\n",
              "  </tbody>\n",
              "</table>\n",
              "<p>282 rows × 3 columns</p>\n",
              "</div>\n",
              "    <div class=\"colab-df-buttons\">\n",
              "\n",
              "  <div class=\"colab-df-container\">\n",
              "    <button class=\"colab-df-convert\" onclick=\"convertToInteractive('df-c45e29d0-21e5-4521-bf8e-55c48d0e4e06')\"\n",
              "            title=\"Convert this dataframe to an interactive table.\"\n",
              "            style=\"display:none;\">\n",
              "\n",
              "  <svg xmlns=\"http://www.w3.org/2000/svg\" height=\"24px\" viewBox=\"0 -960 960 960\">\n",
              "    <path d=\"M120-120v-720h720v720H120Zm60-500h600v-160H180v160Zm220 220h160v-160H400v160Zm0 220h160v-160H400v160ZM180-400h160v-160H180v160Zm440 0h160v-160H620v160ZM180-180h160v-160H180v160Zm440 0h160v-160H620v160Z\"/>\n",
              "  </svg>\n",
              "    </button>\n",
              "\n",
              "  <style>\n",
              "    .colab-df-container {\n",
              "      display:flex;\n",
              "      gap: 12px;\n",
              "    }\n",
              "\n",
              "    .colab-df-convert {\n",
              "      background-color: #E8F0FE;\n",
              "      border: none;\n",
              "      border-radius: 50%;\n",
              "      cursor: pointer;\n",
              "      display: none;\n",
              "      fill: #1967D2;\n",
              "      height: 32px;\n",
              "      padding: 0 0 0 0;\n",
              "      width: 32px;\n",
              "    }\n",
              "\n",
              "    .colab-df-convert:hover {\n",
              "      background-color: #E2EBFA;\n",
              "      box-shadow: 0px 1px 2px rgba(60, 64, 67, 0.3), 0px 1px 3px 1px rgba(60, 64, 67, 0.15);\n",
              "      fill: #174EA6;\n",
              "    }\n",
              "\n",
              "    .colab-df-buttons div {\n",
              "      margin-bottom: 4px;\n",
              "    }\n",
              "\n",
              "    [theme=dark] .colab-df-convert {\n",
              "      background-color: #3B4455;\n",
              "      fill: #D2E3FC;\n",
              "    }\n",
              "\n",
              "    [theme=dark] .colab-df-convert:hover {\n",
              "      background-color: #434B5C;\n",
              "      box-shadow: 0px 1px 3px 1px rgba(0, 0, 0, 0.15);\n",
              "      filter: drop-shadow(0px 1px 2px rgba(0, 0, 0, 0.3));\n",
              "      fill: #FFFFFF;\n",
              "    }\n",
              "  </style>\n",
              "\n",
              "    <script>\n",
              "      const buttonEl =\n",
              "        document.querySelector('#df-c45e29d0-21e5-4521-bf8e-55c48d0e4e06 button.colab-df-convert');\n",
              "      buttonEl.style.display =\n",
              "        google.colab.kernel.accessAllowed ? 'block' : 'none';\n",
              "\n",
              "      async function convertToInteractive(key) {\n",
              "        const element = document.querySelector('#df-c45e29d0-21e5-4521-bf8e-55c48d0e4e06');\n",
              "        const dataTable =\n",
              "          await google.colab.kernel.invokeFunction('convertToInteractive',\n",
              "                                                    [key], {});\n",
              "        if (!dataTable) return;\n",
              "\n",
              "        const docLinkHtml = 'Like what you see? Visit the ' +\n",
              "          '<a target=\"_blank\" href=https://colab.research.google.com/notebooks/data_table.ipynb>data table notebook</a>'\n",
              "          + ' to learn more about interactive tables.';\n",
              "        element.innerHTML = '';\n",
              "        dataTable['output_type'] = 'display_data';\n",
              "        await google.colab.output.renderOutput(dataTable, element);\n",
              "        const docLink = document.createElement('div');\n",
              "        docLink.innerHTML = docLinkHtml;\n",
              "        element.appendChild(docLink);\n",
              "      }\n",
              "    </script>\n",
              "  </div>\n",
              "\n",
              "\n",
              "<div id=\"df-79a99d28-324f-4668-859c-622a7a6eaf97\">\n",
              "  <button class=\"colab-df-quickchart\" onclick=\"quickchart('df-79a99d28-324f-4668-859c-622a7a6eaf97')\"\n",
              "            title=\"Suggest charts\"\n",
              "            style=\"display:none;\">\n",
              "\n",
              "<svg xmlns=\"http://www.w3.org/2000/svg\" height=\"24px\"viewBox=\"0 0 24 24\"\n",
              "     width=\"24px\">\n",
              "    <g>\n",
              "        <path d=\"M19 3H5c-1.1 0-2 .9-2 2v14c0 1.1.9 2 2 2h14c1.1 0 2-.9 2-2V5c0-1.1-.9-2-2-2zM9 17H7v-7h2v7zm4 0h-2V7h2v10zm4 0h-2v-4h2v4z\"/>\n",
              "    </g>\n",
              "</svg>\n",
              "  </button>\n",
              "\n",
              "<style>\n",
              "  .colab-df-quickchart {\n",
              "      --bg-color: #E8F0FE;\n",
              "      --fill-color: #1967D2;\n",
              "      --hover-bg-color: #E2EBFA;\n",
              "      --hover-fill-color: #174EA6;\n",
              "      --disabled-fill-color: #AAA;\n",
              "      --disabled-bg-color: #DDD;\n",
              "  }\n",
              "\n",
              "  [theme=dark] .colab-df-quickchart {\n",
              "      --bg-color: #3B4455;\n",
              "      --fill-color: #D2E3FC;\n",
              "      --hover-bg-color: #434B5C;\n",
              "      --hover-fill-color: #FFFFFF;\n",
              "      --disabled-bg-color: #3B4455;\n",
              "      --disabled-fill-color: #666;\n",
              "  }\n",
              "\n",
              "  .colab-df-quickchart {\n",
              "    background-color: var(--bg-color);\n",
              "    border: none;\n",
              "    border-radius: 50%;\n",
              "    cursor: pointer;\n",
              "    display: none;\n",
              "    fill: var(--fill-color);\n",
              "    height: 32px;\n",
              "    padding: 0;\n",
              "    width: 32px;\n",
              "  }\n",
              "\n",
              "  .colab-df-quickchart:hover {\n",
              "    background-color: var(--hover-bg-color);\n",
              "    box-shadow: 0 1px 2px rgba(60, 64, 67, 0.3), 0 1px 3px 1px rgba(60, 64, 67, 0.15);\n",
              "    fill: var(--button-hover-fill-color);\n",
              "  }\n",
              "\n",
              "  .colab-df-quickchart-complete:disabled,\n",
              "  .colab-df-quickchart-complete:disabled:hover {\n",
              "    background-color: var(--disabled-bg-color);\n",
              "    fill: var(--disabled-fill-color);\n",
              "    box-shadow: none;\n",
              "  }\n",
              "\n",
              "  .colab-df-spinner {\n",
              "    border: 2px solid var(--fill-color);\n",
              "    border-color: transparent;\n",
              "    border-bottom-color: var(--fill-color);\n",
              "    animation:\n",
              "      spin 1s steps(1) infinite;\n",
              "  }\n",
              "\n",
              "  @keyframes spin {\n",
              "    0% {\n",
              "      border-color: transparent;\n",
              "      border-bottom-color: var(--fill-color);\n",
              "      border-left-color: var(--fill-color);\n",
              "    }\n",
              "    20% {\n",
              "      border-color: transparent;\n",
              "      border-left-color: var(--fill-color);\n",
              "      border-top-color: var(--fill-color);\n",
              "    }\n",
              "    30% {\n",
              "      border-color: transparent;\n",
              "      border-left-color: var(--fill-color);\n",
              "      border-top-color: var(--fill-color);\n",
              "      border-right-color: var(--fill-color);\n",
              "    }\n",
              "    40% {\n",
              "      border-color: transparent;\n",
              "      border-right-color: var(--fill-color);\n",
              "      border-top-color: var(--fill-color);\n",
              "    }\n",
              "    60% {\n",
              "      border-color: transparent;\n",
              "      border-right-color: var(--fill-color);\n",
              "    }\n",
              "    80% {\n",
              "      border-color: transparent;\n",
              "      border-right-color: var(--fill-color);\n",
              "      border-bottom-color: var(--fill-color);\n",
              "    }\n",
              "    90% {\n",
              "      border-color: transparent;\n",
              "      border-bottom-color: var(--fill-color);\n",
              "    }\n",
              "  }\n",
              "</style>\n",
              "\n",
              "  <script>\n",
              "    async function quickchart(key) {\n",
              "      const quickchartButtonEl =\n",
              "        document.querySelector('#' + key + ' button');\n",
              "      quickchartButtonEl.disabled = true;  // To prevent multiple clicks.\n",
              "      quickchartButtonEl.classList.add('colab-df-spinner');\n",
              "      try {\n",
              "        const charts = await google.colab.kernel.invokeFunction(\n",
              "            'suggestCharts', [key], {});\n",
              "      } catch (error) {\n",
              "        console.error('Error during call to suggestCharts:', error);\n",
              "      }\n",
              "      quickchartButtonEl.classList.remove('colab-df-spinner');\n",
              "      quickchartButtonEl.classList.add('colab-df-quickchart-complete');\n",
              "    }\n",
              "    (() => {\n",
              "      let quickchartButtonEl =\n",
              "        document.querySelector('#df-79a99d28-324f-4668-859c-622a7a6eaf97 button');\n",
              "      quickchartButtonEl.style.display =\n",
              "        google.colab.kernel.accessAllowed ? 'block' : 'none';\n",
              "    })();\n",
              "  </script>\n",
              "</div>\n",
              "\n",
              "    </div>\n",
              "  </div>\n"
            ],
            "application/vnd.google.colaboratory.intrinsic+json": {
              "type": "dataframe",
              "summary": "{\n  \"name\": \"X_test[['Churn_Probabilities', 'Churn_Predictions', 'Churn_Probabilities_Percentage']]\",\n  \"rows\": 282,\n  \"fields\": [\n    {\n      \"column\": \"Churn_Probabilities\",\n      \"properties\": {\n        \"dtype\": \"number\",\n        \"std\": 0.20411689305863165,\n        \"min\": 0.012971790829557905,\n        \"max\": 0.7557903817167951,\n        \"num_unique_values\": 279,\n        \"samples\": [\n          0.456981347009088,\n          0.1279964511964877,\n          0.35023845521800473\n        ],\n        \"semantic_type\": \"\",\n        \"description\": \"\"\n      }\n    },\n    {\n      \"column\": \"Churn_Predictions\",\n      \"properties\": {\n        \"dtype\": \"number\",\n        \"std\": 0,\n        \"min\": 0,\n        \"max\": 1,\n        \"num_unique_values\": 2,\n        \"samples\": [\n          1,\n          0\n        ],\n        \"semantic_type\": \"\",\n        \"description\": \"\"\n      }\n    },\n    {\n      \"column\": \"Churn_Probabilities_Percentage\",\n      \"properties\": {\n        \"dtype\": \"number\",\n        \"std\": 20.411689305863163,\n        \"min\": 1.2971790829557905,\n        \"max\": 75.57903817167951,\n        \"num_unique_values\": 279,\n        \"samples\": [\n          45.698134700908795,\n          12.799645119648769\n        ],\n        \"semantic_type\": \"\",\n        \"description\": \"\"\n      }\n    }\n  ]\n}"
            }
          },
          "metadata": {},
          "execution_count": 54
        }
      ],
      "source": [
        "X_test['Churn_Probabilities_Percentage'] = X_test['Churn_Probabilities'] * 100\n",
        "X_test[['Churn_Probabilities', 'Churn_Predictions', 'Churn_Probabilities_Percentage']]"
      ]
    },
    {
      "cell_type": "markdown",
      "metadata": {
        "id": "svOwbRzFF97e"
      },
      "source": [
        "For all the other values less than 50% has 0 in the `Churn_Predictions`.\n",
        "\n",
        "Therefore we can understand that if the `Churn_Probabilities_Percentage` is greater than or equal to 50% there is more chance that the particular customer can leave the service provider. If the `Churn_Probabilities_Percentage` is less than 50% there is less chance to that particular customer leave the service provider.\n",
        "\n",
        "Also, based on the `Churn_Probabilities_Percentage` you can make decisions for a particular customer."
      ]
    },
    {
      "cell_type": "markdown",
      "metadata": {
        "id": "Z-Qh2r6AGBtX"
      },
      "source": [
        "I also included the visual representation."
      ]
    },
    {
      "cell_type": "code",
      "execution_count": 55,
      "metadata": {
        "colab": {
          "base_uri": "https://localhost:8080/",
          "height": 679
        },
        "id": "TlAVPBmnLCG6",
        "outputId": "9bf5bb74-d5bb-4c7e-a75a-8f994c0006d1"
      },
      "outputs": [
        {
          "output_type": "display_data",
          "data": {
            "text/plain": [
              "<Figure size 1200x800 with 1 Axes>"
            ],
            "image/png": "[encoded data removed]"
          },
          "metadata": {}
        }
      ],
      "source": [
        "plt.figure(figsize=(12, 8))\n",
        "plt.hist(X_test['Churn_Probabilities'], bins=20, color='skyblue', edgecolor='black')\n",
        "plt.title('Histogram of customer Churn Probabilities')\n",
        "plt.xlabel('Churn Probability')\n",
        "plt.ylabel('Number of Customers')\n",
        "plt.show()"
      ]
    },
    {
      "cell_type": "markdown",
      "metadata": {
        "id": "ANx3wSXWL0PB"
      },
      "source": [
        "**2. Decision Tree**"
      ]
    },
    {
      "cell_type": "markdown",
      "metadata": {
        "id": "2l9VMwBTMSZp"
      },
      "source": [
        "We split the data into training and testing sets."
      ]
    },
    {
      "cell_type": "code",
      "execution_count": 56,
      "metadata": {
        "id": "0D-Ba1ViMThb"
      },
      "outputs": [],
      "source": [
        "X = df[['tenure', 'MonthlyCharges', 'TotalCharges']]\n",
        "y = df['Churn']\n",
        "\n",
        "X_train, X_test, y_train, y_test = train_test_split(X, y, test_size=0.2, random_state=42)"
      ]
    },
    {
      "cell_type": "markdown",
      "metadata": {
        "id": "90xRfrvhMc1B"
      },
      "source": [
        "We trained the Decision Tree model."
      ]
    },
    {
      "cell_type": "code",
      "execution_count": 57,
      "metadata": {
        "id": "dKTgrR52Mdn9"
      },
      "outputs": [],
      "source": [
        "model_dt = DecisionTreeClassifier(random_state=42)\n",
        "model_dt.fit(X_train, y_train)\n",
        "\n",
        "y_pred_dt = model_dt.predict(X_test)"
      ]
    },
    {
      "cell_type": "markdown",
      "metadata": {
        "id": "l71rUSlXMhjB"
      },
      "source": [
        "We evaluate the Decision Tree model's performance using accuracy score and classification report."
      ]
    },
    {
      "cell_type": "code",
      "execution_count": 58,
      "metadata": {
        "colab": {
          "base_uri": "https://localhost:8080/"
        },
        "id": "iJdESae7MiuN",
        "outputId": "6560761c-2e9f-47fb-ea57-38a79ad8b410"
      },
      "outputs": [
        {
          "output_type": "stream",
          "name": "stdout",
          "text": [
            "Accuracy: 0.71\n",
            "              precision    recall  f1-score   support\n",
            "\n",
            "           0       0.82      0.77      0.79       207\n",
            "           1       0.45      0.53      0.49        75\n",
            "\n",
            "    accuracy                           0.71       282\n",
            "   macro avg       0.64      0.65      0.64       282\n",
            "weighted avg       0.72      0.71      0.71       282\n",
            "\n"
          ]
        }
      ],
      "source": [
        "accuracy_dt = accuracy_score(y_test, y_pred_dt)\n",
        "print(f'Accuracy: {accuracy_dt:.2f}')\n",
        "\n",
        "print(classification_report(y_test, y_pred_dt))"
      ]
    },
    {
      "cell_type": "markdown",
      "metadata": {
        "id": "VbK7Bj5pMrUB"
      },
      "source": [
        "By using the Decision Tree model, we made predictions on test set."
      ]
    },
    {
      "cell_type": "code",
      "execution_count": 59,
      "metadata": {
        "colab": {
          "base_uri": "https://localhost:8080/",
          "height": 424
        },
        "id": "DB1UQtLtMmdm",
        "outputId": "670cdc31-fbc7-41bc-8634-0b88c84ab911"
      },
      "outputs": [
        {
          "output_type": "execute_result",
          "data": {
            "text/plain": [
              "        tenure  MonthlyCharges  TotalCharges  Churn_Probabilities  \\\n",
              "1075  0.042254        0.377377      0.024973             0.469186   \n",
              "1015  0.774648        0.411411      0.397472             0.065765   \n",
              "650   1.000000        0.457958      0.534290             0.034022   \n",
              "447   0.873239        0.008008      0.138280             0.019468   \n",
              "1290  1.000000        0.711712      0.750367             0.057853   \n",
              "...        ...             ...           ...                  ...   \n",
              "188   0.732394        0.773273      0.580040             0.164714   \n",
              "1237  0.197183        0.832833      0.190544             0.637892   \n",
              "380   0.507042        0.011011      0.081756             0.062786   \n",
              "354   0.464789        0.463463      0.247211             0.198289   \n",
              "289   0.380282        0.779780      0.308110             0.434259   \n",
              "\n",
              "      Churn_Predictions  \n",
              "1075                  0  \n",
              "1015                  0  \n",
              "650                   0  \n",
              "447                   0  \n",
              "1290                  1  \n",
              "...                 ...  \n",
              "188                   0  \n",
              "1237                  1  \n",
              "380                   0  \n",
              "354                   0  \n",
              "289                   1  \n",
              "\n",
              "[282 rows x 5 columns]"
            ],
            "text/html": [
              "\n",
              "  <div id=\"df-7fdf12fd-b927-4810-a7cb-1edeb8efd15b\" class=\"colab-df-container\">\n",
              "    <div>\n",
              "<style scoped>\n",
              "    .dataframe tbody tr th:only-of-type {\n",
              "        vertical-align: middle;\n",
              "    }\n",
              "\n",
              "    .dataframe tbody tr th {\n",
              "        vertical-align: top;\n",
              "    }\n",
              "\n",
              "    .dataframe thead th {\n",
              "        text-align: right;\n",
              "    }\n",
              "</style>\n",
              "<table border=\"1\" class=\"dataframe\">\n",
              "  <thead>\n",
              "    <tr style=\"text-align: right;\">\n",
              "      <th></th>\n",
              "      <th>tenure</th>\n",
              "      <th>MonthlyCharges</th>\n",
              "      <th>TotalCharges</th>\n",
              "      <th>Churn_Probabilities</th>\n",
              "      <th>Churn_Predictions</th>\n",
              "    </tr>\n",
              "  </thead>\n",
              "  <tbody>\n",
              "    <tr>\n",
              "      <th>1075</th>\n",
              "      <td>0.042254</td>\n",
              "      <td>0.377377</td>\n",
              "      <td>0.024973</td>\n",
              "      <td>0.469186</td>\n",
              "      <td>0</td>\n",
              "    </tr>\n",
              "    <tr>\n",
              "      <th>1015</th>\n",
              "      <td>0.774648</td>\n",
              "      <td>0.411411</td>\n",
              "      <td>0.397472</td>\n",
              "      <td>0.065765</td>\n",
              "      <td>0</td>\n",
              "    </tr>\n",
              "    <tr>\n",
              "      <th>650</th>\n",
              "      <td>1.000000</td>\n",
              "      <td>0.457958</td>\n",
              "      <td>0.534290</td>\n",
              "      <td>0.034022</td>\n",
              "      <td>0</td>\n",
              "    </tr>\n",
              "    <tr>\n",
              "      <th>447</th>\n",
              "      <td>0.873239</td>\n",
              "      <td>0.008008</td>\n",
              "      <td>0.138280</td>\n",
              "      <td>0.019468</td>\n",
              "      <td>0</td>\n",
              "    </tr>\n",
              "    <tr>\n",
              "      <th>1290</th>\n",
              "      <td>1.000000</td>\n",
              "      <td>0.711712</td>\n",
              "      <td>0.750367</td>\n",
              "      <td>0.057853</td>\n",
              "      <td>1</td>\n",
              "    </tr>\n",
              "    <tr>\n",
              "      <th>...</th>\n",
              "      <td>...</td>\n",
              "      <td>...</td>\n",
              "      <td>...</td>\n",
              "      <td>...</td>\n",
              "      <td>...</td>\n",
              "    </tr>\n",
              "    <tr>\n",
              "      <th>188</th>\n",
              "      <td>0.732394</td>\n",
              "      <td>0.773273</td>\n",
              "      <td>0.580040</td>\n",
              "      <td>0.164714</td>\n",
              "      <td>0</td>\n",
              "    </tr>\n",
              "    <tr>\n",
              "      <th>1237</th>\n",
              "      <td>0.197183</td>\n",
              "      <td>0.832833</td>\n",
              "      <td>0.190544</td>\n",
              "      <td>0.637892</td>\n",
              "      <td>1</td>\n",
              "    </tr>\n",
              "    <tr>\n",
              "      <th>380</th>\n",
              "      <td>0.507042</td>\n",
              "      <td>0.011011</td>\n",
              "      <td>0.081756</td>\n",
              "      <td>0.062786</td>\n",
              "      <td>0</td>\n",
              "    </tr>\n",
              "    <tr>\n",
              "      <th>354</th>\n",
              "      <td>0.464789</td>\n",
              "      <td>0.463463</td>\n",
              "      <td>0.247211</td>\n",
              "      <td>0.198289</td>\n",
              "      <td>0</td>\n",
              "    </tr>\n",
              "    <tr>\n",
              "      <th>289</th>\n",
              "      <td>0.380282</td>\n",
              "      <td>0.779780</td>\n",
              "      <td>0.308110</td>\n",
              "      <td>0.434259</td>\n",
              "      <td>1</td>\n",
              "    </tr>\n",
              "  </tbody>\n",
              "</table>\n",
              "<p>282 rows × 5 columns</p>\n",
              "</div>\n",
              "    <div class=\"colab-df-buttons\">\n",
              "\n",
              "  <div class=\"colab-df-container\">\n",
              "    <button class=\"colab-df-convert\" onclick=\"convertToInteractive('df-7fdf12fd-b927-4810-a7cb-1edeb8efd15b')\"\n",
              "            title=\"Convert this dataframe to an interactive table.\"\n",
              "            style=\"display:none;\">\n",
              "\n",
              "  <svg xmlns=\"http://www.w3.org/2000/svg\" height=\"24px\" viewBox=\"0 -960 960 960\">\n",
              "    <path d=\"M120-120v-720h720v720H120Zm60-500h600v-160H180v160Zm220 220h160v-160H400v160Zm0 220h160v-160H400v160ZM180-400h160v-160H180v160Zm440 0h160v-160H620v160ZM180-180h160v-160H180v160Zm440 0h160v-160H620v160Z\"/>\n",
              "  </svg>\n",
              "    </button>\n",
              "\n",
              "  <style>\n",
              "    .colab-df-container {\n",
              "      display:flex;\n",
              "      gap: 12px;\n",
              "    }\n",
              "\n",
              "    .colab-df-convert {\n",
              "      background-color: #E8F0FE;\n",
              "      border: none;\n",
              "      border-radius: 50%;\n",
              "      cursor: pointer;\n",
              "      display: none;\n",
              "      fill: #1967D2;\n",
              "      height: 32px;\n",
              "      padding: 0 0 0 0;\n",
              "      width: 32px;\n",
              "    }\n",
              "\n",
              "    .colab-df-convert:hover {\n",
              "      background-color: #E2EBFA;\n",
              "      box-shadow: 0px 1px 2px rgba(60, 64, 67, 0.3), 0px 1px 3px 1px rgba(60, 64, 67, 0.15);\n",
              "      fill: #174EA6;\n",
              "    }\n",
              "\n",
              "    .colab-df-buttons div {\n",
              "      margin-bottom: 4px;\n",
              "    }\n",
              "\n",
              "    [theme=dark] .colab-df-convert {\n",
              "      background-color: #3B4455;\n",
              "      fill: #D2E3FC;\n",
              "    }\n",
              "\n",
              "    [theme=dark] .colab-df-convert:hover {\n",
              "      background-color: #434B5C;\n",
              "      box-shadow: 0px 1px 3px 1px rgba(0, 0, 0, 0.15);\n",
              "      filter: drop-shadow(0px 1px 2px rgba(0, 0, 0, 0.3));\n",
              "      fill: #FFFFFF;\n",
              "    }\n",
              "  </style>\n",
              "\n",
              "    <script>\n",
              "      const buttonEl =\n",
              "        document.querySelector('#df-7fdf12fd-b927-4810-a7cb-1edeb8efd15b button.colab-df-convert');\n",
              "      buttonEl.style.display =\n",
              "        google.colab.kernel.accessAllowed ? 'block' : 'none';\n",
              "\n",
              "      async function convertToInteractive(key) {\n",
              "        const element = document.querySelector('#df-7fdf12fd-b927-4810-a7cb-1edeb8efd15b');\n",
              "        const dataTable =\n",
              "          await google.colab.kernel.invokeFunction('convertToInteractive',\n",
              "                                                    [key], {});\n",
              "        if (!dataTable) return;\n",
              "\n",
              "        const docLinkHtml = 'Like what you see? Visit the ' +\n",
              "          '<a target=\"_blank\" href=https://colab.research.google.com/notebooks/data_table.ipynb>data table notebook</a>'\n",
              "          + ' to learn more about interactive tables.';\n",
              "        element.innerHTML = '';\n",
              "        dataTable['output_type'] = 'display_data';\n",
              "        await google.colab.output.renderOutput(dataTable, element);\n",
              "        const docLink = document.createElement('div');\n",
              "        docLink.innerHTML = docLinkHtml;\n",
              "        element.appendChild(docLink);\n",
              "      }\n",
              "    </script>\n",
              "  </div>\n",
              "\n",
              "\n",
              "<div id=\"df-9ff3ec7b-4884-4c6d-a007-e5ac2ec4d493\">\n",
              "  <button class=\"colab-df-quickchart\" onclick=\"quickchart('df-9ff3ec7b-4884-4c6d-a007-e5ac2ec4d493')\"\n",
              "            title=\"Suggest charts\"\n",
              "            style=\"display:none;\">\n",
              "\n",
              "<svg xmlns=\"http://www.w3.org/2000/svg\" height=\"24px\"viewBox=\"0 0 24 24\"\n",
              "     width=\"24px\">\n",
              "    <g>\n",
              "        <path d=\"M19 3H5c-1.1 0-2 .9-2 2v14c0 1.1.9 2 2 2h14c1.1 0 2-.9 2-2V5c0-1.1-.9-2-2-2zM9 17H7v-7h2v7zm4 0h-2V7h2v10zm4 0h-2v-4h2v4z\"/>\n",
              "    </g>\n",
              "</svg>\n",
              "  </button>\n",
              "\n",
              "<style>\n",
              "  .colab-df-quickchart {\n",
              "      --bg-color: #E8F0FE;\n",
              "      --fill-color: #1967D2;\n",
              "      --hover-bg-color: #E2EBFA;\n",
              "      --hover-fill-color: #174EA6;\n",
              "      --disabled-fill-color: #AAA;\n",
              "      --disabled-bg-color: #DDD;\n",
              "  }\n",
              "\n",
              "  [theme=dark] .colab-df-quickchart {\n",
              "      --bg-color: #3B4455;\n",
              "      --fill-color: #D2E3FC;\n",
              "      --hover-bg-color: #434B5C;\n",
              "      --hover-fill-color: #FFFFFF;\n",
              "      --disabled-bg-color: #3B4455;\n",
              "      --disabled-fill-color: #666;\n",
              "  }\n",
              "\n",
              "  .colab-df-quickchart {\n",
              "    background-color: var(--bg-color);\n",
              "    border: none;\n",
              "    border-radius: 50%;\n",
              "    cursor: pointer;\n",
              "    display: none;\n",
              "    fill: var(--fill-color);\n",
              "    height: 32px;\n",
              "    padding: 0;\n",
              "    width: 32px;\n",
              "  }\n",
              "\n",
              "  .colab-df-quickchart:hover {\n",
              "    background-color: var(--hover-bg-color);\n",
              "    box-shadow: 0 1px 2px rgba(60, 64, 67, 0.3), 0 1px 3px 1px rgba(60, 64, 67, 0.15);\n",
              "    fill: var(--button-hover-fill-color);\n",
              "  }\n",
              "\n",
              "  .colab-df-quickchart-complete:disabled,\n",
              "  .colab-df-quickchart-complete:disabled:hover {\n",
              "    background-color: var(--disabled-bg-color);\n",
              "    fill: var(--disabled-fill-color);\n",
              "    box-shadow: none;\n",
              "  }\n",
              "\n",
              "  .colab-df-spinner {\n",
              "    border: 2px solid var(--fill-color);\n",
              "    border-color: transparent;\n",
              "    border-bottom-color: var(--fill-color);\n",
              "    animation:\n",
              "      spin 1s steps(1) infinite;\n",
              "  }\n",
              "\n",
              "  @keyframes spin {\n",
              "    0% {\n",
              "      border-color: transparent;\n",
              "      border-bottom-color: var(--fill-color);\n",
              "      border-left-color: var(--fill-color);\n",
              "    }\n",
              "    20% {\n",
              "      border-color: transparent;\n",
              "      border-left-color: var(--fill-color);\n",
              "      border-top-color: var(--fill-color);\n",
              "    }\n",
              "    30% {\n",
              "      border-color: transparent;\n",
              "      border-left-color: var(--fill-color);\n",
              "      border-top-color: var(--fill-color);\n",
              "      border-right-color: var(--fill-color);\n",
              "    }\n",
              "    40% {\n",
              "      border-color: transparent;\n",
              "      border-right-color: var(--fill-color);\n",
              "      border-top-color: var(--fill-color);\n",
              "    }\n",
              "    60% {\n",
              "      border-color: transparent;\n",
              "      border-right-color: var(--fill-color);\n",
              "    }\n",
              "    80% {\n",
              "      border-color: transparent;\n",
              "      border-right-color: var(--fill-color);\n",
              "      border-bottom-color: var(--fill-color);\n",
              "    }\n",
              "    90% {\n",
              "      border-color: transparent;\n",
              "      border-bottom-color: var(--fill-color);\n",
              "    }\n",
              "  }\n",
              "</style>\n",
              "\n",
              "  <script>\n",
              "    async function quickchart(key) {\n",
              "      const quickchartButtonEl =\n",
              "        document.querySelector('#' + key + ' button');\n",
              "      quickchartButtonEl.disabled = true;  // To prevent multiple clicks.\n",
              "      quickchartButtonEl.classList.add('colab-df-spinner');\n",
              "      try {\n",
              "        const charts = await google.colab.kernel.invokeFunction(\n",
              "            'suggestCharts', [key], {});\n",
              "      } catch (error) {\n",
              "        console.error('Error during call to suggestCharts:', error);\n",
              "      }\n",
              "      quickchartButtonEl.classList.remove('colab-df-spinner');\n",
              "      quickchartButtonEl.classList.add('colab-df-quickchart-complete');\n",
              "    }\n",
              "    (() => {\n",
              "      let quickchartButtonEl =\n",
              "        document.querySelector('#df-9ff3ec7b-4884-4c6d-a007-e5ac2ec4d493 button');\n",
              "      quickchartButtonEl.style.display =\n",
              "        google.colab.kernel.accessAllowed ? 'block' : 'none';\n",
              "    })();\n",
              "  </script>\n",
              "</div>\n",
              "\n",
              "  <div id=\"id_6d8b44bf-6b6a-4b67-ad76-afc984ce88f4\">\n",
              "    <style>\n",
              "      .colab-df-generate {\n",
              "        background-color: #E8F0FE;\n",
              "        border: none;\n",
              "        border-radius: 50%;\n",
              "        cursor: pointer;\n",
              "        display: none;\n",
              "        fill: #1967D2;\n",
              "        height: 32px;\n",
              "        padding: 0 0 0 0;\n",
              "        width: 32px;\n",
              "      }\n",
              "\n",
              "      .colab-df-generate:hover {\n",
              "        background-color: #E2EBFA;\n",
              "        box-shadow: 0px 1px 2px rgba(60, 64, 67, 0.3), 0px 1px 3px 1px rgba(60, 64, 67, 0.15);\n",
              "        fill: #174EA6;\n",
              "      }\n",
              "\n",
              "      [theme=dark] .colab-df-generate {\n",
              "        background-color: #3B4455;\n",
              "        fill: #D2E3FC;\n",
              "      }\n",
              "\n",
              "      [theme=dark] .colab-df-generate:hover {\n",
              "        background-color: #434B5C;\n",
              "        box-shadow: 0px 1px 3px 1px rgba(0, 0, 0, 0.15);\n",
              "        filter: drop-shadow(0px 1px 2px rgba(0, 0, 0, 0.3));\n",
              "        fill: #FFFFFF;\n",
              "      }\n",
              "    </style>\n",
              "    <button class=\"colab-df-generate\" onclick=\"generateWithVariable('X_test')\"\n",
              "            title=\"Generate code using this dataframe.\"\n",
              "            style=\"display:none;\">\n",
              "\n",
              "  <svg xmlns=\"http://www.w3.org/2000/svg\" height=\"24px\"viewBox=\"0 0 24 24\"\n",
              "       width=\"24px\">\n",
              "    <path d=\"M7,19H8.4L18.45,9,17,7.55,7,17.6ZM5,21V16.75L18.45,3.32a2,2,0,0,1,2.83,0l1.4,1.43a1.91,1.91,0,0,1,.58,1.4,1.91,1.91,0,0,1-.58,1.4L9.25,21ZM18.45,9,17,7.55Zm-12,3A5.31,5.31,0,0,0,4.9,8.1,5.31,5.31,0,0,0,1,6.5,5.31,5.31,0,0,0,4.9,4.9,5.31,5.31,0,0,0,6.5,1,5.31,5.31,0,0,0,8.1,4.9,5.31,5.31,0,0,0,12,6.5,5.46,5.46,0,0,0,6.5,12Z\"/>\n",
              "  </svg>\n",
              "    </button>\n",
              "    <script>\n",
              "      (() => {\n",
              "      const buttonEl =\n",
              "        document.querySelector('#id_6d8b44bf-6b6a-4b67-ad76-afc984ce88f4 button.colab-df-generate');\n",
              "      buttonEl.style.display =\n",
              "        google.colab.kernel.accessAllowed ? 'block' : 'none';\n",
              "\n",
              "      buttonEl.onclick = () => {\n",
              "        google.colab.notebook.generateWithVariable('X_test');\n",
              "      }\n",
              "      })();\n",
              "    </script>\n",
              "  </div>\n",
              "\n",
              "    </div>\n",
              "  </div>\n"
            ],
            "application/vnd.google.colaboratory.intrinsic+json": {
              "type": "dataframe",
              "variable_name": "X_test",
              "summary": "{\n  \"name\": \"X_test\",\n  \"rows\": 282,\n  \"fields\": [\n    {\n      \"column\": \"tenure\",\n      \"properties\": {\n        \"dtype\": \"number\",\n        \"std\": 0.35434321735853164,\n        \"min\": 0.0,\n        \"max\": 1.0,\n        \"num_unique_values\": 72,\n        \"samples\": [\n          0.9859154929577464,\n          0.8873239436619719,\n          0.8450704225352113\n        ],\n        \"semantic_type\": \"\",\n        \"description\": \"\"\n      }\n    },\n    {\n      \"column\": \"MonthlyCharges\",\n      \"properties\": {\n        \"dtype\": \"number\",\n        \"std\": 0.2984248054487358,\n        \"min\": 0.0,\n        \"max\": 1.0,\n        \"num_unique_values\": 239,\n        \"samples\": [\n          0.6666666666666667,\n          0.8113113113113115,\n          0.8993993993993995\n        ],\n        \"semantic_type\": \"\",\n        \"description\": \"\"\n      }\n    },\n    {\n      \"column\": \"TotalCharges\",\n      \"properties\": {\n        \"dtype\": \"number\",\n        \"std\": 0.27269087338930503,\n        \"min\": 0.0,\n        \"max\": 1.0,\n        \"num_unique_values\": 279,\n        \"samples\": [\n          0.1995538242807439,\n          0.9213933166113762,\n          0.1064464300162981\n        ],\n        \"semantic_type\": \"\",\n        \"description\": \"\"\n      }\n    },\n    {\n      \"column\": \"Churn_Probabilities\",\n      \"properties\": {\n        \"dtype\": \"number\",\n        \"std\": 0.20411689305863165,\n        \"min\": 0.012971790829557905,\n        \"max\": 0.7557903817167951,\n        \"num_unique_values\": 279,\n        \"samples\": [\n          0.456981347009088,\n          0.1279964511964877,\n          0.35023845521800473\n        ],\n        \"semantic_type\": \"\",\n        \"description\": \"\"\n      }\n    },\n    {\n      \"column\": \"Churn_Predictions\",\n      \"properties\": {\n        \"dtype\": \"number\",\n        \"std\": 0,\n        \"min\": 0,\n        \"max\": 1,\n        \"num_unique_values\": 2,\n        \"samples\": [\n          1,\n          0\n        ],\n        \"semantic_type\": \"\",\n        \"description\": \"\"\n      }\n    }\n  ]\n}"
            }
          },
          "metadata": {},
          "execution_count": 59
        }
      ],
      "source": [
        "X_test['Churn_Probabilities'] = churn_probabilities\n",
        "X_test['Churn_Predictions'] = y_pred_dt\n",
        "\n",
        "X_test"
      ]
    },
    {
      "cell_type": "markdown",
      "metadata": {
        "id": "8nLNE1WaMuqk"
      },
      "source": [
        "In the output you can see there are two new columns indicate the `Churn_Probabilities` and `Churn_Predictions` based on the data."
      ]
    },
    {
      "cell_type": "markdown",
      "metadata": {
        "id": "bd7N5r_iMvjJ"
      },
      "source": [
        "We filtered those two columns and added a percentage column to understand easily."
      ]
    },
    {
      "cell_type": "code",
      "execution_count": 60,
      "metadata": {
        "colab": {
          "base_uri": "https://localhost:8080/",
          "height": 424
        },
        "id": "oeLNXbGoMynK",
        "outputId": "df0a6d58-b771-44d7-ade9-a377cbd6e404"
      },
      "outputs": [
        {
          "output_type": "execute_result",
          "data": {
            "text/plain": [
              "      Churn_Probabilities  Churn_Predictions  Churn_Probabilities_Percentage\n",
              "1075             0.469186                  0                       46.918560\n",
              "1015             0.065765                  0                        6.576502\n",
              "650              0.034022                  0                        3.402208\n",
              "447              0.019468                  0                        1.946755\n",
              "1290             0.057853                  1                        5.785318\n",
              "...                   ...                ...                             ...\n",
              "188              0.164714                  0                       16.471432\n",
              "1237             0.637892                  1                       63.789196\n",
              "380              0.062786                  0                        6.278558\n",
              "354              0.198289                  0                       19.828854\n",
              "289              0.434259                  1                       43.425855\n",
              "\n",
              "[282 rows x 3 columns]"
            ],
            "text/html": [
              "\n",
              "  <div id=\"df-2cf36cd5-623d-4bdb-b018-221f9a0ffeb0\" class=\"colab-df-container\">\n",
              "    <div>\n",
              "<style scoped>\n",
              "    .dataframe tbody tr th:only-of-type {\n",
              "        vertical-align: middle;\n",
              "    }\n",
              "\n",
              "    .dataframe tbody tr th {\n",
              "        vertical-align: top;\n",
              "    }\n",
              "\n",
              "    .dataframe thead th {\n",
              "        text-align: right;\n",
              "    }\n",
              "</style>\n",
              "<table border=\"1\" class=\"dataframe\">\n",
              "  <thead>\n",
              "    <tr style=\"text-align: right;\">\n",
              "      <th></th>\n",
              "      <th>Churn_Probabilities</th>\n",
              "      <th>Churn_Predictions</th>\n",
              "      <th>Churn_Probabilities_Percentage</th>\n",
              "    </tr>\n",
              "  </thead>\n",
              "  <tbody>\n",
              "    <tr>\n",
              "      <th>1075</th>\n",
              "      <td>0.469186</td>\n",
              "      <td>0</td>\n",
              "      <td>46.918560</td>\n",
              "    </tr>\n",
              "    <tr>\n",
              "      <th>1015</th>\n",
              "      <td>0.065765</td>\n",
              "      <td>0</td>\n",
              "      <td>6.576502</td>\n",
              "    </tr>\n",
              "    <tr>\n",
              "      <th>650</th>\n",
              "      <td>0.034022</td>\n",
              "      <td>0</td>\n",
              "      <td>3.402208</td>\n",
              "    </tr>\n",
              "    <tr>\n",
              "      <th>447</th>\n",
              "      <td>0.019468</td>\n",
              "      <td>0</td>\n",
              "      <td>1.946755</td>\n",
              "    </tr>\n",
              "    <tr>\n",
              "      <th>1290</th>\n",
              "      <td>0.057853</td>\n",
              "      <td>1</td>\n",
              "      <td>5.785318</td>\n",
              "    </tr>\n",
              "    <tr>\n",
              "      <th>...</th>\n",
              "      <td>...</td>\n",
              "      <td>...</td>\n",
              "      <td>...</td>\n",
              "    </tr>\n",
              "    <tr>\n",
              "      <th>188</th>\n",
              "      <td>0.164714</td>\n",
              "      <td>0</td>\n",
              "      <td>16.471432</td>\n",
              "    </tr>\n",
              "    <tr>\n",
              "      <th>1237</th>\n",
              "      <td>0.637892</td>\n",
              "      <td>1</td>\n",
              "      <td>63.789196</td>\n",
              "    </tr>\n",
              "    <tr>\n",
              "      <th>380</th>\n",
              "      <td>0.062786</td>\n",
              "      <td>0</td>\n",
              "      <td>6.278558</td>\n",
              "    </tr>\n",
              "    <tr>\n",
              "      <th>354</th>\n",
              "      <td>0.198289</td>\n",
              "      <td>0</td>\n",
              "      <td>19.828854</td>\n",
              "    </tr>\n",
              "    <tr>\n",
              "      <th>289</th>\n",
              "      <td>0.434259</td>\n",
              "      <td>1</td>\n",
              "      <td>43.425855</td>\n",
              "    </tr>\n",
              "  </tbody>\n",
              "</table>\n",
              "<p>282 rows × 3 columns</p>\n",
              "</div>\n",
              "    <div class=\"colab-df-buttons\">\n",
              "\n",
              "  <div class=\"colab-df-container\">\n",
              "    <button class=\"colab-df-convert\" onclick=\"convertToInteractive('df-2cf36cd5-623d-4bdb-b018-221f9a0ffeb0')\"\n",
              "            title=\"Convert this dataframe to an interactive table.\"\n",
              "            style=\"display:none;\">\n",
              "\n",
              "  <svg xmlns=\"http://www.w3.org/2000/svg\" height=\"24px\" viewBox=\"0 -960 960 960\">\n",
              "    <path d=\"M120-120v-720h720v720H120Zm60-500h600v-160H180v160Zm220 220h160v-160H400v160Zm0 220h160v-160H400v160ZM180-400h160v-160H180v160Zm440 0h160v-160H620v160ZM180-180h160v-160H180v160Zm440 0h160v-160H620v160Z\"/>\n",
              "  </svg>\n",
              "    </button>\n",
              "\n",
              "  <style>\n",
              "    .colab-df-container {\n",
              "      display:flex;\n",
              "      gap: 12px;\n",
              "    }\n",
              "\n",
              "    .colab-df-convert {\n",
              "      background-color: #E8F0FE;\n",
              "      border: none;\n",
              "      border-radius: 50%;\n",
              "      cursor: pointer;\n",
              "      display: none;\n",
              "      fill: #1967D2;\n",
              "      height: 32px;\n",
              "      padding: 0 0 0 0;\n",
              "      width: 32px;\n",
              "    }\n",
              "\n",
              "    .colab-df-convert:hover {\n",
              "      background-color: #E2EBFA;\n",
              "      box-shadow: 0px 1px 2px rgba(60, 64, 67, 0.3), 0px 1px 3px 1px rgba(60, 64, 67, 0.15);\n",
              "      fill: #174EA6;\n",
              "    }\n",
              "\n",
              "    .colab-df-buttons div {\n",
              "      margin-bottom: 4px;\n",
              "    }\n",
              "\n",
              "    [theme=dark] .colab-df-convert {\n",
              "      background-color: #3B4455;\n",
              "      fill: #D2E3FC;\n",
              "    }\n",
              "\n",
              "    [theme=dark] .colab-df-convert:hover {\n",
              "      background-color: #434B5C;\n",
              "      box-shadow: 0px 1px 3px 1px rgba(0, 0, 0, 0.15);\n",
              "      filter: drop-shadow(0px 1px 2px rgba(0, 0, 0, 0.3));\n",
              "      fill: #FFFFFF;\n",
              "    }\n",
              "  </style>\n",
              "\n",
              "    <script>\n",
              "      const buttonEl =\n",
              "        document.querySelector('#df-2cf36cd5-623d-4bdb-b018-221f9a0ffeb0 button.colab-df-convert');\n",
              "      buttonEl.style.display =\n",
              "        google.colab.kernel.accessAllowed ? 'block' : 'none';\n",
              "\n",
              "      async function convertToInteractive(key) {\n",
              "        const element = document.querySelector('#df-2cf36cd5-623d-4bdb-b018-221f9a0ffeb0');\n",
              "        const dataTable =\n",
              "          await google.colab.kernel.invokeFunction('convertToInteractive',\n",
              "                                                    [key], {});\n",
              "        if (!dataTable) return;\n",
              "\n",
              "        const docLinkHtml = 'Like what you see? Visit the ' +\n",
              "          '<a target=\"_blank\" href=https://colab.research.google.com/notebooks/data_table.ipynb>data table notebook</a>'\n",
              "          + ' to learn more about interactive tables.';\n",
              "        element.innerHTML = '';\n",
              "        dataTable['output_type'] = 'display_data';\n",
              "        await google.colab.output.renderOutput(dataTable, element);\n",
              "        const docLink = document.createElement('div');\n",
              "        docLink.innerHTML = docLinkHtml;\n",
              "        element.appendChild(docLink);\n",
              "      }\n",
              "    </script>\n",
              "  </div>\n",
              "\n",
              "\n",
              "<div id=\"df-b08903ab-56dc-4780-8e5e-2dfee09701ca\">\n",
              "  <button class=\"colab-df-quickchart\" onclick=\"quickchart('df-b08903ab-56dc-4780-8e5e-2dfee09701ca')\"\n",
              "            title=\"Suggest charts\"\n",
              "            style=\"display:none;\">\n",
              "\n",
              "<svg xmlns=\"http://www.w3.org/2000/svg\" height=\"24px\"viewBox=\"0 0 24 24\"\n",
              "     width=\"24px\">\n",
              "    <g>\n",
              "        <path d=\"M19 3H5c-1.1 0-2 .9-2 2v14c0 1.1.9 2 2 2h14c1.1 0 2-.9 2-2V5c0-1.1-.9-2-2-2zM9 17H7v-7h2v7zm4 0h-2V7h2v10zm4 0h-2v-4h2v4z\"/>\n",
              "    </g>\n",
              "</svg>\n",
              "  </button>\n",
              "\n",
              "<style>\n",
              "  .colab-df-quickchart {\n",
              "      --bg-color: #E8F0FE;\n",
              "      --fill-color: #1967D2;\n",
              "      --hover-bg-color: #E2EBFA;\n",
              "      --hover-fill-color: #174EA6;\n",
              "      --disabled-fill-color: #AAA;\n",
              "      --disabled-bg-color: #DDD;\n",
              "  }\n",
              "\n",
              "  [theme=dark] .colab-df-quickchart {\n",
              "      --bg-color: #3B4455;\n",
              "      --fill-color: #D2E3FC;\n",
              "      --hover-bg-color: #434B5C;\n",
              "      --hover-fill-color: #FFFFFF;\n",
              "      --disabled-bg-color: #3B4455;\n",
              "      --disabled-fill-color: #666;\n",
              "  }\n",
              "\n",
              "  .colab-df-quickchart {\n",
              "    background-color: var(--bg-color);\n",
              "    border: none;\n",
              "    border-radius: 50%;\n",
              "    cursor: pointer;\n",
              "    display: none;\n",
              "    fill: var(--fill-color);\n",
              "    height: 32px;\n",
              "    padding: 0;\n",
              "    width: 32px;\n",
              "  }\n",
              "\n",
              "  .colab-df-quickchart:hover {\n",
              "    background-color: var(--hover-bg-color);\n",
              "    box-shadow: 0 1px 2px rgba(60, 64, 67, 0.3), 0 1px 3px 1px rgba(60, 64, 67, 0.15);\n",
              "    fill: var(--button-hover-fill-color);\n",
              "  }\n",
              "\n",
              "  .colab-df-quickchart-complete:disabled,\n",
              "  .colab-df-quickchart-complete:disabled:hover {\n",
              "    background-color: var(--disabled-bg-color);\n",
              "    fill: var(--disabled-fill-color);\n",
              "    box-shadow: none;\n",
              "  }\n",
              "\n",
              "  .colab-df-spinner {\n",
              "    border: 2px solid var(--fill-color);\n",
              "    border-color: transparent;\n",
              "    border-bottom-color: var(--fill-color);\n",
              "    animation:\n",
              "      spin 1s steps(1) infinite;\n",
              "  }\n",
              "\n",
              "  @keyframes spin {\n",
              "    0% {\n",
              "      border-color: transparent;\n",
              "      border-bottom-color: var(--fill-color);\n",
              "      border-left-color: var(--fill-color);\n",
              "    }\n",
              "    20% {\n",
              "      border-color: transparent;\n",
              "      border-left-color: var(--fill-color);\n",
              "      border-top-color: var(--fill-color);\n",
              "    }\n",
              "    30% {\n",
              "      border-color: transparent;\n",
              "      border-left-color: var(--fill-color);\n",
              "      border-top-color: var(--fill-color);\n",
              "      border-right-color: var(--fill-color);\n",
              "    }\n",
              "    40% {\n",
              "      border-color: transparent;\n",
              "      border-right-color: var(--fill-color);\n",
              "      border-top-color: var(--fill-color);\n",
              "    }\n",
              "    60% {\n",
              "      border-color: transparent;\n",
              "      border-right-color: var(--fill-color);\n",
              "    }\n",
              "    80% {\n",
              "      border-color: transparent;\n",
              "      border-right-color: var(--fill-color);\n",
              "      border-bottom-color: var(--fill-color);\n",
              "    }\n",
              "    90% {\n",
              "      border-color: transparent;\n",
              "      border-bottom-color: var(--fill-color);\n",
              "    }\n",
              "  }\n",
              "</style>\n",
              "\n",
              "  <script>\n",
              "    async function quickchart(key) {\n",
              "      const quickchartButtonEl =\n",
              "        document.querySelector('#' + key + ' button');\n",
              "      quickchartButtonEl.disabled = true;  // To prevent multiple clicks.\n",
              "      quickchartButtonEl.classList.add('colab-df-spinner');\n",
              "      try {\n",
              "        const charts = await google.colab.kernel.invokeFunction(\n",
              "            'suggestCharts', [key], {});\n",
              "      } catch (error) {\n",
              "        console.error('Error during call to suggestCharts:', error);\n",
              "      }\n",
              "      quickchartButtonEl.classList.remove('colab-df-spinner');\n",
              "      quickchartButtonEl.classList.add('colab-df-quickchart-complete');\n",
              "    }\n",
              "    (() => {\n",
              "      let quickchartButtonEl =\n",
              "        document.querySelector('#df-b08903ab-56dc-4780-8e5e-2dfee09701ca button');\n",
              "      quickchartButtonEl.style.display =\n",
              "        google.colab.kernel.accessAllowed ? 'block' : 'none';\n",
              "    })();\n",
              "  </script>\n",
              "</div>\n",
              "\n",
              "    </div>\n",
              "  </div>\n"
            ],
            "application/vnd.google.colaboratory.intrinsic+json": {
              "type": "dataframe",
              "summary": "{\n  \"name\": \"X_test[['Churn_Probabilities', 'Churn_Predictions', 'Churn_Probabilities_Percentage']]\",\n  \"rows\": 282,\n  \"fields\": [\n    {\n      \"column\": \"Churn_Probabilities\",\n      \"properties\": {\n        \"dtype\": \"number\",\n        \"std\": 0.20411689305863165,\n        \"min\": 0.012971790829557905,\n        \"max\": 0.7557903817167951,\n        \"num_unique_values\": 279,\n        \"samples\": [\n          0.456981347009088,\n          0.1279964511964877,\n          0.35023845521800473\n        ],\n        \"semantic_type\": \"\",\n        \"description\": \"\"\n      }\n    },\n    {\n      \"column\": \"Churn_Predictions\",\n      \"properties\": {\n        \"dtype\": \"number\",\n        \"std\": 0,\n        \"min\": 0,\n        \"max\": 1,\n        \"num_unique_values\": 2,\n        \"samples\": [\n          1,\n          0\n        ],\n        \"semantic_type\": \"\",\n        \"description\": \"\"\n      }\n    },\n    {\n      \"column\": \"Churn_Probabilities_Percentage\",\n      \"properties\": {\n        \"dtype\": \"number\",\n        \"std\": 20.411689305863163,\n        \"min\": 1.2971790829557905,\n        \"max\": 75.57903817167951,\n        \"num_unique_values\": 279,\n        \"samples\": [\n          45.698134700908795,\n          12.799645119648769\n        ],\n        \"semantic_type\": \"\",\n        \"description\": \"\"\n      }\n    }\n  ]\n}"
            }
          },
          "metadata": {},
          "execution_count": 60
        }
      ],
      "source": [
        "X_test['Churn_Probabilities_Percentage'] = X_test['Churn_Probabilities'] * 100\n",
        "X_test[['Churn_Probabilities', 'Churn_Predictions', 'Churn_Probabilities_Percentage']]"
      ]
    },
    {
      "cell_type": "markdown",
      "metadata": {
        "id": "Ee15lt3HM2yW"
      },
      "source": [
        "Similar outcome like Logistic Regression model."
      ]
    },
    {
      "cell_type": "markdown",
      "metadata": {
        "id": "X1iojLEKM4yr"
      },
      "source": [
        "We also included the visual representation of the Decision Tree model's prediction."
      ]
    },
    {
      "cell_type": "code",
      "execution_count": null,
      "metadata": {
        "id": "FM2pRLT6M4Vo"
      },
      "outputs": [],
      "source": [
        "plt.figure(figsize=(12, 8))\n",
        "plt.hist(X_test['Churn_Probabilities'], bins=20, color='skyblue', edgecolor='black')\n",
        "plt.title('Histogram of Churn Probabilities')\n",
        "plt.xlabel('Churn Probability')\n",
        "plt.ylabel('Number of Customers')\n",
        "plt.show()"
      ]
    },
    {
      "cell_type": "markdown",
      "metadata": {
        "id": "qvp4vObvNPL5"
      },
      "source": [
        "**3. Random Forest**"
      ]
    },
    {
      "cell_type": "markdown",
      "metadata": {
        "id": "szo59khxNL7a"
      },
      "source": [
        "We split the data into training and testing sets.\n",
        "\n"
      ]
    },
    {
      "cell_type": "code",
      "execution_count": null,
      "metadata": {
        "id": "oqZRDBlxsAxh"
      },
      "outputs": [],
      "source": [
        "X = df[['tenure', 'MonthlyCharges', 'TotalCharges']]\n",
        "y = df['Churn']\n",
        "\n",
        "X_train, X_test, y_train, y_test = train_test_split(X, y, test_size=0.2, random_state=42)"
      ]
    },
    {
      "cell_type": "markdown",
      "metadata": {
        "id": "vzp6XSAdNUZn"
      },
      "source": [
        "We trained the Random Forest model and made predictions."
      ]
    },
    {
      "cell_type": "code",
      "execution_count": null,
      "metadata": {
        "id": "rqKDfaQnsFti"
      },
      "outputs": [],
      "source": [
        "model_rf = RandomForestClassifier(n_estimators=100, random_state=42)\n",
        "model_rf.fit(X_train, y_train)\n",
        "\n",
        "y_pred_rf = model_rf.predict(X_test)"
      ]
    },
    {
      "cell_type": "markdown",
      "metadata": {
        "id": "UXYE9IdKrxuL"
      },
      "source": [
        "We evaluate the Random Forest model's performance using accuracy score and classification report."
      ]
    },
    {
      "cell_type": "code",
      "execution_count": null,
      "metadata": {
        "id": "7Y-FDFNMi981"
      },
      "outputs": [],
      "source": [
        "accuracy_rf = accuracy_score(y_test, y_pred_rf)\n",
        "print(f'Accuracy: {accuracy_rf:.2f}')\n",
        "\n",
        "print(classification_report(y_test, y_pred_rf))"
      ]
    },
    {
      "cell_type": "markdown",
      "metadata": {
        "id": "n-GPr-ziNj2j"
      },
      "source": [
        "By using the Random Forest model, we made predictions on test set."
      ]
    },
    {
      "cell_type": "code",
      "execution_count": null,
      "metadata": {
        "id": "CVSaLsvuNoNj"
      },
      "outputs": [],
      "source": [
        "X_test['Churn_Probabilities'] = churn_probabilities\n",
        "X_test['Churn_Predictions'] = y_pred_rf\n",
        "\n",
        "X_test"
      ]
    },
    {
      "cell_type": "markdown",
      "metadata": {
        "id": "3Sks9oCbNuIt"
      },
      "source": [
        "In the output you can see there are two new columns indicate the `Churn_Probabilities` and `Churn_Predictions` based on the data."
      ]
    },
    {
      "cell_type": "markdown",
      "metadata": {
        "id": "IRvxOv51NvVE"
      },
      "source": [
        "We filtered those two columns and added a percentage column to understand easily."
      ]
    },
    {
      "cell_type": "code",
      "execution_count": null,
      "metadata": {
        "id": "rWWRPUIANx67"
      },
      "outputs": [],
      "source": [
        "X_test['Churn_Probabilities_Percentage'] = X_test['Churn_Probabilities'] * 100\n",
        "X_test[['Churn_Probabilities', 'Churn_Predictions', 'Churn_Probabilities_Percentage']]"
      ]
    },
    {
      "cell_type": "markdown",
      "metadata": {
        "id": "4xofKkF5N4Pq"
      },
      "source": [
        "Similar outcome like Logistic Regression model and Decision Tree model."
      ]
    },
    {
      "cell_type": "markdown",
      "metadata": {
        "id": "uS2upaxhN5L_"
      },
      "source": [
        "We also included the visual representation of the Random Forest model's prediction."
      ]
    },
    {
      "cell_type": "code",
      "execution_count": null,
      "metadata": {
        "id": "1mF5HZbEOFLb"
      },
      "outputs": [],
      "source": [
        "plt.figure(figsize=(12, 8))\n",
        "plt.hist(X_test['Churn_Probabilities'], bins=20, color='skyblue', edgecolor='black')\n",
        "plt.title('Histogram of Churn Probabilities')\n",
        "plt.xlabel('Churn Probability')\n",
        "plt.ylabel('Number of Customers')\n",
        "plt.show()"
      ]
    },
    {
      "cell_type": "markdown",
      "metadata": {
        "id": "-lRv9XR7OVbC"
      },
      "source": [
        "**4. Gradient Boosting**"
      ]
    },
    {
      "cell_type": "markdown",
      "metadata": {
        "id": "hYjkCn3bOdxV"
      },
      "source": [
        "We split the data into training and testing sets."
      ]
    },
    {
      "cell_type": "code",
      "execution_count": null,
      "metadata": {
        "id": "e5gshCOxOhBB"
      },
      "outputs": [],
      "source": [
        "X = df[['tenure', 'MonthlyCharges', 'TotalCharges']]\n",
        "y = df['Churn']\n",
        "\n",
        "X_train, X_test, y_train, y_test = train_test_split(X, y, test_size=0.2, random_state=42)"
      ]
    },
    {
      "cell_type": "markdown",
      "metadata": {
        "id": "U6oZOQOTOiCl"
      },
      "source": [
        "We trained the Gradient Boosting model and made predictions."
      ]
    },
    {
      "cell_type": "code",
      "execution_count": null,
      "metadata": {
        "id": "VB_8Jx_BycpJ"
      },
      "outputs": [],
      "source": [
        "model_gb = GradientBoostingClassifier(random_state=42)\n",
        "model_gb.fit(X_train, y_train)\n",
        "\n",
        "y_pred_gb = model_gb.predict(X_test)"
      ]
    },
    {
      "cell_type": "markdown",
      "metadata": {
        "id": "jS5lMKJROuMp"
      },
      "source": [
        "We evaluate the Gradient Boosting model's performance using accuracy score and classification report."
      ]
    },
    {
      "cell_type": "code",
      "execution_count": null,
      "metadata": {
        "id": "ZnUCOAkezGMj"
      },
      "outputs": [],
      "source": [
        "accuracy_gb = accuracy_score(y_test, y_pred_gb)\n",
        "print(f'Accuracy: {accuracy_gb:.2f}')\n",
        "\n",
        "print(classification_report(y_test, y_pred_gb))"
      ]
    },
    {
      "cell_type": "markdown",
      "metadata": {
        "id": "kEGpgcsvLEIW"
      },
      "source": [
        "By using the Random Forest model, we made predictions on test set."
      ]
    },
    {
      "cell_type": "code",
      "execution_count": null,
      "metadata": {
        "id": "mTmoHYJkPE1g"
      },
      "outputs": [],
      "source": [
        "X_test['Churn_Probabilities'] = churn_probabilities\n",
        "X_test['Churn_Predictions'] = y_pred_gb\n",
        "\n",
        "X_test"
      ]
    },
    {
      "cell_type": "markdown",
      "metadata": {
        "id": "6SUpf09RPI_Y"
      },
      "source": [
        "In the output you can see there are two new columns indicate the `Churn_Probabilities` and `Churn_Predictions` based on the data."
      ]
    },
    {
      "cell_type": "markdown",
      "metadata": {
        "id": "puyPYGPOPNSc"
      },
      "source": [
        "We filtered those two columns and added a percentage column to understand easily."
      ]
    },
    {
      "cell_type": "code",
      "execution_count": null,
      "metadata": {
        "id": "Ef9VSuoRPRbg"
      },
      "outputs": [],
      "source": [
        "X_test['Churn_Probabilities_Percentage'] = X_test['Churn_Probabilities'] * 100\n",
        "X_test[['Churn_Probabilities', 'Churn_Predictions', 'Churn_Probabilities_Percentage']]"
      ]
    },
    {
      "cell_type": "markdown",
      "metadata": {
        "id": "vETn41GHPWS6"
      },
      "source": [
        "Similar outcome like Logistic Regression model, Decision Tree model and Random Forest model."
      ]
    },
    {
      "cell_type": "markdown",
      "metadata": {
        "id": "0CgSMyjKPXZJ"
      },
      "source": [
        "We also included the visual representation of the Gradient Boosting model's prediction."
      ]
    },
    {
      "cell_type": "code",
      "execution_count": null,
      "metadata": {
        "id": "kbYlVhsoPZ4A"
      },
      "outputs": [],
      "source": [
        "plt.figure(figsize=(12, 8))\n",
        "plt.hist(X_test['Churn_Probabilities'], bins=20, color='skyblue', edgecolor='black')\n",
        "plt.title('Histogram of Churn Probabilities')\n",
        "plt.xlabel('Churn Probability')\n",
        "plt.ylabel('Number of Customers')\n",
        "plt.show()"
      ]
    },
    {
      "cell_type": "markdown",
      "metadata": {
        "id": "rt1ooZnH1i18"
      },
      "source": [
        "## **Model Evaluation**"
      ]
    },
    {
      "cell_type": "markdown",
      "metadata": {
        "id": "gM0ZZPrmT-cK"
      },
      "source": [
        "I defined a function to print metrics of the models."
      ]
    },
    {
      "cell_type": "code",
      "execution_count": null,
      "metadata": {
        "id": "rh9pg9O8S2g7"
      },
      "outputs": [],
      "source": [
        "def print_metrics(y_test, y_pred, model_name):\n",
        "    print(f\"--- {model_name} ---\")\n",
        "    print(f\"Accuracy: {accuracy_score(y_test, y_pred):.4f}\")\n",
        "    print(f\"Precision: {precision_score(y_test, y_pred, average='weighted'):.4f}\")\n",
        "    print(f\"Recall: {recall_score(y_test, y_pred, average='weighted'):.4f}\")\n",
        "    print(f\"F1-Score: {f1_score(y_test, y_pred, average='weighted'):.4f}\")\n",
        "    print(\"\\n\")"
      ]
    },
    {
      "cell_type": "markdown",
      "metadata": {
        "id": "hbtCpauJUJL-"
      },
      "source": [
        "Let's evaluate all models by calling the bove defined function."
      ]
    },
    {
      "cell_type": "code",
      "execution_count": null,
      "metadata": {
        "id": "xVXnzcdWTsii"
      },
      "outputs": [],
      "source": [
        "print_metrics(y_test, y_pred_lr, \"Logistic Regression\")\n",
        "print_metrics(y_test, y_pred_dt, \"Decision Tree\")\n",
        "print_metrics(y_test, y_pred_rf, \"Random Forest\")\n",
        "print_metrics(y_test, y_pred_gb, \"Gradient Boosting\")"
      ]
    },
    {
      "cell_type": "code",
      "execution_count": null,
      "metadata": {
        "id": "eAGFPXwd1lKW"
      },
      "outputs": [],
      "source": [
        "def plot_confusion_matrix(y_test, y_pred, model_name):\n",
        "    cm = confusion_matrix(y_test, y_pred)\n",
        "    sns.heatmap(cm, annot=True, fmt=\"d\", cmap=\"Blues\")\n",
        "    plt.title(f\"{model_name} - Confusion Matrix\")\n",
        "    plt.ylabel('Actual')\n",
        "    plt.xlabel('Predicted')\n",
        "    plt.show()\n",
        "\n",
        "plot_confusion_matrix(y_test, y_pred_lr, \"Logistic Regression\")\n",
        "plot_confusion_matrix(y_test, y_pred_dt, \"Decision Tree\")\n",
        "plot_confusion_matrix(y_test, y_pred_rf, \"Random Forest\")\n",
        "plot_confusion_matrix(y_test, y_pred_gb, \"Gradient Boosting\")"
      ]
    },
    {
      "cell_type": "markdown",
      "metadata": {
        "id": "46QuU0pXHBI_"
      },
      "source": [
        "I came to end of my Data Mining part. For further analysis and process I output the data mining part completed dataset as \"Data Mining completed dataset\"."
      ]
    },
    {
      "cell_type": "code",
      "execution_count": null,
      "metadata": {
        "id": "f7FXOykrHCLf"
      },
      "outputs": [],
      "source": [
        "df.to_csv('Data Mining completed dataset.csv', index=False)"
      ]
    },
    {
      "cell_type": "markdown",
      "metadata": {
        "id": "TfuwoasxHEcp"
      },
      "source": [
        "# **Conclusion**"
      ]
    },
    {
      "cell_type": "markdown",
      "metadata": {
        "id": "eUmFsxNCHYuT"
      },
      "source": [
        "In this project, I successfully implemented a data mining approach to predict customer churn in the telecom industry. By utilizing various data preprocessing and feature engineering techniques.I explored multiple machine learning algorithms and evaluated them based on metrics such as accuracy, precision, recall, and F1-score. The best-performing model demonstrated a significant ability to predict churn, which could help telecom companies proactively address customer retention"
      ]
    },
    {
      "cell_type": "markdown",
      "metadata": {
        "id": "fEH_lptaHbKY"
      },
      "source": [
        "# **Next Step: Evaluation and Interpretation**"
      ]
    },
    {
      "cell_type": "markdown",
      "metadata": {
        "id": "U9SdENzTHfaK"
      },
      "source": [
        "After the data mining process is, the Evaluation and Interpretation. phase of the project is where the effectiveness of the predictive model is measured and its outcomes are analyzed. In this part, can understand how well the model generalizes to unseen data, identify areas of improvement, and determine its practical applicability in predicting customer churn. This phase is crucial for validating the model's success and ensuring it provides actionable insights for decision-making."
      ]
    }
  ],
  "metadata": {
    "colab": {
      "provenance": [],
      "include_colab_link": true
    },
    "kernelspec": {
      "display_name": "Python 3",
      "name": "python3"
    },
    "language_info": {
      "name": "python"
    }
  },
  "nbformat": 4,
  "nbformat_minor": 0
}