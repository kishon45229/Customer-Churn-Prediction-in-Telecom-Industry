{
  "nbformat": 4,
  "nbformat_minor": 0,
  "metadata": {
    "colab": {
      "provenance": [],
      "mount_file_id": "1FV9zUtDk5ZU5oCgnV8JwUKN1SAqn9Mgn",
      "authorship_tag": "ABX9TyOwvpw6GrNZuoywHj3RToG6",
      "include_colab_link": true
    },
    "kernelspec": {
      "name": "python3",
      "display_name": "Python 3"
    },
    "language_info": {
      "name": "python"
    }
  },
  "cells": [
    {
      "cell_type": "markdown",
      "metadata": {
        "id": "view-in-github",
        "colab_type": "text"
      },
      "source": [
        "<a href=\"https://colab.research.google.com/github/kishon45229/Customer-Churn-Prediction-in-Telecom-Industry/blob/main/Data_Mining.ipynb\" target=\"_parent\"><img src=\"https://colab.research.google.com/assets/colab-badge.svg\" alt=\"Open In Colab\"/></a>"
      ]
    },
    {
      "cell_type": "markdown",
      "source": [
        "# Customer Churn Prediction in Telecom Industry\n",
        "\n",
        "\n",
        "\n"
      ],
      "metadata": {
        "id": "6RraookqF0Nz"
      }
    },
    {
      "cell_type": "markdown",
      "source": [
        "In the \"Customer Churn Prediction in the Telecom Industry\" project, I was responsible for the data mining aspect, which is crucial for extracting actionable insights from vast amounts of customer data. My role involved collecting, cleaning, and analyzing large datasets to identify patterns and trends that indicate potential customer churn. By applying various data mining techniques, such as clustering, classification, and association rule mining, I was able to uncover key factors contributing to customer attrition. This process enabled the development of predictive models that help telecom companies proactively address customer needs, ultimately reducing churn rates and improving customer retention strategies.\n",
        "\n",
        "ITBIN-2110-0013\n",
        "\n",
        "H.M.F.Asma"
      ],
      "metadata": {
        "id": "E5zyH58TPn23"
      }
    },
    {
      "cell_type": "markdown",
      "source": [
        "# **Data Mining**"
      ],
      "metadata": {
        "id": "SyPJCANQRRGH"
      }
    },
    {
      "cell_type": "markdown",
      "source": [
        "# Train a model"
      ],
      "metadata": {
        "id": "z1RlEibcLELG"
      }
    },
    {
      "cell_type": "markdown",
      "source": [
        "### Import Libraries"
      ],
      "metadata": {
        "id": "XvBUinm9GltK"
      }
    },
    {
      "cell_type": "code",
      "source": [
        "import pandas as pd\n",
        "from sklearn.preprocessing import LabelEncoder\n",
        "from sklearn.model_selection import train_test_split\n",
        "from sklearn.ensemble import RandomForestClassifier\n",
        "from sklearn.metrics import classification_report, accuracy_score\n",
        "from sklearn.model_selection import train_test_split\n",
        "from sklearn.metrics import accuracy_score\n",
        "from sklearn.datasets import load_iris\n",
        "from sklearn.ensemble import RandomForestClassifier\n",
        "from sklearn.svm import SVC\n",
        "from sklearn.neighbors import KNeighborsClassifier\n",
        "from sklearn.tree import DecisionTreeClassifier\n",
        "from sklearn.model_selection import train_test_split\n",
        "from sklearn.preprocessing import StandardScaler, OneHotEncoder, LabelEncoder\n",
        "from sklearn.impute import SimpleImputer\n",
        "from sklearn.compose import ColumnTransformer\n",
        "from sklearn.pipeline import Pipeline\n",
        "from sklearn.feature_selection import SelectKBest, f_classif\n",
        "from sklearn.ensemble import RandomForestClassifier\n",
        "from sklearn.metrics import accuracy_score\n",
        "from sklearn.model_selection import train_test_split\n",
        "from sklearn.preprocessing import StandardScaler, LabelEncoder\n",
        "from sklearn.preprocessing import OneHotEncoder, StandardScaler\n",
        "from sklearn.metrics import accuracy_score, classification_report\n",
        "import matplotlib.pyplot as plt\n",
        "import numpy as np\n"
      ],
      "metadata": {
        "id": "tMatgT9Xi3EV"
      },
      "execution_count": 67,
      "outputs": []
    },
    {
      "cell_type": "markdown",
      "source": [
        "## Load the File"
      ],
      "metadata": {
        "id": "uzi98W-_GuDZ"
      }
    },
    {
      "cell_type": "code",
      "source": [
        "new_file_path = '/content/Section 3 finished dataset.csv'\n",
        "new_data = pd.read_csv(new_file_path)"
      ],
      "metadata": {
        "id": "4VDIit-Nr2u4"
      },
      "execution_count": 15,
      "outputs": []
    },
    {
      "cell_type": "markdown",
      "source": [
        "# Random Forest"
      ],
      "metadata": {
        "id": "qvp4vObvNPL5"
      }
    },
    {
      "cell_type": "markdown",
      "source": [
        "### Splitting the data into features and target variable"
      ],
      "metadata": {
        "id": "gofMEsZPHAbG"
      }
    },
    {
      "cell_type": "code",
      "source": [
        "\n",
        "X = new_data.drop('Churn', axis=1)\n",
        "y = new_data['Churn']\n",
        "# in here im going to Splitting the data into features and target variable\n"
      ],
      "metadata": {
        "id": "oqZRDBlxsAxh"
      },
      "execution_count": 6,
      "outputs": []
    },
    {
      "cell_type": "markdown",
      "source": [
        "### Splitting the data into training and testing sets"
      ],
      "metadata": {
        "id": "62dcWTM1HRQ0"
      }
    },
    {
      "cell_type": "code",
      "source": [
        "\n",
        "X_train, X_test, y_train, y_test = train_test_split(X, y, test_size=0.3, random_state=42)\n",
        "#split the data into training (70%) and testing (30%) sets using train_test_split.\n",
        "#The random_state parameter ensures reproducibility."
      ],
      "metadata": {
        "id": "rqKDfaQnsFti"
      },
      "execution_count": 7,
      "outputs": []
    },
    {
      "cell_type": "markdown",
      "source": [
        "Create an instance of RandomForestClassifier with a fixed random_state for reproducibility.\n",
        "it the classifier on the training data (X_train and y_train)."
      ],
      "metadata": {
        "id": "UXYE9IdKrxuL"
      }
    },
    {
      "cell_type": "code",
      "source": [
        "# Initializing and training the RandomForestClassifier\n",
        "clf = RandomForestClassifier(random_state=42)\n",
        "clf.fit(X_train, y_train)\n"
      ],
      "metadata": {
        "id": "7Y-FDFNMi981",
        "colab": {
          "base_uri": "https://localhost:8080/",
          "height": 74
        },
        "outputId": "c95e4441-49f3-4831-eace-e4f816d06d65"
      },
      "execution_count": 8,
      "outputs": [
        {
          "output_type": "execute_result",
          "data": {
            "text/plain": [
              "RandomForestClassifier(random_state=42)"
            ],
            "text/html": [
              "<style>#sk-container-id-1 {color: black;}#sk-container-id-1 pre{padding: 0;}#sk-container-id-1 div.sk-toggleable {background-color: white;}#sk-container-id-1 label.sk-toggleable__label {cursor: pointer;display: block;width: 100%;margin-bottom: 0;padding: 0.3em;box-sizing: border-box;text-align: center;}#sk-container-id-1 label.sk-toggleable__label-arrow:before {content: \"▸\";float: left;margin-right: 0.25em;color: #696969;}#sk-container-id-1 label.sk-toggleable__label-arrow:hover:before {color: black;}#sk-container-id-1 div.sk-estimator:hover label.sk-toggleable__label-arrow:before {color: black;}#sk-container-id-1 div.sk-toggleable__content {max-height: 0;max-width: 0;overflow: hidden;text-align: left;background-color: #f0f8ff;}#sk-container-id-1 div.sk-toggleable__content pre {margin: 0.2em;color: black;border-radius: 0.25em;background-color: #f0f8ff;}#sk-container-id-1 input.sk-toggleable__control:checked~div.sk-toggleable__content {max-height: 200px;max-width: 100%;overflow: auto;}#sk-container-id-1 input.sk-toggleable__control:checked~label.sk-toggleable__label-arrow:before {content: \"▾\";}#sk-container-id-1 div.sk-estimator input.sk-toggleable__control:checked~label.sk-toggleable__label {background-color: #d4ebff;}#sk-container-id-1 div.sk-label input.sk-toggleable__control:checked~label.sk-toggleable__label {background-color: #d4ebff;}#sk-container-id-1 input.sk-hidden--visually {border: 0;clip: rect(1px 1px 1px 1px);clip: rect(1px, 1px, 1px, 1px);height: 1px;margin: -1px;overflow: hidden;padding: 0;position: absolute;width: 1px;}#sk-container-id-1 div.sk-estimator {font-family: monospace;background-color: #f0f8ff;border: 1px dotted black;border-radius: 0.25em;box-sizing: border-box;margin-bottom: 0.5em;}#sk-container-id-1 div.sk-estimator:hover {background-color: #d4ebff;}#sk-container-id-1 div.sk-parallel-item::after {content: \"\";width: 100%;border-bottom: 1px solid gray;flex-grow: 1;}#sk-container-id-1 div.sk-label:hover label.sk-toggleable__label {background-color: #d4ebff;}#sk-container-id-1 div.sk-serial::before {content: \"\";position: absolute;border-left: 1px solid gray;box-sizing: border-box;top: 0;bottom: 0;left: 50%;z-index: 0;}#sk-container-id-1 div.sk-serial {display: flex;flex-direction: column;align-items: center;background-color: white;padding-right: 0.2em;padding-left: 0.2em;position: relative;}#sk-container-id-1 div.sk-item {position: relative;z-index: 1;}#sk-container-id-1 div.sk-parallel {display: flex;align-items: stretch;justify-content: center;background-color: white;position: relative;}#sk-container-id-1 div.sk-item::before, #sk-container-id-1 div.sk-parallel-item::before {content: \"\";position: absolute;border-left: 1px solid gray;box-sizing: border-box;top: 0;bottom: 0;left: 50%;z-index: -1;}#sk-container-id-1 div.sk-parallel-item {display: flex;flex-direction: column;z-index: 1;position: relative;background-color: white;}#sk-container-id-1 div.sk-parallel-item:first-child::after {align-self: flex-end;width: 50%;}#sk-container-id-1 div.sk-parallel-item:last-child::after {align-self: flex-start;width: 50%;}#sk-container-id-1 div.sk-parallel-item:only-child::after {width: 0;}#sk-container-id-1 div.sk-dashed-wrapped {border: 1px dashed gray;margin: 0 0.4em 0.5em 0.4em;box-sizing: border-box;padding-bottom: 0.4em;background-color: white;}#sk-container-id-1 div.sk-label label {font-family: monospace;font-weight: bold;display: inline-block;line-height: 1.2em;}#sk-container-id-1 div.sk-label-container {text-align: center;}#sk-container-id-1 div.sk-container {/* jupyter's `normalize.less` sets `[hidden] { display: none; }` but bootstrap.min.css set `[hidden] { display: none !important; }` so we also need the `!important` here to be able to override the default hidden behavior on the sphinx rendered scikit-learn.org. See: https://github.com/scikit-learn/scikit-learn/issues/21755 */display: inline-block !important;position: relative;}#sk-container-id-1 div.sk-text-repr-fallback {display: none;}</style><div id=\"sk-container-id-1\" class=\"sk-top-container\"><div class=\"sk-text-repr-fallback\"><pre>RandomForestClassifier(random_state=42)</pre><b>In a Jupyter environment, please rerun this cell to show the HTML representation or trust the notebook. <br />On GitHub, the HTML representation is unable to render, please try loading this page with nbviewer.org.</b></div><div class=\"sk-container\" hidden><div class=\"sk-item\"><div class=\"sk-estimator sk-toggleable\"><input class=\"sk-toggleable__control sk-hidden--visually\" id=\"sk-estimator-id-1\" type=\"checkbox\" checked><label for=\"sk-estimator-id-1\" class=\"sk-toggleable__label sk-toggleable__label-arrow\">RandomForestClassifier</label><div class=\"sk-toggleable__content\"><pre>RandomForestClassifier(random_state=42)</pre></div></div></div></div></div>"
            ]
          },
          "metadata": {},
          "execution_count": 8
        }
      ]
    },
    {
      "cell_type": "markdown",
      "source": [
        "The model will be trained on the data to create an ensemble of decision trees for classification tasks, leading to more accurate and stable predictions compared to a single decision tree."
      ],
      "metadata": {
        "id": "7EUUOFG2H4hc"
      }
    },
    {
      "cell_type": "markdown",
      "source": [
        "## Decision Tree model."
      ],
      "metadata": {
        "id": "HpbTTgvkJ7nf"
      }
    },
    {
      "cell_type": "markdown",
      "source": [
        "trained the Decision Tree model."
      ],
      "metadata": {
        "id": "TbMf7CMbKGG8"
      }
    },
    {
      "cell_type": "code",
      "source": [
        "model = DecisionTreeClassifier(random_state=42)\n",
        "model.fit(X_train, y_train)\n",
        "\n",
        "y_pred = model.predict(X_test)"
      ],
      "metadata": {
        "id": "5gIRUeMnJF0x"
      },
      "execution_count": 58,
      "outputs": []
    },
    {
      "cell_type": "markdown",
      "source": [
        "evaluate the Decision Tree model's performance"
      ],
      "metadata": {
        "id": "RXltFfQLKEnU"
      }
    },
    {
      "cell_type": "code",
      "source": [
        "accuracy = accuracy_score(y_test, y_pred)\n",
        "print(f'Accuracy: {accuracy:.2f}')\n",
        "\n",
        "print(classification_report(y_test, y_pred))"
      ],
      "metadata": {
        "colab": {
          "base_uri": "https://localhost:8080/"
        },
        "id": "20eiYZw6JLO9",
        "outputId": "a1a5da8d-631e-4445-d7de-e0cbddc80092"
      },
      "execution_count": 59,
      "outputs": [
        {
          "output_type": "stream",
          "name": "stdout",
          "text": [
            "Accuracy: 1.00\n",
            "              precision    recall  f1-score   support\n",
            "\n",
            "           0       1.00      1.00      1.00        10\n",
            "           1       1.00      1.00      1.00         9\n",
            "           2       1.00      1.00      1.00        11\n",
            "\n",
            "    accuracy                           1.00        30\n",
            "   macro avg       1.00      1.00      1.00        30\n",
            "weighted avg       1.00      1.00      1.00        30\n",
            "\n"
          ]
        }
      ]
    },
    {
      "cell_type": "markdown",
      "source": [
        "Accuracy is the proportion of correct predictions (both true positives and true negatives) out of the total number of predictions. It is a measure of the overall effectiveness of the model.\n",
        "\n",
        "I here it shows the accuracy 1.00, the model correctly predicted the class labels for all 30 instances in the dataset. by using decision tree model"
      ],
      "metadata": {
        "id": "d0xoBKcQL_sa"
      }
    },
    {
      "cell_type": "markdown",
      "source": [
        "Use the trained classifier to make predictions on the test set (X_test)."
      ],
      "metadata": {
        "id": "1AJ8EOgIr_3q"
      }
    },
    {
      "cell_type": "code",
      "source": [
        "# Making predictions on the test set\n",
        "y_pred = clf.predict(X_test)\n",
        "\n",
        "# Evaluating the model\n",
        "accuracy = accuracy_score(y_test, y_pred)\n",
        "report = classification_report(y_test, y_pred)\n",
        "\n",
        "print(f\"Accuracy: {accuracy}\")\n",
        "print(\"Classification Report:\\n\", report)\n"
      ],
      "metadata": {
        "id": "4jUMAGPwjH3_",
        "colab": {
          "base_uri": "https://localhost:8080/"
        },
        "outputId": "341d776b-a734-4385-e3e5-2b7bea503930"
      },
      "execution_count": 9,
      "outputs": [
        {
          "output_type": "stream",
          "name": "stdout",
          "text": [
            "Accuracy: 0.7867298578199052\n",
            "Classification Report:\n",
            "               precision    recall  f1-score   support\n",
            "\n",
            "           0       0.83      0.90      0.86      1549\n",
            "           1       0.63      0.48      0.54       561\n",
            "\n",
            "    accuracy                           0.79      2110\n",
            "   macro avg       0.73      0.69      0.70      2110\n",
            "weighted avg       0.77      0.79      0.78      2110\n",
            "\n"
          ]
        }
      ]
    },
    {
      "cell_type": "markdown",
      "source": [
        " Check for missing values"
      ],
      "metadata": {
        "id": "od6PWO-1yb6k"
      }
    },
    {
      "cell_type": "code",
      "source": [
        "missing_values = new_data.isnull().sum()\n",
        "print(\"Missing values in each column:\\n\", missing_values)"
      ],
      "metadata": {
        "id": "VB_8Jx_BycpJ",
        "colab": {
          "base_uri": "https://localhost:8080/"
        },
        "outputId": "bdc6634c-9d0d-41e8-8cf7-1ee84ead3112"
      },
      "execution_count": 10,
      "outputs": [
        {
          "output_type": "stream",
          "name": "stdout",
          "text": [
            "Missing values in each column:\n",
            " customerID            0\n",
            "gender                0\n",
            "SeniorCitizen         0\n",
            "Partner               0\n",
            "Dependents            0\n",
            "tenure                0\n",
            "PhoneService          0\n",
            "MultipleLines         0\n",
            "InternetService       0\n",
            "OnlineSecurity        0\n",
            "OnlineBackup          0\n",
            "DeviceProtection      0\n",
            "TechSupport           0\n",
            "StreamingTV           0\n",
            "StreamingMovies       0\n",
            "Contract              0\n",
            "PaperlessBilling      0\n",
            "PaymentMethod         0\n",
            "MonthlyCharges        0\n",
            "TotalCharges          0\n",
            "Churn                 0\n",
            "tenure_bin            0\n",
            "MonthlyCharges_bin    0\n",
            "Cluster               0\n",
            "PCA1                  0\n",
            "PCA2                  0\n",
            "dtype: int64\n"
          ]
        }
      ]
    },
    {
      "cell_type": "code",
      "source": [
        "print(\"First 5 rows of X_train:\\n\", X_train[:5])\n",
        "print(\"First 5 rows of X_test:\\n\", X_test[:5])\n",
        "print(\"First 5 values of y_train:\\n\", y_train[:5])\n",
        "print(\"First 5 values of y_test:\\n\", y_test[:5])"
      ],
      "metadata": {
        "id": "ZnUCOAkezGMj",
        "colab": {
          "base_uri": "https://localhost:8080/"
        },
        "outputId": "9242c872-ab7f-423d-c5ea-428bc7023204"
      },
      "execution_count": 22,
      "outputs": [
        {
          "output_type": "stream",
          "name": "stdout",
          "text": [
            "First 5 rows of X_train:\n",
            "       SeniorCitizen  tenure  MonthlyCharges  TotalCharges  Cluster      PCA1  \\\n",
            "6021              0      43           49.05       2076.20        0 -0.422284   \n",
            "3404              0       3           53.40        188.70        2 -1.277010   \n",
            "5474              0      55           77.75       4458.15        1  1.203379   \n",
            "5515              0      45           54.65       2553.70        0 -0.147057   \n",
            "6328              0      55          100.90       5448.60        1  1.900721   \n",
            "\n",
            "          PCA2  gender_Male  Partner_Yes  Dependents_Yes  ...  \\\n",
            "6021 -1.429241        False        False           False  ...   \n",
            "3404  1.310409         True        False           False  ...   \n",
            "5474 -0.661804        False         True           False  ...   \n",
            "5515 -1.441230         True         True            True  ...   \n",
            "6328 -0.455413        False         True            True  ...   \n",
            "\n",
            "      tenure_bin_13-24  tenure_bin_25-36  tenure_bin_37-48  tenure_bin_49-60  \\\n",
            "6021             False             False              True             False   \n",
            "3404             False             False             False             False   \n",
            "5474             False             False             False              True   \n",
            "5515             False             False              True             False   \n",
            "6328             False             False             False              True   \n",
            "\n",
            "      tenure_bin_61-72  MonthlyCharges_bin_101-120  MonthlyCharges_bin_21-40  \\\n",
            "6021             False                       False                     False   \n",
            "3404             False                       False                     False   \n",
            "5474             False                       False                     False   \n",
            "5515             False                       False                     False   \n",
            "6328             False                        True                     False   \n",
            "\n",
            "      MonthlyCharges_bin_41-60  MonthlyCharges_bin_61-80  \\\n",
            "6021                      True                     False   \n",
            "3404                      True                     False   \n",
            "5474                     False                      True   \n",
            "5515                      True                     False   \n",
            "6328                     False                     False   \n",
            "\n",
            "      MonthlyCharges_bin_81-100  \n",
            "6021                      False  \n",
            "3404                      False  \n",
            "5474                      False  \n",
            "5515                      False  \n",
            "6328                      False  \n",
            "\n",
            "[5 rows x 43 columns]\n",
            "First 5 rows of X_test:\n",
            "       SeniorCitizen  tenure  MonthlyCharges  TotalCharges  Cluster      PCA1  \\\n",
            "2476              1      61           25.00       1501.75        0 -0.181455   \n",
            "6773              0      19           24.70        465.85        0 -1.796590   \n",
            "6116              0      13          102.25       1359.00        2  0.138921   \n",
            "3047              0      37           55.05       2030.75        0 -0.446379   \n",
            "4092              0       6           29.45        161.45        0 -2.056300   \n",
            "\n",
            "          PCA2  gender_Male  Partner_Yes  Dependents_Yes  ...  \\\n",
            "2476 -1.344356         True         True           False  ...   \n",
            "6773 -1.118123        False        False           False  ...   \n",
            "6116  1.634487         True         True           False  ...   \n",
            "3047 -1.228665         True         True           False  ...   \n",
            "4092 -0.770908        False        False           False  ...   \n",
            "\n",
            "      tenure_bin_13-24  tenure_bin_25-36  tenure_bin_37-48  tenure_bin_49-60  \\\n",
            "2476             False             False             False             False   \n",
            "6773              True             False             False             False   \n",
            "6116              True             False             False             False   \n",
            "3047             False             False              True             False   \n",
            "4092             False             False             False             False   \n",
            "\n",
            "      tenure_bin_61-72  MonthlyCharges_bin_101-120  MonthlyCharges_bin_21-40  \\\n",
            "2476              True                       False                      True   \n",
            "6773             False                       False                      True   \n",
            "6116             False                        True                     False   \n",
            "3047             False                       False                     False   \n",
            "4092             False                       False                      True   \n",
            "\n",
            "      MonthlyCharges_bin_41-60  MonthlyCharges_bin_61-80  \\\n",
            "2476                     False                     False   \n",
            "6773                     False                     False   \n",
            "6116                     False                     False   \n",
            "3047                      True                     False   \n",
            "4092                     False                     False   \n",
            "\n",
            "      MonthlyCharges_bin_81-100  \n",
            "2476                      False  \n",
            "6773                      False  \n",
            "6116                      False  \n",
            "3047                      False  \n",
            "4092                      False  \n",
            "\n",
            "[5 rows x 43 columns]\n",
            "First 5 values of y_train:\n",
            " 6021    1\n",
            "3404    1\n",
            "5474    1\n",
            "5515    0\n",
            "6328    0\n",
            "Name: Churn, dtype: int64\n",
            "First 5 values of y_test:\n",
            " 2476    0\n",
            "6773    0\n",
            "6116    1\n",
            "3047    0\n",
            "4092    0\n",
            "Name: Churn, dtype: int64\n"
          ]
        }
      ]
    },
    {
      "cell_type": "markdown",
      "source": [
        "This is the target variable corresponding to the training dataset, indicating whether the customer churned (1) or not (0).\n",
        "\n",
        "The columns are identical to those in X_train, containing similar customer attributes, but the data belongs to the test set."
      ],
      "metadata": {
        "id": "kEGpgcsvLEIW"
      }
    },
    {
      "cell_type": "markdown",
      "source": [
        "## **Model Evaluation**"
      ],
      "metadata": {
        "id": "rt1ooZnH1i18"
      }
    },
    {
      "cell_type": "code",
      "source": [
        "from sklearn.metrics import accuracy_score, precision_score, recall_score, f1_score, confusion_matrix, classification_report\n",
        "\n",
        "# Predict on the test set\n",
        "y_pred = model.predict(X_test)\n",
        "\n",
        "# Evaluate the model\n",
        "accuracy = accuracy_score(y_test, y_pred)\n",
        "precision = precision_score(y_test, y_pred)\n",
        "recall = recall_score(y_test, y_pred)\n",
        "f1 = f1_score(y_test, y_pred)\n",
        "conf_matrix = confusion_matrix(y_test, y_pred)\n",
        "class_report = classification_report(y_test, y_pred)"
      ],
      "metadata": {
        "id": "eAGFPXwd1lKW",
        "colab": {
          "base_uri": "https://localhost:8080/"
        },
        "outputId": "480af57b-95f4-4eb8-b735-1e977eda721b"
      },
      "execution_count": 25,
      "outputs": [
        {
          "output_type": "stream",
          "name": "stderr",
          "text": [
            "/usr/local/lib/python3.10/dist-packages/sklearn/base.py:465: UserWarning: X does not have valid feature names, but RandomForestClassifier was fitted with feature names\n",
            "  warnings.warn(\n"
          ]
        }
      ]
    },
    {
      "cell_type": "markdown",
      "source": [
        "Print evaluation metrics"
      ],
      "metadata": {
        "id": "8EBf-QFA2PsL"
      }
    },
    {
      "cell_type": "code",
      "source": [
        "print(f\"Accuracy: {accuracy:.4f}\")\n",
        "print(f\"Precision: {precision:.4f}\")\n",
        "print(f\"Recall: {recall:.4f}\")\n",
        "print(f\"F1-score: {f1:.4f}\")"
      ],
      "metadata": {
        "id": "IVeBGssX2QSZ",
        "colab": {
          "base_uri": "https://localhost:8080/"
        },
        "outputId": "bdc7978d-adae-4938-8b84-667c950c4c90"
      },
      "execution_count": 26,
      "outputs": [
        {
          "output_type": "stream",
          "name": "stdout",
          "text": [
            "Accuracy: 0.6766\n",
            "Precision: 0.4389\n",
            "Recall: 0.7781\n",
            "F1-score: 0.5612\n"
          ]
        }
      ]
    },
    {
      "cell_type": "markdown",
      "source": [
        "Accuracy (67.66%): The model correctly predicted about two-thirds of the instances.\n",
        "\n",
        "Precision (43.89%): The model's positive predictions were less than half correct, indicating a higher rate of false positives.\n",
        "\n",
        "Recall (77.81%): The model identified more than three-quarters of the actual positive instances but missed some, indicating some false negatives.\n",
        "\n",
        "F1-Score (56.12%): The F1-score shows a moderate balance between precision and recall, suggesting the model has room for improvement in balancing these metrics.\n",
        "\n"
      ],
      "metadata": {
        "id": "fUpHM2YbM3UL"
      }
    },
    {
      "cell_type": "markdown",
      "source": [
        "Print confusion matrix"
      ],
      "metadata": {
        "id": "433wJURk2Wrc"
      }
    },
    {
      "cell_type": "code",
      "source": [
        "print(\"Confusion Matrix:\")\n",
        "print(conf_matrix)"
      ],
      "metadata": {
        "id": "mVgowdlH2XRV",
        "colab": {
          "base_uri": "https://localhost:8080/"
        },
        "outputId": "e26c32ce-f519-4a34-97d7-3171d0f8a3db"
      },
      "execution_count": 27,
      "outputs": [
        {
          "output_type": "stream",
          "name": "stdout",
          "text": [
            "Confusion Matrix:\n",
            "[[661 372]\n",
            " [ 83 291]]\n"
          ]
        }
      ]
    },
    {
      "cell_type": "markdown",
      "source": [
        "Print classification report"
      ],
      "metadata": {
        "id": "rInmShYY2bb4"
      }
    },
    {
      "cell_type": "code",
      "source": [
        "print(\"Classification Report:\")\n",
        "print(class_report)"
      ],
      "metadata": {
        "id": "GKsfhlod2e0n",
        "colab": {
          "base_uri": "https://localhost:8080/"
        },
        "outputId": "b17617bb-3ce4-45fe-d074-f14112e335d0"
      },
      "execution_count": 28,
      "outputs": [
        {
          "output_type": "stream",
          "name": "stdout",
          "text": [
            "Classification Report:\n",
            "              precision    recall  f1-score   support\n",
            "\n",
            "           0       0.89      0.64      0.74      1033\n",
            "           1       0.44      0.78      0.56       374\n",
            "\n",
            "    accuracy                           0.68      1407\n",
            "   macro avg       0.66      0.71      0.65      1407\n",
            "weighted avg       0.77      0.68      0.70      1407\n",
            "\n"
          ]
        }
      ]
    },
    {
      "cell_type": "markdown",
      "source": [
        "# **Experiment with different parameter settings**"
      ],
      "metadata": {
        "id": "WMoKGy1E50IP"
      }
    },
    {
      "cell_type": "code",
      "source": [
        "from sklearn.model_selection import train_test_split\n",
        "from sklearn.ensemble import RandomForestClassifier\n",
        "from sklearn.metrics import accuracy_score, classification_report\n",
        "from sklearn.preprocessing import LabelEncoder"
      ],
      "metadata": {
        "id": "Rt9NTMhV51CW"
      },
      "execution_count": 29,
      "outputs": []
    },
    {
      "cell_type": "code",
      "source": [
        "from sklearn.metrics import accuracy_score, precision_score, recall_score, f1_score, confusion_matrix, classification_report"
      ],
      "metadata": {
        "id": "uWfpFNYC6PBZ"
      },
      "execution_count": 30,
      "outputs": []
    },
    {
      "cell_type": "markdown",
      "source": [
        "Predict on the test set"
      ],
      "metadata": {
        "id": "EAPjfwXW6Vnp"
      }
    },
    {
      "cell_type": "code",
      "source": [
        "y_pred = model.predict(X_test)"
      ],
      "metadata": {
        "id": "YFSs2uk96Wa7",
        "colab": {
          "base_uri": "https://localhost:8080/"
        },
        "outputId": "aa1aacd2-a3b0-450d-fb14-bac0f362cf2f"
      },
      "execution_count": 31,
      "outputs": [
        {
          "output_type": "stream",
          "name": "stderr",
          "text": [
            "/usr/local/lib/python3.10/dist-packages/sklearn/base.py:465: UserWarning: X does not have valid feature names, but RandomForestClassifier was fitted with feature names\n",
            "  warnings.warn(\n"
          ]
        }
      ]
    },
    {
      "cell_type": "markdown",
      "source": [
        "Evaluate the model"
      ],
      "metadata": {
        "id": "ZWRaK8k46Zr1"
      }
    },
    {
      "cell_type": "code",
      "source": [
        "accuracy = accuracy_score(y_test, y_pred)\n",
        "precision = precision_score(y_test, y_pred)\n",
        "recall = recall_score(y_test, y_pred)\n",
        "f1 = f1_score(y_test, y_pred)\n",
        "conf_matrix = confusion_matrix(y_test, y_pred)\n",
        "class_report = classification_report(y_test, y_pred)"
      ],
      "metadata": {
        "id": "E8JzFUvZ6cwq"
      },
      "execution_count": 32,
      "outputs": []
    },
    {
      "cell_type": "markdown",
      "source": [
        "Print evaluation metrics"
      ],
      "metadata": {
        "id": "el7fWMN96g16"
      }
    },
    {
      "cell_type": "code",
      "source": [
        "print(f\"Accuracy: {accuracy:.4f}\")\n",
        "print(f\"Precision: {precision:.4f}\")\n",
        "print(f\"Recall: {recall:.4f}\")\n",
        "print(f\"F1-score: {f1:.4f}\")"
      ],
      "metadata": {
        "id": "xJbfAw436kSo",
        "colab": {
          "base_uri": "https://localhost:8080/"
        },
        "outputId": "7b12b4f7-9c51-4baa-a12f-ce25ab0f2920"
      },
      "execution_count": 33,
      "outputs": [
        {
          "output_type": "stream",
          "name": "stdout",
          "text": [
            "Accuracy: 0.6766\n",
            "Precision: 0.4389\n",
            "Recall: 0.7781\n",
            "F1-score: 0.5612\n"
          ]
        }
      ]
    },
    {
      "cell_type": "markdown",
      "source": [
        "Print confusion matrix"
      ],
      "metadata": {
        "id": "a2scOX2_6rv3"
      }
    },
    {
      "cell_type": "code",
      "source": [
        "print(\"Confusion Matrix:\")\n",
        "print(conf_matrix)"
      ],
      "metadata": {
        "id": "2CvdyKLB6skP",
        "colab": {
          "base_uri": "https://localhost:8080/"
        },
        "outputId": "5137fe2a-c8dd-4cfa-9590-b22fc5505a76"
      },
      "execution_count": 34,
      "outputs": [
        {
          "output_type": "stream",
          "name": "stdout",
          "text": [
            "Confusion Matrix:\n",
            "[[661 372]\n",
            " [ 83 291]]\n"
          ]
        }
      ]
    },
    {
      "cell_type": "markdown",
      "source": [
        "The confusion matrix is a table used to evaluate the performance of a classification model. It summarizes the counts of true positives, false positives, true negatives, and false negatives"
      ],
      "metadata": {
        "id": "PNJ0zPG4Owf5"
      }
    },
    {
      "cell_type": "markdown",
      "source": [
        "Print classification report"
      ],
      "metadata": {
        "id": "6EDLCbnN6y4H"
      }
    },
    {
      "cell_type": "code",
      "source": [
        "print(\"Classification Report:\")\n",
        "print(class_report)"
      ],
      "metadata": {
        "id": "1s3L9UrM61SU",
        "colab": {
          "base_uri": "https://localhost:8080/"
        },
        "outputId": "b647fbcb-dbaa-4753-cda0-44c38302c080"
      },
      "execution_count": 35,
      "outputs": [
        {
          "output_type": "stream",
          "name": "stdout",
          "text": [
            "Classification Report:\n",
            "              precision    recall  f1-score   support\n",
            "\n",
            "           0       0.89      0.64      0.74      1033\n",
            "           1       0.44      0.78      0.56       374\n",
            "\n",
            "    accuracy                           0.68      1407\n",
            "   macro avg       0.66      0.71      0.65      1407\n",
            "weighted avg       0.77      0.68      0.70      1407\n",
            "\n"
          ]
        }
      ]
    },
    {
      "cell_type": "markdown",
      "source": [
        "Predictions: The model predicts the target variable on the test set.\n",
        "Metrics: Accuracy, precision, recall, and F1-score are computed to evaluate model performance.\n",
        "Confusion Matrix: Displays the number of true positives, true negatives, false positives, and false negatives.\n",
        "Classification Report: Provides a detailed performance report, including precision, recall, and F1-score for each class."
      ],
      "metadata": {
        "id": "0lvqnTeW6_wi"
      }
    },
    {
      "cell_type": "markdown",
      "source": [
        "## Experiment with multiple alternative methods"
      ],
      "metadata": {
        "id": "R-1ccqj-tQWD"
      }
    },
    {
      "cell_type": "markdown",
      "source": [
        " Load dataset (for example, Iris dataset)"
      ],
      "metadata": {
        "id": "yI5y2LMhtlDY"
      }
    },
    {
      "cell_type": "code",
      "source": [
        "data = load_iris()\n",
        "X = data.data\n",
        "y = data.target"
      ],
      "metadata": {
        "id": "R882FC0DtqI5"
      },
      "execution_count": 36,
      "outputs": []
    },
    {
      "cell_type": "markdown",
      "source": [
        "Split the data into training and testing sets"
      ],
      "metadata": {
        "id": "ag008gkDtv6s"
      }
    },
    {
      "cell_type": "code",
      "source": [
        "X_train, X_test, y_train, y_test = train_test_split(X, y, test_size=0.2, random_state=42)"
      ],
      "metadata": {
        "id": "xeQJdw2KtwoE"
      },
      "execution_count": 37,
      "outputs": []
    },
    {
      "cell_type": "markdown",
      "source": [
        "Initialize different classifiers"
      ],
      "metadata": {
        "id": "39siktqxt3Dc"
      }
    },
    {
      "cell_type": "code",
      "source": [
        "classifiers = {\n",
        "    \"Random Forest\": RandomForestClassifier(),\n",
        "    \"Support Vector Machine\": SVC(),\n",
        "    \"K-Nearest Neighbors\": KNeighborsClassifier(),\n",
        "    \"Decision Tree\": DecisionTreeClassifier()\n",
        "}"
      ],
      "metadata": {
        "id": "suj0v0TFt4C_"
      },
      "execution_count": 38,
      "outputs": []
    },
    {
      "cell_type": "markdown",
      "source": [
        "Experiment with different classifiers"
      ],
      "metadata": {
        "id": "x3Do-fRQt89_"
      }
    },
    {
      "cell_type": "code",
      "source": [
        "for name, clf in classifiers.items():\n",
        "    clf.fit(X_train, y_train)  # Train the classifier\n",
        "    y_pred = clf.predict(X_test)  # Make predictions\n",
        "    accuracy = accuracy_score(y_test, y_pred)  # Evaluate accuracy\n",
        "    print(f\"{name} Accuracy: {accuracy:.2f}\")"
      ],
      "metadata": {
        "id": "r6cXTJFOuAUh",
        "colab": {
          "base_uri": "https://localhost:8080/"
        },
        "outputId": "a4063dde-b7e7-4996-93ba-8e2840ce6a7e"
      },
      "execution_count": 39,
      "outputs": [
        {
          "output_type": "stream",
          "name": "stdout",
          "text": [
            "Random Forest Accuracy: 1.00\n",
            "Support Vector Machine Accuracy: 1.00\n",
            "K-Nearest Neighbors Accuracy: 1.00\n",
            "Decision Tree Accuracy: 1.00\n"
          ]
        }
      ]
    },
    {
      "cell_type": "markdown",
      "source": [
        "This code loads a dataset (in this case, the Iris dataset), splits it into training and testing sets, and then trains and evaluates different machine learning classifiers (Random Forest, SVM, KNN, and Decision Tree) to compare their performance."
      ],
      "metadata": {
        "id": "oiDMWcHmuLDq"
      }
    },
    {
      "cell_type": "markdown",
      "source": [
        "# **Improve preprocessing and feature generation**"
      ],
      "metadata": {
        "id": "bxQ3HjfNv6Mb"
      }
    },
    {
      "cell_type": "markdown",
      "source": [
        "Split the data into training and testing sets"
      ],
      "metadata": {
        "id": "VnZMcKyY3_E5"
      }
    },
    {
      "cell_type": "code",
      "source": [
        "X_train, X_test, y_train, y_test = train_test_split(X, y, test_size=0.2, random_state=42)"
      ],
      "metadata": {
        "id": "bd2jWgxi4AC-"
      },
      "execution_count": 40,
      "outputs": []
    },
    {
      "cell_type": "markdown",
      "source": [
        "Define numerical and categorical features"
      ],
      "metadata": {
        "id": "GhWYPovw4Eiv"
      }
    },
    {
      "cell_type": "code",
      "source": [
        "df = pd.DataFrame({\n",
        "    'Category': ['A', 'B', 'A', 'C', 'B'],\n",
        "    'Value': [1.0, 2.5, 3.3, 4.4, 2.2]\n",
        "})\n"
      ],
      "metadata": {
        "id": "DOOOZLKs4MX5"
      },
      "execution_count": 41,
      "outputs": []
    },
    {
      "cell_type": "markdown",
      "source": [
        "Define Transformer"
      ],
      "metadata": {
        "id": "8tkuu_yOt4_5"
      }
    },
    {
      "cell_type": "code",
      "source": [
        "numeric_features = ['Value']\n",
        "categorical_features = ['Category']"
      ],
      "metadata": {
        "id": "h121oGGFt8AI"
      },
      "execution_count": 42,
      "outputs": []
    },
    {
      "cell_type": "markdown",
      "source": [
        "Preprocessing for numerical data"
      ],
      "metadata": {
        "id": "F1TT8u9l4Um2"
      }
    },
    {
      "cell_type": "code",
      "source": [
        "numeric_transformer = Pipeline(steps=[\n",
        "    ('imputer', SimpleImputer(strategy='mean')),  # Handle missing values\n",
        "    ('scaler', StandardScaler())  # Normalize the data\n",
        "])"
      ],
      "metadata": {
        "id": "NtvdlKVG4VXL"
      },
      "execution_count": 43,
      "outputs": []
    },
    {
      "cell_type": "markdown",
      "source": [
        "\n",
        "Categorical transformer pipeline: Imputation + OneHotEncoding"
      ],
      "metadata": {
        "id": "s7tOZBfyuNYl"
      }
    },
    {
      "cell_type": "code",
      "source": [
        "categorical_transformer = Pipeline(steps=[\n",
        "    ('imputer', SimpleImputer(strategy='most_frequent')),  # Handle missing values\n",
        "    ('onehot', OneHotEncoder())  # Encode categorical features\n",
        "])\n"
      ],
      "metadata": {
        "id": "DQIs3DA3uR_g"
      },
      "execution_count": 44,
      "outputs": []
    },
    {
      "cell_type": "markdown",
      "source": [
        "Preprocessing for categorical data"
      ],
      "metadata": {
        "id": "L2PbZ-7u4bA5"
      }
    },
    {
      "cell_type": "code",
      "source": [
        "categorical_pipeline = Pipeline(steps=[\n",
        "    ('imputer', SimpleImputer(strategy='most_frequent')),  # Handle missing values\n",
        "    ('onehot', OneHotEncoder(handle_unknown='ignore'))  # One-hot encoding\n",
        "])"
      ],
      "metadata": {
        "id": "v3fGMk1M4b3A"
      },
      "execution_count": 45,
      "outputs": []
    },
    {
      "cell_type": "markdown",
      "source": [
        "Combine the transformers using ColumnTransformer"
      ],
      "metadata": {
        "id": "451CmTImuin8"
      }
    },
    {
      "cell_type": "code",
      "source": [
        "preprocessor = ColumnTransformer(\n",
        "    transformers=[\n",
        "        ('num', numeric_transformer, numeric_features),\n",
        "        ('cat', categorical_transformer, categorical_features)\n",
        "    ])"
      ],
      "metadata": {
        "id": "XBDxWkqnum2l"
      },
      "execution_count": 46,
      "outputs": []
    },
    {
      "cell_type": "markdown",
      "source": [
        "Apply the transformations"
      ],
      "metadata": {
        "id": "6_66PlhIuu5t"
      }
    },
    {
      "cell_type": "code",
      "source": [
        "X = preprocessor.fit_transform(df)\n",
        "\n",
        "print(X)"
      ],
      "metadata": {
        "id": "j3Eu3LjXuvoa",
        "colab": {
          "base_uri": "https://localhost:8080/"
        },
        "outputId": "821a300f-b5d2-4442-c239-14e0dbdf796a"
      },
      "execution_count": 47,
      "outputs": [
        {
          "output_type": "stream",
          "name": "stdout",
          "text": [
            "[[-1.48168659  1.          0.          0.        ]\n",
            " [-0.15875213  0.          1.          0.        ]\n",
            " [ 0.54681291  1.          0.          0.        ]\n",
            " [ 1.51696484  0.          0.          1.        ]\n",
            " [-0.42333903  0.          1.          0.        ]]\n"
          ]
        }
      ]
    },
    {
      "cell_type": "markdown",
      "source": [
        "The first column appears to be standardized, as the values range around 0 and do not seem to follow a specific unit or scale typical for raw data\n",
        "\n",
        "The second, third, and fourth columns represent one-hot encoded features. This technique is used to convert categorical data into a format that can be provided to ML algorithms to do a better in prediction"
      ],
      "metadata": {
        "id": "sNIAj_0rPPK7"
      }
    },
    {
      "cell_type": "markdown",
      "source": [
        "Feature generation using feature selection"
      ],
      "metadata": {
        "id": "4ChxJIdO4opl"
      }
    },
    {
      "cell_type": "code",
      "source": [
        "feature_generation_pipeline = Pipeline(steps=[\n",
        "    ('preprocessor', preprocessor),\n",
        "    ('feature_selection', SelectKBest(score_func=f_classif, k=10))  # Select top 10 features\n",
        "])\n"
      ],
      "metadata": {
        "id": "J6AtS2aD4pWA"
      },
      "execution_count": 49,
      "outputs": []
    },
    {
      "cell_type": "markdown",
      "source": [
        " Train a model with the improved preprocessing and feature generation"
      ],
      "metadata": {
        "id": "SwH5hxq04tnr"
      }
    },
    {
      "cell_type": "code",
      "source": [
        "model_pipeline = Pipeline(steps=[\n",
        "    ('feature_gen', feature_generation_pipeline),\n",
        "    ('classifier', RandomForestClassifier(random_state=42))\n",
        "])\n"
      ],
      "metadata": {
        "id": "bUKCesyu4wbv"
      },
      "execution_count": 50,
      "outputs": []
    },
    {
      "cell_type": "markdown",
      "source": [
        "Numerical Data: Missing values are handled using the median, and the features are scaled using StandardScaler.\n",
        "Categorical Data: Missing values are handled using the most frequent value, and the features are encoded using one-hot encoding.\n"
      ],
      "metadata": {
        "id": "MUvUjsq25X9u"
      }
    },
    {
      "cell_type": "markdown",
      "source": [
        " Make predictions"
      ],
      "metadata": {
        "id": "ZGpfQIRL477g"
      }
    },
    {
      "cell_type": "code",
      "source": [
        "# Predict on the test data\n",
        "y_pred = model.predict(X_test)\n",
        "\n",
        "# Evaluate the model\n",
        "accuracy = accuracy_score(y_test, y_pred)\n",
        "report = classification_report(y_test, y_pred)\n",
        "\n",
        "print(f\"Accuracy: {accuracy:.4f}\")\n",
        "print(\"Classification Report:\")\n",
        "print(report)\n"
      ],
      "metadata": {
        "colab": {
          "base_uri": "https://localhost:8080/"
        },
        "id": "GMG6U6YZGELO",
        "outputId": "196a0d55-f479-455c-e589-4c71387354b3"
      },
      "execution_count": 54,
      "outputs": [
        {
          "output_type": "stream",
          "name": "stdout",
          "text": [
            "Accuracy: 1.0000\n",
            "Classification Report:\n",
            "              precision    recall  f1-score   support\n",
            "\n",
            "           0       1.00      1.00      1.00        10\n",
            "           1       1.00      1.00      1.00         9\n",
            "           2       1.00      1.00      1.00        11\n",
            "\n",
            "    accuracy                           1.00        30\n",
            "   macro avg       1.00      1.00      1.00        30\n",
            "weighted avg       1.00      1.00      1.00        30\n",
            "\n"
          ]
        }
      ]
    },
    {
      "cell_type": "markdown",
      "source": [
        "Simple Dataset: The dataset might be simple or linearly separable, making it easier for the model to achieve perfect classification."
      ],
      "metadata": {
        "id": "djnLP-hmPziS"
      }
    },
    {
      "cell_type": "markdown",
      "source": [
        "Evaluate the model"
      ],
      "metadata": {
        "id": "qPcOU5jR5Bq2"
      }
    },
    {
      "cell_type": "code",
      "source": [
        "accuracy = accuracy_score(y_test, y_pred)\n",
        "print(f\"Model accuracy after preprocessing and feature generation: {accuracy:.2f}\")"
      ],
      "metadata": {
        "id": "DNFFBMuS5FFD",
        "colab": {
          "base_uri": "https://localhost:8080/"
        },
        "outputId": "8e1aa00b-0b57-43a7-e286-9574ad28feed"
      },
      "execution_count": 55,
      "outputs": [
        {
          "output_type": "stream",
          "name": "stdout",
          "text": [
            "Model accuracy after preprocessing and feature generation: 1.00\n"
          ]
        }
      ]
    },
    {
      "cell_type": "markdown",
      "source": [
        "# Increase amount or quality of training data"
      ],
      "metadata": {
        "id": "P-WXkDDkRqYf"
      }
    },
    {
      "cell_type": "markdown",
      "source": [
        "## Data Augmentation"
      ],
      "metadata": {
        "id": "UhoYVf4hRvqF"
      }
    },
    {
      "cell_type": "code",
      "source": [],
      "metadata": {
        "id": "_xKTjSuZR4hk"
      },
      "execution_count": null,
      "outputs": []
    }
  ]
}