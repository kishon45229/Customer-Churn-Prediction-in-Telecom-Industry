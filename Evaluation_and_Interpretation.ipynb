{
  "nbformat": 4,
  "nbformat_minor": 0,
  "metadata": {
    "colab": {
      "provenance": [],
      "mount_file_id": "15xIP1IJsZOrSFAsT9hWeR0SZOgHInex2",
      "authorship_tag": "ABX9TyP+bV/kQRUpVpOp5X8+Fkau",
      "include_colab_link": true
    },
    "kernelspec": {
      "name": "python3",
      "display_name": "Python 3"
    },
    "language_info": {
      "name": "python"
    }
  },
  "cells": [
    {
      "cell_type": "markdown",
      "metadata": {
        "id": "view-in-github",
        "colab_type": "text"
      },
      "source": [
        "<a href=\"https://colab.research.google.com/github/kishon45229/Customer-Churn-Prediction-in-Telecom-Industry/blob/main/Evaluation_and_Interpretation.ipynb\" target=\"_parent\"><img src=\"https://colab.research.google.com/assets/colab-badge.svg\" alt=\"Open In Colab\"/></a>"
      ]
    },
    {
      "cell_type": "markdown",
      "source": [
        "# **Customer Churn Prediction in Telecom Industry**"
      ],
      "metadata": {
        "id": "ij_RgnbvP7mt"
      }
    },
    {
      "cell_type": "markdown",
      "source": [
        "# **Evaluation and Interpretation**"
      ],
      "metadata": {
        "id": "eVZW-ndaQiCB"
      }
    },
    {
      "cell_type": "markdown",
      "source": [
        "To effectively understand the performance and reliability of models, we need to consider several key aspects: Performance Metrics, Cross-Validation, Model Selection and Hyperparameter Tuning, and Overfitting and Underfitting. I'll explain each concept and implement them step-by-step."
      ],
      "metadata": {
        "id": "qvcSbp87QMK_"
      }
    },
    {
      "cell_type": "markdown",
      "source": [
        "Gnanaraj Kishon\\\n",
        "ITBIN-2110-0054"
      ],
      "metadata": {
        "id": "0jjAaKOeQFlK"
      }
    },
    {
      "cell_type": "markdown",
      "source": [
        "## **Import Necessary Libraries**"
      ],
      "metadata": {
        "id": "V6hpW8PVOzvO"
      }
    },
    {
      "cell_type": "code",
      "execution_count": 12,
      "metadata": {
        "id": "0fxCRjaANLS7"
      },
      "outputs": [],
      "source": [
        "import pandas as pd\n",
        "\n",
        "from sklearn.model_selection import train_test_split, GridSearchCV, cross_val_score\n",
        "from sklearn.metrics import accuracy_score, precision_score, recall_score, f1_score, roc_auc_score\n",
        "from sklearn.linear_model import LogisticRegression\n",
        "from sklearn.tree import DecisionTreeClassifier\n",
        "from sklearn.ensemble import RandomForestClassifier, GradientBoostingClassifier\n",
        "from sklearn.svm import SVC\n",
        "from sklearn.preprocessing import StandardScaler"
      ]
    },
    {
      "cell_type": "markdown",
      "source": [
        "## **Add Dataset**"
      ],
      "metadata": {
        "id": "LRz1jw71O3Dh"
      }
    },
    {
      "cell_type": "markdown",
      "source": [
        "I continued from where data mining part stopped. Therefore, I read the CSV file that generated at the end of data mining part."
      ],
      "metadata": {
        "id": "jcaH30lpQsK5"
      }
    },
    {
      "cell_type": "code",
      "source": [
        "df = pd.read_csv('/content/drive/MyDrive/Colab Notebooks/Nature Inspired Algorithms/Mini Project/Data Mining completed dataset.csv')\n",
        "df"
      ],
      "metadata": {
        "colab": {
          "base_uri": "https://localhost:8080/",
          "height": 478
        },
        "id": "pVVFZT5ENRFX",
        "outputId": "94d61183-9920-4361-ac0b-dcefbba729bf"
      },
      "execution_count": 6,
      "outputs": [
        {
          "output_type": "execute_result",
          "data": {
            "text/plain": [
              "        tenure  MonthlyCharges  TotalCharges  Cluster      PCA2  \\\n",
              "0     0.845070        0.063063      0.171414      0.0  0.197946   \n",
              "1     0.253521        0.060060      0.051674      0.0  0.243191   \n",
              "2     0.169014        0.836336      0.154913      1.0  0.793704   \n",
              "3     0.507042        0.363864      0.232560      0.0  0.221083   \n",
              "4     0.070423        0.107608      0.016489      0.0  0.312633   \n",
              "...        ...             ...           ...      ...       ...   \n",
              "1401  0.000000        0.317818      0.003658      1.0  0.731769   \n",
              "1402  0.000000        0.003504      0.000029      0.0  0.308188   \n",
              "1403  0.154930        0.759259      0.133477      1.0  0.781226   \n",
              "1404  0.352113        0.373874      0.177361      1.0  0.619108   \n",
              "1405  0.478873        0.921922      0.441263      0.5  0.650380   \n",
              "\n",
              "      InternetService_Fiber optic  InternetService_No  \\\n",
              "0                             0.0                 1.0   \n",
              "1                             0.0                 1.0   \n",
              "2                             1.0                 0.0   \n",
              "3                             0.0                 0.0   \n",
              "4                             0.0                 0.0   \n",
              "...                           ...                 ...   \n",
              "1401                          0.0                 0.0   \n",
              "1402                          0.0                 1.0   \n",
              "1403                          1.0                 0.0   \n",
              "1404                          0.0                 0.0   \n",
              "1405                          1.0                 0.0   \n",
              "\n",
              "      OnlineSecurity_No internet service  OnlineSecurity_Yes  \\\n",
              "0                                    1.0                 0.0   \n",
              "1                                    1.0                 0.0   \n",
              "2                                    0.0                 0.0   \n",
              "3                                    0.0                 1.0   \n",
              "4                                    0.0                 1.0   \n",
              "...                                  ...                 ...   \n",
              "1401                                 0.0                 0.0   \n",
              "1402                                 1.0                 0.0   \n",
              "1403                                 0.0                 0.0   \n",
              "1404                                 0.0                 0.0   \n",
              "1405                                 0.0                 1.0   \n",
              "\n",
              "      OnlineBackup_No internet service  ...  \\\n",
              "0                                  1.0  ...   \n",
              "1                                  1.0  ...   \n",
              "2                                  0.0  ...   \n",
              "3                                  0.0  ...   \n",
              "4                                  0.0  ...   \n",
              "...                                ...  ...   \n",
              "1401                               0.0  ...   \n",
              "1402                               1.0  ...   \n",
              "1403                               0.0  ...   \n",
              "1404                               0.0  ...   \n",
              "1405                               0.0  ...   \n",
              "\n",
              "      StreamingMovies_No internet service  Contract_One year  \\\n",
              "0                                     1.0                0.0   \n",
              "1                                     1.0                0.0   \n",
              "2                                     0.0                0.0   \n",
              "3                                     0.0                0.0   \n",
              "4                                     0.0                0.0   \n",
              "...                                   ...                ...   \n",
              "1401                                  0.0                0.0   \n",
              "1402                                  1.0                0.0   \n",
              "1403                                  0.0                0.0   \n",
              "1404                                  0.0                1.0   \n",
              "1405                                  0.0                1.0   \n",
              "\n",
              "      Contract_Two year  PaperlessBilling_Yes  PaymentMethod_Electronic check  \\\n",
              "0                   1.0                   0.0                             0.0   \n",
              "1                   0.0                   0.0                             0.0   \n",
              "2                   0.0                   1.0                             0.0   \n",
              "3                   0.0                   1.0                             0.0   \n",
              "4                   0.0                   0.0                             0.0   \n",
              "...                 ...                   ...                             ...   \n",
              "1401                0.0                   1.0                             1.0   \n",
              "1402                0.0                   0.0                             0.0   \n",
              "1403                0.0                   0.0                             1.0   \n",
              "1404                0.0                   1.0                             0.0   \n",
              "1405                0.0                   1.0                             0.0   \n",
              "\n",
              "      tenure_bin_61-72  Churn  MonthlyTenure  MonthlyChargesBinned  \\\n",
              "0                  1.0      0       2.718129                     0   \n",
              "1                  0.0      0       0.860377                     0   \n",
              "2                  0.0      1       0.185228                     4   \n",
              "3                  0.0      0       0.639141                     1   \n",
              "4                  0.0      0       0.153231                     0   \n",
              "...                ...    ...            ...                   ...   \n",
              "1401               0.0      1       0.011511                     1   \n",
              "1402               0.0      0       0.008248                     0   \n",
              "1403               0.0      0       0.175799                     3   \n",
              "1404               0.0      0       0.474386                     1   \n",
              "1405               0.0      0       0.478634                     4   \n",
              "\n",
              "      TotalChargesBinned  \n",
              "0                      0  \n",
              "1                      0  \n",
              "2                      0  \n",
              "3                      1  \n",
              "4                      0  \n",
              "...                  ...  \n",
              "1401                   0  \n",
              "1402                   0  \n",
              "1403                   0  \n",
              "1404                   0  \n",
              "1405                   2  \n",
              "\n",
              "[1406 rows x 24 columns]"
            ],
            "text/html": [
              "\n",
              "  <div id=\"df-bb669ed1-def6-4cb6-8dd4-743be974e1bc\" class=\"colab-df-container\">\n",
              "    <div>\n",
              "<style scoped>\n",
              "    .dataframe tbody tr th:only-of-type {\n",
              "        vertical-align: middle;\n",
              "    }\n",
              "\n",
              "    .dataframe tbody tr th {\n",
              "        vertical-align: top;\n",
              "    }\n",
              "\n",
              "    .dataframe thead th {\n",
              "        text-align: right;\n",
              "    }\n",
              "</style>\n",
              "<table border=\"1\" class=\"dataframe\">\n",
              "  <thead>\n",
              "    <tr style=\"text-align: right;\">\n",
              "      <th></th>\n",
              "      <th>tenure</th>\n",
              "      <th>MonthlyCharges</th>\n",
              "      <th>TotalCharges</th>\n",
              "      <th>Cluster</th>\n",
              "      <th>PCA2</th>\n",
              "      <th>InternetService_Fiber optic</th>\n",
              "      <th>InternetService_No</th>\n",
              "      <th>OnlineSecurity_No internet service</th>\n",
              "      <th>OnlineSecurity_Yes</th>\n",
              "      <th>OnlineBackup_No internet service</th>\n",
              "      <th>...</th>\n",
              "      <th>StreamingMovies_No internet service</th>\n",
              "      <th>Contract_One year</th>\n",
              "      <th>Contract_Two year</th>\n",
              "      <th>PaperlessBilling_Yes</th>\n",
              "      <th>PaymentMethod_Electronic check</th>\n",
              "      <th>tenure_bin_61-72</th>\n",
              "      <th>Churn</th>\n",
              "      <th>MonthlyTenure</th>\n",
              "      <th>MonthlyChargesBinned</th>\n",
              "      <th>TotalChargesBinned</th>\n",
              "    </tr>\n",
              "  </thead>\n",
              "  <tbody>\n",
              "    <tr>\n",
              "      <th>0</th>\n",
              "      <td>0.845070</td>\n",
              "      <td>0.063063</td>\n",
              "      <td>0.171414</td>\n",
              "      <td>0.0</td>\n",
              "      <td>0.197946</td>\n",
              "      <td>0.0</td>\n",
              "      <td>1.0</td>\n",
              "      <td>1.0</td>\n",
              "      <td>0.0</td>\n",
              "      <td>1.0</td>\n",
              "      <td>...</td>\n",
              "      <td>1.0</td>\n",
              "      <td>0.0</td>\n",
              "      <td>1.0</td>\n",
              "      <td>0.0</td>\n",
              "      <td>0.0</td>\n",
              "      <td>1.0</td>\n",
              "      <td>0</td>\n",
              "      <td>2.718129</td>\n",
              "      <td>0</td>\n",
              "      <td>0</td>\n",
              "    </tr>\n",
              "    <tr>\n",
              "      <th>1</th>\n",
              "      <td>0.253521</td>\n",
              "      <td>0.060060</td>\n",
              "      <td>0.051674</td>\n",
              "      <td>0.0</td>\n",
              "      <td>0.243191</td>\n",
              "      <td>0.0</td>\n",
              "      <td>1.0</td>\n",
              "      <td>1.0</td>\n",
              "      <td>0.0</td>\n",
              "      <td>1.0</td>\n",
              "      <td>...</td>\n",
              "      <td>1.0</td>\n",
              "      <td>0.0</td>\n",
              "      <td>0.0</td>\n",
              "      <td>0.0</td>\n",
              "      <td>0.0</td>\n",
              "      <td>0.0</td>\n",
              "      <td>0</td>\n",
              "      <td>0.860377</td>\n",
              "      <td>0</td>\n",
              "      <td>0</td>\n",
              "    </tr>\n",
              "    <tr>\n",
              "      <th>2</th>\n",
              "      <td>0.169014</td>\n",
              "      <td>0.836336</td>\n",
              "      <td>0.154913</td>\n",
              "      <td>1.0</td>\n",
              "      <td>0.793704</td>\n",
              "      <td>1.0</td>\n",
              "      <td>0.0</td>\n",
              "      <td>0.0</td>\n",
              "      <td>0.0</td>\n",
              "      <td>0.0</td>\n",
              "      <td>...</td>\n",
              "      <td>0.0</td>\n",
              "      <td>0.0</td>\n",
              "      <td>0.0</td>\n",
              "      <td>1.0</td>\n",
              "      <td>0.0</td>\n",
              "      <td>0.0</td>\n",
              "      <td>1</td>\n",
              "      <td>0.185228</td>\n",
              "      <td>4</td>\n",
              "      <td>0</td>\n",
              "    </tr>\n",
              "    <tr>\n",
              "      <th>3</th>\n",
              "      <td>0.507042</td>\n",
              "      <td>0.363864</td>\n",
              "      <td>0.232560</td>\n",
              "      <td>0.0</td>\n",
              "      <td>0.221083</td>\n",
              "      <td>0.0</td>\n",
              "      <td>0.0</td>\n",
              "      <td>0.0</td>\n",
              "      <td>1.0</td>\n",
              "      <td>0.0</td>\n",
              "      <td>...</td>\n",
              "      <td>0.0</td>\n",
              "      <td>0.0</td>\n",
              "      <td>0.0</td>\n",
              "      <td>1.0</td>\n",
              "      <td>0.0</td>\n",
              "      <td>0.0</td>\n",
              "      <td>0</td>\n",
              "      <td>0.639141</td>\n",
              "      <td>1</td>\n",
              "      <td>1</td>\n",
              "    </tr>\n",
              "    <tr>\n",
              "      <th>4</th>\n",
              "      <td>0.070423</td>\n",
              "      <td>0.107608</td>\n",
              "      <td>0.016489</td>\n",
              "      <td>0.0</td>\n",
              "      <td>0.312633</td>\n",
              "      <td>0.0</td>\n",
              "      <td>0.0</td>\n",
              "      <td>0.0</td>\n",
              "      <td>1.0</td>\n",
              "      <td>0.0</td>\n",
              "      <td>...</td>\n",
              "      <td>0.0</td>\n",
              "      <td>0.0</td>\n",
              "      <td>0.0</td>\n",
              "      <td>0.0</td>\n",
              "      <td>0.0</td>\n",
              "      <td>0.0</td>\n",
              "      <td>0</td>\n",
              "      <td>0.153231</td>\n",
              "      <td>0</td>\n",
              "      <td>0</td>\n",
              "    </tr>\n",
              "    <tr>\n",
              "      <th>...</th>\n",
              "      <td>...</td>\n",
              "      <td>...</td>\n",
              "      <td>...</td>\n",
              "      <td>...</td>\n",
              "      <td>...</td>\n",
              "      <td>...</td>\n",
              "      <td>...</td>\n",
              "      <td>...</td>\n",
              "      <td>...</td>\n",
              "      <td>...</td>\n",
              "      <td>...</td>\n",
              "      <td>...</td>\n",
              "      <td>...</td>\n",
              "      <td>...</td>\n",
              "      <td>...</td>\n",
              "      <td>...</td>\n",
              "      <td>...</td>\n",
              "      <td>...</td>\n",
              "      <td>...</td>\n",
              "      <td>...</td>\n",
              "      <td>...</td>\n",
              "    </tr>\n",
              "    <tr>\n",
              "      <th>1401</th>\n",
              "      <td>0.000000</td>\n",
              "      <td>0.317818</td>\n",
              "      <td>0.003658</td>\n",
              "      <td>1.0</td>\n",
              "      <td>0.731769</td>\n",
              "      <td>0.0</td>\n",
              "      <td>0.0</td>\n",
              "      <td>0.0</td>\n",
              "      <td>0.0</td>\n",
              "      <td>0.0</td>\n",
              "      <td>...</td>\n",
              "      <td>0.0</td>\n",
              "      <td>0.0</td>\n",
              "      <td>0.0</td>\n",
              "      <td>1.0</td>\n",
              "      <td>1.0</td>\n",
              "      <td>0.0</td>\n",
              "      <td>1</td>\n",
              "      <td>0.011511</td>\n",
              "      <td>1</td>\n",
              "      <td>0</td>\n",
              "    </tr>\n",
              "    <tr>\n",
              "      <th>1402</th>\n",
              "      <td>0.000000</td>\n",
              "      <td>0.003504</td>\n",
              "      <td>0.000029</td>\n",
              "      <td>0.0</td>\n",
              "      <td>0.308188</td>\n",
              "      <td>0.0</td>\n",
              "      <td>1.0</td>\n",
              "      <td>1.0</td>\n",
              "      <td>0.0</td>\n",
              "      <td>1.0</td>\n",
              "      <td>...</td>\n",
              "      <td>1.0</td>\n",
              "      <td>0.0</td>\n",
              "      <td>0.0</td>\n",
              "      <td>0.0</td>\n",
              "      <td>0.0</td>\n",
              "      <td>0.0</td>\n",
              "      <td>0</td>\n",
              "      <td>0.008248</td>\n",
              "      <td>0</td>\n",
              "      <td>0</td>\n",
              "    </tr>\n",
              "    <tr>\n",
              "      <th>1403</th>\n",
              "      <td>0.154930</td>\n",
              "      <td>0.759259</td>\n",
              "      <td>0.133477</td>\n",
              "      <td>1.0</td>\n",
              "      <td>0.781226</td>\n",
              "      <td>1.0</td>\n",
              "      <td>0.0</td>\n",
              "      <td>0.0</td>\n",
              "      <td>0.0</td>\n",
              "      <td>0.0</td>\n",
              "      <td>...</td>\n",
              "      <td>0.0</td>\n",
              "      <td>0.0</td>\n",
              "      <td>0.0</td>\n",
              "      <td>0.0</td>\n",
              "      <td>1.0</td>\n",
              "      <td>0.0</td>\n",
              "      <td>0</td>\n",
              "      <td>0.175799</td>\n",
              "      <td>3</td>\n",
              "      <td>0</td>\n",
              "    </tr>\n",
              "    <tr>\n",
              "      <th>1404</th>\n",
              "      <td>0.352113</td>\n",
              "      <td>0.373874</td>\n",
              "      <td>0.177361</td>\n",
              "      <td>1.0</td>\n",
              "      <td>0.619108</td>\n",
              "      <td>0.0</td>\n",
              "      <td>0.0</td>\n",
              "      <td>0.0</td>\n",
              "      <td>0.0</td>\n",
              "      <td>0.0</td>\n",
              "      <td>...</td>\n",
              "      <td>0.0</td>\n",
              "      <td>1.0</td>\n",
              "      <td>0.0</td>\n",
              "      <td>1.0</td>\n",
              "      <td>0.0</td>\n",
              "      <td>0.0</td>\n",
              "      <td>0</td>\n",
              "      <td>0.474386</td>\n",
              "      <td>1</td>\n",
              "      <td>0</td>\n",
              "    </tr>\n",
              "    <tr>\n",
              "      <th>1405</th>\n",
              "      <td>0.478873</td>\n",
              "      <td>0.921922</td>\n",
              "      <td>0.441263</td>\n",
              "      <td>0.5</td>\n",
              "      <td>0.650380</td>\n",
              "      <td>1.0</td>\n",
              "      <td>0.0</td>\n",
              "      <td>0.0</td>\n",
              "      <td>1.0</td>\n",
              "      <td>0.0</td>\n",
              "      <td>...</td>\n",
              "      <td>0.0</td>\n",
              "      <td>1.0</td>\n",
              "      <td>0.0</td>\n",
              "      <td>1.0</td>\n",
              "      <td>0.0</td>\n",
              "      <td>0.0</td>\n",
              "      <td>0</td>\n",
              "      <td>0.478634</td>\n",
              "      <td>4</td>\n",
              "      <td>2</td>\n",
              "    </tr>\n",
              "  </tbody>\n",
              "</table>\n",
              "<p>1406 rows × 24 columns</p>\n",
              "</div>\n",
              "    <div class=\"colab-df-buttons\">\n",
              "\n",
              "  <div class=\"colab-df-container\">\n",
              "    <button class=\"colab-df-convert\" onclick=\"convertToInteractive('df-bb669ed1-def6-4cb6-8dd4-743be974e1bc')\"\n",
              "            title=\"Convert this dataframe to an interactive table.\"\n",
              "            style=\"display:none;\">\n",
              "\n",
              "  <svg xmlns=\"http://www.w3.org/2000/svg\" height=\"24px\" viewBox=\"0 -960 960 960\">\n",
              "    <path d=\"M120-120v-720h720v720H120Zm60-500h600v-160H180v160Zm220 220h160v-160H400v160Zm0 220h160v-160H400v160ZM180-400h160v-160H180v160Zm440 0h160v-160H620v160ZM180-180h160v-160H180v160Zm440 0h160v-160H620v160Z\"/>\n",
              "  </svg>\n",
              "    </button>\n",
              "\n",
              "  <style>\n",
              "    .colab-df-container {\n",
              "      display:flex;\n",
              "      gap: 12px;\n",
              "    }\n",
              "\n",
              "    .colab-df-convert {\n",
              "      background-color: #E8F0FE;\n",
              "      border: none;\n",
              "      border-radius: 50%;\n",
              "      cursor: pointer;\n",
              "      display: none;\n",
              "      fill: #1967D2;\n",
              "      height: 32px;\n",
              "      padding: 0 0 0 0;\n",
              "      width: 32px;\n",
              "    }\n",
              "\n",
              "    .colab-df-convert:hover {\n",
              "      background-color: #E2EBFA;\n",
              "      box-shadow: 0px 1px 2px rgba(60, 64, 67, 0.3), 0px 1px 3px 1px rgba(60, 64, 67, 0.15);\n",
              "      fill: #174EA6;\n",
              "    }\n",
              "\n",
              "    .colab-df-buttons div {\n",
              "      margin-bottom: 4px;\n",
              "    }\n",
              "\n",
              "    [theme=dark] .colab-df-convert {\n",
              "      background-color: #3B4455;\n",
              "      fill: #D2E3FC;\n",
              "    }\n",
              "\n",
              "    [theme=dark] .colab-df-convert:hover {\n",
              "      background-color: #434B5C;\n",
              "      box-shadow: 0px 1px 3px 1px rgba(0, 0, 0, 0.15);\n",
              "      filter: drop-shadow(0px 1px 2px rgba(0, 0, 0, 0.3));\n",
              "      fill: #FFFFFF;\n",
              "    }\n",
              "  </style>\n",
              "\n",
              "    <script>\n",
              "      const buttonEl =\n",
              "        document.querySelector('#df-bb669ed1-def6-4cb6-8dd4-743be974e1bc button.colab-df-convert');\n",
              "      buttonEl.style.display =\n",
              "        google.colab.kernel.accessAllowed ? 'block' : 'none';\n",
              "\n",
              "      async function convertToInteractive(key) {\n",
              "        const element = document.querySelector('#df-bb669ed1-def6-4cb6-8dd4-743be974e1bc');\n",
              "        const dataTable =\n",
              "          await google.colab.kernel.invokeFunction('convertToInteractive',\n",
              "                                                    [key], {});\n",
              "        if (!dataTable) return;\n",
              "\n",
              "        const docLinkHtml = 'Like what you see? Visit the ' +\n",
              "          '<a target=\"_blank\" href=https://colab.research.google.com/notebooks/data_table.ipynb>data table notebook</a>'\n",
              "          + ' to learn more about interactive tables.';\n",
              "        element.innerHTML = '';\n",
              "        dataTable['output_type'] = 'display_data';\n",
              "        await google.colab.output.renderOutput(dataTable, element);\n",
              "        const docLink = document.createElement('div');\n",
              "        docLink.innerHTML = docLinkHtml;\n",
              "        element.appendChild(docLink);\n",
              "      }\n",
              "    </script>\n",
              "  </div>\n",
              "\n",
              "\n",
              "<div id=\"df-adcc5698-8102-4e74-b408-c00f8ddd2062\">\n",
              "  <button class=\"colab-df-quickchart\" onclick=\"quickchart('df-adcc5698-8102-4e74-b408-c00f8ddd2062')\"\n",
              "            title=\"Suggest charts\"\n",
              "            style=\"display:none;\">\n",
              "\n",
              "<svg xmlns=\"http://www.w3.org/2000/svg\" height=\"24px\"viewBox=\"0 0 24 24\"\n",
              "     width=\"24px\">\n",
              "    <g>\n",
              "        <path d=\"M19 3H5c-1.1 0-2 .9-2 2v14c0 1.1.9 2 2 2h14c1.1 0 2-.9 2-2V5c0-1.1-.9-2-2-2zM9 17H7v-7h2v7zm4 0h-2V7h2v10zm4 0h-2v-4h2v4z\"/>\n",
              "    </g>\n",
              "</svg>\n",
              "  </button>\n",
              "\n",
              "<style>\n",
              "  .colab-df-quickchart {\n",
              "      --bg-color: #E8F0FE;\n",
              "      --fill-color: #1967D2;\n",
              "      --hover-bg-color: #E2EBFA;\n",
              "      --hover-fill-color: #174EA6;\n",
              "      --disabled-fill-color: #AAA;\n",
              "      --disabled-bg-color: #DDD;\n",
              "  }\n",
              "\n",
              "  [theme=dark] .colab-df-quickchart {\n",
              "      --bg-color: #3B4455;\n",
              "      --fill-color: #D2E3FC;\n",
              "      --hover-bg-color: #434B5C;\n",
              "      --hover-fill-color: #FFFFFF;\n",
              "      --disabled-bg-color: #3B4455;\n",
              "      --disabled-fill-color: #666;\n",
              "  }\n",
              "\n",
              "  .colab-df-quickchart {\n",
              "    background-color: var(--bg-color);\n",
              "    border: none;\n",
              "    border-radius: 50%;\n",
              "    cursor: pointer;\n",
              "    display: none;\n",
              "    fill: var(--fill-color);\n",
              "    height: 32px;\n",
              "    padding: 0;\n",
              "    width: 32px;\n",
              "  }\n",
              "\n",
              "  .colab-df-quickchart:hover {\n",
              "    background-color: var(--hover-bg-color);\n",
              "    box-shadow: 0 1px 2px rgba(60, 64, 67, 0.3), 0 1px 3px 1px rgba(60, 64, 67, 0.15);\n",
              "    fill: var(--button-hover-fill-color);\n",
              "  }\n",
              "\n",
              "  .colab-df-quickchart-complete:disabled,\n",
              "  .colab-df-quickchart-complete:disabled:hover {\n",
              "    background-color: var(--disabled-bg-color);\n",
              "    fill: var(--disabled-fill-color);\n",
              "    box-shadow: none;\n",
              "  }\n",
              "\n",
              "  .colab-df-spinner {\n",
              "    border: 2px solid var(--fill-color);\n",
              "    border-color: transparent;\n",
              "    border-bottom-color: var(--fill-color);\n",
              "    animation:\n",
              "      spin 1s steps(1) infinite;\n",
              "  }\n",
              "\n",
              "  @keyframes spin {\n",
              "    0% {\n",
              "      border-color: transparent;\n",
              "      border-bottom-color: var(--fill-color);\n",
              "      border-left-color: var(--fill-color);\n",
              "    }\n",
              "    20% {\n",
              "      border-color: transparent;\n",
              "      border-left-color: var(--fill-color);\n",
              "      border-top-color: var(--fill-color);\n",
              "    }\n",
              "    30% {\n",
              "      border-color: transparent;\n",
              "      border-left-color: var(--fill-color);\n",
              "      border-top-color: var(--fill-color);\n",
              "      border-right-color: var(--fill-color);\n",
              "    }\n",
              "    40% {\n",
              "      border-color: transparent;\n",
              "      border-right-color: var(--fill-color);\n",
              "      border-top-color: var(--fill-color);\n",
              "    }\n",
              "    60% {\n",
              "      border-color: transparent;\n",
              "      border-right-color: var(--fill-color);\n",
              "    }\n",
              "    80% {\n",
              "      border-color: transparent;\n",
              "      border-right-color: var(--fill-color);\n",
              "      border-bottom-color: var(--fill-color);\n",
              "    }\n",
              "    90% {\n",
              "      border-color: transparent;\n",
              "      border-bottom-color: var(--fill-color);\n",
              "    }\n",
              "  }\n",
              "</style>\n",
              "\n",
              "  <script>\n",
              "    async function quickchart(key) {\n",
              "      const quickchartButtonEl =\n",
              "        document.querySelector('#' + key + ' button');\n",
              "      quickchartButtonEl.disabled = true;  // To prevent multiple clicks.\n",
              "      quickchartButtonEl.classList.add('colab-df-spinner');\n",
              "      try {\n",
              "        const charts = await google.colab.kernel.invokeFunction(\n",
              "            'suggestCharts', [key], {});\n",
              "      } catch (error) {\n",
              "        console.error('Error during call to suggestCharts:', error);\n",
              "      }\n",
              "      quickchartButtonEl.classList.remove('colab-df-spinner');\n",
              "      quickchartButtonEl.classList.add('colab-df-quickchart-complete');\n",
              "    }\n",
              "    (() => {\n",
              "      let quickchartButtonEl =\n",
              "        document.querySelector('#df-adcc5698-8102-4e74-b408-c00f8ddd2062 button');\n",
              "      quickchartButtonEl.style.display =\n",
              "        google.colab.kernel.accessAllowed ? 'block' : 'none';\n",
              "    })();\n",
              "  </script>\n",
              "</div>\n",
              "\n",
              "  <div id=\"id_939b2734-11e7-4615-8495-4dcd5180676e\">\n",
              "    <style>\n",
              "      .colab-df-generate {\n",
              "        background-color: #E8F0FE;\n",
              "        border: none;\n",
              "        border-radius: 50%;\n",
              "        cursor: pointer;\n",
              "        display: none;\n",
              "        fill: #1967D2;\n",
              "        height: 32px;\n",
              "        padding: 0 0 0 0;\n",
              "        width: 32px;\n",
              "      }\n",
              "\n",
              "      .colab-df-generate:hover {\n",
              "        background-color: #E2EBFA;\n",
              "        box-shadow: 0px 1px 2px rgba(60, 64, 67, 0.3), 0px 1px 3px 1px rgba(60, 64, 67, 0.15);\n",
              "        fill: #174EA6;\n",
              "      }\n",
              "\n",
              "      [theme=dark] .colab-df-generate {\n",
              "        background-color: #3B4455;\n",
              "        fill: #D2E3FC;\n",
              "      }\n",
              "\n",
              "      [theme=dark] .colab-df-generate:hover {\n",
              "        background-color: #434B5C;\n",
              "        box-shadow: 0px 1px 3px 1px rgba(0, 0, 0, 0.15);\n",
              "        filter: drop-shadow(0px 1px 2px rgba(0, 0, 0, 0.3));\n",
              "        fill: #FFFFFF;\n",
              "      }\n",
              "    </style>\n",
              "    <button class=\"colab-df-generate\" onclick=\"generateWithVariable('df')\"\n",
              "            title=\"Generate code using this dataframe.\"\n",
              "            style=\"display:none;\">\n",
              "\n",
              "  <svg xmlns=\"http://www.w3.org/2000/svg\" height=\"24px\"viewBox=\"0 0 24 24\"\n",
              "       width=\"24px\">\n",
              "    <path d=\"M7,19H8.4L18.45,9,17,7.55,7,17.6ZM5,21V16.75L18.45,3.32a2,2,0,0,1,2.83,0l1.4,1.43a1.91,1.91,0,0,1,.58,1.4,1.91,1.91,0,0,1-.58,1.4L9.25,21ZM18.45,9,17,7.55Zm-12,3A5.31,5.31,0,0,0,4.9,8.1,5.31,5.31,0,0,0,1,6.5,5.31,5.31,0,0,0,4.9,4.9,5.31,5.31,0,0,0,6.5,1,5.31,5.31,0,0,0,8.1,4.9,5.31,5.31,0,0,0,12,6.5,5.46,5.46,0,0,0,6.5,12Z\"/>\n",
              "  </svg>\n",
              "    </button>\n",
              "    <script>\n",
              "      (() => {\n",
              "      const buttonEl =\n",
              "        document.querySelector('#id_939b2734-11e7-4615-8495-4dcd5180676e button.colab-df-generate');\n",
              "      buttonEl.style.display =\n",
              "        google.colab.kernel.accessAllowed ? 'block' : 'none';\n",
              "\n",
              "      buttonEl.onclick = () => {\n",
              "        google.colab.notebook.generateWithVariable('df');\n",
              "      }\n",
              "      })();\n",
              "    </script>\n",
              "  </div>\n",
              "\n",
              "    </div>\n",
              "  </div>\n"
            ],
            "application/vnd.google.colaboratory.intrinsic+json": {
              "type": "dataframe",
              "variable_name": "df"
            }
          },
          "metadata": {},
          "execution_count": 6
        }
      ]
    },
    {
      "cell_type": "markdown",
      "source": [
        "## **Preprocess the Data**"
      ],
      "metadata": {
        "id": "A4ZJLeomPxEH"
      }
    },
    {
      "cell_type": "markdown",
      "source": [
        "I separated the features(X) and target variable(y)."
      ],
      "metadata": {
        "id": "6arQyxjRO7o5"
      }
    },
    {
      "cell_type": "code",
      "source": [
        "X = df.drop(columns='Churn')\n",
        "y = df['Churn']"
      ],
      "metadata": {
        "id": "ROkfTOl4OI59"
      },
      "execution_count": 7,
      "outputs": []
    },
    {
      "cell_type": "markdown",
      "source": [
        "Next, I standardized the feature variables."
      ],
      "metadata": {
        "id": "a89L-dRmPTN2"
      }
    },
    {
      "cell_type": "code",
      "source": [
        "scaler = StandardScaler()\n",
        "X_scaled = scaler.fit_transform(X)"
      ],
      "metadata": {
        "id": "fMH7yiWuPSvJ"
      },
      "execution_count": 8,
      "outputs": []
    },
    {
      "cell_type": "markdown",
      "source": [
        "Then I split the data."
      ],
      "metadata": {
        "id": "vU7x1Eo6Pd5j"
      }
    },
    {
      "cell_type": "code",
      "source": [
        "X_train, X_test, y_train, y_test = train_test_split(X_scaled, y, test_size=0.2, random_state=42)"
      ],
      "metadata": {
        "id": "ZspOwij7PaKy"
      },
      "execution_count": 9,
      "outputs": []
    },
    {
      "cell_type": "markdown",
      "source": [
        "## **Cross-Validation and Model Selection**"
      ],
      "metadata": {
        "id": "0JS_msRDRcsG"
      }
    },
    {
      "cell_type": "markdown",
      "source": [
        "I defined some machine learning model to do cross validation."
      ],
      "metadata": {
        "id": "0DbWEXphRjdi"
      }
    },
    {
      "cell_type": "code",
      "source": [
        "models = {\n",
        "    'LogisticRegression': LogisticRegression(max_iter=1000),\n",
        "    'DecisionTree': DecisionTreeClassifier(),\n",
        "    'RandomForest': RandomForestClassifier(),\n",
        "    'GradientBoosting': GradientBoostingClassifier()\n",
        "}"
      ],
      "metadata": {
        "id": "07bCHGeZPmMH"
      },
      "execution_count": 10,
      "outputs": []
    },
    {
      "cell_type": "markdown",
      "source": [
        "In the next step, I performed cross-validation for each defined model."
      ],
      "metadata": {
        "id": "y5FXMpJxSGL6"
      }
    },
    {
      "cell_type": "code",
      "source": [
        "for name, model in models.items():\n",
        "    cv_scores = cross_val_score(model, X_train, y_train, cv=5, scoring='accuracy')\n",
        "    print(f'{name} Cross-Validation Accuracy: {cv_scores.mean():.4f}')"
      ],
      "metadata": {
        "colab": {
          "base_uri": "https://localhost:8080/"
        },
        "id": "-vOQ4kqxSOQf",
        "outputId": "318f1e8f-ebe5-43d1-dcde-c4ed4c7d4769"
      },
      "execution_count": 11,
      "outputs": [
        {
          "output_type": "stream",
          "name": "stdout",
          "text": [
            "LogisticRegression Cross-Validation Accuracy: 0.7874\n",
            "DecisionTree Cross-Validation Accuracy: 0.7162\n",
            "RandomForest Cross-Validation Accuracy: 0.7660\n",
            "GradientBoosting Cross-Validation Accuracy: 0.7758\n"
          ]
        }
      ]
    },
    {
      "cell_type": "markdown",
      "source": [
        "## **Hyperparameter Tuning**"
      ],
      "metadata": {
        "id": "PFDNPowQS59M"
      }
    },
    {
      "cell_type": "markdown",
      "source": [
        "Hyperparameter tuning is a process in machine learning that involves finding the best values for a learning algorithm's hyperparameters. Hyperparameters are specific to the algorithm and cannot be calculated from the data. Tuning hyperparameters can help ensure that the model performs well and produces the best possible results. In next steps, I did hyperparameter tuning for our machine learning models."
      ],
      "metadata": {
        "id": "uQfyVTEzXGjy"
      }
    },
    {
      "cell_type": "markdown",
      "source": [
        "**1. Logistic Regression**"
      ],
      "metadata": {
        "id": "SJ5UfWjmTTrM"
      }
    },
    {
      "cell_type": "markdown",
      "source": [
        "In the `param_grids_lr`, `C` defines the  list of regularization strengths (controls the trade-off between fitting the data well and keeping the model simple) and the `solver` deines a list of algorithms to use for optimization (`lbfgs` and `liblinear`)."
      ],
      "metadata": {
        "id": "Wyy3YfaEV80j"
      }
    },
    {
      "cell_type": "markdown",
      "source": [
        "The `grid_search_lr` will creates a `GridSearchCV` object with the Logistic Regression model and the specified hyperparameter grid. It uses 5-fold cross-validation (`cv=5`) to evaluate the performance of each combination of parameters, optimizing for accuracy (`scoring='accuracy'`)."
      ],
      "metadata": {
        "id": "ioLBOsQScIH4"
      }
    },
    {
      "cell_type": "code",
      "source": [
        "param_grids_lr = {\n",
        "    'C': [0.01, 0.1, 1, 10, 100],\n",
        "    'solver': ['lbfgs', 'liblinear']\n",
        "}\n",
        "\n",
        "grid_search_lr = GridSearchCV(LogisticRegression(), param_grids_lr, cv=5, scoring='accuracy')\n",
        "grid_search_lr.fit(X_train, y_train)\n",
        "\n",
        "print(f'Best parameters: {grid_search_lr.best_params_}')"
      ],
      "metadata": {
        "colab": {
          "base_uri": "https://localhost:8080/"
        },
        "id": "U-PC0Fr1TYrF",
        "outputId": "5dbdafb9-d4c2-4bfc-862c-3889a16edd2e"
      },
      "execution_count": 17,
      "outputs": [
        {
          "output_type": "stream",
          "name": "stdout",
          "text": [
            "Best parameters: {'C': 0.01, 'solver': 'lbfgs'}\n"
          ]
        }
      ]
    },
    {
      "cell_type": "markdown",
      "source": [
        "The output indicates that the best hyperparameters for the Logistic Regression model."
      ],
      "metadata": {
        "id": "sgybZEu-clXb"
      }
    },
    {
      "cell_type": "markdown",
      "source": [
        "To evaluate the performance of the best Logistic Regression model identified by `GridSearchCV` on the test data, I retrieved best model from the grid search using `best_estimator_`."
      ],
      "metadata": {
        "id": "OAj7CAk8bK8e"
      }
    },
    {
      "cell_type": "code",
      "source": [
        "best_model_lr = grid_search_lr.best_estimator_"
      ],
      "metadata": {
        "id": "odnCOFE0dGe6"
      },
      "execution_count": null,
      "outputs": []
    },
    {
      "cell_type": "markdown",
      "source": [
        "Next, I used to make predictions on the test data (`X_test`)."
      ],
      "metadata": {
        "id": "WxMuSIkkda2o"
      }
    },
    {
      "cell_type": "code",
      "source": [
        "y_pred_lr = best_model_lr.predict(X_test)"
      ],
      "metadata": {
        "id": "bL9vDdKHd41M"
      },
      "execution_count": null,
      "outputs": []
    },
    {
      "cell_type": "markdown",
      "source": [
        "Finaly, I calculated and outputed the performance metrics of the Logistic Regression model."
      ],
      "metadata": {
        "id": "dmNx_zBUd742"
      }
    },
    {
      "cell_type": "code",
      "source": [
        "accuracy_lr = accuracy_score(y_test, y_pred_lr)\n",
        "precision_lr = precision_score(y_test, y_pred_lr)\n",
        "recall_lr = recall_score(y_test, y_pred_lr)\n",
        "f1_lr  = f1_score(y_test, y_pred_lr)\n",
        "roc_auc_lr  = roc_auc_score(y_test, best_model_lr.predict_proba(X_test)[:, 1])\n",
        "\n",
        "print(f'Accuracy: {accuracy_lr :.4f}')\n",
        "print(f'Precision: {precision_lr :.4f}')\n",
        "print(f'Recall: {recall_lr :.4f}')\n",
        "print(f'F1 Score: {f1_lr :.4f}')\n",
        "print(f'ROC AUC: {roc_auc_lr :.4f}')"
      ],
      "metadata": {
        "colab": {
          "base_uri": "https://localhost:8080/"
        },
        "id": "4tj-L3w5ZNbm",
        "outputId": "957f0724-940d-4666-e517-ab9a6cf46f49"
      },
      "execution_count": 26,
      "outputs": [
        {
          "output_type": "stream",
          "name": "stdout",
          "text": [
            "Accuracy: 0.7624\n",
            "Precision: 0.5741\n",
            "Recall: 0.4133\n",
            "F1 Score: 0.4806\n",
            "ROC AUC: 0.7840\n"
          ]
        }
      ]
    },
    {
      "cell_type": "markdown",
      "source": [
        "The above output provides insights into the model's accuracy, precision, recall, F1 score, and its ability to separate classes (ROC AUC)."
      ],
      "metadata": {
        "id": "wNHctU4QeIJU"
      }
    },
    {
      "cell_type": "markdown",
      "source": [
        "**2. Decision Tree**"
      ],
      "metadata": {
        "id": "CMy4y09cUuK4"
      }
    },
    {
      "cell_type": "markdown",
      "source": [
        "I tuned the maximum depth of the tre (`max_depth`), the minimum samples required to split an internal node (`min_samples_split`), and the minimum samples required to be at a leaf node (`min_samples_leaf`)."
      ],
      "metadata": {
        "id": "wXj1dBb0WDeB"
      }
    },
    {
      "cell_type": "code",
      "source": [
        "param_grid_dt = {\n",
        "    'max_depth': [None, 10, 20, 30],\n",
        "    'min_samples_split': [2, 5, 10],\n",
        "    'min_samples_leaf': [1, 2, 4]\n",
        "}\n",
        "\n",
        "grid_search_dt = GridSearchCV(DecisionTreeClassifier(), param_grid_dt, cv=5, scoring='accuracy')\n",
        "grid_search_dt.fit(X_train, y_train)\n",
        "print(f'Best parameters: {grid_search_dt.best_params_}')"
      ],
      "metadata": {
        "colab": {
          "base_uri": "https://localhost:8080/"
        },
        "id": "rgNcAyK0U04P",
        "outputId": "a13a5058-82ad-4263-b0ae-7c694f7b0436"
      },
      "execution_count": 18,
      "outputs": [
        {
          "output_type": "stream",
          "name": "stdout",
          "text": [
            "Best parameters: {'max_depth': 10, 'min_samples_leaf': 4, 'min_samples_split': 10}\n"
          ]
        }
      ]
    },
    {
      "cell_type": "code",
      "source": [
        "best_model_dt = grid_search_dt.best_estimator_\n",
        "y_pred_dt = best_model_dt.predict(X_test)\n",
        "\n",
        "# Calculate performance metrics\n",
        "accuracy_dt = accuracy_score(y_test, y_pred_dt)\n",
        "precision_dt = precision_score(y_test, y_pred_dt)\n",
        "recall_dt = recall_score(y_test, y_pred_dt)\n",
        "f1_dt  = f1_score(y_test, y_pred_dt)\n",
        "roc_auc_dt  = roc_auc_score(y_test, best_model_dt.predict_proba(X_test)[:, 1])\n",
        "\n",
        "print(f'Accuracy: {accuracy_dt :.4f}')\n",
        "print(f'Precision: {precision_dt :.4f}')\n",
        "print(f'Recall: {recall_dt:.4f}')\n",
        "print(f'F1 Score: {f1_dt :.4f}')\n",
        "print(f'ROC AUC: {roc_auc_dt :.4f}')"
      ],
      "metadata": {
        "colab": {
          "base_uri": "https://localhost:8080/"
        },
        "id": "Pfg-Q2sYZaOP",
        "outputId": "625d7627-9756-4892-f7ad-9ea497f68b0c"
      },
      "execution_count": 27,
      "outputs": [
        {
          "output_type": "stream",
          "name": "stdout",
          "text": [
            "Accuracy: 0.7234\n",
            "Precision: 0.4769\n",
            "Recall: 0.4133\n",
            "F1 Score: 0.4429\n",
            "ROC AUC: 0.6631\n"
          ]
        }
      ]
    },
    {
      "cell_type": "markdown",
      "source": [
        "**3. Random Forest**"
      ],
      "metadata": {
        "id": "0sI4tQeiUpqu"
      }
    },
    {
      "cell_type": "markdown",
      "source": [
        "It is similar to the Decision Tree but with an additional parameter for the number of trees (`n_estimators`)."
      ],
      "metadata": {
        "id": "tU_XVEtOWKF8"
      }
    },
    {
      "cell_type": "code",
      "source": [
        "param_grid_rf = {\n",
        "    'n_estimators': [100, 200, 300],\n",
        "    'max_depth': [None, 10, 20, 30],\n",
        "    'min_samples_split': [2, 5, 10],\n",
        "    'min_samples_leaf': [1, 2, 4]\n",
        "}\n",
        "\n",
        "grid_search_rf = GridSearchCV(RandomForestClassifier(), param_grid_rf, cv=5, scoring='accuracy')\n",
        "grid_search_rf.fit(X_train, y_train)\n",
        "print(f'Best parameters: {grid_search_rf.best_params_}')"
      ],
      "metadata": {
        "colab": {
          "base_uri": "https://localhost:8080/"
        },
        "id": "hMwKGFh1S7qR",
        "outputId": "026aa80c-9a51-45fd-96da-1e388504d68c"
      },
      "execution_count": 30,
      "outputs": [
        {
          "output_type": "stream",
          "name": "stdout",
          "text": [
            "Best parameters: {'max_depth': 30, 'min_samples_leaf': 4, 'min_samples_split': 2, 'n_estimators': 100}\n"
          ]
        }
      ]
    },
    {
      "cell_type": "code",
      "source": [
        "best_model_rf = grid_search_rf.best_estimator_\n",
        "y_pred_rf = best_model_rf.predict(X_test)\n",
        "\n",
        "# Calculate performance metrics\n",
        "accuracy_rf = accuracy_score(y_test, y_pred_rf)\n",
        "precision_rf = precision_score(y_test, y_pred_rf)\n",
        "recall_rf = recall_score(y_test, y_pred_rf)\n",
        "f1_rf  = f1_score(y_test, y_pred_rf)\n",
        "roc_auc_rf  = roc_auc_score(y_test, best_model_rf.predict_proba(X_test)[:, 1])\n",
        "\n",
        "print(f'Accuracy: {accuracy_rf :.4f}')\n",
        "print(f'Precision: {precision_rf :.4f}')\n",
        "print(f'Recall: {recall_rf:.4f}')\n",
        "print(f'F1 Score: {f1_rf :.4f}')\n",
        "print(f'ROC AUC: {roc_auc_rf :.4f}')"
      ],
      "metadata": {
        "colab": {
          "base_uri": "https://localhost:8080/",
          "height": 211
        },
        "id": "MXku29X7aFCq",
        "outputId": "8d1dae77-631a-4de1-80b7-de82a3f1a2d6"
      },
      "execution_count": 29,
      "outputs": [
        {
          "output_type": "error",
          "ename": "NameError",
          "evalue": "name 'grid_search_rf' is not defined",
          "traceback": [
            "\u001b[0;31m---------------------------------------------------------------------------\u001b[0m",
            "\u001b[0;31mNameError\u001b[0m                                 Traceback (most recent call last)",
            "\u001b[0;32m<ipython-input-29-82c73b486f23>\u001b[0m in \u001b[0;36m<cell line: 1>\u001b[0;34m()\u001b[0m\n\u001b[0;32m----> 1\u001b[0;31m \u001b[0mbest_model_rf\u001b[0m \u001b[0;34m=\u001b[0m \u001b[0mgrid_search_rf\u001b[0m\u001b[0;34m.\u001b[0m\u001b[0mbest_estimator_\u001b[0m\u001b[0;34m\u001b[0m\u001b[0;34m\u001b[0m\u001b[0m\n\u001b[0m\u001b[1;32m      2\u001b[0m \u001b[0my_pred_rf\u001b[0m \u001b[0;34m=\u001b[0m \u001b[0mbest_model_rf\u001b[0m\u001b[0;34m.\u001b[0m\u001b[0mpredict\u001b[0m\u001b[0;34m(\u001b[0m\u001b[0mX_test\u001b[0m\u001b[0;34m)\u001b[0m\u001b[0;34m\u001b[0m\u001b[0;34m\u001b[0m\u001b[0m\n\u001b[1;32m      3\u001b[0m \u001b[0;34m\u001b[0m\u001b[0m\n\u001b[1;32m      4\u001b[0m \u001b[0;31m# Calculate performance metrics\u001b[0m\u001b[0;34m\u001b[0m\u001b[0;34m\u001b[0m\u001b[0m\n\u001b[1;32m      5\u001b[0m \u001b[0maccuracy_rf\u001b[0m \u001b[0;34m=\u001b[0m \u001b[0maccuracy_score\u001b[0m\u001b[0;34m(\u001b[0m\u001b[0my_test\u001b[0m\u001b[0;34m,\u001b[0m \u001b[0my_pred_rf\u001b[0m\u001b[0;34m)\u001b[0m\u001b[0;34m\u001b[0m\u001b[0;34m\u001b[0m\u001b[0m\n",
            "\u001b[0;31mNameError\u001b[0m: name 'grid_search_rf' is not defined"
          ]
        }
      ]
    },
    {
      "cell_type": "markdown",
      "source": [
        "**4. Gradient Boosting**"
      ],
      "metadata": {
        "id": "xScSWT4eVMRI"
      }
    },
    {
      "cell_type": "markdown",
      "source": [
        "I tuned the number of boosting stages(`n_estimators`), the learning rate (`learning_rate`), and the maximum depth(`max_depth`) of the individual regression estimators."
      ],
      "metadata": {
        "id": "g5Uq1Ku4WZe_"
      }
    },
    {
      "cell_type": "code",
      "source": [
        "param_grid_gb = {\n",
        "    'n_estimators': [100, 200, 300],\n",
        "    'learning_rate': [0.01, 0.1, 0.2],\n",
        "    'max_depth': [3, 4, 5]\n",
        "}\n",
        "\n",
        "grid_search_gb = GridSearchCV(GradientBoostingClassifier(), param_grid_gb, cv=5, scoring='accuracy')\n",
        "grid_search_gb.fit(X_train, y_train)\n",
        "print(f'Best parameters: {grid_search_gb.best_params_}')"
      ],
      "metadata": {
        "colab": {
          "base_uri": "https://localhost:8080/"
        },
        "id": "JGKooXfKVQ6B",
        "outputId": "337bc954-a04c-4f7b-c2c0-16b7fb62a30c"
      },
      "execution_count": 19,
      "outputs": [
        {
          "output_type": "stream",
          "name": "stdout",
          "text": [
            "Best parameters: {'learning_rate': 0.01, 'max_depth': 4, 'n_estimators': 300}\n"
          ]
        }
      ]
    },
    {
      "cell_type": "code",
      "source": [
        "best_model_gb = grid_search_gb.best_estimator_\n",
        "y_pred_gb = best_model_gb.predict(X_test)\n",
        "\n",
        "# Calculate performance metrics\n",
        "accuracy_gb= accuracy_score(y_test, y_pred_gb)\n",
        "precision_gb = precision_score(y_test, y_pred_gb)\n",
        "recall_gb = recall_score(y_test, y_pred_gb)\n",
        "f1_gb  = f1_score(y_test, y_pred_gb)\n",
        "roc_auc_gb  = roc_auc_score(y_test, best_model_gb.predict_proba(X_test)[:, 1])\n",
        "\n",
        "print(f'Accuracy: {accuracy_gb :.4f}')\n",
        "print(f'Precision: {precision_gb :.4f}')\n",
        "print(f'Recall: {recall_gb:.4f}')\n",
        "print(f'F1 Score: {f1_gb :.4f}')\n",
        "print(f'ROC AUC: {roc_auc_gb :.4f}')"
      ],
      "metadata": {
        "id": "-wP1JV0qat3z"
      },
      "execution_count": null,
      "outputs": []
    },
    {
      "cell_type": "markdown",
      "source": [
        "## **Evaluate Model on Test Data**"
      ],
      "metadata": {
        "id": "36dWj-MLSdKA"
      }
    },
    {
      "cell_type": "markdown",
      "source": [
        "1. Logistic Regression"
      ],
      "metadata": {
        "id": "cTNKzjlPYgc6"
      }
    },
    {
      "cell_type": "code",
      "source": [],
      "metadata": {
        "colab": {
          "base_uri": "https://localhost:8080/"
        },
        "id": "4NrqfEJxSgdz",
        "outputId": "5cec1662-ac67-482b-f5f9-3b87e33db27a"
      },
      "execution_count": 25,
      "outputs": [
        {
          "output_type": "stream",
          "name": "stdout",
          "text": [
            "---Logistic Regression---\n",
            "Accuracy: 0.7624\n",
            "Precision: 0.5741\n",
            "Recall: 0.4133\n",
            "F1 Score: 0.4806\n",
            "ROC AUC: 0.7840\n"
          ]
        }
      ]
    }
  ]
}