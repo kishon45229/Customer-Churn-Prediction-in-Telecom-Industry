{
  "nbformat": 4,
  "nbformat_minor": 0,
  "metadata": {
    "colab": {
      "provenance": [],
      "mount_file_id": "15xIP1IJsZOrSFAsT9hWeR0SZOgHInex2",
      "authorship_tag": "ABX9TyMbkpI/3bsW99+5mCjkNG3a",
      "include_colab_link": true
    },
    "kernelspec": {
      "name": "python3",
      "display_name": "Python 3"
    },
    "language_info": {
      "name": "python"
    }
  },
  "cells": [
    {
      "cell_type": "markdown",
      "metadata": {
        "id": "view-in-github",
        "colab_type": "text"
      },
      "source": [
        "<a href=\"https://colab.research.google.com/github/kishon45229/Customer-Churn-Prediction-in-Telecom-Industry/blob/main/Evaluation_and_Interpretation.ipynb\" target=\"_parent\"><img src=\"https://colab.research.google.com/assets/colab-badge.svg\" alt=\"Open In Colab\"/></a>"
      ]
    },
    {
      "cell_type": "markdown",
      "source": [
        "# **Customer Churn Prediction in Telecom Industry**"
      ],
      "metadata": {
        "id": "ij_RgnbvP7mt"
      }
    },
    {
      "cell_type": "markdown",
      "source": [
        "# **Evaluation and Interpretation**"
      ],
      "metadata": {
        "id": "eVZW-ndaQiCB"
      }
    },
    {
      "cell_type": "markdown",
      "source": [
        "In the field of machine learning, understanding the performance and reliability of models is crucial for developing robust predictive systems. Several key aspects contribute to this understanding, including Performance Metrics, Cross-Validation, Model Selection and Hyperparameter Tuning, and the issues of Overfitting and Underfitting. Performance metrics such as accuracy, precision, recall, F1 score, and AUC-ROC provide a quantitative measure of how well a model predicts outcomes. Cross-validation techniques, like K-Fold and Stratified K-Fold, help assess a model's ability to generalize to unseen data by systematically splitting the dataset into training and validation sets. Model selection and hyperparameter tuning, through methods like Grid Search, Random Search, and Bayesian Optimization, ensure that the most effective model is chosen and fine-tuned for optimal performance. Finally, understanding and mitigating overfitting, where a model memorizes the training data but fails to generalize, and underfitting, where a model is too simplistic to capture data patterns, are essential to building models that perform well on both training and unseen datasets."
      ],
      "metadata": {
        "id": "qvcSbp87QMK_"
      }
    },
    {
      "cell_type": "markdown",
      "source": [
        "Gnanaraj Kishon\\\n",
        "ITBIN-2110-0054"
      ],
      "metadata": {
        "id": "0jjAaKOeQFlK"
      }
    },
    {
      "cell_type": "markdown",
      "source": [
        "## **Import Necessary Libraries**"
      ],
      "metadata": {
        "id": "V6hpW8PVOzvO"
      }
    },
    {
      "cell_type": "code",
      "execution_count": 494,
      "metadata": {
        "id": "0fxCRjaANLS7"
      },
      "outputs": [],
      "source": [
        "import pandas as pd\n",
        "\n",
        "from sklearn.model_selection import train_test_split, GridSearchCV, cross_val_score, KFold\n",
        "from sklearn.metrics import accuracy_score, precision_score, recall_score, f1_score, roc_auc_score\n",
        "from sklearn.linear_model import LogisticRegression\n",
        "from sklearn.tree import DecisionTreeClassifier\n",
        "from sklearn.ensemble import RandomForestClassifier, GradientBoostingClassifier\n",
        "from sklearn.svm import SVC\n",
        "from sklearn.preprocessing import StandardScaler"
      ]
    },
    {
      "cell_type": "markdown",
      "source": [
        "## **Add Dataset**"
      ],
      "metadata": {
        "id": "LRz1jw71O3Dh"
      }
    },
    {
      "cell_type": "markdown",
      "source": [
        "I continued from where data mining part stopped. Therefore, I read the CSV file that generated at the end of data mining part."
      ],
      "metadata": {
        "id": "jcaH30lpQsK5"
      }
    },
    {
      "cell_type": "code",
      "source": [
        "df = pd.read_csv('/content/drive/MyDrive/Colab Notebooks/Nature Inspired Algorithms/Mini Project/Data Mining completed dataset.csv')\n",
        "df"
      ],
      "metadata": {
        "colab": {
          "base_uri": "https://localhost:8080/",
          "height": 478
        },
        "id": "pVVFZT5ENRFX",
        "outputId": "b6c25e38-43aa-491a-eaf1-1b7a700c3327"
      },
      "execution_count": 495,
      "outputs": [
        {
          "output_type": "execute_result",
          "data": {
            "text/plain": [
              "        tenure  MonthlyCharges  TotalCharges  Cluster      PCA2  \\\n",
              "0     0.845070        0.063063      0.171414      0.0  0.197946   \n",
              "1     0.253521        0.060060      0.051674      0.0  0.243191   \n",
              "2     0.169014        0.836336      0.154913      1.0  0.793704   \n",
              "3     0.507042        0.363864      0.232560      0.0  0.221083   \n",
              "4     0.070423        0.107608      0.016489      0.0  0.312633   \n",
              "...        ...             ...           ...      ...       ...   \n",
              "1401  0.000000        0.317818      0.003658      1.0  0.731769   \n",
              "1402  0.000000        0.003504      0.000029      0.0  0.308188   \n",
              "1403  0.154930        0.759259      0.133477      1.0  0.781226   \n",
              "1404  0.352113        0.373874      0.177361      1.0  0.619108   \n",
              "1405  0.478873        0.921922      0.441263      0.5  0.650380   \n",
              "\n",
              "      InternetService_Fiber optic  InternetService_No  \\\n",
              "0                             0.0                 1.0   \n",
              "1                             0.0                 1.0   \n",
              "2                             1.0                 0.0   \n",
              "3                             0.0                 0.0   \n",
              "4                             0.0                 0.0   \n",
              "...                           ...                 ...   \n",
              "1401                          0.0                 0.0   \n",
              "1402                          0.0                 1.0   \n",
              "1403                          1.0                 0.0   \n",
              "1404                          0.0                 0.0   \n",
              "1405                          1.0                 0.0   \n",
              "\n",
              "      OnlineSecurity_No internet service  OnlineSecurity_Yes  \\\n",
              "0                                    1.0                 0.0   \n",
              "1                                    1.0                 0.0   \n",
              "2                                    0.0                 0.0   \n",
              "3                                    0.0                 1.0   \n",
              "4                                    0.0                 1.0   \n",
              "...                                  ...                 ...   \n",
              "1401                                 0.0                 0.0   \n",
              "1402                                 1.0                 0.0   \n",
              "1403                                 0.0                 0.0   \n",
              "1404                                 0.0                 0.0   \n",
              "1405                                 0.0                 1.0   \n",
              "\n",
              "      OnlineBackup_No internet service  ...  \\\n",
              "0                                  1.0  ...   \n",
              "1                                  1.0  ...   \n",
              "2                                  0.0  ...   \n",
              "3                                  0.0  ...   \n",
              "4                                  0.0  ...   \n",
              "...                                ...  ...   \n",
              "1401                               0.0  ...   \n",
              "1402                               1.0  ...   \n",
              "1403                               0.0  ...   \n",
              "1404                               0.0  ...   \n",
              "1405                               0.0  ...   \n",
              "\n",
              "      StreamingMovies_No internet service  Contract_One year  \\\n",
              "0                                     1.0                0.0   \n",
              "1                                     1.0                0.0   \n",
              "2                                     0.0                0.0   \n",
              "3                                     0.0                0.0   \n",
              "4                                     0.0                0.0   \n",
              "...                                   ...                ...   \n",
              "1401                                  0.0                0.0   \n",
              "1402                                  1.0                0.0   \n",
              "1403                                  0.0                0.0   \n",
              "1404                                  0.0                1.0   \n",
              "1405                                  0.0                1.0   \n",
              "\n",
              "      Contract_Two year  PaperlessBilling_Yes  PaymentMethod_Electronic check  \\\n",
              "0                   1.0                   0.0                             0.0   \n",
              "1                   0.0                   0.0                             0.0   \n",
              "2                   0.0                   1.0                             0.0   \n",
              "3                   0.0                   1.0                             0.0   \n",
              "4                   0.0                   0.0                             0.0   \n",
              "...                 ...                   ...                             ...   \n",
              "1401                0.0                   1.0                             1.0   \n",
              "1402                0.0                   0.0                             0.0   \n",
              "1403                0.0                   0.0                             1.0   \n",
              "1404                0.0                   1.0                             0.0   \n",
              "1405                0.0                   1.0                             0.0   \n",
              "\n",
              "      tenure_bin_61-72  Churn  MonthlyTenure  MonthlyChargesBinned  \\\n",
              "0                  1.0      0       2.718129                     0   \n",
              "1                  0.0      0       0.860377                     0   \n",
              "2                  0.0      1       0.185228                     4   \n",
              "3                  0.0      0       0.639141                     1   \n",
              "4                  0.0      0       0.153231                     0   \n",
              "...                ...    ...            ...                   ...   \n",
              "1401               0.0      1       0.011511                     1   \n",
              "1402               0.0      0       0.008248                     0   \n",
              "1403               0.0      0       0.175799                     3   \n",
              "1404               0.0      0       0.474386                     1   \n",
              "1405               0.0      0       0.478634                     4   \n",
              "\n",
              "      TotalChargesBinned  \n",
              "0                      0  \n",
              "1                      0  \n",
              "2                      0  \n",
              "3                      1  \n",
              "4                      0  \n",
              "...                  ...  \n",
              "1401                   0  \n",
              "1402                   0  \n",
              "1403                   0  \n",
              "1404                   0  \n",
              "1405                   2  \n",
              "\n",
              "[1406 rows x 24 columns]"
            ],
            "text/html": [
              "\n",
              "  <div id=\"df-1a19097a-8c08-4da9-8690-e9bc8285e2a7\" class=\"colab-df-container\">\n",
              "    <div>\n",
              "<style scoped>\n",
              "    .dataframe tbody tr th:only-of-type {\n",
              "        vertical-align: middle;\n",
              "    }\n",
              "\n",
              "    .dataframe tbody tr th {\n",
              "        vertical-align: top;\n",
              "    }\n",
              "\n",
              "    .dataframe thead th {\n",
              "        text-align: right;\n",
              "    }\n",
              "</style>\n",
              "<table border=\"1\" class=\"dataframe\">\n",
              "  <thead>\n",
              "    <tr style=\"text-align: right;\">\n",
              "      <th></th>\n",
              "      <th>tenure</th>\n",
              "      <th>MonthlyCharges</th>\n",
              "      <th>TotalCharges</th>\n",
              "      <th>Cluster</th>\n",
              "      <th>PCA2</th>\n",
              "      <th>InternetService_Fiber optic</th>\n",
              "      <th>InternetService_No</th>\n",
              "      <th>OnlineSecurity_No internet service</th>\n",
              "      <th>OnlineSecurity_Yes</th>\n",
              "      <th>OnlineBackup_No internet service</th>\n",
              "      <th>...</th>\n",
              "      <th>StreamingMovies_No internet service</th>\n",
              "      <th>Contract_One year</th>\n",
              "      <th>Contract_Two year</th>\n",
              "      <th>PaperlessBilling_Yes</th>\n",
              "      <th>PaymentMethod_Electronic check</th>\n",
              "      <th>tenure_bin_61-72</th>\n",
              "      <th>Churn</th>\n",
              "      <th>MonthlyTenure</th>\n",
              "      <th>MonthlyChargesBinned</th>\n",
              "      <th>TotalChargesBinned</th>\n",
              "    </tr>\n",
              "  </thead>\n",
              "  <tbody>\n",
              "    <tr>\n",
              "      <th>0</th>\n",
              "      <td>0.845070</td>\n",
              "      <td>0.063063</td>\n",
              "      <td>0.171414</td>\n",
              "      <td>0.0</td>\n",
              "      <td>0.197946</td>\n",
              "      <td>0.0</td>\n",
              "      <td>1.0</td>\n",
              "      <td>1.0</td>\n",
              "      <td>0.0</td>\n",
              "      <td>1.0</td>\n",
              "      <td>...</td>\n",
              "      <td>1.0</td>\n",
              "      <td>0.0</td>\n",
              "      <td>1.0</td>\n",
              "      <td>0.0</td>\n",
              "      <td>0.0</td>\n",
              "      <td>1.0</td>\n",
              "      <td>0</td>\n",
              "      <td>2.718129</td>\n",
              "      <td>0</td>\n",
              "      <td>0</td>\n",
              "    </tr>\n",
              "    <tr>\n",
              "      <th>1</th>\n",
              "      <td>0.253521</td>\n",
              "      <td>0.060060</td>\n",
              "      <td>0.051674</td>\n",
              "      <td>0.0</td>\n",
              "      <td>0.243191</td>\n",
              "      <td>0.0</td>\n",
              "      <td>1.0</td>\n",
              "      <td>1.0</td>\n",
              "      <td>0.0</td>\n",
              "      <td>1.0</td>\n",
              "      <td>...</td>\n",
              "      <td>1.0</td>\n",
              "      <td>0.0</td>\n",
              "      <td>0.0</td>\n",
              "      <td>0.0</td>\n",
              "      <td>0.0</td>\n",
              "      <td>0.0</td>\n",
              "      <td>0</td>\n",
              "      <td>0.860377</td>\n",
              "      <td>0</td>\n",
              "      <td>0</td>\n",
              "    </tr>\n",
              "    <tr>\n",
              "      <th>2</th>\n",
              "      <td>0.169014</td>\n",
              "      <td>0.836336</td>\n",
              "      <td>0.154913</td>\n",
              "      <td>1.0</td>\n",
              "      <td>0.793704</td>\n",
              "      <td>1.0</td>\n",
              "      <td>0.0</td>\n",
              "      <td>0.0</td>\n",
              "      <td>0.0</td>\n",
              "      <td>0.0</td>\n",
              "      <td>...</td>\n",
              "      <td>0.0</td>\n",
              "      <td>0.0</td>\n",
              "      <td>0.0</td>\n",
              "      <td>1.0</td>\n",
              "      <td>0.0</td>\n",
              "      <td>0.0</td>\n",
              "      <td>1</td>\n",
              "      <td>0.185228</td>\n",
              "      <td>4</td>\n",
              "      <td>0</td>\n",
              "    </tr>\n",
              "    <tr>\n",
              "      <th>3</th>\n",
              "      <td>0.507042</td>\n",
              "      <td>0.363864</td>\n",
              "      <td>0.232560</td>\n",
              "      <td>0.0</td>\n",
              "      <td>0.221083</td>\n",
              "      <td>0.0</td>\n",
              "      <td>0.0</td>\n",
              "      <td>0.0</td>\n",
              "      <td>1.0</td>\n",
              "      <td>0.0</td>\n",
              "      <td>...</td>\n",
              "      <td>0.0</td>\n",
              "      <td>0.0</td>\n",
              "      <td>0.0</td>\n",
              "      <td>1.0</td>\n",
              "      <td>0.0</td>\n",
              "      <td>0.0</td>\n",
              "      <td>0</td>\n",
              "      <td>0.639141</td>\n",
              "      <td>1</td>\n",
              "      <td>1</td>\n",
              "    </tr>\n",
              "    <tr>\n",
              "      <th>4</th>\n",
              "      <td>0.070423</td>\n",
              "      <td>0.107608</td>\n",
              "      <td>0.016489</td>\n",
              "      <td>0.0</td>\n",
              "      <td>0.312633</td>\n",
              "      <td>0.0</td>\n",
              "      <td>0.0</td>\n",
              "      <td>0.0</td>\n",
              "      <td>1.0</td>\n",
              "      <td>0.0</td>\n",
              "      <td>...</td>\n",
              "      <td>0.0</td>\n",
              "      <td>0.0</td>\n",
              "      <td>0.0</td>\n",
              "      <td>0.0</td>\n",
              "      <td>0.0</td>\n",
              "      <td>0.0</td>\n",
              "      <td>0</td>\n",
              "      <td>0.153231</td>\n",
              "      <td>0</td>\n",
              "      <td>0</td>\n",
              "    </tr>\n",
              "    <tr>\n",
              "      <th>...</th>\n",
              "      <td>...</td>\n",
              "      <td>...</td>\n",
              "      <td>...</td>\n",
              "      <td>...</td>\n",
              "      <td>...</td>\n",
              "      <td>...</td>\n",
              "      <td>...</td>\n",
              "      <td>...</td>\n",
              "      <td>...</td>\n",
              "      <td>...</td>\n",
              "      <td>...</td>\n",
              "      <td>...</td>\n",
              "      <td>...</td>\n",
              "      <td>...</td>\n",
              "      <td>...</td>\n",
              "      <td>...</td>\n",
              "      <td>...</td>\n",
              "      <td>...</td>\n",
              "      <td>...</td>\n",
              "      <td>...</td>\n",
              "      <td>...</td>\n",
              "    </tr>\n",
              "    <tr>\n",
              "      <th>1401</th>\n",
              "      <td>0.000000</td>\n",
              "      <td>0.317818</td>\n",
              "      <td>0.003658</td>\n",
              "      <td>1.0</td>\n",
              "      <td>0.731769</td>\n",
              "      <td>0.0</td>\n",
              "      <td>0.0</td>\n",
              "      <td>0.0</td>\n",
              "      <td>0.0</td>\n",
              "      <td>0.0</td>\n",
              "      <td>...</td>\n",
              "      <td>0.0</td>\n",
              "      <td>0.0</td>\n",
              "      <td>0.0</td>\n",
              "      <td>1.0</td>\n",
              "      <td>1.0</td>\n",
              "      <td>0.0</td>\n",
              "      <td>1</td>\n",
              "      <td>0.011511</td>\n",
              "      <td>1</td>\n",
              "      <td>0</td>\n",
              "    </tr>\n",
              "    <tr>\n",
              "      <th>1402</th>\n",
              "      <td>0.000000</td>\n",
              "      <td>0.003504</td>\n",
              "      <td>0.000029</td>\n",
              "      <td>0.0</td>\n",
              "      <td>0.308188</td>\n",
              "      <td>0.0</td>\n",
              "      <td>1.0</td>\n",
              "      <td>1.0</td>\n",
              "      <td>0.0</td>\n",
              "      <td>1.0</td>\n",
              "      <td>...</td>\n",
              "      <td>1.0</td>\n",
              "      <td>0.0</td>\n",
              "      <td>0.0</td>\n",
              "      <td>0.0</td>\n",
              "      <td>0.0</td>\n",
              "      <td>0.0</td>\n",
              "      <td>0</td>\n",
              "      <td>0.008248</td>\n",
              "      <td>0</td>\n",
              "      <td>0</td>\n",
              "    </tr>\n",
              "    <tr>\n",
              "      <th>1403</th>\n",
              "      <td>0.154930</td>\n",
              "      <td>0.759259</td>\n",
              "      <td>0.133477</td>\n",
              "      <td>1.0</td>\n",
              "      <td>0.781226</td>\n",
              "      <td>1.0</td>\n",
              "      <td>0.0</td>\n",
              "      <td>0.0</td>\n",
              "      <td>0.0</td>\n",
              "      <td>0.0</td>\n",
              "      <td>...</td>\n",
              "      <td>0.0</td>\n",
              "      <td>0.0</td>\n",
              "      <td>0.0</td>\n",
              "      <td>0.0</td>\n",
              "      <td>1.0</td>\n",
              "      <td>0.0</td>\n",
              "      <td>0</td>\n",
              "      <td>0.175799</td>\n",
              "      <td>3</td>\n",
              "      <td>0</td>\n",
              "    </tr>\n",
              "    <tr>\n",
              "      <th>1404</th>\n",
              "      <td>0.352113</td>\n",
              "      <td>0.373874</td>\n",
              "      <td>0.177361</td>\n",
              "      <td>1.0</td>\n",
              "      <td>0.619108</td>\n",
              "      <td>0.0</td>\n",
              "      <td>0.0</td>\n",
              "      <td>0.0</td>\n",
              "      <td>0.0</td>\n",
              "      <td>0.0</td>\n",
              "      <td>...</td>\n",
              "      <td>0.0</td>\n",
              "      <td>1.0</td>\n",
              "      <td>0.0</td>\n",
              "      <td>1.0</td>\n",
              "      <td>0.0</td>\n",
              "      <td>0.0</td>\n",
              "      <td>0</td>\n",
              "      <td>0.474386</td>\n",
              "      <td>1</td>\n",
              "      <td>0</td>\n",
              "    </tr>\n",
              "    <tr>\n",
              "      <th>1405</th>\n",
              "      <td>0.478873</td>\n",
              "      <td>0.921922</td>\n",
              "      <td>0.441263</td>\n",
              "      <td>0.5</td>\n",
              "      <td>0.650380</td>\n",
              "      <td>1.0</td>\n",
              "      <td>0.0</td>\n",
              "      <td>0.0</td>\n",
              "      <td>1.0</td>\n",
              "      <td>0.0</td>\n",
              "      <td>...</td>\n",
              "      <td>0.0</td>\n",
              "      <td>1.0</td>\n",
              "      <td>0.0</td>\n",
              "      <td>1.0</td>\n",
              "      <td>0.0</td>\n",
              "      <td>0.0</td>\n",
              "      <td>0</td>\n",
              "      <td>0.478634</td>\n",
              "      <td>4</td>\n",
              "      <td>2</td>\n",
              "    </tr>\n",
              "  </tbody>\n",
              "</table>\n",
              "<p>1406 rows × 24 columns</p>\n",
              "</div>\n",
              "    <div class=\"colab-df-buttons\">\n",
              "\n",
              "  <div class=\"colab-df-container\">\n",
              "    <button class=\"colab-df-convert\" onclick=\"convertToInteractive('df-1a19097a-8c08-4da9-8690-e9bc8285e2a7')\"\n",
              "            title=\"Convert this dataframe to an interactive table.\"\n",
              "            style=\"display:none;\">\n",
              "\n",
              "  <svg xmlns=\"http://www.w3.org/2000/svg\" height=\"24px\" viewBox=\"0 -960 960 960\">\n",
              "    <path d=\"M120-120v-720h720v720H120Zm60-500h600v-160H180v160Zm220 220h160v-160H400v160Zm0 220h160v-160H400v160ZM180-400h160v-160H180v160Zm440 0h160v-160H620v160ZM180-180h160v-160H180v160Zm440 0h160v-160H620v160Z\"/>\n",
              "  </svg>\n",
              "    </button>\n",
              "\n",
              "  <style>\n",
              "    .colab-df-container {\n",
              "      display:flex;\n",
              "      gap: 12px;\n",
              "    }\n",
              "\n",
              "    .colab-df-convert {\n",
              "      background-color: #E8F0FE;\n",
              "      border: none;\n",
              "      border-radius: 50%;\n",
              "      cursor: pointer;\n",
              "      display: none;\n",
              "      fill: #1967D2;\n",
              "      height: 32px;\n",
              "      padding: 0 0 0 0;\n",
              "      width: 32px;\n",
              "    }\n",
              "\n",
              "    .colab-df-convert:hover {\n",
              "      background-color: #E2EBFA;\n",
              "      box-shadow: 0px 1px 2px rgba(60, 64, 67, 0.3), 0px 1px 3px 1px rgba(60, 64, 67, 0.15);\n",
              "      fill: #174EA6;\n",
              "    }\n",
              "\n",
              "    .colab-df-buttons div {\n",
              "      margin-bottom: 4px;\n",
              "    }\n",
              "\n",
              "    [theme=dark] .colab-df-convert {\n",
              "      background-color: #3B4455;\n",
              "      fill: #D2E3FC;\n",
              "    }\n",
              "\n",
              "    [theme=dark] .colab-df-convert:hover {\n",
              "      background-color: #434B5C;\n",
              "      box-shadow: 0px 1px 3px 1px rgba(0, 0, 0, 0.15);\n",
              "      filter: drop-shadow(0px 1px 2px rgba(0, 0, 0, 0.3));\n",
              "      fill: #FFFFFF;\n",
              "    }\n",
              "  </style>\n",
              "\n",
              "    <script>\n",
              "      const buttonEl =\n",
              "        document.querySelector('#df-1a19097a-8c08-4da9-8690-e9bc8285e2a7 button.colab-df-convert');\n",
              "      buttonEl.style.display =\n",
              "        google.colab.kernel.accessAllowed ? 'block' : 'none';\n",
              "\n",
              "      async function convertToInteractive(key) {\n",
              "        const element = document.querySelector('#df-1a19097a-8c08-4da9-8690-e9bc8285e2a7');\n",
              "        const dataTable =\n",
              "          await google.colab.kernel.invokeFunction('convertToInteractive',\n",
              "                                                    [key], {});\n",
              "        if (!dataTable) return;\n",
              "\n",
              "        const docLinkHtml = 'Like what you see? Visit the ' +\n",
              "          '<a target=\"_blank\" href=https://colab.research.google.com/notebooks/data_table.ipynb>data table notebook</a>'\n",
              "          + ' to learn more about interactive tables.';\n",
              "        element.innerHTML = '';\n",
              "        dataTable['output_type'] = 'display_data';\n",
              "        await google.colab.output.renderOutput(dataTable, element);\n",
              "        const docLink = document.createElement('div');\n",
              "        docLink.innerHTML = docLinkHtml;\n",
              "        element.appendChild(docLink);\n",
              "      }\n",
              "    </script>\n",
              "  </div>\n",
              "\n",
              "\n",
              "<div id=\"df-39727feb-e59e-4e63-adfb-aa6b7840afb8\">\n",
              "  <button class=\"colab-df-quickchart\" onclick=\"quickchart('df-39727feb-e59e-4e63-adfb-aa6b7840afb8')\"\n",
              "            title=\"Suggest charts\"\n",
              "            style=\"display:none;\">\n",
              "\n",
              "<svg xmlns=\"http://www.w3.org/2000/svg\" height=\"24px\"viewBox=\"0 0 24 24\"\n",
              "     width=\"24px\">\n",
              "    <g>\n",
              "        <path d=\"M19 3H5c-1.1 0-2 .9-2 2v14c0 1.1.9 2 2 2h14c1.1 0 2-.9 2-2V5c0-1.1-.9-2-2-2zM9 17H7v-7h2v7zm4 0h-2V7h2v10zm4 0h-2v-4h2v4z\"/>\n",
              "    </g>\n",
              "</svg>\n",
              "  </button>\n",
              "\n",
              "<style>\n",
              "  .colab-df-quickchart {\n",
              "      --bg-color: #E8F0FE;\n",
              "      --fill-color: #1967D2;\n",
              "      --hover-bg-color: #E2EBFA;\n",
              "      --hover-fill-color: #174EA6;\n",
              "      --disabled-fill-color: #AAA;\n",
              "      --disabled-bg-color: #DDD;\n",
              "  }\n",
              "\n",
              "  [theme=dark] .colab-df-quickchart {\n",
              "      --bg-color: #3B4455;\n",
              "      --fill-color: #D2E3FC;\n",
              "      --hover-bg-color: #434B5C;\n",
              "      --hover-fill-color: #FFFFFF;\n",
              "      --disabled-bg-color: #3B4455;\n",
              "      --disabled-fill-color: #666;\n",
              "  }\n",
              "\n",
              "  .colab-df-quickchart {\n",
              "    background-color: var(--bg-color);\n",
              "    border: none;\n",
              "    border-radius: 50%;\n",
              "    cursor: pointer;\n",
              "    display: none;\n",
              "    fill: var(--fill-color);\n",
              "    height: 32px;\n",
              "    padding: 0;\n",
              "    width: 32px;\n",
              "  }\n",
              "\n",
              "  .colab-df-quickchart:hover {\n",
              "    background-color: var(--hover-bg-color);\n",
              "    box-shadow: 0 1px 2px rgba(60, 64, 67, 0.3), 0 1px 3px 1px rgba(60, 64, 67, 0.15);\n",
              "    fill: var(--button-hover-fill-color);\n",
              "  }\n",
              "\n",
              "  .colab-df-quickchart-complete:disabled,\n",
              "  .colab-df-quickchart-complete:disabled:hover {\n",
              "    background-color: var(--disabled-bg-color);\n",
              "    fill: var(--disabled-fill-color);\n",
              "    box-shadow: none;\n",
              "  }\n",
              "\n",
              "  .colab-df-spinner {\n",
              "    border: 2px solid var(--fill-color);\n",
              "    border-color: transparent;\n",
              "    border-bottom-color: var(--fill-color);\n",
              "    animation:\n",
              "      spin 1s steps(1) infinite;\n",
              "  }\n",
              "\n",
              "  @keyframes spin {\n",
              "    0% {\n",
              "      border-color: transparent;\n",
              "      border-bottom-color: var(--fill-color);\n",
              "      border-left-color: var(--fill-color);\n",
              "    }\n",
              "    20% {\n",
              "      border-color: transparent;\n",
              "      border-left-color: var(--fill-color);\n",
              "      border-top-color: var(--fill-color);\n",
              "    }\n",
              "    30% {\n",
              "      border-color: transparent;\n",
              "      border-left-color: var(--fill-color);\n",
              "      border-top-color: var(--fill-color);\n",
              "      border-right-color: var(--fill-color);\n",
              "    }\n",
              "    40% {\n",
              "      border-color: transparent;\n",
              "      border-right-color: var(--fill-color);\n",
              "      border-top-color: var(--fill-color);\n",
              "    }\n",
              "    60% {\n",
              "      border-color: transparent;\n",
              "      border-right-color: var(--fill-color);\n",
              "    }\n",
              "    80% {\n",
              "      border-color: transparent;\n",
              "      border-right-color: var(--fill-color);\n",
              "      border-bottom-color: var(--fill-color);\n",
              "    }\n",
              "    90% {\n",
              "      border-color: transparent;\n",
              "      border-bottom-color: var(--fill-color);\n",
              "    }\n",
              "  }\n",
              "</style>\n",
              "\n",
              "  <script>\n",
              "    async function quickchart(key) {\n",
              "      const quickchartButtonEl =\n",
              "        document.querySelector('#' + key + ' button');\n",
              "      quickchartButtonEl.disabled = true;  // To prevent multiple clicks.\n",
              "      quickchartButtonEl.classList.add('colab-df-spinner');\n",
              "      try {\n",
              "        const charts = await google.colab.kernel.invokeFunction(\n",
              "            'suggestCharts', [key], {});\n",
              "      } catch (error) {\n",
              "        console.error('Error during call to suggestCharts:', error);\n",
              "      }\n",
              "      quickchartButtonEl.classList.remove('colab-df-spinner');\n",
              "      quickchartButtonEl.classList.add('colab-df-quickchart-complete');\n",
              "    }\n",
              "    (() => {\n",
              "      let quickchartButtonEl =\n",
              "        document.querySelector('#df-39727feb-e59e-4e63-adfb-aa6b7840afb8 button');\n",
              "      quickchartButtonEl.style.display =\n",
              "        google.colab.kernel.accessAllowed ? 'block' : 'none';\n",
              "    })();\n",
              "  </script>\n",
              "</div>\n",
              "\n",
              "  <div id=\"id_046ec2b7-e0a1-442a-a848-b659492a292f\">\n",
              "    <style>\n",
              "      .colab-df-generate {\n",
              "        background-color: #E8F0FE;\n",
              "        border: none;\n",
              "        border-radius: 50%;\n",
              "        cursor: pointer;\n",
              "        display: none;\n",
              "        fill: #1967D2;\n",
              "        height: 32px;\n",
              "        padding: 0 0 0 0;\n",
              "        width: 32px;\n",
              "      }\n",
              "\n",
              "      .colab-df-generate:hover {\n",
              "        background-color: #E2EBFA;\n",
              "        box-shadow: 0px 1px 2px rgba(60, 64, 67, 0.3), 0px 1px 3px 1px rgba(60, 64, 67, 0.15);\n",
              "        fill: #174EA6;\n",
              "      }\n",
              "\n",
              "      [theme=dark] .colab-df-generate {\n",
              "        background-color: #3B4455;\n",
              "        fill: #D2E3FC;\n",
              "      }\n",
              "\n",
              "      [theme=dark] .colab-df-generate:hover {\n",
              "        background-color: #434B5C;\n",
              "        box-shadow: 0px 1px 3px 1px rgba(0, 0, 0, 0.15);\n",
              "        filter: drop-shadow(0px 1px 2px rgba(0, 0, 0, 0.3));\n",
              "        fill: #FFFFFF;\n",
              "      }\n",
              "    </style>\n",
              "    <button class=\"colab-df-generate\" onclick=\"generateWithVariable('df')\"\n",
              "            title=\"Generate code using this dataframe.\"\n",
              "            style=\"display:none;\">\n",
              "\n",
              "  <svg xmlns=\"http://www.w3.org/2000/svg\" height=\"24px\"viewBox=\"0 0 24 24\"\n",
              "       width=\"24px\">\n",
              "    <path d=\"M7,19H8.4L18.45,9,17,7.55,7,17.6ZM5,21V16.75L18.45,3.32a2,2,0,0,1,2.83,0l1.4,1.43a1.91,1.91,0,0,1,.58,1.4,1.91,1.91,0,0,1-.58,1.4L9.25,21ZM18.45,9,17,7.55Zm-12,3A5.31,5.31,0,0,0,4.9,8.1,5.31,5.31,0,0,0,1,6.5,5.31,5.31,0,0,0,4.9,4.9,5.31,5.31,0,0,0,6.5,1,5.31,5.31,0,0,0,8.1,4.9,5.31,5.31,0,0,0,12,6.5,5.46,5.46,0,0,0,6.5,12Z\"/>\n",
              "  </svg>\n",
              "    </button>\n",
              "    <script>\n",
              "      (() => {\n",
              "      const buttonEl =\n",
              "        document.querySelector('#id_046ec2b7-e0a1-442a-a848-b659492a292f button.colab-df-generate');\n",
              "      buttonEl.style.display =\n",
              "        google.colab.kernel.accessAllowed ? 'block' : 'none';\n",
              "\n",
              "      buttonEl.onclick = () => {\n",
              "        google.colab.notebook.generateWithVariable('df');\n",
              "      }\n",
              "      })();\n",
              "    </script>\n",
              "  </div>\n",
              "\n",
              "    </div>\n",
              "  </div>\n"
            ],
            "application/vnd.google.colaboratory.intrinsic+json": {
              "type": "dataframe",
              "variable_name": "df"
            }
          },
          "metadata": {},
          "execution_count": 495
        }
      ]
    },
    {
      "cell_type": "markdown",
      "source": [
        "## **Preprocess the Data**"
      ],
      "metadata": {
        "id": "A4ZJLeomPxEH"
      }
    },
    {
      "cell_type": "code",
      "source": [
        "df.info()"
      ],
      "metadata": {
        "colab": {
          "base_uri": "https://localhost:8080/"
        },
        "id": "wmbQrODBFQlY",
        "outputId": "54cf765b-189c-4e9f-e11d-08f574ee0c30"
      },
      "execution_count": 496,
      "outputs": [
        {
          "output_type": "stream",
          "name": "stdout",
          "text": [
            "<class 'pandas.core.frame.DataFrame'>\n",
            "RangeIndex: 1406 entries, 0 to 1405\n",
            "Data columns (total 24 columns):\n",
            " #   Column                                Non-Null Count  Dtype  \n",
            "---  ------                                --------------  -----  \n",
            " 0   tenure                                1406 non-null   float64\n",
            " 1   MonthlyCharges                        1406 non-null   float64\n",
            " 2   TotalCharges                          1406 non-null   float64\n",
            " 3   Cluster                               1406 non-null   float64\n",
            " 4   PCA2                                  1406 non-null   float64\n",
            " 5   InternetService_Fiber optic           1406 non-null   float64\n",
            " 6   InternetService_No                    1406 non-null   float64\n",
            " 7   OnlineSecurity_No internet service    1406 non-null   float64\n",
            " 8   OnlineSecurity_Yes                    1406 non-null   float64\n",
            " 9   OnlineBackup_No internet service      1406 non-null   float64\n",
            " 10  DeviceProtection_No internet service  1406 non-null   float64\n",
            " 11  TechSupport_No internet service       1406 non-null   float64\n",
            " 12  TechSupport_Yes                       1406 non-null   float64\n",
            " 13  StreamingTV_No internet service       1406 non-null   float64\n",
            " 14  StreamingMovies_No internet service   1406 non-null   float64\n",
            " 15  Contract_One year                     1406 non-null   float64\n",
            " 16  Contract_Two year                     1406 non-null   float64\n",
            " 17  PaperlessBilling_Yes                  1406 non-null   float64\n",
            " 18  PaymentMethod_Electronic check        1406 non-null   float64\n",
            " 19  tenure_bin_61-72                      1406 non-null   float64\n",
            " 20  Churn                                 1406 non-null   int64  \n",
            " 21  MonthlyTenure                         1406 non-null   float64\n",
            " 22  MonthlyChargesBinned                  1406 non-null   int64  \n",
            " 23  TotalChargesBinned                    1406 non-null   int64  \n",
            "dtypes: float64(21), int64(3)\n",
            "memory usage: 263.8 KB\n"
          ]
        }
      ]
    },
    {
      "cell_type": "markdown",
      "source": [
        "I separated the features(`X`) and target variable(`y`). I choose target variable(`y`) as column `chrun` and some other columns as features(`X`)."
      ],
      "metadata": {
        "id": "6arQyxjRO7o5"
      }
    },
    {
      "cell_type": "code",
      "source": [
        "X = df.drop(columns=['Churn', 'tenure_bin_61-72', 'MonthlyChargesBinned', 'TotalChargesBinned', 'OnlineSecurity_No internet service', 'OnlineBackup_No internet service', 'DeviceProtection_No internet service', 'TechSupport_No internet service', 'StreamingTV_No internet service', 'StreamingMovies_No internet service'])\n",
        "y = df['Churn']"
      ],
      "metadata": {
        "id": "ROkfTOl4OI59"
      },
      "execution_count": 497,
      "outputs": []
    },
    {
      "cell_type": "markdown",
      "source": [
        "Next, I created an instance of `StandardScaler` that standardizes the features by removing the mean and scaling them to unit variance. `scaler.fit_transform(X)` first fits the `StandardScaler` to the data and then transforms the data using these calculated statistics."
      ],
      "metadata": {
        "id": "sYuDRppVlVtc"
      }
    },
    {
      "cell_type": "code",
      "source": [
        "scaler = StandardScaler()\n",
        "X_scaled = scaler.fit_transform(X)"
      ],
      "metadata": {
        "id": "fMH7yiWuPSvJ"
      },
      "execution_count": 498,
      "outputs": []
    },
    {
      "cell_type": "markdown",
      "source": [
        "Then I split the data as test set and training sets. I allocated 20% of the data to test and other data is used to train the model."
      ],
      "metadata": {
        "id": "vU7x1Eo6Pd5j"
      }
    },
    {
      "cell_type": "markdown",
      "source": [
        "* `train_test_split` function splits the data into training and test sets.\n",
        "\n",
        "* The feature sets `X_train, X_test` for training and testing, respectively.\n",
        "\n",
        "* The target sets `y_train, y_test `for training and testing, respectively.\n",
        "\n",
        "* 20% of the data is reserved for testing, while 80% is used for training.\n",
        "\n",
        "* `random_state=42 `Ensures that the split is reproducible by setting a specific seed for random number generation."
      ],
      "metadata": {
        "id": "6phe3EIWld3b"
      }
    },
    {
      "cell_type": "code",
      "source": [
        "X_train, X_test, y_train, y_test = train_test_split(X_scaled, y, test_size=0.2, random_state=42)"
      ],
      "metadata": {
        "id": "ZspOwij7PaKy"
      },
      "execution_count": 499,
      "outputs": []
    },
    {
      "cell_type": "markdown",
      "source": [
        "In next steps, I analyzed our models by doing cross validation, analyzing overfitting and undrfitting. If the model have some performance issues i gave solution using hyperparametr tuning."
      ],
      "metadata": {
        "id": "YClGKNAf1dGX"
      }
    },
    {
      "cell_type": "markdown",
      "source": [
        "# **1. Logistic Regression**"
      ],
      "metadata": {
        "id": "9vJJ33_q1UiT"
      }
    },
    {
      "cell_type": "markdown",
      "source": [
        "## **Cross-Validation**"
      ],
      "metadata": {
        "id": "0JS_msRDRcsG"
      }
    },
    {
      "cell_type": "markdown",
      "source": [
        "Cross-validation is a technique used to evaluate the performance of a machine learning model by splitting the data into multiple subsets (folds) and training/testing the model on these different subsets. This provides a more reliable estimate of the model's performance than a single train-test split.\n",
        "\n"
      ],
      "metadata": {
        "id": "-QnrXzwAyuvr"
      }
    },
    {
      "cell_type": "markdown",
      "source": [
        "In the next step, I Define 5-fold cross-validation."
      ],
      "metadata": {
        "id": "j-dWAB646CJt"
      }
    },
    {
      "cell_type": "code",
      "source": [
        "kf = KFold(n_splits=5, shuffle=True, random_state=42)"
      ],
      "metadata": {
        "id": "gRrEB-qP2RK9"
      },
      "execution_count": 500,
      "outputs": []
    },
    {
      "cell_type": "markdown",
      "source": [
        "In below code `cross_val_socre` runs the Logistic Regression model with `max_iter=1000` on the dataset `X_scaled, y `using the 5-fold cross-validation strategy defined by `kf`."
      ],
      "metadata": {
        "id": "4gi_EEi_6D5K"
      }
    },
    {
      "cell_type": "code",
      "source": [
        "cv_scores_lr = cross_val_score(LogisticRegression(max_iter=1000), X_scaled, y, cv=kf, scoring='accuracy')"
      ],
      "metadata": {
        "id": "0Vw-Ibh32LQ-"
      },
      "execution_count": 501,
      "outputs": []
    },
    {
      "cell_type": "markdown",
      "source": [
        "Next, I outputted the cross-validation accuracy."
      ],
      "metadata": {
        "id": "pRrAOLvS6780"
      }
    },
    {
      "cell_type": "code",
      "source": [
        "print(f'Cross-Validation Accuracy: {cv_scores_lr.mean():.4f} ± {cv_scores_lr.std():.4f}')"
      ],
      "metadata": {
        "colab": {
          "base_uri": "https://localhost:8080/"
        },
        "id": "4kz0KX6A2ZOj",
        "outputId": "ee209e01-1ca6-4023-a370-63f836d49c14"
      },
      "execution_count": 502,
      "outputs": [
        {
          "output_type": "stream",
          "name": "stdout",
          "text": [
            "Cross-Validation Accuracy: 0.7902 ± 0.0220\n"
          ]
        }
      ]
    },
    {
      "cell_type": "markdown",
      "source": [
        "The output indicates that the model consistently performs well across different subsets of the data."
      ],
      "metadata": {
        "id": "uaGID6rU46nS"
      }
    },
    {
      "cell_type": "markdown",
      "source": [
        "## **Analyze Overfitting and Underfitting**"
      ],
      "metadata": {
        "id": "0G3C-hwa7KRT"
      }
    },
    {
      "cell_type": "markdown",
      "source": [
        "Overfitting is look for a large difference between training and test accuracy. Underfitting is look for low accuracy on both training and test sets."
      ],
      "metadata": {
        "id": "NGprwPnRPcuO"
      }
    },
    {
      "cell_type": "markdown",
      "source": [
        "I calculated training accuracy and test accuracy for each model. Based on the values we can make some decisions such as:\n",
        "\n",
        "* High Train Accuracy & Low Test Accuracy: This indicates overfitting. The model has learned the training data too well but fails to generalize to new data.\n",
        "* Low Train Accuracy & Low Test Accuracy: This indicates underfitting. The model has not learned the underlying patterns in the training data, leading to poor performance on both the training and test sets.\n",
        "* Similar Train and Test Accuracy: This indicates that the model is well-fitted to the data, with a good balance between bias and variance."
      ],
      "metadata": {
        "id": "mbuodPEQPibu"
      }
    },
    {
      "cell_type": "markdown",
      "source": [
        "To understand if the model is too complex (overfitting) or too simple (underfitting) I trained the Logistic Regression model using `X_train, y_train` data."
      ],
      "metadata": {
        "id": "VmcLJD7r3Fwd"
      }
    },
    {
      "cell_type": "code",
      "source": [
        "model_lr = LogisticRegression(max_iter=1000)\n",
        "model_lr.fit(X_train, y_train)"
      ],
      "metadata": {
        "colab": {
          "base_uri": "https://localhost:8080/",
          "height": 74
        },
        "id": "72rHbafj3sJt",
        "outputId": "732c9e3b-4c6f-480f-f1fe-023af8646c73"
      },
      "execution_count": 503,
      "outputs": [
        {
          "output_type": "execute_result",
          "data": {
            "text/plain": [
              "LogisticRegression(max_iter=1000)"
            ],
            "text/html": [
              "<style>#sk-container-id-58 {color: black;}#sk-container-id-58 pre{padding: 0;}#sk-container-id-58 div.sk-toggleable {background-color: white;}#sk-container-id-58 label.sk-toggleable__label {cursor: pointer;display: block;width: 100%;margin-bottom: 0;padding: 0.3em;box-sizing: border-box;text-align: center;}#sk-container-id-58 label.sk-toggleable__label-arrow:before {content: \"▸\";float: left;margin-right: 0.25em;color: #696969;}#sk-container-id-58 label.sk-toggleable__label-arrow:hover:before {color: black;}#sk-container-id-58 div.sk-estimator:hover label.sk-toggleable__label-arrow:before {color: black;}#sk-container-id-58 div.sk-toggleable__content {max-height: 0;max-width: 0;overflow: hidden;text-align: left;background-color: #f0f8ff;}#sk-container-id-58 div.sk-toggleable__content pre {margin: 0.2em;color: black;border-radius: 0.25em;background-color: #f0f8ff;}#sk-container-id-58 input.sk-toggleable__control:checked~div.sk-toggleable__content {max-height: 200px;max-width: 100%;overflow: auto;}#sk-container-id-58 input.sk-toggleable__control:checked~label.sk-toggleable__label-arrow:before {content: \"▾\";}#sk-container-id-58 div.sk-estimator input.sk-toggleable__control:checked~label.sk-toggleable__label {background-color: #d4ebff;}#sk-container-id-58 div.sk-label input.sk-toggleable__control:checked~label.sk-toggleable__label {background-color: #d4ebff;}#sk-container-id-58 input.sk-hidden--visually {border: 0;clip: rect(1px 1px 1px 1px);clip: rect(1px, 1px, 1px, 1px);height: 1px;margin: -1px;overflow: hidden;padding: 0;position: absolute;width: 1px;}#sk-container-id-58 div.sk-estimator {font-family: monospace;background-color: #f0f8ff;border: 1px dotted black;border-radius: 0.25em;box-sizing: border-box;margin-bottom: 0.5em;}#sk-container-id-58 div.sk-estimator:hover {background-color: #d4ebff;}#sk-container-id-58 div.sk-parallel-item::after {content: \"\";width: 100%;border-bottom: 1px solid gray;flex-grow: 1;}#sk-container-id-58 div.sk-label:hover label.sk-toggleable__label {background-color: #d4ebff;}#sk-container-id-58 div.sk-serial::before {content: \"\";position: absolute;border-left: 1px solid gray;box-sizing: border-box;top: 0;bottom: 0;left: 50%;z-index: 0;}#sk-container-id-58 div.sk-serial {display: flex;flex-direction: column;align-items: center;background-color: white;padding-right: 0.2em;padding-left: 0.2em;position: relative;}#sk-container-id-58 div.sk-item {position: relative;z-index: 1;}#sk-container-id-58 div.sk-parallel {display: flex;align-items: stretch;justify-content: center;background-color: white;position: relative;}#sk-container-id-58 div.sk-item::before, #sk-container-id-58 div.sk-parallel-item::before {content: \"\";position: absolute;border-left: 1px solid gray;box-sizing: border-box;top: 0;bottom: 0;left: 50%;z-index: -1;}#sk-container-id-58 div.sk-parallel-item {display: flex;flex-direction: column;z-index: 1;position: relative;background-color: white;}#sk-container-id-58 div.sk-parallel-item:first-child::after {align-self: flex-end;width: 50%;}#sk-container-id-58 div.sk-parallel-item:last-child::after {align-self: flex-start;width: 50%;}#sk-container-id-58 div.sk-parallel-item:only-child::after {width: 0;}#sk-container-id-58 div.sk-dashed-wrapped {border: 1px dashed gray;margin: 0 0.4em 0.5em 0.4em;box-sizing: border-box;padding-bottom: 0.4em;background-color: white;}#sk-container-id-58 div.sk-label label {font-family: monospace;font-weight: bold;display: inline-block;line-height: 1.2em;}#sk-container-id-58 div.sk-label-container {text-align: center;}#sk-container-id-58 div.sk-container {/* jupyter's `normalize.less` sets `[hidden] { display: none; }` but bootstrap.min.css set `[hidden] { display: none !important; }` so we also need the `!important` here to be able to override the default hidden behavior on the sphinx rendered scikit-learn.org. See: https://github.com/scikit-learn/scikit-learn/issues/21755 */display: inline-block !important;position: relative;}#sk-container-id-58 div.sk-text-repr-fallback {display: none;}</style><div id=\"sk-container-id-58\" class=\"sk-top-container\"><div class=\"sk-text-repr-fallback\"><pre>LogisticRegression(max_iter=1000)</pre><b>In a Jupyter environment, please rerun this cell to show the HTML representation or trust the notebook. <br />On GitHub, the HTML representation is unable to render, please try loading this page with nbviewer.org.</b></div><div class=\"sk-container\" hidden><div class=\"sk-item\"><div class=\"sk-estimator sk-toggleable\"><input class=\"sk-toggleable__control sk-hidden--visually\" id=\"sk-estimator-id-82\" type=\"checkbox\" checked><label for=\"sk-estimator-id-82\" class=\"sk-toggleable__label sk-toggleable__label-arrow\">LogisticRegression</label><div class=\"sk-toggleable__content\"><pre>LogisticRegression(max_iter=1000)</pre></div></div></div></div></div>"
            ]
          },
          "metadata": {},
          "execution_count": 503
        }
      ]
    },
    {
      "cell_type": "markdown",
      "source": [
        "Next, I made predictions on training data. For that, I used `model_lr.predict(X_train)`. To calculate the accuracy of the model I used `accuracy_score(y_train, train_predictions_lr)`."
      ],
      "metadata": {
        "id": "ESVucKEV7own"
      }
    },
    {
      "cell_type": "code",
      "source": [
        "train_predictions_lr = model_lr.predict(X_train)\n",
        "train_accuracy_lr = accuracy_score(y_train, train_predictions_lr)"
      ],
      "metadata": {
        "id": "Ng-4NY4n3G28"
      },
      "execution_count": 504,
      "outputs": []
    },
    {
      "cell_type": "markdown",
      "source": [
        "Next I made predictions on test data. For that I used `model_lr.predict(X_test)`. To calculate the accuracy of the model, I used `accuracy_score(y_test, y_test_pred_lr)`."
      ],
      "metadata": {
        "id": "dKWRIYmD78t6"
      }
    },
    {
      "cell_type": "code",
      "source": [
        "y_test_pred_lr = model_lr.predict(X_test)\n",
        "test_accuracy_lr = accuracy_score(y_test, y_test_pred_lr)"
      ],
      "metadata": {
        "id": "-Y-SVFQ53vP9"
      },
      "execution_count": 505,
      "outputs": []
    },
    {
      "cell_type": "markdown",
      "source": [
        "The below code output the training accuracy and test accuracy of the Logistic Regresssion model."
      ],
      "metadata": {
        "id": "K8XnmMxH8MJQ"
      }
    },
    {
      "cell_type": "code",
      "source": [
        "print(f'Training Accuracy: {train_accuracy_lr:.4f}')\n",
        "print(f'Test Accuracy: {test_accuracy_lr:.4f}')"
      ],
      "metadata": {
        "colab": {
          "base_uri": "https://localhost:8080/"
        },
        "id": "q1nLgpqX3WH6",
        "outputId": "12abe665-89b2-4e20-c544-82f68cbe0ad2"
      },
      "execution_count": 506,
      "outputs": [
        {
          "output_type": "stream",
          "name": "stdout",
          "text": [
            "Training Accuracy: 0.8034\n",
            "Test Accuracy: 0.7695\n"
          ]
        }
      ]
    },
    {
      "cell_type": "markdown",
      "source": [
        "A higher training accuracy compared to test accuracy can sometimes be a sign of overfitting, but in this case, the difference is small, so overfitting is not a significant concern here."
      ],
      "metadata": {
        "id": "n5Lz5Ypf5JaW"
      }
    },
    {
      "cell_type": "markdown",
      "source": [
        "The small differences between cross-validation accuracy, training accuracy, and test accuracy suggest that the model generalizes well and does not suffer significantly from overfitting or underfitting.\n",
        "\n",
        "With cross-validation accuracy close to training and test accuracies, the Logistic Regression model appears to be reliable and performs consistently on new data.\n",
        "\n",
        "Therefore, no need to do hyperparameter tuning for Logistic Regression model."
      ],
      "metadata": {
        "id": "GgqP2Jh45YKa"
      }
    },
    {
      "cell_type": "markdown",
      "source": [
        "# **2. Decision Tree**"
      ],
      "metadata": {
        "id": "Bf0JIx0d8Wrb"
      }
    },
    {
      "cell_type": "markdown",
      "source": [
        "## **Cross-Validation**"
      ],
      "metadata": {
        "id": "GlU3TEen9JTY"
      }
    },
    {
      "cell_type": "markdown",
      "source": [
        "In below code `cross_val_socre` runs the Decision Tree model on the dataset `X_scaled, y `using the 5-fold cross-validation strategy defined by `kf`."
      ],
      "metadata": {
        "id": "gwgkrEVn9Q6P"
      }
    },
    {
      "cell_type": "code",
      "source": [
        "cv_scores_dt = cross_val_score(DecisionTreeClassifier(random_state=42), X_scaled, y, cv=kf, scoring='accuracy')"
      ],
      "metadata": {
        "id": "i9a4IPvW9xkZ"
      },
      "execution_count": 507,
      "outputs": []
    },
    {
      "cell_type": "markdown",
      "source": [
        "Next, I outputted the cross-validation accuracy."
      ],
      "metadata": {
        "id": "KArTG-Vn96aF"
      }
    },
    {
      "cell_type": "code",
      "source": [
        "print(f'Cross-Validation Accuracy: {cv_scores_dt.mean():.4f} ± {cv_scores_dt.std():.4f}')"
      ],
      "metadata": {
        "colab": {
          "base_uri": "https://localhost:8080/"
        },
        "id": "z-s81ADT-CSo",
        "outputId": "338a54f0-09d2-4fdb-833c-f9efa91646ae"
      },
      "execution_count": 508,
      "outputs": [
        {
          "output_type": "stream",
          "name": "stdout",
          "text": [
            "Cross-Validation Accuracy: 0.7169 ± 0.0175\n"
          ]
        }
      ]
    },
    {
      "cell_type": "markdown",
      "source": [
        "The output indicates that the model consistently performs well across different subsets of the data."
      ],
      "metadata": {
        "id": "kEEI90BiCT7G"
      }
    },
    {
      "cell_type": "markdown",
      "source": [
        "## **Analyze Overfitting and Underfitting**"
      ],
      "metadata": {
        "id": "2nT9yUP5-jnz"
      }
    },
    {
      "cell_type": "markdown",
      "source": [
        "To find if the Decision Tree model is overfitting or underfitting, I started with train the model using train data."
      ],
      "metadata": {
        "id": "af5nfxYe-2_C"
      }
    },
    {
      "cell_type": "code",
      "source": [
        "model_dt = DecisionTreeClassifier(random_state=42)\n",
        "model_dt.fit(X_train, y_train)"
      ],
      "metadata": {
        "colab": {
          "base_uri": "https://localhost:8080/",
          "height": 74
        },
        "id": "3jGxIZw0--4h",
        "outputId": "1023b1df-f27b-4b47-9baf-c3d0eb4656ca"
      },
      "execution_count": 509,
      "outputs": [
        {
          "output_type": "execute_result",
          "data": {
            "text/plain": [
              "DecisionTreeClassifier(random_state=42)"
            ],
            "text/html": [
              "<style>#sk-container-id-59 {color: black;}#sk-container-id-59 pre{padding: 0;}#sk-container-id-59 div.sk-toggleable {background-color: white;}#sk-container-id-59 label.sk-toggleable__label {cursor: pointer;display: block;width: 100%;margin-bottom: 0;padding: 0.3em;box-sizing: border-box;text-align: center;}#sk-container-id-59 label.sk-toggleable__label-arrow:before {content: \"▸\";float: left;margin-right: 0.25em;color: #696969;}#sk-container-id-59 label.sk-toggleable__label-arrow:hover:before {color: black;}#sk-container-id-59 div.sk-estimator:hover label.sk-toggleable__label-arrow:before {color: black;}#sk-container-id-59 div.sk-toggleable__content {max-height: 0;max-width: 0;overflow: hidden;text-align: left;background-color: #f0f8ff;}#sk-container-id-59 div.sk-toggleable__content pre {margin: 0.2em;color: black;border-radius: 0.25em;background-color: #f0f8ff;}#sk-container-id-59 input.sk-toggleable__control:checked~div.sk-toggleable__content {max-height: 200px;max-width: 100%;overflow: auto;}#sk-container-id-59 input.sk-toggleable__control:checked~label.sk-toggleable__label-arrow:before {content: \"▾\";}#sk-container-id-59 div.sk-estimator input.sk-toggleable__control:checked~label.sk-toggleable__label {background-color: #d4ebff;}#sk-container-id-59 div.sk-label input.sk-toggleable__control:checked~label.sk-toggleable__label {background-color: #d4ebff;}#sk-container-id-59 input.sk-hidden--visually {border: 0;clip: rect(1px 1px 1px 1px);clip: rect(1px, 1px, 1px, 1px);height: 1px;margin: -1px;overflow: hidden;padding: 0;position: absolute;width: 1px;}#sk-container-id-59 div.sk-estimator {font-family: monospace;background-color: #f0f8ff;border: 1px dotted black;border-radius: 0.25em;box-sizing: border-box;margin-bottom: 0.5em;}#sk-container-id-59 div.sk-estimator:hover {background-color: #d4ebff;}#sk-container-id-59 div.sk-parallel-item::after {content: \"\";width: 100%;border-bottom: 1px solid gray;flex-grow: 1;}#sk-container-id-59 div.sk-label:hover label.sk-toggleable__label {background-color: #d4ebff;}#sk-container-id-59 div.sk-serial::before {content: \"\";position: absolute;border-left: 1px solid gray;box-sizing: border-box;top: 0;bottom: 0;left: 50%;z-index: 0;}#sk-container-id-59 div.sk-serial {display: flex;flex-direction: column;align-items: center;background-color: white;padding-right: 0.2em;padding-left: 0.2em;position: relative;}#sk-container-id-59 div.sk-item {position: relative;z-index: 1;}#sk-container-id-59 div.sk-parallel {display: flex;align-items: stretch;justify-content: center;background-color: white;position: relative;}#sk-container-id-59 div.sk-item::before, #sk-container-id-59 div.sk-parallel-item::before {content: \"\";position: absolute;border-left: 1px solid gray;box-sizing: border-box;top: 0;bottom: 0;left: 50%;z-index: -1;}#sk-container-id-59 div.sk-parallel-item {display: flex;flex-direction: column;z-index: 1;position: relative;background-color: white;}#sk-container-id-59 div.sk-parallel-item:first-child::after {align-self: flex-end;width: 50%;}#sk-container-id-59 div.sk-parallel-item:last-child::after {align-self: flex-start;width: 50%;}#sk-container-id-59 div.sk-parallel-item:only-child::after {width: 0;}#sk-container-id-59 div.sk-dashed-wrapped {border: 1px dashed gray;margin: 0 0.4em 0.5em 0.4em;box-sizing: border-box;padding-bottom: 0.4em;background-color: white;}#sk-container-id-59 div.sk-label label {font-family: monospace;font-weight: bold;display: inline-block;line-height: 1.2em;}#sk-container-id-59 div.sk-label-container {text-align: center;}#sk-container-id-59 div.sk-container {/* jupyter's `normalize.less` sets `[hidden] { display: none; }` but bootstrap.min.css set `[hidden] { display: none !important; }` so we also need the `!important` here to be able to override the default hidden behavior on the sphinx rendered scikit-learn.org. See: https://github.com/scikit-learn/scikit-learn/issues/21755 */display: inline-block !important;position: relative;}#sk-container-id-59 div.sk-text-repr-fallback {display: none;}</style><div id=\"sk-container-id-59\" class=\"sk-top-container\"><div class=\"sk-text-repr-fallback\"><pre>DecisionTreeClassifier(random_state=42)</pre><b>In a Jupyter environment, please rerun this cell to show the HTML representation or trust the notebook. <br />On GitHub, the HTML representation is unable to render, please try loading this page with nbviewer.org.</b></div><div class=\"sk-container\" hidden><div class=\"sk-item\"><div class=\"sk-estimator sk-toggleable\"><input class=\"sk-toggleable__control sk-hidden--visually\" id=\"sk-estimator-id-83\" type=\"checkbox\" checked><label for=\"sk-estimator-id-83\" class=\"sk-toggleable__label sk-toggleable__label-arrow\">DecisionTreeClassifier</label><div class=\"sk-toggleable__content\"><pre>DecisionTreeClassifier(random_state=42)</pre></div></div></div></div></div>"
            ]
          },
          "metadata": {},
          "execution_count": 509
        }
      ]
    },
    {
      "cell_type": "markdown",
      "source": [
        "Next, I made predictions on training data. For that, I used `model_dt.predict(X_train)`. To calculate the accuracy of the model I used `accuracy_score(y_train, train_predictions_dt)`."
      ],
      "metadata": {
        "id": "_NPQ7QLw_TTY"
      }
    },
    {
      "cell_type": "code",
      "source": [
        "train_predictions_dt = model_dt.predict(X_train)\n",
        "train_accuracy_dt = accuracy_score(y_train, train_predictions_dt)"
      ],
      "metadata": {
        "id": "Ng13uhMT_0EI"
      },
      "execution_count": 510,
      "outputs": []
    },
    {
      "cell_type": "markdown",
      "source": [
        "Next I made predictions on test data. For that I used `model_dt.predict(X_test)`. To calculate the accuracy of the model, I used `accuracy_score(y_test, y_test_pred_dt)`."
      ],
      "metadata": {
        "id": "bGlGkn60_rue"
      }
    },
    {
      "cell_type": "code",
      "source": [
        "y_test_pred_dt = model_dt.predict(X_test)\n",
        "test_accuracy_dt = accuracy_score(y_test, y_test_pred_dt)"
      ],
      "metadata": {
        "id": "T0q79puMA30B"
      },
      "execution_count": 511,
      "outputs": []
    },
    {
      "cell_type": "markdown",
      "source": [
        "The below code output the training accuracy and test accuracy of the Decision Tree model."
      ],
      "metadata": {
        "id": "CLyDdR6rBP-Z"
      }
    },
    {
      "cell_type": "code",
      "source": [
        "print(f'Training Accuracy: {train_accuracy_dt:.4f}')\n",
        "print(f'Test Accuracy: {test_accuracy_dt:.4f}')"
      ],
      "metadata": {
        "colab": {
          "base_uri": "https://localhost:8080/"
        },
        "id": "PDV8L7FP_4dw",
        "outputId": "3cfda2a4-1f03-4f59-e85e-1c23e75ea156"
      },
      "execution_count": 512,
      "outputs": [
        {
          "output_type": "stream",
          "name": "stdout",
          "text": [
            "Training Accuracy: 0.9973\n",
            "Test Accuracy: 0.7270\n"
          ]
        }
      ]
    },
    {
      "cell_type": "markdown",
      "source": [
        "The high training accuracy often suggests that the model might be overfitting the training data, capturing noise or overly specific patterns that might not generalize well.\n",
        "\n",
        "The test accuracy indicating that the model performs reasonably well on unseen data.\n",
        "\n",
        "However, there is a noticeable gap between test accuracy and training accuracy, which reinforces the idea that the model might be overfitting the training data."
      ],
      "metadata": {
        "id": "2f6OOTRFBzqw"
      }
    },
    {
      "cell_type": "markdown",
      "source": [
        "Therefore, I did hyperparameter tuning for Decision Tree model."
      ],
      "metadata": {
        "id": "Y4Rj9XEhGi4H"
      }
    },
    {
      "cell_type": "markdown",
      "source": [
        "## **Hyperparameter Tuning**"
      ],
      "metadata": {
        "id": "xiA7lhNJGrl9"
      }
    },
    {
      "cell_type": "markdown",
      "source": [
        "Hyperparameter tuning is a process in machine learning that involves finding the best values for a learning algorithm's hyperparameters. Hyperparameters are specific to the algorithm and cannot be calculated from the data. Tuning hyperparameters can help ensure that the model performs well and produces the best possible results."
      ],
      "metadata": {
        "id": "mj5wx2TbG0YI"
      }
    },
    {
      "cell_type": "markdown",
      "source": [
        "I tuned the maximum depth of the tree (`max_depth`), the minimum samples required to split an internal node (`min_samples_split`), and the minimum samples required to be at a leaf node (`min_samples_leaf`)."
      ],
      "metadata": {
        "id": "JXiDAnXFG78e"
      }
    },
    {
      "cell_type": "code",
      "source": [
        "param_grids_dt = {\n",
        "    'max_depth': [None, 10, 20, 30],\n",
        "    'min_samples_split': [2, 5, 10],\n",
        "    'min_samples_leaf': [1, 2, 4]\n",
        "}"
      ],
      "metadata": {
        "id": "3z_a_-ClHFCw"
      },
      "execution_count": 513,
      "outputs": []
    },
    {
      "cell_type": "markdown",
      "source": [
        "The `grid_search_dt` will creates a `GridSearchCV` object with Decision Tree model and the specified hyperparameter grid. It uses 5-fold cross-validation (`cv=5`) to evaluate the performance of each combination of parameters, optimizing for accuracy (`scoring='accuracy'`)."
      ],
      "metadata": {
        "id": "qBViiYtlHJk0"
      }
    },
    {
      "cell_type": "code",
      "source": [
        "grid_search_dt = GridSearchCV(DecisionTreeClassifier(random_state=42), param_grids_dt, cv=5, scoring='accuracy')\n",
        "grid_search_dt.fit(X_train, y_train)"
      ],
      "metadata": {
        "colab": {
          "base_uri": "https://localhost:8080/",
          "height": 117
        },
        "id": "B-cpY7R9HOtJ",
        "outputId": "fe974bcd-784c-4926-cf92-8aaaf27e3f47"
      },
      "execution_count": 514,
      "outputs": [
        {
          "output_type": "execute_result",
          "data": {
            "text/plain": [
              "GridSearchCV(cv=5, estimator=DecisionTreeClassifier(random_state=42),\n",
              "             param_grid={'max_depth': [None, 10, 20, 30],\n",
              "                         'min_samples_leaf': [1, 2, 4],\n",
              "                         'min_samples_split': [2, 5, 10]},\n",
              "             scoring='accuracy')"
            ],
            "text/html": [
              "<style>#sk-container-id-60 {color: black;}#sk-container-id-60 pre{padding: 0;}#sk-container-id-60 div.sk-toggleable {background-color: white;}#sk-container-id-60 label.sk-toggleable__label {cursor: pointer;display: block;width: 100%;margin-bottom: 0;padding: 0.3em;box-sizing: border-box;text-align: center;}#sk-container-id-60 label.sk-toggleable__label-arrow:before {content: \"▸\";float: left;margin-right: 0.25em;color: #696969;}#sk-container-id-60 label.sk-toggleable__label-arrow:hover:before {color: black;}#sk-container-id-60 div.sk-estimator:hover label.sk-toggleable__label-arrow:before {color: black;}#sk-container-id-60 div.sk-toggleable__content {max-height: 0;max-width: 0;overflow: hidden;text-align: left;background-color: #f0f8ff;}#sk-container-id-60 div.sk-toggleable__content pre {margin: 0.2em;color: black;border-radius: 0.25em;background-color: #f0f8ff;}#sk-container-id-60 input.sk-toggleable__control:checked~div.sk-toggleable__content {max-height: 200px;max-width: 100%;overflow: auto;}#sk-container-id-60 input.sk-toggleable__control:checked~label.sk-toggleable__label-arrow:before {content: \"▾\";}#sk-container-id-60 div.sk-estimator input.sk-toggleable__control:checked~label.sk-toggleable__label {background-color: #d4ebff;}#sk-container-id-60 div.sk-label input.sk-toggleable__control:checked~label.sk-toggleable__label {background-color: #d4ebff;}#sk-container-id-60 input.sk-hidden--visually {border: 0;clip: rect(1px 1px 1px 1px);clip: rect(1px, 1px, 1px, 1px);height: 1px;margin: -1px;overflow: hidden;padding: 0;position: absolute;width: 1px;}#sk-container-id-60 div.sk-estimator {font-family: monospace;background-color: #f0f8ff;border: 1px dotted black;border-radius: 0.25em;box-sizing: border-box;margin-bottom: 0.5em;}#sk-container-id-60 div.sk-estimator:hover {background-color: #d4ebff;}#sk-container-id-60 div.sk-parallel-item::after {content: \"\";width: 100%;border-bottom: 1px solid gray;flex-grow: 1;}#sk-container-id-60 div.sk-label:hover label.sk-toggleable__label {background-color: #d4ebff;}#sk-container-id-60 div.sk-serial::before {content: \"\";position: absolute;border-left: 1px solid gray;box-sizing: border-box;top: 0;bottom: 0;left: 50%;z-index: 0;}#sk-container-id-60 div.sk-serial {display: flex;flex-direction: column;align-items: center;background-color: white;padding-right: 0.2em;padding-left: 0.2em;position: relative;}#sk-container-id-60 div.sk-item {position: relative;z-index: 1;}#sk-container-id-60 div.sk-parallel {display: flex;align-items: stretch;justify-content: center;background-color: white;position: relative;}#sk-container-id-60 div.sk-item::before, #sk-container-id-60 div.sk-parallel-item::before {content: \"\";position: absolute;border-left: 1px solid gray;box-sizing: border-box;top: 0;bottom: 0;left: 50%;z-index: -1;}#sk-container-id-60 div.sk-parallel-item {display: flex;flex-direction: column;z-index: 1;position: relative;background-color: white;}#sk-container-id-60 div.sk-parallel-item:first-child::after {align-self: flex-end;width: 50%;}#sk-container-id-60 div.sk-parallel-item:last-child::after {align-self: flex-start;width: 50%;}#sk-container-id-60 div.sk-parallel-item:only-child::after {width: 0;}#sk-container-id-60 div.sk-dashed-wrapped {border: 1px dashed gray;margin: 0 0.4em 0.5em 0.4em;box-sizing: border-box;padding-bottom: 0.4em;background-color: white;}#sk-container-id-60 div.sk-label label {font-family: monospace;font-weight: bold;display: inline-block;line-height: 1.2em;}#sk-container-id-60 div.sk-label-container {text-align: center;}#sk-container-id-60 div.sk-container {/* jupyter's `normalize.less` sets `[hidden] { display: none; }` but bootstrap.min.css set `[hidden] { display: none !important; }` so we also need the `!important` here to be able to override the default hidden behavior on the sphinx rendered scikit-learn.org. See: https://github.com/scikit-learn/scikit-learn/issues/21755 */display: inline-block !important;position: relative;}#sk-container-id-60 div.sk-text-repr-fallback {display: none;}</style><div id=\"sk-container-id-60\" class=\"sk-top-container\"><div class=\"sk-text-repr-fallback\"><pre>GridSearchCV(cv=5, estimator=DecisionTreeClassifier(random_state=42),\n",
              "             param_grid={&#x27;max_depth&#x27;: [None, 10, 20, 30],\n",
              "                         &#x27;min_samples_leaf&#x27;: [1, 2, 4],\n",
              "                         &#x27;min_samples_split&#x27;: [2, 5, 10]},\n",
              "             scoring=&#x27;accuracy&#x27;)</pre><b>In a Jupyter environment, please rerun this cell to show the HTML representation or trust the notebook. <br />On GitHub, the HTML representation is unable to render, please try loading this page with nbviewer.org.</b></div><div class=\"sk-container\" hidden><div class=\"sk-item sk-dashed-wrapped\"><div class=\"sk-label-container\"><div class=\"sk-label sk-toggleable\"><input class=\"sk-toggleable__control sk-hidden--visually\" id=\"sk-estimator-id-84\" type=\"checkbox\" ><label for=\"sk-estimator-id-84\" class=\"sk-toggleable__label sk-toggleable__label-arrow\">GridSearchCV</label><div class=\"sk-toggleable__content\"><pre>GridSearchCV(cv=5, estimator=DecisionTreeClassifier(random_state=42),\n",
              "             param_grid={&#x27;max_depth&#x27;: [None, 10, 20, 30],\n",
              "                         &#x27;min_samples_leaf&#x27;: [1, 2, 4],\n",
              "                         &#x27;min_samples_split&#x27;: [2, 5, 10]},\n",
              "             scoring=&#x27;accuracy&#x27;)</pre></div></div></div><div class=\"sk-parallel\"><div class=\"sk-parallel-item\"><div class=\"sk-item\"><div class=\"sk-label-container\"><div class=\"sk-label sk-toggleable\"><input class=\"sk-toggleable__control sk-hidden--visually\" id=\"sk-estimator-id-85\" type=\"checkbox\" ><label for=\"sk-estimator-id-85\" class=\"sk-toggleable__label sk-toggleable__label-arrow\">estimator: DecisionTreeClassifier</label><div class=\"sk-toggleable__content\"><pre>DecisionTreeClassifier(random_state=42)</pre></div></div></div><div class=\"sk-serial\"><div class=\"sk-item\"><div class=\"sk-estimator sk-toggleable\"><input class=\"sk-toggleable__control sk-hidden--visually\" id=\"sk-estimator-id-86\" type=\"checkbox\" ><label for=\"sk-estimator-id-86\" class=\"sk-toggleable__label sk-toggleable__label-arrow\">DecisionTreeClassifier</label><div class=\"sk-toggleable__content\"><pre>DecisionTreeClassifier(random_state=42)</pre></div></div></div></div></div></div></div></div></div></div>"
            ]
          },
          "metadata": {},
          "execution_count": 514
        }
      ]
    },
    {
      "cell_type": "markdown",
      "source": [
        "I outputted the best parameter and best cross validation accuracy for Decision Tree model."
      ],
      "metadata": {
        "id": "Y0RVTA5OHYsb"
      }
    },
    {
      "cell_type": "code",
      "source": [
        "print(f'Best parameters: {grid_search_dt.best_params_}')\n",
        "print(f'Best cross-validation accuracy: {grid_search_dt.best_score_:.4f}\\n')"
      ],
      "metadata": {
        "colab": {
          "base_uri": "https://localhost:8080/"
        },
        "id": "krvDwElYHTyH",
        "outputId": "9418fae7-e338-4358-832a-b4b27c95b8e3"
      },
      "execution_count": 515,
      "outputs": [
        {
          "output_type": "stream",
          "name": "stdout",
          "text": [
            "Best parameters: {'max_depth': 10, 'min_samples_leaf': 4, 'min_samples_split': 10}\n",
            "Best cross-validation accuracy: 0.7349\n",
            "\n"
          ]
        }
      ]
    },
    {
      "cell_type": "markdown",
      "source": [
        "To evaluate the performance of the best Decision Tree model identified by `GridSearchCV` on the test data, I retrieved best model from the grid search using `best_estimator_`."
      ],
      "metadata": {
        "id": "-1nLB5XfH-4p"
      }
    },
    {
      "cell_type": "code",
      "source": [
        "best_model_dt = grid_search_dt.best_estimator_"
      ],
      "metadata": {
        "id": "54-wsTlNH_lK"
      },
      "execution_count": 516,
      "outputs": []
    },
    {
      "cell_type": "markdown",
      "source": [
        "Next, I used to make predictions on the test data (`X_test`)."
      ],
      "metadata": {
        "id": "rY0AKYDUILGw"
      }
    },
    {
      "cell_type": "code",
      "source": [
        "y_pred_dt = best_model_dt.predict(X_test)"
      ],
      "metadata": {
        "id": "ZaIiujQyIMB4"
      },
      "execution_count": 517,
      "outputs": []
    },
    {
      "cell_type": "markdown",
      "source": [
        "I calculated and outputed the performance metrics of the Decision Tree model.\n",
        "\n",
        "Performance metrics are used to evaluate how well your model performs on the given data. Common metrics include:\n",
        "*   Accuracy: The proportion of correctly classified instances.\n",
        "*   Precision: The proportion of true positive predictions relative to the total positive predictions.\n",
        "*   Recall (Sensitivity): The proportion of true positive predictions relative to the total actual positives.\n",
        "*   F1 Score: The harmonic mean of precision and recall, balancing the two metrics.\n",
        "*   AUC-ROC: A performance measurement for classification problems at various threshold settings.\n",
        "\n",
        "\n",
        "\n",
        "\n",
        "\n",
        "\n",
        "\n",
        "\n",
        "\n"
      ],
      "metadata": {
        "id": "1Wo5F45FIVz0"
      }
    },
    {
      "cell_type": "code",
      "source": [
        "accuracy_dt = accuracy_score(y_test, y_pred_dt)\n",
        "precision_dt = precision_score(y_test, y_pred_dt)\n",
        "recall_dt = recall_score(y_test, y_pred_dt)\n",
        "f1_dt  = f1_score(y_test, y_pred_dt)\n",
        "roc_auc_dt  = roc_auc_score(y_test, best_model_dt.predict_proba(X_test)[:, 1])\n",
        "\n",
        "print(f'Accuracy: {accuracy_dt :.4f}')\n",
        "print(f'Precision: {precision_dt :.4f}')\n",
        "print(f'Recall: {recall_dt:.4f}')\n",
        "print(f'F1 Score: {f1_dt :.4f}')\n",
        "print(f'ROC AUC: {roc_auc_dt :.4f}')"
      ],
      "metadata": {
        "colab": {
          "base_uri": "https://localhost:8080/"
        },
        "id": "nasInfu-IWxq",
        "outputId": "29d8e4f4-206b-4025-a346-47e82d557fe9"
      },
      "execution_count": 518,
      "outputs": [
        {
          "output_type": "stream",
          "name": "stdout",
          "text": [
            "Accuracy: 0.7234\n",
            "Precision: 0.4769\n",
            "Recall: 0.4133\n",
            "F1 Score: 0.4429\n",
            "ROC AUC: 0.6654\n"
          ]
        }
      ]
    },
    {
      "cell_type": "markdown",
      "source": [
        "The above output indicates the performance metrics of the best Decision Tree model."
      ],
      "metadata": {
        "id": "ygAogzabzXpJ"
      }
    },
    {
      "cell_type": "markdown",
      "source": [
        "To find if the best Decision Tree model is overfitting or underfitting, I started with train the model using train data."
      ],
      "metadata": {
        "id": "mThIFEB_E2Ul"
      }
    },
    {
      "cell_type": "code",
      "source": [
        "best_model_dt.fit(X_train, y_train)"
      ],
      "metadata": {
        "colab": {
          "base_uri": "https://localhost:8080/",
          "height": 92
        },
        "id": "pxTb4XbKEg3s",
        "outputId": "dd8639e8-e614-4f6d-8632-bd253b536f77"
      },
      "execution_count": 519,
      "outputs": [
        {
          "output_type": "execute_result",
          "data": {
            "text/plain": [
              "DecisionTreeClassifier(max_depth=10, min_samples_leaf=4, min_samples_split=10,\n",
              "                       random_state=42)"
            ],
            "text/html": [
              "<style>#sk-container-id-61 {color: black;}#sk-container-id-61 pre{padding: 0;}#sk-container-id-61 div.sk-toggleable {background-color: white;}#sk-container-id-61 label.sk-toggleable__label {cursor: pointer;display: block;width: 100%;margin-bottom: 0;padding: 0.3em;box-sizing: border-box;text-align: center;}#sk-container-id-61 label.sk-toggleable__label-arrow:before {content: \"▸\";float: left;margin-right: 0.25em;color: #696969;}#sk-container-id-61 label.sk-toggleable__label-arrow:hover:before {color: black;}#sk-container-id-61 div.sk-estimator:hover label.sk-toggleable__label-arrow:before {color: black;}#sk-container-id-61 div.sk-toggleable__content {max-height: 0;max-width: 0;overflow: hidden;text-align: left;background-color: #f0f8ff;}#sk-container-id-61 div.sk-toggleable__content pre {margin: 0.2em;color: black;border-radius: 0.25em;background-color: #f0f8ff;}#sk-container-id-61 input.sk-toggleable__control:checked~div.sk-toggleable__content {max-height: 200px;max-width: 100%;overflow: auto;}#sk-container-id-61 input.sk-toggleable__control:checked~label.sk-toggleable__label-arrow:before {content: \"▾\";}#sk-container-id-61 div.sk-estimator input.sk-toggleable__control:checked~label.sk-toggleable__label {background-color: #d4ebff;}#sk-container-id-61 div.sk-label input.sk-toggleable__control:checked~label.sk-toggleable__label {background-color: #d4ebff;}#sk-container-id-61 input.sk-hidden--visually {border: 0;clip: rect(1px 1px 1px 1px);clip: rect(1px, 1px, 1px, 1px);height: 1px;margin: -1px;overflow: hidden;padding: 0;position: absolute;width: 1px;}#sk-container-id-61 div.sk-estimator {font-family: monospace;background-color: #f0f8ff;border: 1px dotted black;border-radius: 0.25em;box-sizing: border-box;margin-bottom: 0.5em;}#sk-container-id-61 div.sk-estimator:hover {background-color: #d4ebff;}#sk-container-id-61 div.sk-parallel-item::after {content: \"\";width: 100%;border-bottom: 1px solid gray;flex-grow: 1;}#sk-container-id-61 div.sk-label:hover label.sk-toggleable__label {background-color: #d4ebff;}#sk-container-id-61 div.sk-serial::before {content: \"\";position: absolute;border-left: 1px solid gray;box-sizing: border-box;top: 0;bottom: 0;left: 50%;z-index: 0;}#sk-container-id-61 div.sk-serial {display: flex;flex-direction: column;align-items: center;background-color: white;padding-right: 0.2em;padding-left: 0.2em;position: relative;}#sk-container-id-61 div.sk-item {position: relative;z-index: 1;}#sk-container-id-61 div.sk-parallel {display: flex;align-items: stretch;justify-content: center;background-color: white;position: relative;}#sk-container-id-61 div.sk-item::before, #sk-container-id-61 div.sk-parallel-item::before {content: \"\";position: absolute;border-left: 1px solid gray;box-sizing: border-box;top: 0;bottom: 0;left: 50%;z-index: -1;}#sk-container-id-61 div.sk-parallel-item {display: flex;flex-direction: column;z-index: 1;position: relative;background-color: white;}#sk-container-id-61 div.sk-parallel-item:first-child::after {align-self: flex-end;width: 50%;}#sk-container-id-61 div.sk-parallel-item:last-child::after {align-self: flex-start;width: 50%;}#sk-container-id-61 div.sk-parallel-item:only-child::after {width: 0;}#sk-container-id-61 div.sk-dashed-wrapped {border: 1px dashed gray;margin: 0 0.4em 0.5em 0.4em;box-sizing: border-box;padding-bottom: 0.4em;background-color: white;}#sk-container-id-61 div.sk-label label {font-family: monospace;font-weight: bold;display: inline-block;line-height: 1.2em;}#sk-container-id-61 div.sk-label-container {text-align: center;}#sk-container-id-61 div.sk-container {/* jupyter's `normalize.less` sets `[hidden] { display: none; }` but bootstrap.min.css set `[hidden] { display: none !important; }` so we also need the `!important` here to be able to override the default hidden behavior on the sphinx rendered scikit-learn.org. See: https://github.com/scikit-learn/scikit-learn/issues/21755 */display: inline-block !important;position: relative;}#sk-container-id-61 div.sk-text-repr-fallback {display: none;}</style><div id=\"sk-container-id-61\" class=\"sk-top-container\"><div class=\"sk-text-repr-fallback\"><pre>DecisionTreeClassifier(max_depth=10, min_samples_leaf=4, min_samples_split=10,\n",
              "                       random_state=42)</pre><b>In a Jupyter environment, please rerun this cell to show the HTML representation or trust the notebook. <br />On GitHub, the HTML representation is unable to render, please try loading this page with nbviewer.org.</b></div><div class=\"sk-container\" hidden><div class=\"sk-item\"><div class=\"sk-estimator sk-toggleable\"><input class=\"sk-toggleable__control sk-hidden--visually\" id=\"sk-estimator-id-87\" type=\"checkbox\" checked><label for=\"sk-estimator-id-87\" class=\"sk-toggleable__label sk-toggleable__label-arrow\">DecisionTreeClassifier</label><div class=\"sk-toggleable__content\"><pre>DecisionTreeClassifier(max_depth=10, min_samples_leaf=4, min_samples_split=10,\n",
              "                       random_state=42)</pre></div></div></div></div></div>"
            ]
          },
          "metadata": {},
          "execution_count": 519
        }
      ]
    },
    {
      "cell_type": "markdown",
      "source": [
        "To check if the best Decision Tree model works well or not, I made predictions on training data. For that, I used `best_model_rf.predict(X_train)`. To calculate the accuracy of the model I used `accuracy_score(y_train, train_predictions_rf)`."
      ],
      "metadata": {
        "id": "WchMygZg0xbP"
      }
    },
    {
      "cell_type": "code",
      "source": [
        "best_train_predictions_dt = best_model_dt.predict(X_train)\n",
        "best_train_accuracy_dt = accuracy_score(y_train, best_train_predictions_dt)"
      ],
      "metadata": {
        "id": "I2QW38c9IgnQ"
      },
      "execution_count": 520,
      "outputs": []
    },
    {
      "cell_type": "markdown",
      "source": [
        "Next I made predictions on test data. For that I used `best_model_rf.predict(X_test)`. To calculate the accuracy of the model, I used `accuracy_score(y_test, y_test_pred_rf)`."
      ],
      "metadata": {
        "id": "jiMG0AqQ0y_G"
      }
    },
    {
      "cell_type": "code",
      "source": [
        "best_y_test_pred_dt = best_model_dt.predict(X_test)\n",
        "best_test_accuracy_dt = accuracy_score(y_test, best_y_test_pred_dt)"
      ],
      "metadata": {
        "id": "rhRjjKybI2aU"
      },
      "execution_count": 521,
      "outputs": []
    },
    {
      "cell_type": "markdown",
      "source": [
        "The below code output the training accuracy and test accuracy of the\n",
        "best Decision Tree model."
      ],
      "metadata": {
        "id": "bNAVf36d1cSi"
      }
    },
    {
      "cell_type": "code",
      "source": [
        "print(f'Training Accuracy: {best_train_accuracy_dt:.4f}')\n",
        "print(f'Test Accuracy: {best_test_accuracy_dt:.4f}')"
      ],
      "metadata": {
        "colab": {
          "base_uri": "https://localhost:8080/"
        },
        "id": "mY6Bab6OKLYd",
        "outputId": "4c8ed577-7ceb-4bba-bd64-8e0705ecb123"
      },
      "execution_count": 522,
      "outputs": [
        {
          "output_type": "stream",
          "name": "stdout",
          "text": [
            "Training Accuracy: 0.8843\n",
            "Test Accuracy: 0.7234\n"
          ]
        }
      ]
    },
    {
      "cell_type": "markdown",
      "source": [
        "After hyperparameter tuning, the training accuracy decreased to 0.8843, while the test accuracy improved slightly to 0.7234. The decrease in training accuracy suggests that the model has become less complex and is no longer overfitting as severely. The test accuracy's slight improvement indicates better generalization to unseen data."
      ],
      "metadata": {
        "id": "HtWnlfYt0XtR"
      }
    },
    {
      "cell_type": "markdown",
      "source": [
        "Overall, hyperparameter tuning has helped reduce overfitting and improved the model's reliability on unseen data. But still the model is showing signs of overfitting. Therefore, Decision Tree model is not that much suitable for our project."
      ],
      "metadata": {
        "id": "KZkjjmlO1zjX"
      }
    },
    {
      "cell_type": "markdown",
      "source": [
        "# **3. Random Forest**"
      ],
      "metadata": {
        "id": "KhmfLdMj32NT"
      }
    },
    {
      "cell_type": "markdown",
      "source": [
        "## **Cross-Validation**"
      ],
      "metadata": {
        "id": "h0GdeUvD4Ii3"
      }
    },
    {
      "cell_type": "markdown",
      "source": [
        "In below code `cross_val_socre` runs the Random Forest model on the dataset `X_scaled, y `using the 5-fold cross-validation strategy defined by `kf`."
      ],
      "metadata": {
        "id": "NBkzouo04NsQ"
      }
    },
    {
      "cell_type": "code",
      "source": [
        "cv_scores_rf = cross_val_score(RandomForestClassifier(random_state=42), X_scaled, y, cv=kf, scoring='accuracy')"
      ],
      "metadata": {
        "id": "QoQm_8gk5DrH"
      },
      "execution_count": 523,
      "outputs": []
    },
    {
      "cell_type": "markdown",
      "source": [
        "Next, I outputted the cross-validation accuracy."
      ],
      "metadata": {
        "id": "dCsgy_bh5Jo5"
      }
    },
    {
      "cell_type": "code",
      "source": [
        "print(f'Cross-Validation Accuracy: {cv_scores_rf.mean():.4f} ± {cv_scores_rf.std():.4f}')"
      ],
      "metadata": {
        "colab": {
          "base_uri": "https://localhost:8080/"
        },
        "id": "KbPl_deu5M45",
        "outputId": "d1e34ac5-608e-45ea-cc8b-15de0ea41f3f"
      },
      "execution_count": 524,
      "outputs": [
        {
          "output_type": "stream",
          "name": "stdout",
          "text": [
            "Cross-Validation Accuracy: 0.7689 ± 0.0115\n"
          ]
        }
      ]
    },
    {
      "cell_type": "markdown",
      "source": [
        "The output indicates that the model consistently performs well across different subsets of the data."
      ],
      "metadata": {
        "id": "yttu8ax95luQ"
      }
    },
    {
      "cell_type": "markdown",
      "source": [
        "## **Analyze Overfitting and Underfitting**"
      ],
      "metadata": {
        "id": "vavXVxhV55TK"
      }
    },
    {
      "cell_type": "markdown",
      "source": [
        "To find if the Random Forest model is overfitting or underfitting, I started with train the model using train data."
      ],
      "metadata": {
        "id": "8tIB9mOn6Dj4"
      }
    },
    {
      "cell_type": "code",
      "source": [
        "model_rf = RandomForestClassifier(random_state=42)\n",
        "model_rf.fit(X_train, y_train)"
      ],
      "metadata": {
        "colab": {
          "base_uri": "https://localhost:8080/",
          "height": 74
        },
        "id": "A6VgVtPZ6ufi",
        "outputId": "44816d4f-d988-4b6d-ef8c-da2a6c544a7e"
      },
      "execution_count": 525,
      "outputs": [
        {
          "output_type": "execute_result",
          "data": {
            "text/plain": [
              "RandomForestClassifier(random_state=42)"
            ],
            "text/html": [
              "<style>#sk-container-id-62 {color: black;}#sk-container-id-62 pre{padding: 0;}#sk-container-id-62 div.sk-toggleable {background-color: white;}#sk-container-id-62 label.sk-toggleable__label {cursor: pointer;display: block;width: 100%;margin-bottom: 0;padding: 0.3em;box-sizing: border-box;text-align: center;}#sk-container-id-62 label.sk-toggleable__label-arrow:before {content: \"▸\";float: left;margin-right: 0.25em;color: #696969;}#sk-container-id-62 label.sk-toggleable__label-arrow:hover:before {color: black;}#sk-container-id-62 div.sk-estimator:hover label.sk-toggleable__label-arrow:before {color: black;}#sk-container-id-62 div.sk-toggleable__content {max-height: 0;max-width: 0;overflow: hidden;text-align: left;background-color: #f0f8ff;}#sk-container-id-62 div.sk-toggleable__content pre {margin: 0.2em;color: black;border-radius: 0.25em;background-color: #f0f8ff;}#sk-container-id-62 input.sk-toggleable__control:checked~div.sk-toggleable__content {max-height: 200px;max-width: 100%;overflow: auto;}#sk-container-id-62 input.sk-toggleable__control:checked~label.sk-toggleable__label-arrow:before {content: \"▾\";}#sk-container-id-62 div.sk-estimator input.sk-toggleable__control:checked~label.sk-toggleable__label {background-color: #d4ebff;}#sk-container-id-62 div.sk-label input.sk-toggleable__control:checked~label.sk-toggleable__label {background-color: #d4ebff;}#sk-container-id-62 input.sk-hidden--visually {border: 0;clip: rect(1px 1px 1px 1px);clip: rect(1px, 1px, 1px, 1px);height: 1px;margin: -1px;overflow: hidden;padding: 0;position: absolute;width: 1px;}#sk-container-id-62 div.sk-estimator {font-family: monospace;background-color: #f0f8ff;border: 1px dotted black;border-radius: 0.25em;box-sizing: border-box;margin-bottom: 0.5em;}#sk-container-id-62 div.sk-estimator:hover {background-color: #d4ebff;}#sk-container-id-62 div.sk-parallel-item::after {content: \"\";width: 100%;border-bottom: 1px solid gray;flex-grow: 1;}#sk-container-id-62 div.sk-label:hover label.sk-toggleable__label {background-color: #d4ebff;}#sk-container-id-62 div.sk-serial::before {content: \"\";position: absolute;border-left: 1px solid gray;box-sizing: border-box;top: 0;bottom: 0;left: 50%;z-index: 0;}#sk-container-id-62 div.sk-serial {display: flex;flex-direction: column;align-items: center;background-color: white;padding-right: 0.2em;padding-left: 0.2em;position: relative;}#sk-container-id-62 div.sk-item {position: relative;z-index: 1;}#sk-container-id-62 div.sk-parallel {display: flex;align-items: stretch;justify-content: center;background-color: white;position: relative;}#sk-container-id-62 div.sk-item::before, #sk-container-id-62 div.sk-parallel-item::before {content: \"\";position: absolute;border-left: 1px solid gray;box-sizing: border-box;top: 0;bottom: 0;left: 50%;z-index: -1;}#sk-container-id-62 div.sk-parallel-item {display: flex;flex-direction: column;z-index: 1;position: relative;background-color: white;}#sk-container-id-62 div.sk-parallel-item:first-child::after {align-self: flex-end;width: 50%;}#sk-container-id-62 div.sk-parallel-item:last-child::after {align-self: flex-start;width: 50%;}#sk-container-id-62 div.sk-parallel-item:only-child::after {width: 0;}#sk-container-id-62 div.sk-dashed-wrapped {border: 1px dashed gray;margin: 0 0.4em 0.5em 0.4em;box-sizing: border-box;padding-bottom: 0.4em;background-color: white;}#sk-container-id-62 div.sk-label label {font-family: monospace;font-weight: bold;display: inline-block;line-height: 1.2em;}#sk-container-id-62 div.sk-label-container {text-align: center;}#sk-container-id-62 div.sk-container {/* jupyter's `normalize.less` sets `[hidden] { display: none; }` but bootstrap.min.css set `[hidden] { display: none !important; }` so we also need the `!important` here to be able to override the default hidden behavior on the sphinx rendered scikit-learn.org. See: https://github.com/scikit-learn/scikit-learn/issues/21755 */display: inline-block !important;position: relative;}#sk-container-id-62 div.sk-text-repr-fallback {display: none;}</style><div id=\"sk-container-id-62\" class=\"sk-top-container\"><div class=\"sk-text-repr-fallback\"><pre>RandomForestClassifier(random_state=42)</pre><b>In a Jupyter environment, please rerun this cell to show the HTML representation or trust the notebook. <br />On GitHub, the HTML representation is unable to render, please try loading this page with nbviewer.org.</b></div><div class=\"sk-container\" hidden><div class=\"sk-item\"><div class=\"sk-estimator sk-toggleable\"><input class=\"sk-toggleable__control sk-hidden--visually\" id=\"sk-estimator-id-88\" type=\"checkbox\" checked><label for=\"sk-estimator-id-88\" class=\"sk-toggleable__label sk-toggleable__label-arrow\">RandomForestClassifier</label><div class=\"sk-toggleable__content\"><pre>RandomForestClassifier(random_state=42)</pre></div></div></div></div></div>"
            ]
          },
          "metadata": {},
          "execution_count": 525
        }
      ]
    },
    {
      "cell_type": "markdown",
      "source": [
        "Next, I made predictions on training data. For that, I used `model_rf.predict(X_train)`. To calculate the accuracy of the model I used `accuracy_score(y_train, train_predictions_dt)`."
      ],
      "metadata": {
        "id": "9tU5grpb64U7"
      }
    },
    {
      "cell_type": "code",
      "source": [
        "train_predictions_rf = model_rf.predict(X_train)\n",
        "train_accuracy_rf = accuracy_score(y_train, train_predictions_rf)"
      ],
      "metadata": {
        "id": "s29FWBv87AW9"
      },
      "execution_count": 526,
      "outputs": []
    },
    {
      "cell_type": "markdown",
      "source": [
        "Next I made predictions on test data. For that I used `model_rf.predict(X_test)`. To calculate the accuracy of the model, I used `accuracy_score(y_test, y_test_pred_rf)`."
      ],
      "metadata": {
        "id": "aNQvrPhD7RZU"
      }
    },
    {
      "cell_type": "code",
      "source": [
        "y_test_pred_rf = model_rf.predict(X_test)\n",
        "test_accuracy_rf = accuracy_score(y_test, y_test_pred_rf)"
      ],
      "metadata": {
        "id": "jNRLujRn7a8i"
      },
      "execution_count": 527,
      "outputs": []
    },
    {
      "cell_type": "markdown",
      "source": [
        "The below code output the training accuracy and test accuracy of the Random Forest model."
      ],
      "metadata": {
        "id": "WzZV604k7iSx"
      }
    },
    {
      "cell_type": "code",
      "source": [
        "print(f'Training Accuracy: {train_accuracy_rf:.4f}')\n",
        "print(f'Test Accuracy: {test_accuracy_rf:.4f}')"
      ],
      "metadata": {
        "colab": {
          "base_uri": "https://localhost:8080/"
        },
        "id": "V2UaKDRo75LH",
        "outputId": "f037bc24-dd24-4593-9c8f-23e36074197b"
      },
      "execution_count": 528,
      "outputs": [
        {
          "output_type": "stream",
          "name": "stdout",
          "text": [
            "Training Accuracy: 0.9973\n",
            "Test Accuracy: 0.7730\n"
          ]
        }
      ]
    },
    {
      "cell_type": "markdown",
      "source": [
        "The model performs exceptionally well on the training data, which could indicate overfitting, as it's nearly perfect on the data it was trained on.\n",
        "\n",
        "The model's performance on unseen data is significantly lower than on the training data. This accuracy is fairly close to the cross-validation accuracy, suggesting some generalization but still indicating potential overfitting.\n",
        "\n",
        "Therefore, I performed hyperparameter tuning for Random Forest model."
      ],
      "metadata": {
        "id": "zkiviION795C"
      }
    },
    {
      "cell_type": "markdown",
      "source": [
        "## **Hyperparameter Tuning**"
      ],
      "metadata": {
        "id": "FB7N8S9KAVrL"
      }
    },
    {
      "cell_type": "markdown",
      "source": [
        "The `param_grids_rf` of Random Forest model is similar to the Decision Tree but with an additional parameter for the number of trees (n_estimators)."
      ],
      "metadata": {
        "id": "Mh9fUGLjAaDB"
      }
    },
    {
      "cell_type": "code",
      "source": [
        "param_grids_rf = {\n",
        "    'n_estimators': [100, 200, 300],\n",
        "    'max_depth': [None, 10, 20, 30],\n",
        "    'min_samples_split': [2, 5, 10],\n",
        "    'min_samples_leaf': [1, 2, 4]\n",
        "}"
      ],
      "metadata": {
        "id": "87CvGlgXAkNz"
      },
      "execution_count": 529,
      "outputs": []
    },
    {
      "cell_type": "markdown",
      "source": [
        "The `grid_search_dt` will creates a `GridSearchCV` object with Radom Forest model and the specified hyperparameter grid. It uses 5-fold cross-validation (`cv=5`) to evaluate the performance of each combination of parameters, optimizing for accuracy (`scoring='accuracy'`)."
      ],
      "metadata": {
        "id": "D91aIORzBCde"
      }
    },
    {
      "cell_type": "code",
      "source": [
        "grid_search_rf = GridSearchCV(RandomForestClassifier(random_state=42), param_grids_rf, cv=5, scoring='accuracy')\n",
        "grid_search_rf.fit(X_train, y_train)"
      ],
      "metadata": {
        "colab": {
          "base_uri": "https://localhost:8080/",
          "height": 117
        },
        "id": "NW603dK1BMNX",
        "outputId": "21c3ef6a-2acb-4c32-b59f-4796faddec76"
      },
      "execution_count": 530,
      "outputs": [
        {
          "output_type": "execute_result",
          "data": {
            "text/plain": [
              "GridSearchCV(cv=5, estimator=RandomForestClassifier(random_state=42),\n",
              "             param_grid={'max_depth': [None, 10, 20, 30],\n",
              "                         'min_samples_leaf': [1, 2, 4],\n",
              "                         'min_samples_split': [2, 5, 10],\n",
              "                         'n_estimators': [100, 200, 300]},\n",
              "             scoring='accuracy')"
            ],
            "text/html": [
              "<style>#sk-container-id-63 {color: black;}#sk-container-id-63 pre{padding: 0;}#sk-container-id-63 div.sk-toggleable {background-color: white;}#sk-container-id-63 label.sk-toggleable__label {cursor: pointer;display: block;width: 100%;margin-bottom: 0;padding: 0.3em;box-sizing: border-box;text-align: center;}#sk-container-id-63 label.sk-toggleable__label-arrow:before {content: \"▸\";float: left;margin-right: 0.25em;color: #696969;}#sk-container-id-63 label.sk-toggleable__label-arrow:hover:before {color: black;}#sk-container-id-63 div.sk-estimator:hover label.sk-toggleable__label-arrow:before {color: black;}#sk-container-id-63 div.sk-toggleable__content {max-height: 0;max-width: 0;overflow: hidden;text-align: left;background-color: #f0f8ff;}#sk-container-id-63 div.sk-toggleable__content pre {margin: 0.2em;color: black;border-radius: 0.25em;background-color: #f0f8ff;}#sk-container-id-63 input.sk-toggleable__control:checked~div.sk-toggleable__content {max-height: 200px;max-width: 100%;overflow: auto;}#sk-container-id-63 input.sk-toggleable__control:checked~label.sk-toggleable__label-arrow:before {content: \"▾\";}#sk-container-id-63 div.sk-estimator input.sk-toggleable__control:checked~label.sk-toggleable__label {background-color: #d4ebff;}#sk-container-id-63 div.sk-label input.sk-toggleable__control:checked~label.sk-toggleable__label {background-color: #d4ebff;}#sk-container-id-63 input.sk-hidden--visually {border: 0;clip: rect(1px 1px 1px 1px);clip: rect(1px, 1px, 1px, 1px);height: 1px;margin: -1px;overflow: hidden;padding: 0;position: absolute;width: 1px;}#sk-container-id-63 div.sk-estimator {font-family: monospace;background-color: #f0f8ff;border: 1px dotted black;border-radius: 0.25em;box-sizing: border-box;margin-bottom: 0.5em;}#sk-container-id-63 div.sk-estimator:hover {background-color: #d4ebff;}#sk-container-id-63 div.sk-parallel-item::after {content: \"\";width: 100%;border-bottom: 1px solid gray;flex-grow: 1;}#sk-container-id-63 div.sk-label:hover label.sk-toggleable__label {background-color: #d4ebff;}#sk-container-id-63 div.sk-serial::before {content: \"\";position: absolute;border-left: 1px solid gray;box-sizing: border-box;top: 0;bottom: 0;left: 50%;z-index: 0;}#sk-container-id-63 div.sk-serial {display: flex;flex-direction: column;align-items: center;background-color: white;padding-right: 0.2em;padding-left: 0.2em;position: relative;}#sk-container-id-63 div.sk-item {position: relative;z-index: 1;}#sk-container-id-63 div.sk-parallel {display: flex;align-items: stretch;justify-content: center;background-color: white;position: relative;}#sk-container-id-63 div.sk-item::before, #sk-container-id-63 div.sk-parallel-item::before {content: \"\";position: absolute;border-left: 1px solid gray;box-sizing: border-box;top: 0;bottom: 0;left: 50%;z-index: -1;}#sk-container-id-63 div.sk-parallel-item {display: flex;flex-direction: column;z-index: 1;position: relative;background-color: white;}#sk-container-id-63 div.sk-parallel-item:first-child::after {align-self: flex-end;width: 50%;}#sk-container-id-63 div.sk-parallel-item:last-child::after {align-self: flex-start;width: 50%;}#sk-container-id-63 div.sk-parallel-item:only-child::after {width: 0;}#sk-container-id-63 div.sk-dashed-wrapped {border: 1px dashed gray;margin: 0 0.4em 0.5em 0.4em;box-sizing: border-box;padding-bottom: 0.4em;background-color: white;}#sk-container-id-63 div.sk-label label {font-family: monospace;font-weight: bold;display: inline-block;line-height: 1.2em;}#sk-container-id-63 div.sk-label-container {text-align: center;}#sk-container-id-63 div.sk-container {/* jupyter's `normalize.less` sets `[hidden] { display: none; }` but bootstrap.min.css set `[hidden] { display: none !important; }` so we also need the `!important` here to be able to override the default hidden behavior on the sphinx rendered scikit-learn.org. See: https://github.com/scikit-learn/scikit-learn/issues/21755 */display: inline-block !important;position: relative;}#sk-container-id-63 div.sk-text-repr-fallback {display: none;}</style><div id=\"sk-container-id-63\" class=\"sk-top-container\"><div class=\"sk-text-repr-fallback\"><pre>GridSearchCV(cv=5, estimator=RandomForestClassifier(random_state=42),\n",
              "             param_grid={&#x27;max_depth&#x27;: [None, 10, 20, 30],\n",
              "                         &#x27;min_samples_leaf&#x27;: [1, 2, 4],\n",
              "                         &#x27;min_samples_split&#x27;: [2, 5, 10],\n",
              "                         &#x27;n_estimators&#x27;: [100, 200, 300]},\n",
              "             scoring=&#x27;accuracy&#x27;)</pre><b>In a Jupyter environment, please rerun this cell to show the HTML representation or trust the notebook. <br />On GitHub, the HTML representation is unable to render, please try loading this page with nbviewer.org.</b></div><div class=\"sk-container\" hidden><div class=\"sk-item sk-dashed-wrapped\"><div class=\"sk-label-container\"><div class=\"sk-label sk-toggleable\"><input class=\"sk-toggleable__control sk-hidden--visually\" id=\"sk-estimator-id-89\" type=\"checkbox\" ><label for=\"sk-estimator-id-89\" class=\"sk-toggleable__label sk-toggleable__label-arrow\">GridSearchCV</label><div class=\"sk-toggleable__content\"><pre>GridSearchCV(cv=5, estimator=RandomForestClassifier(random_state=42),\n",
              "             param_grid={&#x27;max_depth&#x27;: [None, 10, 20, 30],\n",
              "                         &#x27;min_samples_leaf&#x27;: [1, 2, 4],\n",
              "                         &#x27;min_samples_split&#x27;: [2, 5, 10],\n",
              "                         &#x27;n_estimators&#x27;: [100, 200, 300]},\n",
              "             scoring=&#x27;accuracy&#x27;)</pre></div></div></div><div class=\"sk-parallel\"><div class=\"sk-parallel-item\"><div class=\"sk-item\"><div class=\"sk-label-container\"><div class=\"sk-label sk-toggleable\"><input class=\"sk-toggleable__control sk-hidden--visually\" id=\"sk-estimator-id-90\" type=\"checkbox\" ><label for=\"sk-estimator-id-90\" class=\"sk-toggleable__label sk-toggleable__label-arrow\">estimator: RandomForestClassifier</label><div class=\"sk-toggleable__content\"><pre>RandomForestClassifier(random_state=42)</pre></div></div></div><div class=\"sk-serial\"><div class=\"sk-item\"><div class=\"sk-estimator sk-toggleable\"><input class=\"sk-toggleable__control sk-hidden--visually\" id=\"sk-estimator-id-91\" type=\"checkbox\" ><label for=\"sk-estimator-id-91\" class=\"sk-toggleable__label sk-toggleable__label-arrow\">RandomForestClassifier</label><div class=\"sk-toggleable__content\"><pre>RandomForestClassifier(random_state=42)</pre></div></div></div></div></div></div></div></div></div></div>"
            ]
          },
          "metadata": {},
          "execution_count": 530
        }
      ]
    },
    {
      "cell_type": "markdown",
      "source": [
        "I outputted the best parameter and best cross validation accuracy for Random Forest model."
      ],
      "metadata": {
        "id": "7prESJ3fBkGp"
      }
    },
    {
      "cell_type": "code",
      "source": [
        "print(f'Best parameters: {grid_search_rf.best_params_}')\n",
        "print(f'Best cross-validation accuracy: {grid_search_rf.best_score_:.4f}\\n')"
      ],
      "metadata": {
        "colab": {
          "base_uri": "https://localhost:8080/"
        },
        "id": "O0dg3SMABR7H",
        "outputId": "c83ebaa9-ccb6-4f0f-e143-e306dc88cd46"
      },
      "execution_count": 531,
      "outputs": [
        {
          "output_type": "stream",
          "name": "stdout",
          "text": [
            "Best parameters: {'max_depth': 10, 'min_samples_leaf': 2, 'min_samples_split': 5, 'n_estimators': 300}\n",
            "Best cross-validation accuracy: 0.7918\n",
            "\n"
          ]
        }
      ]
    },
    {
      "cell_type": "markdown",
      "source": [
        "The output indicates that the best hyperparameters and best cross-validtion accuracy for the best Random Forest model."
      ],
      "metadata": {
        "id": "V7zSnUD6BrIf"
      }
    },
    {
      "cell_type": "markdown",
      "source": [
        "To evaluate the performance of the best Random Forest model identified by `GridSearchCV` on the test data, I retrieved best model from the grid search using `best_estimator_`."
      ],
      "metadata": {
        "id": "AyRx3yyXB25b"
      }
    },
    {
      "cell_type": "code",
      "source": [
        "best_model_rf = grid_search_rf.best_estimator_"
      ],
      "metadata": {
        "id": "SEO-ffLgByrx"
      },
      "execution_count": 532,
      "outputs": []
    },
    {
      "cell_type": "markdown",
      "source": [
        "Next, I used to make predictions on the test data (`X_test`)."
      ],
      "metadata": {
        "id": "ZcZFolc2CDKy"
      }
    },
    {
      "cell_type": "code",
      "source": [
        "y_pred_rf = best_model_rf.predict(X_test)"
      ],
      "metadata": {
        "id": "7PgkBHTrByiZ"
      },
      "execution_count": 533,
      "outputs": []
    },
    {
      "cell_type": "markdown",
      "source": [
        "Finaly, I calculated and outputed the performance metrics of the best Random Forest model."
      ],
      "metadata": {
        "id": "ftFLJJuRCP9Z"
      }
    },
    {
      "cell_type": "code",
      "source": [
        "accuracy_rf = accuracy_score(y_test, y_pred_rf)\n",
        "precision_rf = precision_score(y_test, y_pred_rf)\n",
        "recall_rf = recall_score(y_test, y_pred_rf)\n",
        "f1_rf  = f1_score(y_test, y_pred_rf)\n",
        "roc_auc_rf  = roc_auc_score(y_test, best_model_rf.predict_proba(X_test)[:, 1])\n",
        "\n",
        "print(f'Accuracy: {accuracy_rf :.4f}')\n",
        "print(f'Precision: {precision_rf :.4f}')\n",
        "print(f'Recall: {recall_rf:.4f}')\n",
        "print(f'F1 Score: {f1_rf :.4f}')\n",
        "print(f'ROC AUC: {roc_auc_rf :.4f}')"
      ],
      "metadata": {
        "colab": {
          "base_uri": "https://localhost:8080/"
        },
        "id": "nwdA5xoeCYJO",
        "outputId": "5e4b7be7-cc8f-412f-c361-3492b93d0b03"
      },
      "execution_count": 534,
      "outputs": [
        {
          "output_type": "stream",
          "name": "stdout",
          "text": [
            "Accuracy: 0.7660\n",
            "Precision: 0.5692\n",
            "Recall: 0.4933\n",
            "F1 Score: 0.5286\n",
            "ROC AUC: 0.7889\n"
          ]
        }
      ]
    },
    {
      "cell_type": "markdown",
      "source": [
        "The above output provides insights into the model's accuracy, precision, recall, F1 score, and its ability to separate classes (ROC AUC)."
      ],
      "metadata": {
        "id": "J6REVNIYCu0f"
      }
    },
    {
      "cell_type": "markdown",
      "source": [
        "To find if the best Random Forest model is overfitting or underfitting, I started with train the model using train data."
      ],
      "metadata": {
        "id": "EGSQdahrFb-0"
      }
    },
    {
      "cell_type": "code",
      "source": [
        "best_model_rf.fit(X_train, y_train)"
      ],
      "metadata": {
        "colab": {
          "base_uri": "https://localhost:8080/",
          "height": 92
        },
        "id": "N5taK31IFbh6",
        "outputId": "3f725e68-52b1-43c2-a46c-7245d0712a6c"
      },
      "execution_count": 535,
      "outputs": [
        {
          "output_type": "execute_result",
          "data": {
            "text/plain": [
              "RandomForestClassifier(max_depth=10, min_samples_leaf=2, min_samples_split=5,\n",
              "                       n_estimators=300, random_state=42)"
            ],
            "text/html": [
              "<style>#sk-container-id-64 {color: black;}#sk-container-id-64 pre{padding: 0;}#sk-container-id-64 div.sk-toggleable {background-color: white;}#sk-container-id-64 label.sk-toggleable__label {cursor: pointer;display: block;width: 100%;margin-bottom: 0;padding: 0.3em;box-sizing: border-box;text-align: center;}#sk-container-id-64 label.sk-toggleable__label-arrow:before {content: \"▸\";float: left;margin-right: 0.25em;color: #696969;}#sk-container-id-64 label.sk-toggleable__label-arrow:hover:before {color: black;}#sk-container-id-64 div.sk-estimator:hover label.sk-toggleable__label-arrow:before {color: black;}#sk-container-id-64 div.sk-toggleable__content {max-height: 0;max-width: 0;overflow: hidden;text-align: left;background-color: #f0f8ff;}#sk-container-id-64 div.sk-toggleable__content pre {margin: 0.2em;color: black;border-radius: 0.25em;background-color: #f0f8ff;}#sk-container-id-64 input.sk-toggleable__control:checked~div.sk-toggleable__content {max-height: 200px;max-width: 100%;overflow: auto;}#sk-container-id-64 input.sk-toggleable__control:checked~label.sk-toggleable__label-arrow:before {content: \"▾\";}#sk-container-id-64 div.sk-estimator input.sk-toggleable__control:checked~label.sk-toggleable__label {background-color: #d4ebff;}#sk-container-id-64 div.sk-label input.sk-toggleable__control:checked~label.sk-toggleable__label {background-color: #d4ebff;}#sk-container-id-64 input.sk-hidden--visually {border: 0;clip: rect(1px 1px 1px 1px);clip: rect(1px, 1px, 1px, 1px);height: 1px;margin: -1px;overflow: hidden;padding: 0;position: absolute;width: 1px;}#sk-container-id-64 div.sk-estimator {font-family: monospace;background-color: #f0f8ff;border: 1px dotted black;border-radius: 0.25em;box-sizing: border-box;margin-bottom: 0.5em;}#sk-container-id-64 div.sk-estimator:hover {background-color: #d4ebff;}#sk-container-id-64 div.sk-parallel-item::after {content: \"\";width: 100%;border-bottom: 1px solid gray;flex-grow: 1;}#sk-container-id-64 div.sk-label:hover label.sk-toggleable__label {background-color: #d4ebff;}#sk-container-id-64 div.sk-serial::before {content: \"\";position: absolute;border-left: 1px solid gray;box-sizing: border-box;top: 0;bottom: 0;left: 50%;z-index: 0;}#sk-container-id-64 div.sk-serial {display: flex;flex-direction: column;align-items: center;background-color: white;padding-right: 0.2em;padding-left: 0.2em;position: relative;}#sk-container-id-64 div.sk-item {position: relative;z-index: 1;}#sk-container-id-64 div.sk-parallel {display: flex;align-items: stretch;justify-content: center;background-color: white;position: relative;}#sk-container-id-64 div.sk-item::before, #sk-container-id-64 div.sk-parallel-item::before {content: \"\";position: absolute;border-left: 1px solid gray;box-sizing: border-box;top: 0;bottom: 0;left: 50%;z-index: -1;}#sk-container-id-64 div.sk-parallel-item {display: flex;flex-direction: column;z-index: 1;position: relative;background-color: white;}#sk-container-id-64 div.sk-parallel-item:first-child::after {align-self: flex-end;width: 50%;}#sk-container-id-64 div.sk-parallel-item:last-child::after {align-self: flex-start;width: 50%;}#sk-container-id-64 div.sk-parallel-item:only-child::after {width: 0;}#sk-container-id-64 div.sk-dashed-wrapped {border: 1px dashed gray;margin: 0 0.4em 0.5em 0.4em;box-sizing: border-box;padding-bottom: 0.4em;background-color: white;}#sk-container-id-64 div.sk-label label {font-family: monospace;font-weight: bold;display: inline-block;line-height: 1.2em;}#sk-container-id-64 div.sk-label-container {text-align: center;}#sk-container-id-64 div.sk-container {/* jupyter's `normalize.less` sets `[hidden] { display: none; }` but bootstrap.min.css set `[hidden] { display: none !important; }` so we also need the `!important` here to be able to override the default hidden behavior on the sphinx rendered scikit-learn.org. See: https://github.com/scikit-learn/scikit-learn/issues/21755 */display: inline-block !important;position: relative;}#sk-container-id-64 div.sk-text-repr-fallback {display: none;}</style><div id=\"sk-container-id-64\" class=\"sk-top-container\"><div class=\"sk-text-repr-fallback\"><pre>RandomForestClassifier(max_depth=10, min_samples_leaf=2, min_samples_split=5,\n",
              "                       n_estimators=300, random_state=42)</pre><b>In a Jupyter environment, please rerun this cell to show the HTML representation or trust the notebook. <br />On GitHub, the HTML representation is unable to render, please try loading this page with nbviewer.org.</b></div><div class=\"sk-container\" hidden><div class=\"sk-item\"><div class=\"sk-estimator sk-toggleable\"><input class=\"sk-toggleable__control sk-hidden--visually\" id=\"sk-estimator-id-92\" type=\"checkbox\" checked><label for=\"sk-estimator-id-92\" class=\"sk-toggleable__label sk-toggleable__label-arrow\">RandomForestClassifier</label><div class=\"sk-toggleable__content\"><pre>RandomForestClassifier(max_depth=10, min_samples_leaf=2, min_samples_split=5,\n",
              "                       n_estimators=300, random_state=42)</pre></div></div></div></div></div>"
            ]
          },
          "metadata": {},
          "execution_count": 535
        }
      ]
    },
    {
      "cell_type": "markdown",
      "source": [
        "To check if the best Random Forest model works well or not, I made predictions on training data. For that, I used `best_model_rf.predict(X_train)`. To calculate the accuracy of the model I used `accuracy_score(y_train, train_predictions_rf)`."
      ],
      "metadata": {
        "id": "r2Db6Ab0D6IY"
      }
    },
    {
      "cell_type": "code",
      "source": [
        "train_predictions_rf = best_model_rf.predict(X_train)\n",
        "train_accuracy_rf = accuracy_score(y_train, train_predictions_rf)"
      ],
      "metadata": {
        "id": "dd-8dqBfEIkT"
      },
      "execution_count": 536,
      "outputs": []
    },
    {
      "cell_type": "markdown",
      "source": [
        "Next, I made predictions on test data. For that I used `best_model_rf.predict(X_test)`. To calculate the accuracy of the model, I used `accuracy_score(y_test, y_test_pred_rf)`."
      ],
      "metadata": {
        "id": "k6WqlkvCFt7z"
      }
    },
    {
      "cell_type": "code",
      "source": [
        "y_test_pred_rf = best_model_rf.predict(X_test)\n",
        "test_accuracy_rf = accuracy_score(y_test, y_test_pred_rf)"
      ],
      "metadata": {
        "id": "mX9YVoGXFz3v"
      },
      "execution_count": 537,
      "outputs": []
    },
    {
      "cell_type": "markdown",
      "source": [
        "The below code output the training accuracy and test accuracy of the best Random Forest model."
      ],
      "metadata": {
        "id": "RyylwhZrF4E6"
      }
    },
    {
      "cell_type": "code",
      "source": [
        "print(f'Training Accuracy: {train_accuracy_rf:.4f}')\n",
        "print(f'Test Accuracy: {test_accuracy_rf:.4f}')"
      ],
      "metadata": {
        "colab": {
          "base_uri": "https://localhost:8080/"
        },
        "id": "AxfTCYn3F_SD",
        "outputId": "057d5b5d-c0d6-4552-9be6-934e61d8b95e"
      },
      "execution_count": 538,
      "outputs": [
        {
          "output_type": "stream",
          "name": "stdout",
          "text": [
            "Training Accuracy: 0.9093\n",
            "Test Accuracy: 0.7660\n"
          ]
        }
      ]
    },
    {
      "cell_type": "markdown",
      "source": [
        "After hyperparameter tuning, the decrease in training accuracy (from 0.9973 to 0.9093) indicates that the model is less overfitted and more generalized. However, the test accuracy slightly decreased from 0.7730 to 0.7660, which is still close to the original performance.\n",
        "\n",
        "This suggests that the hyperparameter tuning has helped in making the model more balanced between training and test performance, but the slight drop in test accuracy indicates the need for further adjustments or possibly different strategies to improve generalization.\n",
        "\n",
        "Therefor, Random Forest model is not that much suitable for our project."
      ],
      "metadata": {
        "id": "qNPfz3EsJv1n"
      }
    },
    {
      "cell_type": "markdown",
      "source": [
        "# **4. Gradient Boosting**"
      ],
      "metadata": {
        "id": "xScSWT4eVMRI"
      }
    },
    {
      "cell_type": "markdown",
      "source": [
        "## **Cross-Validation**"
      ],
      "metadata": {
        "id": "bTBiOGtLG-HG"
      }
    },
    {
      "cell_type": "markdown",
      "source": [
        "In below code `cross_val_socre` runs the Gradient Boosting model on the dataset `X_scaled, y `using the 5-fold cross-validation strategy defined by `kf`."
      ],
      "metadata": {
        "id": "Rl3MchEOHIq6"
      }
    },
    {
      "cell_type": "code",
      "source": [
        "cv_scores_gb = cross_val_score(GradientBoostingClassifier(random_state=42), X_scaled, y, cv=kf, scoring='accuracy')"
      ],
      "metadata": {
        "id": "r_tcOH4cHMve"
      },
      "execution_count": 539,
      "outputs": []
    },
    {
      "cell_type": "markdown",
      "source": [
        "Next, I outputted the cross-validation accuracy."
      ],
      "metadata": {
        "id": "qgbjOSg1HWqK"
      }
    },
    {
      "cell_type": "code",
      "source": [
        "print(f'Cross-Validation Accuracy: {cv_scores_gb.mean():.4f} ± {cv_scores_gb.std():.4f}')"
      ],
      "metadata": {
        "colab": {
          "base_uri": "https://localhost:8080/"
        },
        "id": "A8zjUmAbHae3",
        "outputId": "1076fe8e-a342-4411-9b59-d4e32efe8612"
      },
      "execution_count": 540,
      "outputs": [
        {
          "output_type": "stream",
          "name": "stdout",
          "text": [
            "Cross-Validation Accuracy: 0.7632 ± 0.0066\n"
          ]
        }
      ]
    },
    {
      "cell_type": "markdown",
      "source": [
        "The output indicates that the model consistently performs well across different subsets of the data."
      ],
      "metadata": {
        "id": "WnSjH3wmHjgZ"
      }
    },
    {
      "cell_type": "markdown",
      "source": [
        "## **Analyze Overfitting and Underfitting**"
      ],
      "metadata": {
        "id": "MSB89D53HlLt"
      }
    },
    {
      "cell_type": "markdown",
      "source": [
        "To find if the Gradient Boosting model is overfitting or underfitting, I started with train the model using train data."
      ],
      "metadata": {
        "id": "sj5NG0BZHqt4"
      }
    },
    {
      "cell_type": "code",
      "source": [
        "model_gb = GradientBoostingClassifier(random_state=42)\n",
        "model_gb.fit(X_train, y_train)"
      ],
      "metadata": {
        "colab": {
          "base_uri": "https://localhost:8080/",
          "height": 74
        },
        "id": "aqM4BSRMH2G2",
        "outputId": "24cf54a1-0a39-4f97-e981-1255509aae08"
      },
      "execution_count": 541,
      "outputs": [
        {
          "output_type": "execute_result",
          "data": {
            "text/plain": [
              "GradientBoostingClassifier(random_state=42)"
            ],
            "text/html": [
              "<style>#sk-container-id-65 {color: black;}#sk-container-id-65 pre{padding: 0;}#sk-container-id-65 div.sk-toggleable {background-color: white;}#sk-container-id-65 label.sk-toggleable__label {cursor: pointer;display: block;width: 100%;margin-bottom: 0;padding: 0.3em;box-sizing: border-box;text-align: center;}#sk-container-id-65 label.sk-toggleable__label-arrow:before {content: \"▸\";float: left;margin-right: 0.25em;color: #696969;}#sk-container-id-65 label.sk-toggleable__label-arrow:hover:before {color: black;}#sk-container-id-65 div.sk-estimator:hover label.sk-toggleable__label-arrow:before {color: black;}#sk-container-id-65 div.sk-toggleable__content {max-height: 0;max-width: 0;overflow: hidden;text-align: left;background-color: #f0f8ff;}#sk-container-id-65 div.sk-toggleable__content pre {margin: 0.2em;color: black;border-radius: 0.25em;background-color: #f0f8ff;}#sk-container-id-65 input.sk-toggleable__control:checked~div.sk-toggleable__content {max-height: 200px;max-width: 100%;overflow: auto;}#sk-container-id-65 input.sk-toggleable__control:checked~label.sk-toggleable__label-arrow:before {content: \"▾\";}#sk-container-id-65 div.sk-estimator input.sk-toggleable__control:checked~label.sk-toggleable__label {background-color: #d4ebff;}#sk-container-id-65 div.sk-label input.sk-toggleable__control:checked~label.sk-toggleable__label {background-color: #d4ebff;}#sk-container-id-65 input.sk-hidden--visually {border: 0;clip: rect(1px 1px 1px 1px);clip: rect(1px, 1px, 1px, 1px);height: 1px;margin: -1px;overflow: hidden;padding: 0;position: absolute;width: 1px;}#sk-container-id-65 div.sk-estimator {font-family: monospace;background-color: #f0f8ff;border: 1px dotted black;border-radius: 0.25em;box-sizing: border-box;margin-bottom: 0.5em;}#sk-container-id-65 div.sk-estimator:hover {background-color: #d4ebff;}#sk-container-id-65 div.sk-parallel-item::after {content: \"\";width: 100%;border-bottom: 1px solid gray;flex-grow: 1;}#sk-container-id-65 div.sk-label:hover label.sk-toggleable__label {background-color: #d4ebff;}#sk-container-id-65 div.sk-serial::before {content: \"\";position: absolute;border-left: 1px solid gray;box-sizing: border-box;top: 0;bottom: 0;left: 50%;z-index: 0;}#sk-container-id-65 div.sk-serial {display: flex;flex-direction: column;align-items: center;background-color: white;padding-right: 0.2em;padding-left: 0.2em;position: relative;}#sk-container-id-65 div.sk-item {position: relative;z-index: 1;}#sk-container-id-65 div.sk-parallel {display: flex;align-items: stretch;justify-content: center;background-color: white;position: relative;}#sk-container-id-65 div.sk-item::before, #sk-container-id-65 div.sk-parallel-item::before {content: \"\";position: absolute;border-left: 1px solid gray;box-sizing: border-box;top: 0;bottom: 0;left: 50%;z-index: -1;}#sk-container-id-65 div.sk-parallel-item {display: flex;flex-direction: column;z-index: 1;position: relative;background-color: white;}#sk-container-id-65 div.sk-parallel-item:first-child::after {align-self: flex-end;width: 50%;}#sk-container-id-65 div.sk-parallel-item:last-child::after {align-self: flex-start;width: 50%;}#sk-container-id-65 div.sk-parallel-item:only-child::after {width: 0;}#sk-container-id-65 div.sk-dashed-wrapped {border: 1px dashed gray;margin: 0 0.4em 0.5em 0.4em;box-sizing: border-box;padding-bottom: 0.4em;background-color: white;}#sk-container-id-65 div.sk-label label {font-family: monospace;font-weight: bold;display: inline-block;line-height: 1.2em;}#sk-container-id-65 div.sk-label-container {text-align: center;}#sk-container-id-65 div.sk-container {/* jupyter's `normalize.less` sets `[hidden] { display: none; }` but bootstrap.min.css set `[hidden] { display: none !important; }` so we also need the `!important` here to be able to override the default hidden behavior on the sphinx rendered scikit-learn.org. See: https://github.com/scikit-learn/scikit-learn/issues/21755 */display: inline-block !important;position: relative;}#sk-container-id-65 div.sk-text-repr-fallback {display: none;}</style><div id=\"sk-container-id-65\" class=\"sk-top-container\"><div class=\"sk-text-repr-fallback\"><pre>GradientBoostingClassifier(random_state=42)</pre><b>In a Jupyter environment, please rerun this cell to show the HTML representation or trust the notebook. <br />On GitHub, the HTML representation is unable to render, please try loading this page with nbviewer.org.</b></div><div class=\"sk-container\" hidden><div class=\"sk-item\"><div class=\"sk-estimator sk-toggleable\"><input class=\"sk-toggleable__control sk-hidden--visually\" id=\"sk-estimator-id-93\" type=\"checkbox\" checked><label for=\"sk-estimator-id-93\" class=\"sk-toggleable__label sk-toggleable__label-arrow\">GradientBoostingClassifier</label><div class=\"sk-toggleable__content\"><pre>GradientBoostingClassifier(random_state=42)</pre></div></div></div></div></div>"
            ]
          },
          "metadata": {},
          "execution_count": 541
        }
      ]
    },
    {
      "cell_type": "markdown",
      "source": [
        "Next, I made predictions on training data. For that, I used `model_gb.predict(X_train)`. To calculate the accuracy of the model I used `accuracy_score(y_train, train_predictions_gb)`."
      ],
      "metadata": {
        "id": "ookev_uiIFz_"
      }
    },
    {
      "cell_type": "code",
      "source": [
        "train_predictions_gb = model_gb.predict(X_train)\n",
        "train_accuracy_gb = accuracy_score(y_train, train_predictions_gb)"
      ],
      "metadata": {
        "id": "ckAsFx0aIL1-"
      },
      "execution_count": 542,
      "outputs": []
    },
    {
      "cell_type": "markdown",
      "source": [
        "Next I made predictions on test data. For that I used `model_gb.predict(X_test)`. To calculate the accuracy of the model, I used `accuracy_score(y_test, y_test_pred_gb)`."
      ],
      "metadata": {
        "id": "P38zwXtwIV61"
      }
    },
    {
      "cell_type": "code",
      "source": [
        "y_test_pred_gb = model_gb.predict(X_test)\n",
        "test_accuracy_gb = accuracy_score(y_test, y_test_pred_gb)"
      ],
      "metadata": {
        "id": "yc7heu6GIbo_"
      },
      "execution_count": 543,
      "outputs": []
    },
    {
      "cell_type": "markdown",
      "source": [
        "The below code output the training accuracy and test accuracy of the Gradient Boosting model."
      ],
      "metadata": {
        "id": "jwEcdpnbIie8"
      }
    },
    {
      "cell_type": "code",
      "source": [
        "print(f'Training Accuracy: {train_accuracy_gb:.4f}')\n",
        "print(f'Test Accuracy: {test_accuracy_gb:.4f}')"
      ],
      "metadata": {
        "colab": {
          "base_uri": "https://localhost:8080/"
        },
        "id": "Aevd1WqtJIqb",
        "outputId": "ca204c54-6428-4068-d499-9d308ba95b2a"
      },
      "execution_count": 544,
      "outputs": [
        {
          "output_type": "stream",
          "name": "stdout",
          "text": [
            "Training Accuracy: 0.8799\n",
            "Test Accuracy: 0.7624\n"
          ]
        }
      ]
    },
    {
      "cell_type": "markdown",
      "source": [
        "The training accuracy is somewhat higher than the test accuracy, which suggests that there might be slight overfitting\n",
        "\n",
        "Anyway I performed hyperparameter tuning for Gradient Boosting model."
      ],
      "metadata": {
        "id": "emot5CGeJQdJ"
      }
    },
    {
      "cell_type": "markdown",
      "source": [
        "## **Hyperparameter Tuning**"
      ],
      "metadata": {
        "id": "h_ZwLjFeJQar"
      }
    },
    {
      "cell_type": "markdown",
      "source": [
        "I tuned the number of boosting stages(`n_estimators`), the learning rate (`learning_rate`), and the maximum depth(`max_depth`) of the individual regression estimators."
      ],
      "metadata": {
        "id": "g5Uq1Ku4WZe_"
      }
    },
    {
      "cell_type": "code",
      "source": [
        "param_grids_gb = {\n",
        "    'n_estimators': [100, 200, 300],\n",
        "    'learning_rate': [0.01, 0.1, 0.2],\n",
        "    'max_depth': [3, 4, 5]\n",
        "}"
      ],
      "metadata": {
        "id": "piqGajmxpVkK"
      },
      "execution_count": 545,
      "outputs": []
    },
    {
      "cell_type": "markdown",
      "source": [
        "The `grid_search_gb` will creates a `GridSearchCV` object with Gradient Boosting model and the specified hyperparameter grid. It uses 5-fold cross-validation (`cv=5`) to evaluate the performance of each combination of parameters, optimizing for accuracy (`scoring='accuracy'`)."
      ],
      "metadata": {
        "id": "78q3BZGNjgsn"
      }
    },
    {
      "cell_type": "code",
      "source": [
        "grid_search_gb = GridSearchCV(GradientBoostingClassifier(), param_grids_gb, cv=5, scoring='accuracy')\n",
        "grid_search_gb.fit(X_train, y_train)"
      ],
      "metadata": {
        "colab": {
          "base_uri": "https://localhost:8080/",
          "height": 117
        },
        "id": "JGKooXfKVQ6B",
        "outputId": "340475cf-e6ef-484f-97b8-ceeb6b64e914"
      },
      "execution_count": 546,
      "outputs": [
        {
          "output_type": "execute_result",
          "data": {
            "text/plain": [
              "GridSearchCV(cv=5, estimator=GradientBoostingClassifier(),\n",
              "             param_grid={'learning_rate': [0.01, 0.1, 0.2],\n",
              "                         'max_depth': [3, 4, 5],\n",
              "                         'n_estimators': [100, 200, 300]},\n",
              "             scoring='accuracy')"
            ],
            "text/html": [
              "<style>#sk-container-id-66 {color: black;}#sk-container-id-66 pre{padding: 0;}#sk-container-id-66 div.sk-toggleable {background-color: white;}#sk-container-id-66 label.sk-toggleable__label {cursor: pointer;display: block;width: 100%;margin-bottom: 0;padding: 0.3em;box-sizing: border-box;text-align: center;}#sk-container-id-66 label.sk-toggleable__label-arrow:before {content: \"▸\";float: left;margin-right: 0.25em;color: #696969;}#sk-container-id-66 label.sk-toggleable__label-arrow:hover:before {color: black;}#sk-container-id-66 div.sk-estimator:hover label.sk-toggleable__label-arrow:before {color: black;}#sk-container-id-66 div.sk-toggleable__content {max-height: 0;max-width: 0;overflow: hidden;text-align: left;background-color: #f0f8ff;}#sk-container-id-66 div.sk-toggleable__content pre {margin: 0.2em;color: black;border-radius: 0.25em;background-color: #f0f8ff;}#sk-container-id-66 input.sk-toggleable__control:checked~div.sk-toggleable__content {max-height: 200px;max-width: 100%;overflow: auto;}#sk-container-id-66 input.sk-toggleable__control:checked~label.sk-toggleable__label-arrow:before {content: \"▾\";}#sk-container-id-66 div.sk-estimator input.sk-toggleable__control:checked~label.sk-toggleable__label {background-color: #d4ebff;}#sk-container-id-66 div.sk-label input.sk-toggleable__control:checked~label.sk-toggleable__label {background-color: #d4ebff;}#sk-container-id-66 input.sk-hidden--visually {border: 0;clip: rect(1px 1px 1px 1px);clip: rect(1px, 1px, 1px, 1px);height: 1px;margin: -1px;overflow: hidden;padding: 0;position: absolute;width: 1px;}#sk-container-id-66 div.sk-estimator {font-family: monospace;background-color: #f0f8ff;border: 1px dotted black;border-radius: 0.25em;box-sizing: border-box;margin-bottom: 0.5em;}#sk-container-id-66 div.sk-estimator:hover {background-color: #d4ebff;}#sk-container-id-66 div.sk-parallel-item::after {content: \"\";width: 100%;border-bottom: 1px solid gray;flex-grow: 1;}#sk-container-id-66 div.sk-label:hover label.sk-toggleable__label {background-color: #d4ebff;}#sk-container-id-66 div.sk-serial::before {content: \"\";position: absolute;border-left: 1px solid gray;box-sizing: border-box;top: 0;bottom: 0;left: 50%;z-index: 0;}#sk-container-id-66 div.sk-serial {display: flex;flex-direction: column;align-items: center;background-color: white;padding-right: 0.2em;padding-left: 0.2em;position: relative;}#sk-container-id-66 div.sk-item {position: relative;z-index: 1;}#sk-container-id-66 div.sk-parallel {display: flex;align-items: stretch;justify-content: center;background-color: white;position: relative;}#sk-container-id-66 div.sk-item::before, #sk-container-id-66 div.sk-parallel-item::before {content: \"\";position: absolute;border-left: 1px solid gray;box-sizing: border-box;top: 0;bottom: 0;left: 50%;z-index: -1;}#sk-container-id-66 div.sk-parallel-item {display: flex;flex-direction: column;z-index: 1;position: relative;background-color: white;}#sk-container-id-66 div.sk-parallel-item:first-child::after {align-self: flex-end;width: 50%;}#sk-container-id-66 div.sk-parallel-item:last-child::after {align-self: flex-start;width: 50%;}#sk-container-id-66 div.sk-parallel-item:only-child::after {width: 0;}#sk-container-id-66 div.sk-dashed-wrapped {border: 1px dashed gray;margin: 0 0.4em 0.5em 0.4em;box-sizing: border-box;padding-bottom: 0.4em;background-color: white;}#sk-container-id-66 div.sk-label label {font-family: monospace;font-weight: bold;display: inline-block;line-height: 1.2em;}#sk-container-id-66 div.sk-label-container {text-align: center;}#sk-container-id-66 div.sk-container {/* jupyter's `normalize.less` sets `[hidden] { display: none; }` but bootstrap.min.css set `[hidden] { display: none !important; }` so we also need the `!important` here to be able to override the default hidden behavior on the sphinx rendered scikit-learn.org. See: https://github.com/scikit-learn/scikit-learn/issues/21755 */display: inline-block !important;position: relative;}#sk-container-id-66 div.sk-text-repr-fallback {display: none;}</style><div id=\"sk-container-id-66\" class=\"sk-top-container\"><div class=\"sk-text-repr-fallback\"><pre>GridSearchCV(cv=5, estimator=GradientBoostingClassifier(),\n",
              "             param_grid={&#x27;learning_rate&#x27;: [0.01, 0.1, 0.2],\n",
              "                         &#x27;max_depth&#x27;: [3, 4, 5],\n",
              "                         &#x27;n_estimators&#x27;: [100, 200, 300]},\n",
              "             scoring=&#x27;accuracy&#x27;)</pre><b>In a Jupyter environment, please rerun this cell to show the HTML representation or trust the notebook. <br />On GitHub, the HTML representation is unable to render, please try loading this page with nbviewer.org.</b></div><div class=\"sk-container\" hidden><div class=\"sk-item sk-dashed-wrapped\"><div class=\"sk-label-container\"><div class=\"sk-label sk-toggleable\"><input class=\"sk-toggleable__control sk-hidden--visually\" id=\"sk-estimator-id-94\" type=\"checkbox\" ><label for=\"sk-estimator-id-94\" class=\"sk-toggleable__label sk-toggleable__label-arrow\">GridSearchCV</label><div class=\"sk-toggleable__content\"><pre>GridSearchCV(cv=5, estimator=GradientBoostingClassifier(),\n",
              "             param_grid={&#x27;learning_rate&#x27;: [0.01, 0.1, 0.2],\n",
              "                         &#x27;max_depth&#x27;: [3, 4, 5],\n",
              "                         &#x27;n_estimators&#x27;: [100, 200, 300]},\n",
              "             scoring=&#x27;accuracy&#x27;)</pre></div></div></div><div class=\"sk-parallel\"><div class=\"sk-parallel-item\"><div class=\"sk-item\"><div class=\"sk-label-container\"><div class=\"sk-label sk-toggleable\"><input class=\"sk-toggleable__control sk-hidden--visually\" id=\"sk-estimator-id-95\" type=\"checkbox\" ><label for=\"sk-estimator-id-95\" class=\"sk-toggleable__label sk-toggleable__label-arrow\">estimator: GradientBoostingClassifier</label><div class=\"sk-toggleable__content\"><pre>GradientBoostingClassifier()</pre></div></div></div><div class=\"sk-serial\"><div class=\"sk-item\"><div class=\"sk-estimator sk-toggleable\"><input class=\"sk-toggleable__control sk-hidden--visually\" id=\"sk-estimator-id-96\" type=\"checkbox\" ><label for=\"sk-estimator-id-96\" class=\"sk-toggleable__label sk-toggleable__label-arrow\">GradientBoostingClassifier</label><div class=\"sk-toggleable__content\"><pre>GradientBoostingClassifier()</pre></div></div></div></div></div></div></div></div></div></div>"
            ]
          },
          "metadata": {},
          "execution_count": 546
        }
      ]
    },
    {
      "cell_type": "markdown",
      "source": [
        "I outputted the best parameter and best cross validation accuracy for Gradient Boosting model."
      ],
      "metadata": {
        "id": "_6bsEW5pMoNO"
      }
    },
    {
      "cell_type": "code",
      "source": [
        "print(f'Best parameters: {grid_search_gb.best_params_}')\n",
        "print(f'Best cross-validation accuracy: {grid_search_gb.best_score_:.4f}\\n')"
      ],
      "metadata": {
        "colab": {
          "base_uri": "https://localhost:8080/"
        },
        "id": "YlBrxnsRMk2M",
        "outputId": "4b04d749-b991-4443-d13d-ab88ce0cf3d1"
      },
      "execution_count": 547,
      "outputs": [
        {
          "output_type": "stream",
          "name": "stdout",
          "text": [
            "Best parameters: {'learning_rate': 0.01, 'max_depth': 4, 'n_estimators': 300}\n",
            "Best cross-validation accuracy: 0.7829\n",
            "\n"
          ]
        }
      ]
    },
    {
      "cell_type": "markdown",
      "source": [
        "The output indicates that the best hyperparameters and best cross-validtion accuracy for the best Gradient Boosting model."
      ],
      "metadata": {
        "id": "rG7AbBxyMxhp"
      }
    },
    {
      "cell_type": "markdown",
      "source": [
        "To evaluate the performance of the best Gradient Boosting model identified by `GridSearchCV` on the test data, I retrieved best model from the grid search using `best_estimator_`."
      ],
      "metadata": {
        "id": "MH2URCT-u21P"
      }
    },
    {
      "cell_type": "code",
      "source": [
        "best_model_gb = grid_search_gb.best_estimator_"
      ],
      "metadata": {
        "id": "G21ESIeku6Q6"
      },
      "execution_count": 548,
      "outputs": []
    },
    {
      "cell_type": "markdown",
      "source": [
        "Next, I used to make predictions on the test data (`X_test`)."
      ],
      "metadata": {
        "id": "q9lsQ0VXu92p"
      }
    },
    {
      "cell_type": "code",
      "source": [
        "y_pred_gb = best_model_gb.predict(X_test)"
      ],
      "metadata": {
        "id": "QSVKV6USvCDe"
      },
      "execution_count": 549,
      "outputs": []
    },
    {
      "cell_type": "markdown",
      "source": [
        "Finaly, I calculated and outputed the performance metrics of the best Random Forest model."
      ],
      "metadata": {
        "id": "l8e6A6Wpjn3l"
      }
    },
    {
      "cell_type": "code",
      "source": [
        "accuracy_gb= accuracy_score(y_test, y_pred_gb)\n",
        "precision_gb = precision_score(y_test, y_pred_gb)\n",
        "recall_gb = recall_score(y_test, y_pred_gb)\n",
        "f1_gb  = f1_score(y_test, y_pred_gb)\n",
        "roc_auc_gb  = roc_auc_score(y_test, best_model_gb.predict_proba(X_test)[:, 1])\n",
        "\n",
        "print(f'Accuracy: {accuracy_gb :.4f}')\n",
        "print(f'Precision: {precision_gb :.4f}')\n",
        "print(f'Recall: {recall_gb:.4f}')\n",
        "print(f'F1 Score: {f1_gb :.4f}')\n",
        "print(f'ROC AUC: {roc_auc_gb :.4f}')"
      ],
      "metadata": {
        "id": "-wP1JV0qat3z",
        "colab": {
          "base_uri": "https://localhost:8080/"
        },
        "outputId": "fd4f39b2-929d-4407-b43b-0b206829a1e1"
      },
      "execution_count": 550,
      "outputs": [
        {
          "output_type": "stream",
          "name": "stdout",
          "text": [
            "Accuracy: 0.7695\n",
            "Precision: 0.5806\n",
            "Recall: 0.4800\n",
            "F1 Score: 0.5255\n",
            "ROC AUC: 0.7806\n"
          ]
        }
      ]
    },
    {
      "cell_type": "markdown",
      "source": [
        "The above output provides insights into the model's accuracy, precision, recall, F1 score, and its ability to separate classes (ROC AUC)."
      ],
      "metadata": {
        "id": "Krhd8frGNjZP"
      }
    },
    {
      "cell_type": "markdown",
      "source": [
        "To find if the best Gradient Boosting model is overfitting or underfitting, I started with train the model using train data."
      ],
      "metadata": {
        "id": "pn_RpYXUNllH"
      }
    },
    {
      "cell_type": "code",
      "source": [
        "best_model_gb.fit(X_train, y_train)"
      ],
      "metadata": {
        "colab": {
          "base_uri": "https://localhost:8080/",
          "height": 74
        },
        "id": "8RO7GcP9Ns91",
        "outputId": "bf02ef45-bc76-4a45-9a71-e54a30931cb3"
      },
      "execution_count": 551,
      "outputs": [
        {
          "output_type": "execute_result",
          "data": {
            "text/plain": [
              "GradientBoostingClassifier(learning_rate=0.01, max_depth=4, n_estimators=300)"
            ],
            "text/html": [
              "<style>#sk-container-id-67 {color: black;}#sk-container-id-67 pre{padding: 0;}#sk-container-id-67 div.sk-toggleable {background-color: white;}#sk-container-id-67 label.sk-toggleable__label {cursor: pointer;display: block;width: 100%;margin-bottom: 0;padding: 0.3em;box-sizing: border-box;text-align: center;}#sk-container-id-67 label.sk-toggleable__label-arrow:before {content: \"▸\";float: left;margin-right: 0.25em;color: #696969;}#sk-container-id-67 label.sk-toggleable__label-arrow:hover:before {color: black;}#sk-container-id-67 div.sk-estimator:hover label.sk-toggleable__label-arrow:before {color: black;}#sk-container-id-67 div.sk-toggleable__content {max-height: 0;max-width: 0;overflow: hidden;text-align: left;background-color: #f0f8ff;}#sk-container-id-67 div.sk-toggleable__content pre {margin: 0.2em;color: black;border-radius: 0.25em;background-color: #f0f8ff;}#sk-container-id-67 input.sk-toggleable__control:checked~div.sk-toggleable__content {max-height: 200px;max-width: 100%;overflow: auto;}#sk-container-id-67 input.sk-toggleable__control:checked~label.sk-toggleable__label-arrow:before {content: \"▾\";}#sk-container-id-67 div.sk-estimator input.sk-toggleable__control:checked~label.sk-toggleable__label {background-color: #d4ebff;}#sk-container-id-67 div.sk-label input.sk-toggleable__control:checked~label.sk-toggleable__label {background-color: #d4ebff;}#sk-container-id-67 input.sk-hidden--visually {border: 0;clip: rect(1px 1px 1px 1px);clip: rect(1px, 1px, 1px, 1px);height: 1px;margin: -1px;overflow: hidden;padding: 0;position: absolute;width: 1px;}#sk-container-id-67 div.sk-estimator {font-family: monospace;background-color: #f0f8ff;border: 1px dotted black;border-radius: 0.25em;box-sizing: border-box;margin-bottom: 0.5em;}#sk-container-id-67 div.sk-estimator:hover {background-color: #d4ebff;}#sk-container-id-67 div.sk-parallel-item::after {content: \"\";width: 100%;border-bottom: 1px solid gray;flex-grow: 1;}#sk-container-id-67 div.sk-label:hover label.sk-toggleable__label {background-color: #d4ebff;}#sk-container-id-67 div.sk-serial::before {content: \"\";position: absolute;border-left: 1px solid gray;box-sizing: border-box;top: 0;bottom: 0;left: 50%;z-index: 0;}#sk-container-id-67 div.sk-serial {display: flex;flex-direction: column;align-items: center;background-color: white;padding-right: 0.2em;padding-left: 0.2em;position: relative;}#sk-container-id-67 div.sk-item {position: relative;z-index: 1;}#sk-container-id-67 div.sk-parallel {display: flex;align-items: stretch;justify-content: center;background-color: white;position: relative;}#sk-container-id-67 div.sk-item::before, #sk-container-id-67 div.sk-parallel-item::before {content: \"\";position: absolute;border-left: 1px solid gray;box-sizing: border-box;top: 0;bottom: 0;left: 50%;z-index: -1;}#sk-container-id-67 div.sk-parallel-item {display: flex;flex-direction: column;z-index: 1;position: relative;background-color: white;}#sk-container-id-67 div.sk-parallel-item:first-child::after {align-self: flex-end;width: 50%;}#sk-container-id-67 div.sk-parallel-item:last-child::after {align-self: flex-start;width: 50%;}#sk-container-id-67 div.sk-parallel-item:only-child::after {width: 0;}#sk-container-id-67 div.sk-dashed-wrapped {border: 1px dashed gray;margin: 0 0.4em 0.5em 0.4em;box-sizing: border-box;padding-bottom: 0.4em;background-color: white;}#sk-container-id-67 div.sk-label label {font-family: monospace;font-weight: bold;display: inline-block;line-height: 1.2em;}#sk-container-id-67 div.sk-label-container {text-align: center;}#sk-container-id-67 div.sk-container {/* jupyter's `normalize.less` sets `[hidden] { display: none; }` but bootstrap.min.css set `[hidden] { display: none !important; }` so we also need the `!important` here to be able to override the default hidden behavior on the sphinx rendered scikit-learn.org. See: https://github.com/scikit-learn/scikit-learn/issues/21755 */display: inline-block !important;position: relative;}#sk-container-id-67 div.sk-text-repr-fallback {display: none;}</style><div id=\"sk-container-id-67\" class=\"sk-top-container\"><div class=\"sk-text-repr-fallback\"><pre>GradientBoostingClassifier(learning_rate=0.01, max_depth=4, n_estimators=300)</pre><b>In a Jupyter environment, please rerun this cell to show the HTML representation or trust the notebook. <br />On GitHub, the HTML representation is unable to render, please try loading this page with nbviewer.org.</b></div><div class=\"sk-container\" hidden><div class=\"sk-item\"><div class=\"sk-estimator sk-toggleable\"><input class=\"sk-toggleable__control sk-hidden--visually\" id=\"sk-estimator-id-97\" type=\"checkbox\" checked><label for=\"sk-estimator-id-97\" class=\"sk-toggleable__label sk-toggleable__label-arrow\">GradientBoostingClassifier</label><div class=\"sk-toggleable__content\"><pre>GradientBoostingClassifier(learning_rate=0.01, max_depth=4, n_estimators=300)</pre></div></div></div></div></div>"
            ]
          },
          "metadata": {},
          "execution_count": 551
        }
      ]
    },
    {
      "cell_type": "markdown",
      "source": [
        "To check if the best Gradient Boosting model works well or not, I made predictions on training data. For that, I used `best_model_gb.predict(X_train)`. To calculate the accuracy of the model I used `accuracy_score(y_train, train_predictions_gb)`."
      ],
      "metadata": {
        "id": "3J_dyEfDNyfy"
      }
    },
    {
      "cell_type": "code",
      "source": [
        "train_predictions_gb = best_model_gb.predict(X_train)\n",
        "train_accuracy_gb = accuracy_score(y_train, train_predictions_gb)"
      ],
      "metadata": {
        "id": "G05dyW88OERJ"
      },
      "execution_count": 552,
      "outputs": []
    },
    {
      "cell_type": "markdown",
      "source": [
        "Next, I made predictions on test data. For that I used `best_model_gb.predict(X_test)`. To calculate the accuracy of the model, I used `accuracy_score(y_test, y_test_pred_gb)`."
      ],
      "metadata": {
        "id": "j9b2AvWwOI5w"
      }
    },
    {
      "cell_type": "code",
      "source": [
        "y_test_pred_gb = best_model_gb.predict(X_test)\n",
        "test_accuracy_gb = accuracy_score(y_test, y_test_pred_gb)"
      ],
      "metadata": {
        "id": "s7spC-3VORr6"
      },
      "execution_count": 553,
      "outputs": []
    },
    {
      "cell_type": "markdown",
      "source": [
        "The below code output the training accuracy and test accuracy of the best Gradient Boosting model."
      ],
      "metadata": {
        "id": "jcP800eFOdMy"
      }
    },
    {
      "cell_type": "code",
      "source": [
        "print(f'Training Accuracy: {train_accuracy_gb:.4f}')\n",
        "print(f'Test Accuracy: {test_accuracy_gb:.4f}')"
      ],
      "metadata": {
        "colab": {
          "base_uri": "https://localhost:8080/"
        },
        "id": "0k2z0IqAOlGG",
        "outputId": "2636cba3-a0f2-47ae-fdab-76935acf0d24"
      },
      "execution_count": 554,
      "outputs": [
        {
          "output_type": "stream",
          "name": "stdout",
          "text": [
            "Training Accuracy: 0.8630\n",
            "Test Accuracy: 0.7695\n"
          ]
        }
      ]
    },
    {
      "cell_type": "markdown",
      "source": [
        "The hyperparameter tuning process slightly reduced the training accuracy while slightly improving the test accuracy.\n",
        "\n",
        "The smaller gap between training and test accuracy suggests that the model's tendency to overfit has decreased, indicating better generalization to unseen data.\n",
        "\n",
        "Therefore, Gradient Boosting model is suitable for our project."
      ],
      "metadata": {
        "id": "7BAQIZRXQAZ1"
      }
    },
    {
      "cell_type": "markdown",
      "source": [
        "# **Conclusion**"
      ],
      "metadata": {
        "id": "lQDPneabTG9B"
      }
    },
    {
      "cell_type": "markdown",
      "source": [
        "In conclusion, the thorough evaluation of the models using performance metrics, cross-validation, and hyperparameter tuning provided valuable insights into their reliability and effectiveness. While initial results indicated potential overfitting, particularly in the decision tree and random forest models, hyperparameter tuning significantly improved the balance between training and test accuracy. The final models, including logistic regression and gradient boosting, demonstrated solid generalization capabilities, minimizing overfitting. This process underscored the importance of iterative model refinement and careful assessment to achieve models that perform well on both training and unseen data."
      ],
      "metadata": {
        "id": "7FnI2Pn-TIxu"
      }
    }
  ]
}