{
  "cells": [
    {
      "cell_type": "markdown",
      "metadata": {
        "id": "view-in-github",
        "colab_type": "text"
      },
      "source": [
        "<a href=\"https://colab.research.google.com/github/kishon45229/Customer-Churn-Prediction-in-Telecom-Industry/blob/main/Evaluation_and_Interpretation.ipynb\" target=\"_parent\"><img src=\"https://colab.research.google.com/assets/colab-badge.svg\" alt=\"Open In Colab\"/></a>"
      ]
    },
    {
      "cell_type": "markdown",
      "metadata": {
        "id": "ij_RgnbvP7mt"
      },
      "source": [
        "# **Customer Churn Prediction in Telecom Industry**"
      ]
    },
    {
      "cell_type": "markdown",
      "metadata": {
        "id": "eVZW-ndaQiCB"
      },
      "source": [
        "# **Evaluation and Interpretation**"
      ]
    },
    {
      "cell_type": "markdown",
      "metadata": {
        "id": "qvcSbp87QMK_"
      },
      "source": [
        "In the field of machine learning, understanding the performance and reliability of models is crucial for developing robust predictive systems. Several key aspects contribute to this understanding, including Performance Metrics, Cross-Validation, Model Selection and Hyperparameter Tuning, and the issues of Overfitting and Underfitting. Performance metrics such as accuracy, precision, recall, F1 score, and AUC-ROC provide a quantitative measure of how well a model predicts outcomes. Cross-validation techniques, like K-Fold and Stratified K-Fold, help assess a model's ability to generalize to unseen data by systematically splitting the dataset into training and validation sets. Model selection and hyperparameter tuning, through methods like Grid Search, Random Search, and Bayesian Optimization, ensure that the most effective model is chosen and fine-tuned for optimal performance. Finally, understanding and mitigating overfitting, where a model memorizes the training data but fails to generalize, and underfitting, where a model is too simplistic to capture data patterns, are essential to building models that perform well on both training and unseen datasets."
      ]
    },
    {
      "cell_type": "markdown",
      "metadata": {
        "id": "0jjAaKOeQFlK"
      },
      "source": [
        "Gnanaraj Kishon\\\n",
        "ITBIN-2110-0054"
      ]
    },
    {
      "cell_type": "markdown",
      "metadata": {
        "id": "V6hpW8PVOzvO"
      },
      "source": [
        "## **Import Necessary Libraries**"
      ]
    },
    {
      "cell_type": "code",
      "execution_count": 2,
      "metadata": {
        "id": "0fxCRjaANLS7"
      },
      "outputs": [],
      "source": [
        "import pandas as pd\n",
        "import joblib\n",
        "\n",
        "from sklearn.model_selection import train_test_split, GridSearchCV, cross_val_score, KFold\n",
        "from sklearn.metrics import accuracy_score, precision_score, recall_score, f1_score, roc_auc_score\n",
        "from sklearn.linear_model import LogisticRegression\n",
        "from sklearn.tree import DecisionTreeClassifier\n",
        "from sklearn.ensemble import RandomForestClassifier, GradientBoostingClassifier\n",
        "from sklearn.svm import SVC\n",
        "from sklearn.preprocessing import StandardScaler\n",
        "from google.colab import files"
      ]
    },
    {
      "cell_type": "markdown",
      "metadata": {
        "id": "LRz1jw71O3Dh"
      },
      "source": [
        "## **Add Dataset**"
      ]
    },
    {
      "cell_type": "markdown",
      "metadata": {
        "id": "jcaH30lpQsK5"
      },
      "source": [
        "I continued from where data mining part stopped. Therefore, I read the CSV file that generated at the end of data mining part."
      ]
    },
    {
      "cell_type": "code",
      "execution_count": 3,
      "metadata": {
        "id": "pVVFZT5ENRFX",
        "colab": {
          "base_uri": "https://localhost:8080/",
          "height": 290
        },
        "outputId": "1201a927-dd99-4af7-cf8d-8047248e5d7d"
      },
      "outputs": [
        {
          "output_type": "execute_result",
          "data": {
            "text/plain": [
              "     tenure  MonthlyCharges  TotalCharges  Cluster      PCA2  \\\n",
              "0  0.845070        0.063063      0.171414      0.0  0.197946   \n",
              "1  0.253521        0.060060      0.051674      0.0  0.243191   \n",
              "2  0.169014        0.836336      0.154913      1.0  0.793704   \n",
              "3  0.507042        0.363864      0.232560      0.0  0.221083   \n",
              "4  0.070423        0.107608      0.016489      0.0  0.312633   \n",
              "\n",
              "   InternetService_Fiber optic  InternetService_No  \\\n",
              "0                          0.0                 1.0   \n",
              "1                          0.0                 1.0   \n",
              "2                          1.0                 0.0   \n",
              "3                          0.0                 0.0   \n",
              "4                          0.0                 0.0   \n",
              "\n",
              "   OnlineSecurity_No internet service  OnlineSecurity_Yes  \\\n",
              "0                                 1.0                 0.0   \n",
              "1                                 1.0                 0.0   \n",
              "2                                 0.0                 0.0   \n",
              "3                                 0.0                 1.0   \n",
              "4                                 0.0                 1.0   \n",
              "\n",
              "   OnlineBackup_No internet service  ...  StreamingMovies_No internet service  \\\n",
              "0                               1.0  ...                                  1.0   \n",
              "1                               1.0  ...                                  1.0   \n",
              "2                               0.0  ...                                  0.0   \n",
              "3                               0.0  ...                                  0.0   \n",
              "4                               0.0  ...                                  0.0   \n",
              "\n",
              "   Contract_One year  Contract_Two year  PaperlessBilling_Yes  \\\n",
              "0                0.0                1.0                   0.0   \n",
              "1                0.0                0.0                   0.0   \n",
              "2                0.0                0.0                   1.0   \n",
              "3                0.0                0.0                   1.0   \n",
              "4                0.0                0.0                   0.0   \n",
              "\n",
              "   PaymentMethod_Electronic check  tenure_bin_61-72  Churn  MonthlyTenure  \\\n",
              "0                             0.0               1.0      0       2.718129   \n",
              "1                             0.0               0.0      0       0.860377   \n",
              "2                             0.0               0.0      1       0.185228   \n",
              "3                             0.0               0.0      0       0.639141   \n",
              "4                             0.0               0.0      0       0.153231   \n",
              "\n",
              "   MonthlyChargesBinned  TotalChargesBinned  \n",
              "0                     0                   0  \n",
              "1                     0                   0  \n",
              "2                     4                   0  \n",
              "3                     1                   1  \n",
              "4                     0                   0  \n",
              "\n",
              "[5 rows x 24 columns]"
            ],
            "text/html": [
              "\n",
              "  <div id=\"df-917c7ba1-519d-42b6-a13c-7a9dbedf3cde\" class=\"colab-df-container\">\n",
              "    <div>\n",
              "<style scoped>\n",
              "    .dataframe tbody tr th:only-of-type {\n",
              "        vertical-align: middle;\n",
              "    }\n",
              "\n",
              "    .dataframe tbody tr th {\n",
              "        vertical-align: top;\n",
              "    }\n",
              "\n",
              "    .dataframe thead th {\n",
              "        text-align: right;\n",
              "    }\n",
              "</style>\n",
              "<table border=\"1\" class=\"dataframe\">\n",
              "  <thead>\n",
              "    <tr style=\"text-align: right;\">\n",
              "      <th></th>\n",
              "      <th>tenure</th>\n",
              "      <th>MonthlyCharges</th>\n",
              "      <th>TotalCharges</th>\n",
              "      <th>Cluster</th>\n",
              "      <th>PCA2</th>\n",
              "      <th>InternetService_Fiber optic</th>\n",
              "      <th>InternetService_No</th>\n",
              "      <th>OnlineSecurity_No internet service</th>\n",
              "      <th>OnlineSecurity_Yes</th>\n",
              "      <th>OnlineBackup_No internet service</th>\n",
              "      <th>...</th>\n",
              "      <th>StreamingMovies_No internet service</th>\n",
              "      <th>Contract_One year</th>\n",
              "      <th>Contract_Two year</th>\n",
              "      <th>PaperlessBilling_Yes</th>\n",
              "      <th>PaymentMethod_Electronic check</th>\n",
              "      <th>tenure_bin_61-72</th>\n",
              "      <th>Churn</th>\n",
              "      <th>MonthlyTenure</th>\n",
              "      <th>MonthlyChargesBinned</th>\n",
              "      <th>TotalChargesBinned</th>\n",
              "    </tr>\n",
              "  </thead>\n",
              "  <tbody>\n",
              "    <tr>\n",
              "      <th>0</th>\n",
              "      <td>0.845070</td>\n",
              "      <td>0.063063</td>\n",
              "      <td>0.171414</td>\n",
              "      <td>0.0</td>\n",
              "      <td>0.197946</td>\n",
              "      <td>0.0</td>\n",
              "      <td>1.0</td>\n",
              "      <td>1.0</td>\n",
              "      <td>0.0</td>\n",
              "      <td>1.0</td>\n",
              "      <td>...</td>\n",
              "      <td>1.0</td>\n",
              "      <td>0.0</td>\n",
              "      <td>1.0</td>\n",
              "      <td>0.0</td>\n",
              "      <td>0.0</td>\n",
              "      <td>1.0</td>\n",
              "      <td>0</td>\n",
              "      <td>2.718129</td>\n",
              "      <td>0</td>\n",
              "      <td>0</td>\n",
              "    </tr>\n",
              "    <tr>\n",
              "      <th>1</th>\n",
              "      <td>0.253521</td>\n",
              "      <td>0.060060</td>\n",
              "      <td>0.051674</td>\n",
              "      <td>0.0</td>\n",
              "      <td>0.243191</td>\n",
              "      <td>0.0</td>\n",
              "      <td>1.0</td>\n",
              "      <td>1.0</td>\n",
              "      <td>0.0</td>\n",
              "      <td>1.0</td>\n",
              "      <td>...</td>\n",
              "      <td>1.0</td>\n",
              "      <td>0.0</td>\n",
              "      <td>0.0</td>\n",
              "      <td>0.0</td>\n",
              "      <td>0.0</td>\n",
              "      <td>0.0</td>\n",
              "      <td>0</td>\n",
              "      <td>0.860377</td>\n",
              "      <td>0</td>\n",
              "      <td>0</td>\n",
              "    </tr>\n",
              "    <tr>\n",
              "      <th>2</th>\n",
              "      <td>0.169014</td>\n",
              "      <td>0.836336</td>\n",
              "      <td>0.154913</td>\n",
              "      <td>1.0</td>\n",
              "      <td>0.793704</td>\n",
              "      <td>1.0</td>\n",
              "      <td>0.0</td>\n",
              "      <td>0.0</td>\n",
              "      <td>0.0</td>\n",
              "      <td>0.0</td>\n",
              "      <td>...</td>\n",
              "      <td>0.0</td>\n",
              "      <td>0.0</td>\n",
              "      <td>0.0</td>\n",
              "      <td>1.0</td>\n",
              "      <td>0.0</td>\n",
              "      <td>0.0</td>\n",
              "      <td>1</td>\n",
              "      <td>0.185228</td>\n",
              "      <td>4</td>\n",
              "      <td>0</td>\n",
              "    </tr>\n",
              "    <tr>\n",
              "      <th>3</th>\n",
              "      <td>0.507042</td>\n",
              "      <td>0.363864</td>\n",
              "      <td>0.232560</td>\n",
              "      <td>0.0</td>\n",
              "      <td>0.221083</td>\n",
              "      <td>0.0</td>\n",
              "      <td>0.0</td>\n",
              "      <td>0.0</td>\n",
              "      <td>1.0</td>\n",
              "      <td>0.0</td>\n",
              "      <td>...</td>\n",
              "      <td>0.0</td>\n",
              "      <td>0.0</td>\n",
              "      <td>0.0</td>\n",
              "      <td>1.0</td>\n",
              "      <td>0.0</td>\n",
              "      <td>0.0</td>\n",
              "      <td>0</td>\n",
              "      <td>0.639141</td>\n",
              "      <td>1</td>\n",
              "      <td>1</td>\n",
              "    </tr>\n",
              "    <tr>\n",
              "      <th>4</th>\n",
              "      <td>0.070423</td>\n",
              "      <td>0.107608</td>\n",
              "      <td>0.016489</td>\n",
              "      <td>0.0</td>\n",
              "      <td>0.312633</td>\n",
              "      <td>0.0</td>\n",
              "      <td>0.0</td>\n",
              "      <td>0.0</td>\n",
              "      <td>1.0</td>\n",
              "      <td>0.0</td>\n",
              "      <td>...</td>\n",
              "      <td>0.0</td>\n",
              "      <td>0.0</td>\n",
              "      <td>0.0</td>\n",
              "      <td>0.0</td>\n",
              "      <td>0.0</td>\n",
              "      <td>0.0</td>\n",
              "      <td>0</td>\n",
              "      <td>0.153231</td>\n",
              "      <td>0</td>\n",
              "      <td>0</td>\n",
              "    </tr>\n",
              "  </tbody>\n",
              "</table>\n",
              "<p>5 rows × 24 columns</p>\n",
              "</div>\n",
              "    <div class=\"colab-df-buttons\">\n",
              "\n",
              "  <div class=\"colab-df-container\">\n",
              "    <button class=\"colab-df-convert\" onclick=\"convertToInteractive('df-917c7ba1-519d-42b6-a13c-7a9dbedf3cde')\"\n",
              "            title=\"Convert this dataframe to an interactive table.\"\n",
              "            style=\"display:none;\">\n",
              "\n",
              "  <svg xmlns=\"http://www.w3.org/2000/svg\" height=\"24px\" viewBox=\"0 -960 960 960\">\n",
              "    <path d=\"M120-120v-720h720v720H120Zm60-500h600v-160H180v160Zm220 220h160v-160H400v160Zm0 220h160v-160H400v160ZM180-400h160v-160H180v160Zm440 0h160v-160H620v160ZM180-180h160v-160H180v160Zm440 0h160v-160H620v160Z\"/>\n",
              "  </svg>\n",
              "    </button>\n",
              "\n",
              "  <style>\n",
              "    .colab-df-container {\n",
              "      display:flex;\n",
              "      gap: 12px;\n",
              "    }\n",
              "\n",
              "    .colab-df-convert {\n",
              "      background-color: #E8F0FE;\n",
              "      border: none;\n",
              "      border-radius: 50%;\n",
              "      cursor: pointer;\n",
              "      display: none;\n",
              "      fill: #1967D2;\n",
              "      height: 32px;\n",
              "      padding: 0 0 0 0;\n",
              "      width: 32px;\n",
              "    }\n",
              "\n",
              "    .colab-df-convert:hover {\n",
              "      background-color: #E2EBFA;\n",
              "      box-shadow: 0px 1px 2px rgba(60, 64, 67, 0.3), 0px 1px 3px 1px rgba(60, 64, 67, 0.15);\n",
              "      fill: #174EA6;\n",
              "    }\n",
              "\n",
              "    .colab-df-buttons div {\n",
              "      margin-bottom: 4px;\n",
              "    }\n",
              "\n",
              "    [theme=dark] .colab-df-convert {\n",
              "      background-color: #3B4455;\n",
              "      fill: #D2E3FC;\n",
              "    }\n",
              "\n",
              "    [theme=dark] .colab-df-convert:hover {\n",
              "      background-color: #434B5C;\n",
              "      box-shadow: 0px 1px 3px 1px rgba(0, 0, 0, 0.15);\n",
              "      filter: drop-shadow(0px 1px 2px rgba(0, 0, 0, 0.3));\n",
              "      fill: #FFFFFF;\n",
              "    }\n",
              "  </style>\n",
              "\n",
              "    <script>\n",
              "      const buttonEl =\n",
              "        document.querySelector('#df-917c7ba1-519d-42b6-a13c-7a9dbedf3cde button.colab-df-convert');\n",
              "      buttonEl.style.display =\n",
              "        google.colab.kernel.accessAllowed ? 'block' : 'none';\n",
              "\n",
              "      async function convertToInteractive(key) {\n",
              "        const element = document.querySelector('#df-917c7ba1-519d-42b6-a13c-7a9dbedf3cde');\n",
              "        const dataTable =\n",
              "          await google.colab.kernel.invokeFunction('convertToInteractive',\n",
              "                                                    [key], {});\n",
              "        if (!dataTable) return;\n",
              "\n",
              "        const docLinkHtml = 'Like what you see? Visit the ' +\n",
              "          '<a target=\"_blank\" href=https://colab.research.google.com/notebooks/data_table.ipynb>data table notebook</a>'\n",
              "          + ' to learn more about interactive tables.';\n",
              "        element.innerHTML = '';\n",
              "        dataTable['output_type'] = 'display_data';\n",
              "        await google.colab.output.renderOutput(dataTable, element);\n",
              "        const docLink = document.createElement('div');\n",
              "        docLink.innerHTML = docLinkHtml;\n",
              "        element.appendChild(docLink);\n",
              "      }\n",
              "    </script>\n",
              "  </div>\n",
              "\n",
              "\n",
              "<div id=\"df-a0c35d12-513e-40a0-b51f-7797931ffd15\">\n",
              "  <button class=\"colab-df-quickchart\" onclick=\"quickchart('df-a0c35d12-513e-40a0-b51f-7797931ffd15')\"\n",
              "            title=\"Suggest charts\"\n",
              "            style=\"display:none;\">\n",
              "\n",
              "<svg xmlns=\"http://www.w3.org/2000/svg\" height=\"24px\"viewBox=\"0 0 24 24\"\n",
              "     width=\"24px\">\n",
              "    <g>\n",
              "        <path d=\"M19 3H5c-1.1 0-2 .9-2 2v14c0 1.1.9 2 2 2h14c1.1 0 2-.9 2-2V5c0-1.1-.9-2-2-2zM9 17H7v-7h2v7zm4 0h-2V7h2v10zm4 0h-2v-4h2v4z\"/>\n",
              "    </g>\n",
              "</svg>\n",
              "  </button>\n",
              "\n",
              "<style>\n",
              "  .colab-df-quickchart {\n",
              "      --bg-color: #E8F0FE;\n",
              "      --fill-color: #1967D2;\n",
              "      --hover-bg-color: #E2EBFA;\n",
              "      --hover-fill-color: #174EA6;\n",
              "      --disabled-fill-color: #AAA;\n",
              "      --disabled-bg-color: #DDD;\n",
              "  }\n",
              "\n",
              "  [theme=dark] .colab-df-quickchart {\n",
              "      --bg-color: #3B4455;\n",
              "      --fill-color: #D2E3FC;\n",
              "      --hover-bg-color: #434B5C;\n",
              "      --hover-fill-color: #FFFFFF;\n",
              "      --disabled-bg-color: #3B4455;\n",
              "      --disabled-fill-color: #666;\n",
              "  }\n",
              "\n",
              "  .colab-df-quickchart {\n",
              "    background-color: var(--bg-color);\n",
              "    border: none;\n",
              "    border-radius: 50%;\n",
              "    cursor: pointer;\n",
              "    display: none;\n",
              "    fill: var(--fill-color);\n",
              "    height: 32px;\n",
              "    padding: 0;\n",
              "    width: 32px;\n",
              "  }\n",
              "\n",
              "  .colab-df-quickchart:hover {\n",
              "    background-color: var(--hover-bg-color);\n",
              "    box-shadow: 0 1px 2px rgba(60, 64, 67, 0.3), 0 1px 3px 1px rgba(60, 64, 67, 0.15);\n",
              "    fill: var(--button-hover-fill-color);\n",
              "  }\n",
              "\n",
              "  .colab-df-quickchart-complete:disabled,\n",
              "  .colab-df-quickchart-complete:disabled:hover {\n",
              "    background-color: var(--disabled-bg-color);\n",
              "    fill: var(--disabled-fill-color);\n",
              "    box-shadow: none;\n",
              "  }\n",
              "\n",
              "  .colab-df-spinner {\n",
              "    border: 2px solid var(--fill-color);\n",
              "    border-color: transparent;\n",
              "    border-bottom-color: var(--fill-color);\n",
              "    animation:\n",
              "      spin 1s steps(1) infinite;\n",
              "  }\n",
              "\n",
              "  @keyframes spin {\n",
              "    0% {\n",
              "      border-color: transparent;\n",
              "      border-bottom-color: var(--fill-color);\n",
              "      border-left-color: var(--fill-color);\n",
              "    }\n",
              "    20% {\n",
              "      border-color: transparent;\n",
              "      border-left-color: var(--fill-color);\n",
              "      border-top-color: var(--fill-color);\n",
              "    }\n",
              "    30% {\n",
              "      border-color: transparent;\n",
              "      border-left-color: var(--fill-color);\n",
              "      border-top-color: var(--fill-color);\n",
              "      border-right-color: var(--fill-color);\n",
              "    }\n",
              "    40% {\n",
              "      border-color: transparent;\n",
              "      border-right-color: var(--fill-color);\n",
              "      border-top-color: var(--fill-color);\n",
              "    }\n",
              "    60% {\n",
              "      border-color: transparent;\n",
              "      border-right-color: var(--fill-color);\n",
              "    }\n",
              "    80% {\n",
              "      border-color: transparent;\n",
              "      border-right-color: var(--fill-color);\n",
              "      border-bottom-color: var(--fill-color);\n",
              "    }\n",
              "    90% {\n",
              "      border-color: transparent;\n",
              "      border-bottom-color: var(--fill-color);\n",
              "    }\n",
              "  }\n",
              "</style>\n",
              "\n",
              "  <script>\n",
              "    async function quickchart(key) {\n",
              "      const quickchartButtonEl =\n",
              "        document.querySelector('#' + key + ' button');\n",
              "      quickchartButtonEl.disabled = true;  // To prevent multiple clicks.\n",
              "      quickchartButtonEl.classList.add('colab-df-spinner');\n",
              "      try {\n",
              "        const charts = await google.colab.kernel.invokeFunction(\n",
              "            'suggestCharts', [key], {});\n",
              "      } catch (error) {\n",
              "        console.error('Error during call to suggestCharts:', error);\n",
              "      }\n",
              "      quickchartButtonEl.classList.remove('colab-df-spinner');\n",
              "      quickchartButtonEl.classList.add('colab-df-quickchart-complete');\n",
              "    }\n",
              "    (() => {\n",
              "      let quickchartButtonEl =\n",
              "        document.querySelector('#df-a0c35d12-513e-40a0-b51f-7797931ffd15 button');\n",
              "      quickchartButtonEl.style.display =\n",
              "        google.colab.kernel.accessAllowed ? 'block' : 'none';\n",
              "    })();\n",
              "  </script>\n",
              "</div>\n",
              "\n",
              "    </div>\n",
              "  </div>\n"
            ],
            "application/vnd.google.colaboratory.intrinsic+json": {
              "type": "dataframe",
              "variable_name": "df"
            }
          },
          "metadata": {},
          "execution_count": 3
        }
      ],
      "source": [
        "df = pd.read_csv('/content/drive/MyDrive/Colab Notebooks/Nature Inspired Algorithms/Mini Project/Data Mining completed dataset.csv')\n",
        "df.head()"
      ]
    },
    {
      "cell_type": "markdown",
      "metadata": {
        "id": "A4ZJLeomPxEH"
      },
      "source": [
        "## **Preprocess the Data**"
      ]
    },
    {
      "cell_type": "code",
      "execution_count": 5,
      "metadata": {
        "id": "wmbQrODBFQlY",
        "colab": {
          "base_uri": "https://localhost:8080/"
        },
        "outputId": "7e126e7a-7063-4c0e-a290-ebde36f7970d"
      },
      "outputs": [
        {
          "output_type": "stream",
          "name": "stdout",
          "text": [
            "<class 'pandas.core.frame.DataFrame'>\n",
            "RangeIndex: 1406 entries, 0 to 1405\n",
            "Data columns (total 24 columns):\n",
            " #   Column                                Non-Null Count  Dtype  \n",
            "---  ------                                --------------  -----  \n",
            " 0   tenure                                1406 non-null   float64\n",
            " 1   MonthlyCharges                        1406 non-null   float64\n",
            " 2   TotalCharges                          1406 non-null   float64\n",
            " 3   Cluster                               1406 non-null   float64\n",
            " 4   PCA2                                  1406 non-null   float64\n",
            " 5   InternetService_Fiber optic           1406 non-null   float64\n",
            " 6   InternetService_No                    1406 non-null   float64\n",
            " 7   OnlineSecurity_No internet service    1406 non-null   float64\n",
            " 8   OnlineSecurity_Yes                    1406 non-null   float64\n",
            " 9   OnlineBackup_No internet service      1406 non-null   float64\n",
            " 10  DeviceProtection_No internet service  1406 non-null   float64\n",
            " 11  TechSupport_No internet service       1406 non-null   float64\n",
            " 12  TechSupport_Yes                       1406 non-null   float64\n",
            " 13  StreamingTV_No internet service       1406 non-null   float64\n",
            " 14  StreamingMovies_No internet service   1406 non-null   float64\n",
            " 15  Contract_One year                     1406 non-null   float64\n",
            " 16  Contract_Two year                     1406 non-null   float64\n",
            " 17  PaperlessBilling_Yes                  1406 non-null   float64\n",
            " 18  PaymentMethod_Electronic check        1406 non-null   float64\n",
            " 19  tenure_bin_61-72                      1406 non-null   float64\n",
            " 20  Churn                                 1406 non-null   int64  \n",
            " 21  MonthlyTenure                         1406 non-null   float64\n",
            " 22  MonthlyChargesBinned                  1406 non-null   int64  \n",
            " 23  TotalChargesBinned                    1406 non-null   int64  \n",
            "dtypes: float64(21), int64(3)\n",
            "memory usage: 263.8 KB\n"
          ]
        }
      ],
      "source": [
        "df.info()"
      ]
    },
    {
      "cell_type": "markdown",
      "metadata": {
        "id": "YClGKNAf1dGX"
      },
      "source": [
        "In next steps, I analyzed our models by doing cross validation, analyzing overfitting and undrfitting. If the model have some performance issues i gave solution using hyperparametr tuning."
      ]
    },
    {
      "cell_type": "markdown",
      "metadata": {
        "id": "9vJJ33_q1UiT"
      },
      "source": [
        "# **1. Logistic Regression**"
      ]
    },
    {
      "cell_type": "markdown",
      "source": [
        "I separated the features(`X`) and target variable(`y`). I choose target variable(`y`) as column `chrun` and some other columns as features(`X`)."
      ],
      "metadata": {
        "id": "YxP8ecbJ1rA3"
      }
    },
    {
      "cell_type": "code",
      "source": [
        "X = df[['tenure', 'MonthlyCharges', 'TotalCharges']]\n",
        "y = df['Churn']"
      ],
      "metadata": {
        "id": "2TO84Z6q1vbI"
      },
      "execution_count": 6,
      "outputs": []
    },
    {
      "cell_type": "markdown",
      "source": [
        "Next, I created an instance of `StandardScaler` that standardizes the features by removing the mean and scaling them to unit variance. `scaler.fit_transform(X)` first fits the `StandardScaler` to the data and then transforms the data using these calculated statistics."
      ],
      "metadata": {
        "id": "19UfVRNVfQPJ"
      }
    },
    {
      "cell_type": "code",
      "source": [
        "scaler = StandardScaler()\n",
        "X_scaled = scaler.fit_transform(X)"
      ],
      "metadata": {
        "id": "ZA94ewdM6NIU"
      },
      "execution_count": 8,
      "outputs": []
    },
    {
      "cell_type": "markdown",
      "source": [
        "* `train_test_split` function splits the data into training and test sets.\n",
        "\n",
        "* The feature sets `X_train, X_test` for training and testing, respectively.\n",
        "\n",
        "* The target sets `y_train, y_test `for training and testing, respectively.\n",
        "\n",
        "* 20% of the data is reserved for testing, while 80% is used for training.\n",
        "\n",
        "* `random_state=42 `Ensures that the split is reproducible by setting a specific seed for random number generation."
      ],
      "metadata": {
        "id": "J_GNAvpp1xyg"
      }
    },
    {
      "cell_type": "code",
      "source": [
        "X_train, X_test, y_train, y_test = train_test_split(X, y, test_size=0.2, random_state=42)"
      ],
      "metadata": {
        "id": "ewFKSerW11J-"
      },
      "execution_count": 22,
      "outputs": []
    },
    {
      "cell_type": "markdown",
      "metadata": {
        "id": "0JS_msRDRcsG"
      },
      "source": [
        "## **Cross-Validation**"
      ]
    },
    {
      "cell_type": "markdown",
      "metadata": {
        "id": "-QnrXzwAyuvr"
      },
      "source": [
        "Cross-validation is a technique used to evaluate the performance of a machine learning model by splitting the data into multiple subsets (folds) and training/testing the model on these different subsets. This provides a more reliable estimate of the model's performance than a single train-test split.\n",
        "\n"
      ]
    },
    {
      "cell_type": "markdown",
      "metadata": {
        "id": "j-dWAB646CJt"
      },
      "source": [
        "In the next step, I Define 5-fold cross-validation."
      ]
    },
    {
      "cell_type": "code",
      "execution_count": 23,
      "metadata": {
        "id": "gRrEB-qP2RK9"
      },
      "outputs": [],
      "source": [
        "kf = KFold(n_splits=5, shuffle=True, random_state=42)"
      ]
    },
    {
      "cell_type": "markdown",
      "metadata": {
        "id": "4gi_EEi_6D5K"
      },
      "source": [
        "In below code `cross_val_socre` runs the Logistic Regression model with `max_iter=1000` on the dataset `X_scaled, y `using the 5-fold cross-validation strategy defined by `kf`."
      ]
    },
    {
      "cell_type": "code",
      "execution_count": 24,
      "metadata": {
        "id": "0Vw-Ibh32LQ-"
      },
      "outputs": [],
      "source": [
        "cv_scores_lr = cross_val_score(LogisticRegression(max_iter=1000), X_scaled, y, cv=kf, scoring='accuracy')"
      ]
    },
    {
      "cell_type": "markdown",
      "metadata": {
        "id": "pRrAOLvS6780"
      },
      "source": [
        "Next, I outputted the cross-validation accuracy."
      ]
    },
    {
      "cell_type": "code",
      "execution_count": 25,
      "metadata": {
        "id": "4kz0KX6A2ZOj",
        "colab": {
          "base_uri": "https://localhost:8080/"
        },
        "outputId": "37a3eed5-d4dd-4868-f7b0-f91e779a8b15"
      },
      "outputs": [
        {
          "output_type": "stream",
          "name": "stdout",
          "text": [
            "Cross-Validation Accuracy: 0.7824 ± 0.0240\n"
          ]
        }
      ],
      "source": [
        "print(f'Cross-Validation Accuracy: {cv_scores_lr.mean():.4f} ± {cv_scores_lr.std():.4f}')"
      ]
    },
    {
      "cell_type": "markdown",
      "metadata": {
        "id": "uaGID6rU46nS"
      },
      "source": [
        "The output indicates that the model consistently performs well across different subsets of the data."
      ]
    },
    {
      "cell_type": "markdown",
      "metadata": {
        "id": "0G3C-hwa7KRT"
      },
      "source": [
        "## **Analyze Overfitting and Underfitting**"
      ]
    },
    {
      "cell_type": "markdown",
      "metadata": {
        "id": "NGprwPnRPcuO"
      },
      "source": [
        "Overfitting is look for a large difference between training and test accuracy. Underfitting is look for low accuracy on both training and test sets."
      ]
    },
    {
      "cell_type": "markdown",
      "metadata": {
        "id": "mbuodPEQPibu"
      },
      "source": [
        "I calculated training accuracy and test accuracy for each model. Based on the values we can make some decisions such as:\n",
        "\n",
        "* **High Train Accuracy & Low Test Accuracy**: This indicates overfitting. The model has learned the training data too well but fails to generalize to new data.\n",
        "* **Low Train Accuracy & Low Test Accuracy**: This indicates underfitting. The model has not learned the underlying patterns in the training data, leading to poor performance on both the training and test sets.\n",
        "* **Similar Train and Test Accuracy**: This indicates that the model is well-fitted to the data, with a good balance between bias and variance."
      ]
    },
    {
      "cell_type": "markdown",
      "metadata": {
        "id": "VmcLJD7r3Fwd"
      },
      "source": [
        "To understand if the model is too complex (overfitting) or too simple (underfitting) I trained the Logistic Regression model using `X_train, y_train` data."
      ]
    },
    {
      "cell_type": "code",
      "execution_count": 26,
      "metadata": {
        "id": "72rHbafj3sJt",
        "colab": {
          "base_uri": "https://localhost:8080/",
          "height": 80
        },
        "outputId": "a189bbe7-d00f-4c4f-f5ef-e107c9570521"
      },
      "outputs": [
        {
          "output_type": "execute_result",
          "data": {
            "text/plain": [
              "LogisticRegression(max_iter=1000, random_state=42)"
            ],
            "text/html": [
              "<style>#sk-container-id-2 {\n",
              "  /* Definition of color scheme common for light and dark mode */\n",
              "  --sklearn-color-text: black;\n",
              "  --sklearn-color-line: gray;\n",
              "  /* Definition of color scheme for unfitted estimators */\n",
              "  --sklearn-color-unfitted-level-0: #fff5e6;\n",
              "  --sklearn-color-unfitted-level-1: #f6e4d2;\n",
              "  --sklearn-color-unfitted-level-2: #ffe0b3;\n",
              "  --sklearn-color-unfitted-level-3: chocolate;\n",
              "  /* Definition of color scheme for fitted estimators */\n",
              "  --sklearn-color-fitted-level-0: #f0f8ff;\n",
              "  --sklearn-color-fitted-level-1: #d4ebff;\n",
              "  --sklearn-color-fitted-level-2: #b3dbfd;\n",
              "  --sklearn-color-fitted-level-3: cornflowerblue;\n",
              "\n",
              "  /* Specific color for light theme */\n",
              "  --sklearn-color-text-on-default-background: var(--sg-text-color, var(--theme-code-foreground, var(--jp-content-font-color1, black)));\n",
              "  --sklearn-color-background: var(--sg-background-color, var(--theme-background, var(--jp-layout-color0, white)));\n",
              "  --sklearn-color-border-box: var(--sg-text-color, var(--theme-code-foreground, var(--jp-content-font-color1, black)));\n",
              "  --sklearn-color-icon: #696969;\n",
              "\n",
              "  @media (prefers-color-scheme: dark) {\n",
              "    /* Redefinition of color scheme for dark theme */\n",
              "    --sklearn-color-text-on-default-background: var(--sg-text-color, var(--theme-code-foreground, var(--jp-content-font-color1, white)));\n",
              "    --sklearn-color-background: var(--sg-background-color, var(--theme-background, var(--jp-layout-color0, #111)));\n",
              "    --sklearn-color-border-box: var(--sg-text-color, var(--theme-code-foreground, var(--jp-content-font-color1, white)));\n",
              "    --sklearn-color-icon: #878787;\n",
              "  }\n",
              "}\n",
              "\n",
              "#sk-container-id-2 {\n",
              "  color: var(--sklearn-color-text);\n",
              "}\n",
              "\n",
              "#sk-container-id-2 pre {\n",
              "  padding: 0;\n",
              "}\n",
              "\n",
              "#sk-container-id-2 input.sk-hidden--visually {\n",
              "  border: 0;\n",
              "  clip: rect(1px 1px 1px 1px);\n",
              "  clip: rect(1px, 1px, 1px, 1px);\n",
              "  height: 1px;\n",
              "  margin: -1px;\n",
              "  overflow: hidden;\n",
              "  padding: 0;\n",
              "  position: absolute;\n",
              "  width: 1px;\n",
              "}\n",
              "\n",
              "#sk-container-id-2 div.sk-dashed-wrapped {\n",
              "  border: 1px dashed var(--sklearn-color-line);\n",
              "  margin: 0 0.4em 0.5em 0.4em;\n",
              "  box-sizing: border-box;\n",
              "  padding-bottom: 0.4em;\n",
              "  background-color: var(--sklearn-color-background);\n",
              "}\n",
              "\n",
              "#sk-container-id-2 div.sk-container {\n",
              "  /* jupyter's `normalize.less` sets `[hidden] { display: none; }`\n",
              "     but bootstrap.min.css set `[hidden] { display: none !important; }`\n",
              "     so we also need the `!important` here to be able to override the\n",
              "     default hidden behavior on the sphinx rendered scikit-learn.org.\n",
              "     See: https://github.com/scikit-learn/scikit-learn/issues/21755 */\n",
              "  display: inline-block !important;\n",
              "  position: relative;\n",
              "}\n",
              "\n",
              "#sk-container-id-2 div.sk-text-repr-fallback {\n",
              "  display: none;\n",
              "}\n",
              "\n",
              "div.sk-parallel-item,\n",
              "div.sk-serial,\n",
              "div.sk-item {\n",
              "  /* draw centered vertical line to link estimators */\n",
              "  background-image: linear-gradient(var(--sklearn-color-text-on-default-background), var(--sklearn-color-text-on-default-background));\n",
              "  background-size: 2px 100%;\n",
              "  background-repeat: no-repeat;\n",
              "  background-position: center center;\n",
              "}\n",
              "\n",
              "/* Parallel-specific style estimator block */\n",
              "\n",
              "#sk-container-id-2 div.sk-parallel-item::after {\n",
              "  content: \"\";\n",
              "  width: 100%;\n",
              "  border-bottom: 2px solid var(--sklearn-color-text-on-default-background);\n",
              "  flex-grow: 1;\n",
              "}\n",
              "\n",
              "#sk-container-id-2 div.sk-parallel {\n",
              "  display: flex;\n",
              "  align-items: stretch;\n",
              "  justify-content: center;\n",
              "  background-color: var(--sklearn-color-background);\n",
              "  position: relative;\n",
              "}\n",
              "\n",
              "#sk-container-id-2 div.sk-parallel-item {\n",
              "  display: flex;\n",
              "  flex-direction: column;\n",
              "}\n",
              "\n",
              "#sk-container-id-2 div.sk-parallel-item:first-child::after {\n",
              "  align-self: flex-end;\n",
              "  width: 50%;\n",
              "}\n",
              "\n",
              "#sk-container-id-2 div.sk-parallel-item:last-child::after {\n",
              "  align-self: flex-start;\n",
              "  width: 50%;\n",
              "}\n",
              "\n",
              "#sk-container-id-2 div.sk-parallel-item:only-child::after {\n",
              "  width: 0;\n",
              "}\n",
              "\n",
              "/* Serial-specific style estimator block */\n",
              "\n",
              "#sk-container-id-2 div.sk-serial {\n",
              "  display: flex;\n",
              "  flex-direction: column;\n",
              "  align-items: center;\n",
              "  background-color: var(--sklearn-color-background);\n",
              "  padding-right: 1em;\n",
              "  padding-left: 1em;\n",
              "}\n",
              "\n",
              "\n",
              "/* Toggleable style: style used for estimator/Pipeline/ColumnTransformer box that is\n",
              "clickable and can be expanded/collapsed.\n",
              "- Pipeline and ColumnTransformer use this feature and define the default style\n",
              "- Estimators will overwrite some part of the style using the `sk-estimator` class\n",
              "*/\n",
              "\n",
              "/* Pipeline and ColumnTransformer style (default) */\n",
              "\n",
              "#sk-container-id-2 div.sk-toggleable {\n",
              "  /* Default theme specific background. It is overwritten whether we have a\n",
              "  specific estimator or a Pipeline/ColumnTransformer */\n",
              "  background-color: var(--sklearn-color-background);\n",
              "}\n",
              "\n",
              "/* Toggleable label */\n",
              "#sk-container-id-2 label.sk-toggleable__label {\n",
              "  cursor: pointer;\n",
              "  display: block;\n",
              "  width: 100%;\n",
              "  margin-bottom: 0;\n",
              "  padding: 0.5em;\n",
              "  box-sizing: border-box;\n",
              "  text-align: center;\n",
              "}\n",
              "\n",
              "#sk-container-id-2 label.sk-toggleable__label-arrow:before {\n",
              "  /* Arrow on the left of the label */\n",
              "  content: \"▸\";\n",
              "  float: left;\n",
              "  margin-right: 0.25em;\n",
              "  color: var(--sklearn-color-icon);\n",
              "}\n",
              "\n",
              "#sk-container-id-2 label.sk-toggleable__label-arrow:hover:before {\n",
              "  color: var(--sklearn-color-text);\n",
              "}\n",
              "\n",
              "/* Toggleable content - dropdown */\n",
              "\n",
              "#sk-container-id-2 div.sk-toggleable__content {\n",
              "  max-height: 0;\n",
              "  max-width: 0;\n",
              "  overflow: hidden;\n",
              "  text-align: left;\n",
              "  /* unfitted */\n",
              "  background-color: var(--sklearn-color-unfitted-level-0);\n",
              "}\n",
              "\n",
              "#sk-container-id-2 div.sk-toggleable__content.fitted {\n",
              "  /* fitted */\n",
              "  background-color: var(--sklearn-color-fitted-level-0);\n",
              "}\n",
              "\n",
              "#sk-container-id-2 div.sk-toggleable__content pre {\n",
              "  margin: 0.2em;\n",
              "  border-radius: 0.25em;\n",
              "  color: var(--sklearn-color-text);\n",
              "  /* unfitted */\n",
              "  background-color: var(--sklearn-color-unfitted-level-0);\n",
              "}\n",
              "\n",
              "#sk-container-id-2 div.sk-toggleable__content.fitted pre {\n",
              "  /* unfitted */\n",
              "  background-color: var(--sklearn-color-fitted-level-0);\n",
              "}\n",
              "\n",
              "#sk-container-id-2 input.sk-toggleable__control:checked~div.sk-toggleable__content {\n",
              "  /* Expand drop-down */\n",
              "  max-height: 200px;\n",
              "  max-width: 100%;\n",
              "  overflow: auto;\n",
              "}\n",
              "\n",
              "#sk-container-id-2 input.sk-toggleable__control:checked~label.sk-toggleable__label-arrow:before {\n",
              "  content: \"▾\";\n",
              "}\n",
              "\n",
              "/* Pipeline/ColumnTransformer-specific style */\n",
              "\n",
              "#sk-container-id-2 div.sk-label input.sk-toggleable__control:checked~label.sk-toggleable__label {\n",
              "  color: var(--sklearn-color-text);\n",
              "  background-color: var(--sklearn-color-unfitted-level-2);\n",
              "}\n",
              "\n",
              "#sk-container-id-2 div.sk-label.fitted input.sk-toggleable__control:checked~label.sk-toggleable__label {\n",
              "  background-color: var(--sklearn-color-fitted-level-2);\n",
              "}\n",
              "\n",
              "/* Estimator-specific style */\n",
              "\n",
              "/* Colorize estimator box */\n",
              "#sk-container-id-2 div.sk-estimator input.sk-toggleable__control:checked~label.sk-toggleable__label {\n",
              "  /* unfitted */\n",
              "  background-color: var(--sklearn-color-unfitted-level-2);\n",
              "}\n",
              "\n",
              "#sk-container-id-2 div.sk-estimator.fitted input.sk-toggleable__control:checked~label.sk-toggleable__label {\n",
              "  /* fitted */\n",
              "  background-color: var(--sklearn-color-fitted-level-2);\n",
              "}\n",
              "\n",
              "#sk-container-id-2 div.sk-label label.sk-toggleable__label,\n",
              "#sk-container-id-2 div.sk-label label {\n",
              "  /* The background is the default theme color */\n",
              "  color: var(--sklearn-color-text-on-default-background);\n",
              "}\n",
              "\n",
              "/* On hover, darken the color of the background */\n",
              "#sk-container-id-2 div.sk-label:hover label.sk-toggleable__label {\n",
              "  color: var(--sklearn-color-text);\n",
              "  background-color: var(--sklearn-color-unfitted-level-2);\n",
              "}\n",
              "\n",
              "/* Label box, darken color on hover, fitted */\n",
              "#sk-container-id-2 div.sk-label.fitted:hover label.sk-toggleable__label.fitted {\n",
              "  color: var(--sklearn-color-text);\n",
              "  background-color: var(--sklearn-color-fitted-level-2);\n",
              "}\n",
              "\n",
              "/* Estimator label */\n",
              "\n",
              "#sk-container-id-2 div.sk-label label {\n",
              "  font-family: monospace;\n",
              "  font-weight: bold;\n",
              "  display: inline-block;\n",
              "  line-height: 1.2em;\n",
              "}\n",
              "\n",
              "#sk-container-id-2 div.sk-label-container {\n",
              "  text-align: center;\n",
              "}\n",
              "\n",
              "/* Estimator-specific */\n",
              "#sk-container-id-2 div.sk-estimator {\n",
              "  font-family: monospace;\n",
              "  border: 1px dotted var(--sklearn-color-border-box);\n",
              "  border-radius: 0.25em;\n",
              "  box-sizing: border-box;\n",
              "  margin-bottom: 0.5em;\n",
              "  /* unfitted */\n",
              "  background-color: var(--sklearn-color-unfitted-level-0);\n",
              "}\n",
              "\n",
              "#sk-container-id-2 div.sk-estimator.fitted {\n",
              "  /* fitted */\n",
              "  background-color: var(--sklearn-color-fitted-level-0);\n",
              "}\n",
              "\n",
              "/* on hover */\n",
              "#sk-container-id-2 div.sk-estimator:hover {\n",
              "  /* unfitted */\n",
              "  background-color: var(--sklearn-color-unfitted-level-2);\n",
              "}\n",
              "\n",
              "#sk-container-id-2 div.sk-estimator.fitted:hover {\n",
              "  /* fitted */\n",
              "  background-color: var(--sklearn-color-fitted-level-2);\n",
              "}\n",
              "\n",
              "/* Specification for estimator info (e.g. \"i\" and \"?\") */\n",
              "\n",
              "/* Common style for \"i\" and \"?\" */\n",
              "\n",
              ".sk-estimator-doc-link,\n",
              "a:link.sk-estimator-doc-link,\n",
              "a:visited.sk-estimator-doc-link {\n",
              "  float: right;\n",
              "  font-size: smaller;\n",
              "  line-height: 1em;\n",
              "  font-family: monospace;\n",
              "  background-color: var(--sklearn-color-background);\n",
              "  border-radius: 1em;\n",
              "  height: 1em;\n",
              "  width: 1em;\n",
              "  text-decoration: none !important;\n",
              "  margin-left: 1ex;\n",
              "  /* unfitted */\n",
              "  border: var(--sklearn-color-unfitted-level-1) 1pt solid;\n",
              "  color: var(--sklearn-color-unfitted-level-1);\n",
              "}\n",
              "\n",
              ".sk-estimator-doc-link.fitted,\n",
              "a:link.sk-estimator-doc-link.fitted,\n",
              "a:visited.sk-estimator-doc-link.fitted {\n",
              "  /* fitted */\n",
              "  border: var(--sklearn-color-fitted-level-1) 1pt solid;\n",
              "  color: var(--sklearn-color-fitted-level-1);\n",
              "}\n",
              "\n",
              "/* On hover */\n",
              "div.sk-estimator:hover .sk-estimator-doc-link:hover,\n",
              ".sk-estimator-doc-link:hover,\n",
              "div.sk-label-container:hover .sk-estimator-doc-link:hover,\n",
              ".sk-estimator-doc-link:hover {\n",
              "  /* unfitted */\n",
              "  background-color: var(--sklearn-color-unfitted-level-3);\n",
              "  color: var(--sklearn-color-background);\n",
              "  text-decoration: none;\n",
              "}\n",
              "\n",
              "div.sk-estimator.fitted:hover .sk-estimator-doc-link.fitted:hover,\n",
              ".sk-estimator-doc-link.fitted:hover,\n",
              "div.sk-label-container:hover .sk-estimator-doc-link.fitted:hover,\n",
              ".sk-estimator-doc-link.fitted:hover {\n",
              "  /* fitted */\n",
              "  background-color: var(--sklearn-color-fitted-level-3);\n",
              "  color: var(--sklearn-color-background);\n",
              "  text-decoration: none;\n",
              "}\n",
              "\n",
              "/* Span, style for the box shown on hovering the info icon */\n",
              ".sk-estimator-doc-link span {\n",
              "  display: none;\n",
              "  z-index: 9999;\n",
              "  position: relative;\n",
              "  font-weight: normal;\n",
              "  right: .2ex;\n",
              "  padding: .5ex;\n",
              "  margin: .5ex;\n",
              "  width: min-content;\n",
              "  min-width: 20ex;\n",
              "  max-width: 50ex;\n",
              "  color: var(--sklearn-color-text);\n",
              "  box-shadow: 2pt 2pt 4pt #999;\n",
              "  /* unfitted */\n",
              "  background: var(--sklearn-color-unfitted-level-0);\n",
              "  border: .5pt solid var(--sklearn-color-unfitted-level-3);\n",
              "}\n",
              "\n",
              ".sk-estimator-doc-link.fitted span {\n",
              "  /* fitted */\n",
              "  background: var(--sklearn-color-fitted-level-0);\n",
              "  border: var(--sklearn-color-fitted-level-3);\n",
              "}\n",
              "\n",
              ".sk-estimator-doc-link:hover span {\n",
              "  display: block;\n",
              "}\n",
              "\n",
              "/* \"?\"-specific style due to the `<a>` HTML tag */\n",
              "\n",
              "#sk-container-id-2 a.estimator_doc_link {\n",
              "  float: right;\n",
              "  font-size: 1rem;\n",
              "  line-height: 1em;\n",
              "  font-family: monospace;\n",
              "  background-color: var(--sklearn-color-background);\n",
              "  border-radius: 1rem;\n",
              "  height: 1rem;\n",
              "  width: 1rem;\n",
              "  text-decoration: none;\n",
              "  /* unfitted */\n",
              "  color: var(--sklearn-color-unfitted-level-1);\n",
              "  border: var(--sklearn-color-unfitted-level-1) 1pt solid;\n",
              "}\n",
              "\n",
              "#sk-container-id-2 a.estimator_doc_link.fitted {\n",
              "  /* fitted */\n",
              "  border: var(--sklearn-color-fitted-level-1) 1pt solid;\n",
              "  color: var(--sklearn-color-fitted-level-1);\n",
              "}\n",
              "\n",
              "/* On hover */\n",
              "#sk-container-id-2 a.estimator_doc_link:hover {\n",
              "  /* unfitted */\n",
              "  background-color: var(--sklearn-color-unfitted-level-3);\n",
              "  color: var(--sklearn-color-background);\n",
              "  text-decoration: none;\n",
              "}\n",
              "\n",
              "#sk-container-id-2 a.estimator_doc_link.fitted:hover {\n",
              "  /* fitted */\n",
              "  background-color: var(--sklearn-color-fitted-level-3);\n",
              "}\n",
              "</style><div id=\"sk-container-id-2\" class=\"sk-top-container\"><div class=\"sk-text-repr-fallback\"><pre>LogisticRegression(max_iter=1000, random_state=42)</pre><b>In a Jupyter environment, please rerun this cell to show the HTML representation or trust the notebook. <br />On GitHub, the HTML representation is unable to render, please try loading this page with nbviewer.org.</b></div><div class=\"sk-container\" hidden><div class=\"sk-item\"><div class=\"sk-estimator fitted sk-toggleable\"><input class=\"sk-toggleable__control sk-hidden--visually\" id=\"sk-estimator-id-2\" type=\"checkbox\" checked><label for=\"sk-estimator-id-2\" class=\"sk-toggleable__label fitted sk-toggleable__label-arrow fitted\">&nbsp;&nbsp;LogisticRegression<a class=\"sk-estimator-doc-link fitted\" rel=\"noreferrer\" target=\"_blank\" href=\"https://scikit-learn.org/1.5/modules/generated/sklearn.linear_model.LogisticRegression.html\">?<span>Documentation for LogisticRegression</span></a><span class=\"sk-estimator-doc-link fitted\">i<span>Fitted</span></span></label><div class=\"sk-toggleable__content fitted\"><pre>LogisticRegression(max_iter=1000, random_state=42)</pre></div> </div></div></div></div>"
            ]
          },
          "metadata": {},
          "execution_count": 26
        }
      ],
      "source": [
        "model_lr = LogisticRegression(max_iter=1000, random_state=42)\n",
        "model_lr.fit(X_train, y_train)"
      ]
    },
    {
      "cell_type": "markdown",
      "metadata": {
        "id": "ESVucKEV7own"
      },
      "source": [
        "Next, I made predictions on training data. For that, I used `model_lr.predict(X_train)`. To calculate the accuracy of the model I used `accuracy_score(y_train, train_predictions_lr)`."
      ]
    },
    {
      "cell_type": "code",
      "execution_count": 27,
      "metadata": {
        "id": "Ng-4NY4n3G28"
      },
      "outputs": [],
      "source": [
        "train_predictions_lr = model_lr.predict(X_train)\n",
        "train_accuracy_lr = accuracy_score(y_train, train_predictions_lr)"
      ]
    },
    {
      "cell_type": "markdown",
      "metadata": {
        "id": "dKWRIYmD78t6"
      },
      "source": [
        "Next I made predictions on test data. For that I used `model_lr.predict(X_test)`. To calculate the accuracy of the model, I used `accuracy_score(y_test, y_test_pred_lr)`."
      ]
    },
    {
      "cell_type": "code",
      "execution_count": 28,
      "metadata": {
        "id": "-Y-SVFQ53vP9"
      },
      "outputs": [],
      "source": [
        "y_test_pred_lr = model_lr.predict(X_test)\n",
        "test_accuracy_lr = accuracy_score(y_test, y_test_pred_lr)"
      ]
    },
    {
      "cell_type": "markdown",
      "metadata": {
        "id": "K8XnmMxH8MJQ"
      },
      "source": [
        "The below code output the training accuracy and test accuracy of the Logistic Regresssion model."
      ]
    },
    {
      "cell_type": "code",
      "execution_count": 29,
      "metadata": {
        "id": "q1nLgpqX3WH6",
        "colab": {
          "base_uri": "https://localhost:8080/"
        },
        "outputId": "7b090113-7a24-4196-9c54-046ecd4aa2b2"
      },
      "outputs": [
        {
          "output_type": "stream",
          "name": "stdout",
          "text": [
            "Training Accuracy: 0.7874\n",
            "Test Accuracy: 0.7589\n"
          ]
        }
      ],
      "source": [
        "print(f'Training Accuracy: {train_accuracy_lr:.4f}')\n",
        "print(f'Test Accuracy: {test_accuracy_lr:.4f}')"
      ]
    },
    {
      "cell_type": "markdown",
      "metadata": {
        "id": "n5Lz5Ypf5JaW"
      },
      "source": [
        "A higher training accuracy compared to test accuracy can sometimes be a sign of overfitting, but in this case, the difference is small, so overfitting is not a significant concern here."
      ]
    },
    {
      "cell_type": "markdown",
      "metadata": {
        "id": "GgqP2Jh45YKa"
      },
      "source": [
        "The small differences between cross-validation accuracy, training accuracy, and test accuracy suggest that the model generalizes well and does not suffer significantly from overfitting or underfitting.\n",
        "\n",
        "With cross-validation accuracy close to training and test accuracies, the Logistic Regression model appears to be reliable and performs consistently on new data.\n",
        "\n",
        "Therefore, no need to do hyperparameter tuning for Logistic Regression model."
      ]
    },
    {
      "cell_type": "markdown",
      "source": [
        "By using the Logistic Regression model I made predictions on test set."
      ],
      "metadata": {
        "id": "NZ7vqT00tmrB"
      }
    },
    {
      "cell_type": "code",
      "source": [
        "churn_probabilities = model_lr.predict_proba(X_test)[:, 1]\n",
        "\n",
        "X_test['Churn_Probabilities'] = churn_probabilities\n",
        "X_test['Churn_Predictions'] = y_test_pred_lr\n",
        "\n",
        "X_test"
      ],
      "metadata": {
        "colab": {
          "base_uri": "https://localhost:8080/",
          "height": 423
        },
        "id": "REQkMnxytiax",
        "outputId": "b9ba5b9f-bd98-44f9-fa5c-01d58bbc2eef"
      },
      "execution_count": 30,
      "outputs": [
        {
          "output_type": "execute_result",
          "data": {
            "text/plain": [
              "        tenure  MonthlyCharges  TotalCharges  Churn_Probabilities  \\\n",
              "1075  0.042254        0.377377      0.024973             0.469186   \n",
              "1015  0.774648        0.411411      0.397472             0.065765   \n",
              "650   1.000000        0.457958      0.534290             0.034022   \n",
              "447   0.873239        0.008008      0.138280             0.019468   \n",
              "1290  1.000000        0.711712      0.750367             0.057853   \n",
              "...        ...             ...           ...                  ...   \n",
              "188   0.732394        0.773273      0.580040             0.164714   \n",
              "1237  0.197183        0.832833      0.190544             0.637892   \n",
              "380   0.507042        0.011011      0.081756             0.062786   \n",
              "354   0.464789        0.463463      0.247211             0.198289   \n",
              "289   0.380282        0.779780      0.308110             0.434259   \n",
              "\n",
              "      Churn_Predictions  \n",
              "1075                  0  \n",
              "1015                  0  \n",
              "650                   0  \n",
              "447                   0  \n",
              "1290                  0  \n",
              "...                 ...  \n",
              "188                   0  \n",
              "1237                  1  \n",
              "380                   0  \n",
              "354                   0  \n",
              "289                   0  \n",
              "\n",
              "[282 rows x 5 columns]"
            ],
            "text/html": [
              "\n",
              "  <div id=\"df-ea57186a-183f-4a57-82b7-1cf9b2079a5c\" class=\"colab-df-container\">\n",
              "    <div>\n",
              "<style scoped>\n",
              "    .dataframe tbody tr th:only-of-type {\n",
              "        vertical-align: middle;\n",
              "    }\n",
              "\n",
              "    .dataframe tbody tr th {\n",
              "        vertical-align: top;\n",
              "    }\n",
              "\n",
              "    .dataframe thead th {\n",
              "        text-align: right;\n",
              "    }\n",
              "</style>\n",
              "<table border=\"1\" class=\"dataframe\">\n",
              "  <thead>\n",
              "    <tr style=\"text-align: right;\">\n",
              "      <th></th>\n",
              "      <th>tenure</th>\n",
              "      <th>MonthlyCharges</th>\n",
              "      <th>TotalCharges</th>\n",
              "      <th>Churn_Probabilities</th>\n",
              "      <th>Churn_Predictions</th>\n",
              "    </tr>\n",
              "  </thead>\n",
              "  <tbody>\n",
              "    <tr>\n",
              "      <th>1075</th>\n",
              "      <td>0.042254</td>\n",
              "      <td>0.377377</td>\n",
              "      <td>0.024973</td>\n",
              "      <td>0.469186</td>\n",
              "      <td>0</td>\n",
              "    </tr>\n",
              "    <tr>\n",
              "      <th>1015</th>\n",
              "      <td>0.774648</td>\n",
              "      <td>0.411411</td>\n",
              "      <td>0.397472</td>\n",
              "      <td>0.065765</td>\n",
              "      <td>0</td>\n",
              "    </tr>\n",
              "    <tr>\n",
              "      <th>650</th>\n",
              "      <td>1.000000</td>\n",
              "      <td>0.457958</td>\n",
              "      <td>0.534290</td>\n",
              "      <td>0.034022</td>\n",
              "      <td>0</td>\n",
              "    </tr>\n",
              "    <tr>\n",
              "      <th>447</th>\n",
              "      <td>0.873239</td>\n",
              "      <td>0.008008</td>\n",
              "      <td>0.138280</td>\n",
              "      <td>0.019468</td>\n",
              "      <td>0</td>\n",
              "    </tr>\n",
              "    <tr>\n",
              "      <th>1290</th>\n",
              "      <td>1.000000</td>\n",
              "      <td>0.711712</td>\n",
              "      <td>0.750367</td>\n",
              "      <td>0.057853</td>\n",
              "      <td>0</td>\n",
              "    </tr>\n",
              "    <tr>\n",
              "      <th>...</th>\n",
              "      <td>...</td>\n",
              "      <td>...</td>\n",
              "      <td>...</td>\n",
              "      <td>...</td>\n",
              "      <td>...</td>\n",
              "    </tr>\n",
              "    <tr>\n",
              "      <th>188</th>\n",
              "      <td>0.732394</td>\n",
              "      <td>0.773273</td>\n",
              "      <td>0.580040</td>\n",
              "      <td>0.164714</td>\n",
              "      <td>0</td>\n",
              "    </tr>\n",
              "    <tr>\n",
              "      <th>1237</th>\n",
              "      <td>0.197183</td>\n",
              "      <td>0.832833</td>\n",
              "      <td>0.190544</td>\n",
              "      <td>0.637892</td>\n",
              "      <td>1</td>\n",
              "    </tr>\n",
              "    <tr>\n",
              "      <th>380</th>\n",
              "      <td>0.507042</td>\n",
              "      <td>0.011011</td>\n",
              "      <td>0.081756</td>\n",
              "      <td>0.062786</td>\n",
              "      <td>0</td>\n",
              "    </tr>\n",
              "    <tr>\n",
              "      <th>354</th>\n",
              "      <td>0.464789</td>\n",
              "      <td>0.463463</td>\n",
              "      <td>0.247211</td>\n",
              "      <td>0.198289</td>\n",
              "      <td>0</td>\n",
              "    </tr>\n",
              "    <tr>\n",
              "      <th>289</th>\n",
              "      <td>0.380282</td>\n",
              "      <td>0.779780</td>\n",
              "      <td>0.308110</td>\n",
              "      <td>0.434259</td>\n",
              "      <td>0</td>\n",
              "    </tr>\n",
              "  </tbody>\n",
              "</table>\n",
              "<p>282 rows × 5 columns</p>\n",
              "</div>\n",
              "    <div class=\"colab-df-buttons\">\n",
              "\n",
              "  <div class=\"colab-df-container\">\n",
              "    <button class=\"colab-df-convert\" onclick=\"convertToInteractive('df-ea57186a-183f-4a57-82b7-1cf9b2079a5c')\"\n",
              "            title=\"Convert this dataframe to an interactive table.\"\n",
              "            style=\"display:none;\">\n",
              "\n",
              "  <svg xmlns=\"http://www.w3.org/2000/svg\" height=\"24px\" viewBox=\"0 -960 960 960\">\n",
              "    <path d=\"M120-120v-720h720v720H120Zm60-500h600v-160H180v160Zm220 220h160v-160H400v160Zm0 220h160v-160H400v160ZM180-400h160v-160H180v160Zm440 0h160v-160H620v160ZM180-180h160v-160H180v160Zm440 0h160v-160H620v160Z\"/>\n",
              "  </svg>\n",
              "    </button>\n",
              "\n",
              "  <style>\n",
              "    .colab-df-container {\n",
              "      display:flex;\n",
              "      gap: 12px;\n",
              "    }\n",
              "\n",
              "    .colab-df-convert {\n",
              "      background-color: #E8F0FE;\n",
              "      border: none;\n",
              "      border-radius: 50%;\n",
              "      cursor: pointer;\n",
              "      display: none;\n",
              "      fill: #1967D2;\n",
              "      height: 32px;\n",
              "      padding: 0 0 0 0;\n",
              "      width: 32px;\n",
              "    }\n",
              "\n",
              "    .colab-df-convert:hover {\n",
              "      background-color: #E2EBFA;\n",
              "      box-shadow: 0px 1px 2px rgba(60, 64, 67, 0.3), 0px 1px 3px 1px rgba(60, 64, 67, 0.15);\n",
              "      fill: #174EA6;\n",
              "    }\n",
              "\n",
              "    .colab-df-buttons div {\n",
              "      margin-bottom: 4px;\n",
              "    }\n",
              "\n",
              "    [theme=dark] .colab-df-convert {\n",
              "      background-color: #3B4455;\n",
              "      fill: #D2E3FC;\n",
              "    }\n",
              "\n",
              "    [theme=dark] .colab-df-convert:hover {\n",
              "      background-color: #434B5C;\n",
              "      box-shadow: 0px 1px 3px 1px rgba(0, 0, 0, 0.15);\n",
              "      filter: drop-shadow(0px 1px 2px rgba(0, 0, 0, 0.3));\n",
              "      fill: #FFFFFF;\n",
              "    }\n",
              "  </style>\n",
              "\n",
              "    <script>\n",
              "      const buttonEl =\n",
              "        document.querySelector('#df-ea57186a-183f-4a57-82b7-1cf9b2079a5c button.colab-df-convert');\n",
              "      buttonEl.style.display =\n",
              "        google.colab.kernel.accessAllowed ? 'block' : 'none';\n",
              "\n",
              "      async function convertToInteractive(key) {\n",
              "        const element = document.querySelector('#df-ea57186a-183f-4a57-82b7-1cf9b2079a5c');\n",
              "        const dataTable =\n",
              "          await google.colab.kernel.invokeFunction('convertToInteractive',\n",
              "                                                    [key], {});\n",
              "        if (!dataTable) return;\n",
              "\n",
              "        const docLinkHtml = 'Like what you see? Visit the ' +\n",
              "          '<a target=\"_blank\" href=https://colab.research.google.com/notebooks/data_table.ipynb>data table notebook</a>'\n",
              "          + ' to learn more about interactive tables.';\n",
              "        element.innerHTML = '';\n",
              "        dataTable['output_type'] = 'display_data';\n",
              "        await google.colab.output.renderOutput(dataTable, element);\n",
              "        const docLink = document.createElement('div');\n",
              "        docLink.innerHTML = docLinkHtml;\n",
              "        element.appendChild(docLink);\n",
              "      }\n",
              "    </script>\n",
              "  </div>\n",
              "\n",
              "\n",
              "<div id=\"df-2d095f69-98f7-44b4-aa5a-e65479b50f95\">\n",
              "  <button class=\"colab-df-quickchart\" onclick=\"quickchart('df-2d095f69-98f7-44b4-aa5a-e65479b50f95')\"\n",
              "            title=\"Suggest charts\"\n",
              "            style=\"display:none;\">\n",
              "\n",
              "<svg xmlns=\"http://www.w3.org/2000/svg\" height=\"24px\"viewBox=\"0 0 24 24\"\n",
              "     width=\"24px\">\n",
              "    <g>\n",
              "        <path d=\"M19 3H5c-1.1 0-2 .9-2 2v14c0 1.1.9 2 2 2h14c1.1 0 2-.9 2-2V5c0-1.1-.9-2-2-2zM9 17H7v-7h2v7zm4 0h-2V7h2v10zm4 0h-2v-4h2v4z\"/>\n",
              "    </g>\n",
              "</svg>\n",
              "  </button>\n",
              "\n",
              "<style>\n",
              "  .colab-df-quickchart {\n",
              "      --bg-color: #E8F0FE;\n",
              "      --fill-color: #1967D2;\n",
              "      --hover-bg-color: #E2EBFA;\n",
              "      --hover-fill-color: #174EA6;\n",
              "      --disabled-fill-color: #AAA;\n",
              "      --disabled-bg-color: #DDD;\n",
              "  }\n",
              "\n",
              "  [theme=dark] .colab-df-quickchart {\n",
              "      --bg-color: #3B4455;\n",
              "      --fill-color: #D2E3FC;\n",
              "      --hover-bg-color: #434B5C;\n",
              "      --hover-fill-color: #FFFFFF;\n",
              "      --disabled-bg-color: #3B4455;\n",
              "      --disabled-fill-color: #666;\n",
              "  }\n",
              "\n",
              "  .colab-df-quickchart {\n",
              "    background-color: var(--bg-color);\n",
              "    border: none;\n",
              "    border-radius: 50%;\n",
              "    cursor: pointer;\n",
              "    display: none;\n",
              "    fill: var(--fill-color);\n",
              "    height: 32px;\n",
              "    padding: 0;\n",
              "    width: 32px;\n",
              "  }\n",
              "\n",
              "  .colab-df-quickchart:hover {\n",
              "    background-color: var(--hover-bg-color);\n",
              "    box-shadow: 0 1px 2px rgba(60, 64, 67, 0.3), 0 1px 3px 1px rgba(60, 64, 67, 0.15);\n",
              "    fill: var(--button-hover-fill-color);\n",
              "  }\n",
              "\n",
              "  .colab-df-quickchart-complete:disabled,\n",
              "  .colab-df-quickchart-complete:disabled:hover {\n",
              "    background-color: var(--disabled-bg-color);\n",
              "    fill: var(--disabled-fill-color);\n",
              "    box-shadow: none;\n",
              "  }\n",
              "\n",
              "  .colab-df-spinner {\n",
              "    border: 2px solid var(--fill-color);\n",
              "    border-color: transparent;\n",
              "    border-bottom-color: var(--fill-color);\n",
              "    animation:\n",
              "      spin 1s steps(1) infinite;\n",
              "  }\n",
              "\n",
              "  @keyframes spin {\n",
              "    0% {\n",
              "      border-color: transparent;\n",
              "      border-bottom-color: var(--fill-color);\n",
              "      border-left-color: var(--fill-color);\n",
              "    }\n",
              "    20% {\n",
              "      border-color: transparent;\n",
              "      border-left-color: var(--fill-color);\n",
              "      border-top-color: var(--fill-color);\n",
              "    }\n",
              "    30% {\n",
              "      border-color: transparent;\n",
              "      border-left-color: var(--fill-color);\n",
              "      border-top-color: var(--fill-color);\n",
              "      border-right-color: var(--fill-color);\n",
              "    }\n",
              "    40% {\n",
              "      border-color: transparent;\n",
              "      border-right-color: var(--fill-color);\n",
              "      border-top-color: var(--fill-color);\n",
              "    }\n",
              "    60% {\n",
              "      border-color: transparent;\n",
              "      border-right-color: var(--fill-color);\n",
              "    }\n",
              "    80% {\n",
              "      border-color: transparent;\n",
              "      border-right-color: var(--fill-color);\n",
              "      border-bottom-color: var(--fill-color);\n",
              "    }\n",
              "    90% {\n",
              "      border-color: transparent;\n",
              "      border-bottom-color: var(--fill-color);\n",
              "    }\n",
              "  }\n",
              "</style>\n",
              "\n",
              "  <script>\n",
              "    async function quickchart(key) {\n",
              "      const quickchartButtonEl =\n",
              "        document.querySelector('#' + key + ' button');\n",
              "      quickchartButtonEl.disabled = true;  // To prevent multiple clicks.\n",
              "      quickchartButtonEl.classList.add('colab-df-spinner');\n",
              "      try {\n",
              "        const charts = await google.colab.kernel.invokeFunction(\n",
              "            'suggestCharts', [key], {});\n",
              "      } catch (error) {\n",
              "        console.error('Error during call to suggestCharts:', error);\n",
              "      }\n",
              "      quickchartButtonEl.classList.remove('colab-df-spinner');\n",
              "      quickchartButtonEl.classList.add('colab-df-quickchart-complete');\n",
              "    }\n",
              "    (() => {\n",
              "      let quickchartButtonEl =\n",
              "        document.querySelector('#df-2d095f69-98f7-44b4-aa5a-e65479b50f95 button');\n",
              "      quickchartButtonEl.style.display =\n",
              "        google.colab.kernel.accessAllowed ? 'block' : 'none';\n",
              "    })();\n",
              "  </script>\n",
              "</div>\n",
              "\n",
              "  <div id=\"id_79a628bc-93e1-4fd1-a6d5-06c47b0b2ffc\">\n",
              "    <style>\n",
              "      .colab-df-generate {\n",
              "        background-color: #E8F0FE;\n",
              "        border: none;\n",
              "        border-radius: 50%;\n",
              "        cursor: pointer;\n",
              "        display: none;\n",
              "        fill: #1967D2;\n",
              "        height: 32px;\n",
              "        padding: 0 0 0 0;\n",
              "        width: 32px;\n",
              "      }\n",
              "\n",
              "      .colab-df-generate:hover {\n",
              "        background-color: #E2EBFA;\n",
              "        box-shadow: 0px 1px 2px rgba(60, 64, 67, 0.3), 0px 1px 3px 1px rgba(60, 64, 67, 0.15);\n",
              "        fill: #174EA6;\n",
              "      }\n",
              "\n",
              "      [theme=dark] .colab-df-generate {\n",
              "        background-color: #3B4455;\n",
              "        fill: #D2E3FC;\n",
              "      }\n",
              "\n",
              "      [theme=dark] .colab-df-generate:hover {\n",
              "        background-color: #434B5C;\n",
              "        box-shadow: 0px 1px 3px 1px rgba(0, 0, 0, 0.15);\n",
              "        filter: drop-shadow(0px 1px 2px rgba(0, 0, 0, 0.3));\n",
              "        fill: #FFFFFF;\n",
              "      }\n",
              "    </style>\n",
              "    <button class=\"colab-df-generate\" onclick=\"generateWithVariable('X_test')\"\n",
              "            title=\"Generate code using this dataframe.\"\n",
              "            style=\"display:none;\">\n",
              "\n",
              "  <svg xmlns=\"http://www.w3.org/2000/svg\" height=\"24px\"viewBox=\"0 0 24 24\"\n",
              "       width=\"24px\">\n",
              "    <path d=\"M7,19H8.4L18.45,9,17,7.55,7,17.6ZM5,21V16.75L18.45,3.32a2,2,0,0,1,2.83,0l1.4,1.43a1.91,1.91,0,0,1,.58,1.4,1.91,1.91,0,0,1-.58,1.4L9.25,21ZM18.45,9,17,7.55Zm-12,3A5.31,5.31,0,0,0,4.9,8.1,5.31,5.31,0,0,0,1,6.5,5.31,5.31,0,0,0,4.9,4.9,5.31,5.31,0,0,0,6.5,1,5.31,5.31,0,0,0,8.1,4.9,5.31,5.31,0,0,0,12,6.5,5.46,5.46,0,0,0,6.5,12Z\"/>\n",
              "  </svg>\n",
              "    </button>\n",
              "    <script>\n",
              "      (() => {\n",
              "      const buttonEl =\n",
              "        document.querySelector('#id_79a628bc-93e1-4fd1-a6d5-06c47b0b2ffc button.colab-df-generate');\n",
              "      buttonEl.style.display =\n",
              "        google.colab.kernel.accessAllowed ? 'block' : 'none';\n",
              "\n",
              "      buttonEl.onclick = () => {\n",
              "        google.colab.notebook.generateWithVariable('X_test');\n",
              "      }\n",
              "      })();\n",
              "    </script>\n",
              "  </div>\n",
              "\n",
              "    </div>\n",
              "  </div>\n"
            ],
            "application/vnd.google.colaboratory.intrinsic+json": {
              "type": "dataframe",
              "variable_name": "X_test",
              "summary": "{\n  \"name\": \"X_test\",\n  \"rows\": 282,\n  \"fields\": [\n    {\n      \"column\": \"tenure\",\n      \"properties\": {\n        \"dtype\": \"number\",\n        \"std\": 0.3543432173585318,\n        \"min\": 0.0,\n        \"max\": 1.0,\n        \"num_unique_values\": 72,\n        \"samples\": [\n          0.9859154929577464,\n          0.8873239436619719,\n          0.8450704225352113\n        ],\n        \"semantic_type\": \"\",\n        \"description\": \"\"\n      }\n    },\n    {\n      \"column\": \"MonthlyCharges\",\n      \"properties\": {\n        \"dtype\": \"number\",\n        \"std\": 0.29842480544873573,\n        \"min\": 0.0,\n        \"max\": 1.0,\n        \"num_unique_values\": 239,\n        \"samples\": [\n          0.6666666666666667,\n          0.8113113113113115,\n          0.8993993993993995\n        ],\n        \"semantic_type\": \"\",\n        \"description\": \"\"\n      }\n    },\n    {\n      \"column\": \"TotalCharges\",\n      \"properties\": {\n        \"dtype\": \"number\",\n        \"std\": 0.27269087338930487,\n        \"min\": 0.0,\n        \"max\": 1.0,\n        \"num_unique_values\": 279,\n        \"samples\": [\n          0.1995538242807439,\n          0.9213933166113762,\n          0.1064464300162981\n        ],\n        \"semantic_type\": \"\",\n        \"description\": \"\"\n      }\n    },\n    {\n      \"column\": \"Churn_Probabilities\",\n      \"properties\": {\n        \"dtype\": \"number\",\n        \"std\": 0.20411689305863165,\n        \"min\": 0.012971790829557905,\n        \"max\": 0.7557903817167951,\n        \"num_unique_values\": 279,\n        \"samples\": [\n          0.456981347009088,\n          0.1279964511964877,\n          0.35023845521800473\n        ],\n        \"semantic_type\": \"\",\n        \"description\": \"\"\n      }\n    },\n    {\n      \"column\": \"Churn_Predictions\",\n      \"properties\": {\n        \"dtype\": \"number\",\n        \"std\": 0,\n        \"min\": 0,\n        \"max\": 1,\n        \"num_unique_values\": 2,\n        \"samples\": [\n          1,\n          0\n        ],\n        \"semantic_type\": \"\",\n        \"description\": \"\"\n      }\n    }\n  ]\n}"
            }
          },
          "metadata": {},
          "execution_count": 30
        }
      ]
    },
    {
      "cell_type": "markdown",
      "source": [
        "In the output you can see there are two new columns indicate the `Churn_Probabilities` and `Churn_Predictions` based on the data."
      ],
      "metadata": {
        "id": "21ojS7Rhtqkw"
      }
    },
    {
      "cell_type": "markdown",
      "source": [
        "I filtered those two columns and added a percentage column for easy to unnderstand."
      ],
      "metadata": {
        "id": "EMsSs2DDt0O0"
      }
    },
    {
      "cell_type": "code",
      "source": [
        "X_test['Churn_Probabilities_Percentage'] = X_test['Churn_Probabilities'] * 100\n",
        "X_test[['Churn_Probabilities', 'Churn_Predictions', 'Churn_Probabilities_Percentage']]"
      ],
      "metadata": {
        "colab": {
          "base_uri": "https://localhost:8080/",
          "height": 423
        },
        "id": "El7i0FdGtzrC",
        "outputId": "a081ddcc-dc5b-4704-efe2-087731b98cb8"
      },
      "execution_count": 31,
      "outputs": [
        {
          "output_type": "execute_result",
          "data": {
            "text/plain": [
              "      Churn_Probabilities  Churn_Predictions  Churn_Probabilities_Percentage\n",
              "1075             0.469186                  0                       46.918560\n",
              "1015             0.065765                  0                        6.576502\n",
              "650              0.034022                  0                        3.402208\n",
              "447              0.019468                  0                        1.946755\n",
              "1290             0.057853                  0                        5.785318\n",
              "...                   ...                ...                             ...\n",
              "188              0.164714                  0                       16.471432\n",
              "1237             0.637892                  1                       63.789196\n",
              "380              0.062786                  0                        6.278558\n",
              "354              0.198289                  0                       19.828854\n",
              "289              0.434259                  0                       43.425855\n",
              "\n",
              "[282 rows x 3 columns]"
            ],
            "text/html": [
              "\n",
              "  <div id=\"df-245bce06-3cd7-459e-8f24-18cdcdc6b415\" class=\"colab-df-container\">\n",
              "    <div>\n",
              "<style scoped>\n",
              "    .dataframe tbody tr th:only-of-type {\n",
              "        vertical-align: middle;\n",
              "    }\n",
              "\n",
              "    .dataframe tbody tr th {\n",
              "        vertical-align: top;\n",
              "    }\n",
              "\n",
              "    .dataframe thead th {\n",
              "        text-align: right;\n",
              "    }\n",
              "</style>\n",
              "<table border=\"1\" class=\"dataframe\">\n",
              "  <thead>\n",
              "    <tr style=\"text-align: right;\">\n",
              "      <th></th>\n",
              "      <th>Churn_Probabilities</th>\n",
              "      <th>Churn_Predictions</th>\n",
              "      <th>Churn_Probabilities_Percentage</th>\n",
              "    </tr>\n",
              "  </thead>\n",
              "  <tbody>\n",
              "    <tr>\n",
              "      <th>1075</th>\n",
              "      <td>0.469186</td>\n",
              "      <td>0</td>\n",
              "      <td>46.918560</td>\n",
              "    </tr>\n",
              "    <tr>\n",
              "      <th>1015</th>\n",
              "      <td>0.065765</td>\n",
              "      <td>0</td>\n",
              "      <td>6.576502</td>\n",
              "    </tr>\n",
              "    <tr>\n",
              "      <th>650</th>\n",
              "      <td>0.034022</td>\n",
              "      <td>0</td>\n",
              "      <td>3.402208</td>\n",
              "    </tr>\n",
              "    <tr>\n",
              "      <th>447</th>\n",
              "      <td>0.019468</td>\n",
              "      <td>0</td>\n",
              "      <td>1.946755</td>\n",
              "    </tr>\n",
              "    <tr>\n",
              "      <th>1290</th>\n",
              "      <td>0.057853</td>\n",
              "      <td>0</td>\n",
              "      <td>5.785318</td>\n",
              "    </tr>\n",
              "    <tr>\n",
              "      <th>...</th>\n",
              "      <td>...</td>\n",
              "      <td>...</td>\n",
              "      <td>...</td>\n",
              "    </tr>\n",
              "    <tr>\n",
              "      <th>188</th>\n",
              "      <td>0.164714</td>\n",
              "      <td>0</td>\n",
              "      <td>16.471432</td>\n",
              "    </tr>\n",
              "    <tr>\n",
              "      <th>1237</th>\n",
              "      <td>0.637892</td>\n",
              "      <td>1</td>\n",
              "      <td>63.789196</td>\n",
              "    </tr>\n",
              "    <tr>\n",
              "      <th>380</th>\n",
              "      <td>0.062786</td>\n",
              "      <td>0</td>\n",
              "      <td>6.278558</td>\n",
              "    </tr>\n",
              "    <tr>\n",
              "      <th>354</th>\n",
              "      <td>0.198289</td>\n",
              "      <td>0</td>\n",
              "      <td>19.828854</td>\n",
              "    </tr>\n",
              "    <tr>\n",
              "      <th>289</th>\n",
              "      <td>0.434259</td>\n",
              "      <td>0</td>\n",
              "      <td>43.425855</td>\n",
              "    </tr>\n",
              "  </tbody>\n",
              "</table>\n",
              "<p>282 rows × 3 columns</p>\n",
              "</div>\n",
              "    <div class=\"colab-df-buttons\">\n",
              "\n",
              "  <div class=\"colab-df-container\">\n",
              "    <button class=\"colab-df-convert\" onclick=\"convertToInteractive('df-245bce06-3cd7-459e-8f24-18cdcdc6b415')\"\n",
              "            title=\"Convert this dataframe to an interactive table.\"\n",
              "            style=\"display:none;\">\n",
              "\n",
              "  <svg xmlns=\"http://www.w3.org/2000/svg\" height=\"24px\" viewBox=\"0 -960 960 960\">\n",
              "    <path d=\"M120-120v-720h720v720H120Zm60-500h600v-160H180v160Zm220 220h160v-160H400v160Zm0 220h160v-160H400v160ZM180-400h160v-160H180v160Zm440 0h160v-160H620v160ZM180-180h160v-160H180v160Zm440 0h160v-160H620v160Z\"/>\n",
              "  </svg>\n",
              "    </button>\n",
              "\n",
              "  <style>\n",
              "    .colab-df-container {\n",
              "      display:flex;\n",
              "      gap: 12px;\n",
              "    }\n",
              "\n",
              "    .colab-df-convert {\n",
              "      background-color: #E8F0FE;\n",
              "      border: none;\n",
              "      border-radius: 50%;\n",
              "      cursor: pointer;\n",
              "      display: none;\n",
              "      fill: #1967D2;\n",
              "      height: 32px;\n",
              "      padding: 0 0 0 0;\n",
              "      width: 32px;\n",
              "    }\n",
              "\n",
              "    .colab-df-convert:hover {\n",
              "      background-color: #E2EBFA;\n",
              "      box-shadow: 0px 1px 2px rgba(60, 64, 67, 0.3), 0px 1px 3px 1px rgba(60, 64, 67, 0.15);\n",
              "      fill: #174EA6;\n",
              "    }\n",
              "\n",
              "    .colab-df-buttons div {\n",
              "      margin-bottom: 4px;\n",
              "    }\n",
              "\n",
              "    [theme=dark] .colab-df-convert {\n",
              "      background-color: #3B4455;\n",
              "      fill: #D2E3FC;\n",
              "    }\n",
              "\n",
              "    [theme=dark] .colab-df-convert:hover {\n",
              "      background-color: #434B5C;\n",
              "      box-shadow: 0px 1px 3px 1px rgba(0, 0, 0, 0.15);\n",
              "      filter: drop-shadow(0px 1px 2px rgba(0, 0, 0, 0.3));\n",
              "      fill: #FFFFFF;\n",
              "    }\n",
              "  </style>\n",
              "\n",
              "    <script>\n",
              "      const buttonEl =\n",
              "        document.querySelector('#df-245bce06-3cd7-459e-8f24-18cdcdc6b415 button.colab-df-convert');\n",
              "      buttonEl.style.display =\n",
              "        google.colab.kernel.accessAllowed ? 'block' : 'none';\n",
              "\n",
              "      async function convertToInteractive(key) {\n",
              "        const element = document.querySelector('#df-245bce06-3cd7-459e-8f24-18cdcdc6b415');\n",
              "        const dataTable =\n",
              "          await google.colab.kernel.invokeFunction('convertToInteractive',\n",
              "                                                    [key], {});\n",
              "        if (!dataTable) return;\n",
              "\n",
              "        const docLinkHtml = 'Like what you see? Visit the ' +\n",
              "          '<a target=\"_blank\" href=https://colab.research.google.com/notebooks/data_table.ipynb>data table notebook</a>'\n",
              "          + ' to learn more about interactive tables.';\n",
              "        element.innerHTML = '';\n",
              "        dataTable['output_type'] = 'display_data';\n",
              "        await google.colab.output.renderOutput(dataTable, element);\n",
              "        const docLink = document.createElement('div');\n",
              "        docLink.innerHTML = docLinkHtml;\n",
              "        element.appendChild(docLink);\n",
              "      }\n",
              "    </script>\n",
              "  </div>\n",
              "\n",
              "\n",
              "<div id=\"df-407b13c2-2ea8-40d0-8429-4e8286acb9df\">\n",
              "  <button class=\"colab-df-quickchart\" onclick=\"quickchart('df-407b13c2-2ea8-40d0-8429-4e8286acb9df')\"\n",
              "            title=\"Suggest charts\"\n",
              "            style=\"display:none;\">\n",
              "\n",
              "<svg xmlns=\"http://www.w3.org/2000/svg\" height=\"24px\"viewBox=\"0 0 24 24\"\n",
              "     width=\"24px\">\n",
              "    <g>\n",
              "        <path d=\"M19 3H5c-1.1 0-2 .9-2 2v14c0 1.1.9 2 2 2h14c1.1 0 2-.9 2-2V5c0-1.1-.9-2-2-2zM9 17H7v-7h2v7zm4 0h-2V7h2v10zm4 0h-2v-4h2v4z\"/>\n",
              "    </g>\n",
              "</svg>\n",
              "  </button>\n",
              "\n",
              "<style>\n",
              "  .colab-df-quickchart {\n",
              "      --bg-color: #E8F0FE;\n",
              "      --fill-color: #1967D2;\n",
              "      --hover-bg-color: #E2EBFA;\n",
              "      --hover-fill-color: #174EA6;\n",
              "      --disabled-fill-color: #AAA;\n",
              "      --disabled-bg-color: #DDD;\n",
              "  }\n",
              "\n",
              "  [theme=dark] .colab-df-quickchart {\n",
              "      --bg-color: #3B4455;\n",
              "      --fill-color: #D2E3FC;\n",
              "      --hover-bg-color: #434B5C;\n",
              "      --hover-fill-color: #FFFFFF;\n",
              "      --disabled-bg-color: #3B4455;\n",
              "      --disabled-fill-color: #666;\n",
              "  }\n",
              "\n",
              "  .colab-df-quickchart {\n",
              "    background-color: var(--bg-color);\n",
              "    border: none;\n",
              "    border-radius: 50%;\n",
              "    cursor: pointer;\n",
              "    display: none;\n",
              "    fill: var(--fill-color);\n",
              "    height: 32px;\n",
              "    padding: 0;\n",
              "    width: 32px;\n",
              "  }\n",
              "\n",
              "  .colab-df-quickchart:hover {\n",
              "    background-color: var(--hover-bg-color);\n",
              "    box-shadow: 0 1px 2px rgba(60, 64, 67, 0.3), 0 1px 3px 1px rgba(60, 64, 67, 0.15);\n",
              "    fill: var(--button-hover-fill-color);\n",
              "  }\n",
              "\n",
              "  .colab-df-quickchart-complete:disabled,\n",
              "  .colab-df-quickchart-complete:disabled:hover {\n",
              "    background-color: var(--disabled-bg-color);\n",
              "    fill: var(--disabled-fill-color);\n",
              "    box-shadow: none;\n",
              "  }\n",
              "\n",
              "  .colab-df-spinner {\n",
              "    border: 2px solid var(--fill-color);\n",
              "    border-color: transparent;\n",
              "    border-bottom-color: var(--fill-color);\n",
              "    animation:\n",
              "      spin 1s steps(1) infinite;\n",
              "  }\n",
              "\n",
              "  @keyframes spin {\n",
              "    0% {\n",
              "      border-color: transparent;\n",
              "      border-bottom-color: var(--fill-color);\n",
              "      border-left-color: var(--fill-color);\n",
              "    }\n",
              "    20% {\n",
              "      border-color: transparent;\n",
              "      border-left-color: var(--fill-color);\n",
              "      border-top-color: var(--fill-color);\n",
              "    }\n",
              "    30% {\n",
              "      border-color: transparent;\n",
              "      border-left-color: var(--fill-color);\n",
              "      border-top-color: var(--fill-color);\n",
              "      border-right-color: var(--fill-color);\n",
              "    }\n",
              "    40% {\n",
              "      border-color: transparent;\n",
              "      border-right-color: var(--fill-color);\n",
              "      border-top-color: var(--fill-color);\n",
              "    }\n",
              "    60% {\n",
              "      border-color: transparent;\n",
              "      border-right-color: var(--fill-color);\n",
              "    }\n",
              "    80% {\n",
              "      border-color: transparent;\n",
              "      border-right-color: var(--fill-color);\n",
              "      border-bottom-color: var(--fill-color);\n",
              "    }\n",
              "    90% {\n",
              "      border-color: transparent;\n",
              "      border-bottom-color: var(--fill-color);\n",
              "    }\n",
              "  }\n",
              "</style>\n",
              "\n",
              "  <script>\n",
              "    async function quickchart(key) {\n",
              "      const quickchartButtonEl =\n",
              "        document.querySelector('#' + key + ' button');\n",
              "      quickchartButtonEl.disabled = true;  // To prevent multiple clicks.\n",
              "      quickchartButtonEl.classList.add('colab-df-spinner');\n",
              "      try {\n",
              "        const charts = await google.colab.kernel.invokeFunction(\n",
              "            'suggestCharts', [key], {});\n",
              "      } catch (error) {\n",
              "        console.error('Error during call to suggestCharts:', error);\n",
              "      }\n",
              "      quickchartButtonEl.classList.remove('colab-df-spinner');\n",
              "      quickchartButtonEl.classList.add('colab-df-quickchart-complete');\n",
              "    }\n",
              "    (() => {\n",
              "      let quickchartButtonEl =\n",
              "        document.querySelector('#df-407b13c2-2ea8-40d0-8429-4e8286acb9df button');\n",
              "      quickchartButtonEl.style.display =\n",
              "        google.colab.kernel.accessAllowed ? 'block' : 'none';\n",
              "    })();\n",
              "  </script>\n",
              "</div>\n",
              "\n",
              "    </div>\n",
              "  </div>\n"
            ],
            "application/vnd.google.colaboratory.intrinsic+json": {
              "type": "dataframe",
              "summary": "{\n  \"name\": \"X_test[['Churn_Probabilities', 'Churn_Predictions', 'Churn_Probabilities_Percentage']]\",\n  \"rows\": 282,\n  \"fields\": [\n    {\n      \"column\": \"Churn_Probabilities\",\n      \"properties\": {\n        \"dtype\": \"number\",\n        \"std\": 0.20411689305863165,\n        \"min\": 0.012971790829557905,\n        \"max\": 0.7557903817167951,\n        \"num_unique_values\": 279,\n        \"samples\": [\n          0.456981347009088,\n          0.1279964511964877,\n          0.35023845521800473\n        ],\n        \"semantic_type\": \"\",\n        \"description\": \"\"\n      }\n    },\n    {\n      \"column\": \"Churn_Predictions\",\n      \"properties\": {\n        \"dtype\": \"number\",\n        \"std\": 0,\n        \"min\": 0,\n        \"max\": 1,\n        \"num_unique_values\": 2,\n        \"samples\": [\n          1,\n          0\n        ],\n        \"semantic_type\": \"\",\n        \"description\": \"\"\n      }\n    },\n    {\n      \"column\": \"Churn_Probabilities_Percentage\",\n      \"properties\": {\n        \"dtype\": \"number\",\n        \"std\": 20.411689305863163,\n        \"min\": 1.2971790829557905,\n        \"max\": 75.57903817167951,\n        \"num_unique_values\": 279,\n        \"samples\": [\n          45.698134700908795,\n          12.799645119648769\n        ],\n        \"semantic_type\": \"\",\n        \"description\": \"\"\n      }\n    }\n  ]\n}"
            }
          },
          "metadata": {},
          "execution_count": 31
        }
      ]
    },
    {
      "cell_type": "markdown",
      "source": [
        "For all the other values less than 50% has 0 in the `Churn_Predictions`.\n",
        "\n",
        "Therefore we can understand that if the `Churn_Probabilities_Percentage` is greater than or equal to 50% there is more chance that the particular customer can leave the service provider. If the `Churn_Probabilities_Percentage` is less than 50% there is less chance to that particular customer leave the service provider.\n",
        "\n",
        "Also, based on the `Churn_Probabilities_Percentage` you can make decisions for a particular customer.\n",
        "\n",
        "I also included the visual representation."
      ],
      "metadata": {
        "id": "818cgMx2uPVz"
      }
    },
    {
      "cell_type": "code",
      "source": [
        "joblib.dump(model_lr, 'churn_prediction_model.pkl')\n",
        "files.download('churn_prediction_model.pkl')"
      ],
      "metadata": {
        "colab": {
          "base_uri": "https://localhost:8080/",
          "height": 17
        },
        "id": "5dLEpIi-RbhI",
        "outputId": "40847b9a-9314-4238-9c61-a362aa981390"
      },
      "execution_count": 32,
      "outputs": [
        {
          "output_type": "display_data",
          "data": {
            "text/plain": [
              "<IPython.core.display.Javascript object>"
            ],
            "application/javascript": [
              "\n",
              "    async function download(id, filename, size) {\n",
              "      if (!google.colab.kernel.accessAllowed) {\n",
              "        return;\n",
              "      }\n",
              "      const div = document.createElement('div');\n",
              "      const label = document.createElement('label');\n",
              "      label.textContent = `Downloading \"${filename}\": `;\n",
              "      div.appendChild(label);\n",
              "      const progress = document.createElement('progress');\n",
              "      progress.max = size;\n",
              "      div.appendChild(progress);\n",
              "      document.body.appendChild(div);\n",
              "\n",
              "      const buffers = [];\n",
              "      let downloaded = 0;\n",
              "\n",
              "      const channel = await google.colab.kernel.comms.open(id);\n",
              "      // Send a message to notify the kernel that we're ready.\n",
              "      channel.send({})\n",
              "\n",
              "      for await (const message of channel.messages) {\n",
              "        // Send a message to notify the kernel that we're ready.\n",
              "        channel.send({})\n",
              "        if (message.buffers) {\n",
              "          for (const buffer of message.buffers) {\n",
              "            buffers.push(buffer);\n",
              "            downloaded += buffer.byteLength;\n",
              "            progress.value = downloaded;\n",
              "          }\n",
              "        }\n",
              "      }\n",
              "      const blob = new Blob(buffers, {type: 'application/binary'});\n",
              "      const a = document.createElement('a');\n",
              "      a.href = window.URL.createObjectURL(blob);\n",
              "      a.download = filename;\n",
              "      div.appendChild(a);\n",
              "      a.click();\n",
              "      div.remove();\n",
              "    }\n",
              "  "
            ]
          },
          "metadata": {}
        },
        {
          "output_type": "display_data",
          "data": {
            "text/plain": [
              "<IPython.core.display.Javascript object>"
            ],
            "application/javascript": [
              "download(\"download_13ddccab-6bd3-4f97-89d1-20a6fa979a9b\", \"churn_prediction_model.pkl\", 1247)"
            ]
          },
          "metadata": {}
        }
      ]
    },
    {
      "cell_type": "markdown",
      "metadata": {
        "id": "Bf0JIx0d8Wrb"
      },
      "source": [
        "# **2. Decision Tree**"
      ]
    },
    {
      "cell_type": "markdown",
      "source": [
        "The `X_test` is changed so I again defined the features."
      ],
      "metadata": {
        "id": "-8NIE6vXjkfQ"
      }
    },
    {
      "cell_type": "markdown",
      "source": [
        "I separated the features(`X`) and target variable(`y`). I choose target variable(`y`) as column `chrun` and some other columns as features(`X`)."
      ],
      "metadata": {
        "id": "7RZvtD28ixhC"
      }
    },
    {
      "cell_type": "code",
      "source": [
        "X = df[['tenure', 'MonthlyCharges', 'TotalCharges']]\n",
        "y = df['Churn']"
      ],
      "metadata": {
        "id": "9zkOBm1biy7r"
      },
      "execution_count": 35,
      "outputs": []
    },
    {
      "cell_type": "markdown",
      "source": [
        "Next, I split the dataset into train and test."
      ],
      "metadata": {
        "id": "5vA6Qf4ui2nz"
      }
    },
    {
      "cell_type": "code",
      "source": [
        "X_train, X_test, y_train, y_test = train_test_split(X, y, test_size=0.2, random_state=42)"
      ],
      "metadata": {
        "id": "--m9vOQ1i7hc"
      },
      "execution_count": 36,
      "outputs": []
    },
    {
      "cell_type": "markdown",
      "metadata": {
        "id": "GlU3TEen9JTY"
      },
      "source": [
        "## **Cross-Validation**"
      ]
    },
    {
      "cell_type": "markdown",
      "metadata": {
        "id": "gwgkrEVn9Q6P"
      },
      "source": [
        "In below code `cross_val_socre` runs the Decision Tree model on the dataset `X_scaled, y `using the 5-fold cross-validation strategy defined by `kf`."
      ]
    },
    {
      "cell_type": "code",
      "execution_count": 37,
      "metadata": {
        "id": "i9a4IPvW9xkZ"
      },
      "outputs": [],
      "source": [
        "cv_scores_dt = cross_val_score(DecisionTreeClassifier(random_state=42), X_scaled, y, cv=kf, scoring='accuracy')"
      ]
    },
    {
      "cell_type": "markdown",
      "metadata": {
        "id": "KArTG-Vn96aF"
      },
      "source": [
        "Next, I outputted the cross-validation accuracy."
      ]
    },
    {
      "cell_type": "code",
      "execution_count": 38,
      "metadata": {
        "id": "z-s81ADT-CSo",
        "colab": {
          "base_uri": "https://localhost:8080/"
        },
        "outputId": "dd91d62b-afc2-40ee-dd6d-acabfc4a2a87"
      },
      "outputs": [
        {
          "output_type": "stream",
          "name": "stdout",
          "text": [
            "Cross-Validation Accuracy: 0.7119 ± 0.0143\n"
          ]
        }
      ],
      "source": [
        "print(f'Cross-Validation Accuracy: {cv_scores_dt.mean():.4f} ± {cv_scores_dt.std():.4f}')"
      ]
    },
    {
      "cell_type": "markdown",
      "metadata": {
        "id": "kEEI90BiCT7G"
      },
      "source": [
        "The output indicates that the model consistently performs well across different subsets of the data."
      ]
    },
    {
      "cell_type": "markdown",
      "metadata": {
        "id": "2nT9yUP5-jnz"
      },
      "source": [
        "## **Analyze Overfitting and Underfitting**"
      ]
    },
    {
      "cell_type": "markdown",
      "metadata": {
        "id": "af5nfxYe-2_C"
      },
      "source": [
        "To find if the Decision Tree model is overfitting or underfitting, I started with train the model using train data."
      ]
    },
    {
      "cell_type": "code",
      "execution_count": 39,
      "metadata": {
        "id": "3jGxIZw0--4h",
        "colab": {
          "base_uri": "https://localhost:8080/",
          "height": 80
        },
        "outputId": "9a39d4b4-3b69-47e2-99dd-1921ff3d2140"
      },
      "outputs": [
        {
          "output_type": "execute_result",
          "data": {
            "text/plain": [
              "DecisionTreeClassifier(random_state=42)"
            ],
            "text/html": [
              "<style>#sk-container-id-3 {\n",
              "  /* Definition of color scheme common for light and dark mode */\n",
              "  --sklearn-color-text: black;\n",
              "  --sklearn-color-line: gray;\n",
              "  /* Definition of color scheme for unfitted estimators */\n",
              "  --sklearn-color-unfitted-level-0: #fff5e6;\n",
              "  --sklearn-color-unfitted-level-1: #f6e4d2;\n",
              "  --sklearn-color-unfitted-level-2: #ffe0b3;\n",
              "  --sklearn-color-unfitted-level-3: chocolate;\n",
              "  /* Definition of color scheme for fitted estimators */\n",
              "  --sklearn-color-fitted-level-0: #f0f8ff;\n",
              "  --sklearn-color-fitted-level-1: #d4ebff;\n",
              "  --sklearn-color-fitted-level-2: #b3dbfd;\n",
              "  --sklearn-color-fitted-level-3: cornflowerblue;\n",
              "\n",
              "  /* Specific color for light theme */\n",
              "  --sklearn-color-text-on-default-background: var(--sg-text-color, var(--theme-code-foreground, var(--jp-content-font-color1, black)));\n",
              "  --sklearn-color-background: var(--sg-background-color, var(--theme-background, var(--jp-layout-color0, white)));\n",
              "  --sklearn-color-border-box: var(--sg-text-color, var(--theme-code-foreground, var(--jp-content-font-color1, black)));\n",
              "  --sklearn-color-icon: #696969;\n",
              "\n",
              "  @media (prefers-color-scheme: dark) {\n",
              "    /* Redefinition of color scheme for dark theme */\n",
              "    --sklearn-color-text-on-default-background: var(--sg-text-color, var(--theme-code-foreground, var(--jp-content-font-color1, white)));\n",
              "    --sklearn-color-background: var(--sg-background-color, var(--theme-background, var(--jp-layout-color0, #111)));\n",
              "    --sklearn-color-border-box: var(--sg-text-color, var(--theme-code-foreground, var(--jp-content-font-color1, white)));\n",
              "    --sklearn-color-icon: #878787;\n",
              "  }\n",
              "}\n",
              "\n",
              "#sk-container-id-3 {\n",
              "  color: var(--sklearn-color-text);\n",
              "}\n",
              "\n",
              "#sk-container-id-3 pre {\n",
              "  padding: 0;\n",
              "}\n",
              "\n",
              "#sk-container-id-3 input.sk-hidden--visually {\n",
              "  border: 0;\n",
              "  clip: rect(1px 1px 1px 1px);\n",
              "  clip: rect(1px, 1px, 1px, 1px);\n",
              "  height: 1px;\n",
              "  margin: -1px;\n",
              "  overflow: hidden;\n",
              "  padding: 0;\n",
              "  position: absolute;\n",
              "  width: 1px;\n",
              "}\n",
              "\n",
              "#sk-container-id-3 div.sk-dashed-wrapped {\n",
              "  border: 1px dashed var(--sklearn-color-line);\n",
              "  margin: 0 0.4em 0.5em 0.4em;\n",
              "  box-sizing: border-box;\n",
              "  padding-bottom: 0.4em;\n",
              "  background-color: var(--sklearn-color-background);\n",
              "}\n",
              "\n",
              "#sk-container-id-3 div.sk-container {\n",
              "  /* jupyter's `normalize.less` sets `[hidden] { display: none; }`\n",
              "     but bootstrap.min.css set `[hidden] { display: none !important; }`\n",
              "     so we also need the `!important` here to be able to override the\n",
              "     default hidden behavior on the sphinx rendered scikit-learn.org.\n",
              "     See: https://github.com/scikit-learn/scikit-learn/issues/21755 */\n",
              "  display: inline-block !important;\n",
              "  position: relative;\n",
              "}\n",
              "\n",
              "#sk-container-id-3 div.sk-text-repr-fallback {\n",
              "  display: none;\n",
              "}\n",
              "\n",
              "div.sk-parallel-item,\n",
              "div.sk-serial,\n",
              "div.sk-item {\n",
              "  /* draw centered vertical line to link estimators */\n",
              "  background-image: linear-gradient(var(--sklearn-color-text-on-default-background), var(--sklearn-color-text-on-default-background));\n",
              "  background-size: 2px 100%;\n",
              "  background-repeat: no-repeat;\n",
              "  background-position: center center;\n",
              "}\n",
              "\n",
              "/* Parallel-specific style estimator block */\n",
              "\n",
              "#sk-container-id-3 div.sk-parallel-item::after {\n",
              "  content: \"\";\n",
              "  width: 100%;\n",
              "  border-bottom: 2px solid var(--sklearn-color-text-on-default-background);\n",
              "  flex-grow: 1;\n",
              "}\n",
              "\n",
              "#sk-container-id-3 div.sk-parallel {\n",
              "  display: flex;\n",
              "  align-items: stretch;\n",
              "  justify-content: center;\n",
              "  background-color: var(--sklearn-color-background);\n",
              "  position: relative;\n",
              "}\n",
              "\n",
              "#sk-container-id-3 div.sk-parallel-item {\n",
              "  display: flex;\n",
              "  flex-direction: column;\n",
              "}\n",
              "\n",
              "#sk-container-id-3 div.sk-parallel-item:first-child::after {\n",
              "  align-self: flex-end;\n",
              "  width: 50%;\n",
              "}\n",
              "\n",
              "#sk-container-id-3 div.sk-parallel-item:last-child::after {\n",
              "  align-self: flex-start;\n",
              "  width: 50%;\n",
              "}\n",
              "\n",
              "#sk-container-id-3 div.sk-parallel-item:only-child::after {\n",
              "  width: 0;\n",
              "}\n",
              "\n",
              "/* Serial-specific style estimator block */\n",
              "\n",
              "#sk-container-id-3 div.sk-serial {\n",
              "  display: flex;\n",
              "  flex-direction: column;\n",
              "  align-items: center;\n",
              "  background-color: var(--sklearn-color-background);\n",
              "  padding-right: 1em;\n",
              "  padding-left: 1em;\n",
              "}\n",
              "\n",
              "\n",
              "/* Toggleable style: style used for estimator/Pipeline/ColumnTransformer box that is\n",
              "clickable and can be expanded/collapsed.\n",
              "- Pipeline and ColumnTransformer use this feature and define the default style\n",
              "- Estimators will overwrite some part of the style using the `sk-estimator` class\n",
              "*/\n",
              "\n",
              "/* Pipeline and ColumnTransformer style (default) */\n",
              "\n",
              "#sk-container-id-3 div.sk-toggleable {\n",
              "  /* Default theme specific background. It is overwritten whether we have a\n",
              "  specific estimator or a Pipeline/ColumnTransformer */\n",
              "  background-color: var(--sklearn-color-background);\n",
              "}\n",
              "\n",
              "/* Toggleable label */\n",
              "#sk-container-id-3 label.sk-toggleable__label {\n",
              "  cursor: pointer;\n",
              "  display: block;\n",
              "  width: 100%;\n",
              "  margin-bottom: 0;\n",
              "  padding: 0.5em;\n",
              "  box-sizing: border-box;\n",
              "  text-align: center;\n",
              "}\n",
              "\n",
              "#sk-container-id-3 label.sk-toggleable__label-arrow:before {\n",
              "  /* Arrow on the left of the label */\n",
              "  content: \"▸\";\n",
              "  float: left;\n",
              "  margin-right: 0.25em;\n",
              "  color: var(--sklearn-color-icon);\n",
              "}\n",
              "\n",
              "#sk-container-id-3 label.sk-toggleable__label-arrow:hover:before {\n",
              "  color: var(--sklearn-color-text);\n",
              "}\n",
              "\n",
              "/* Toggleable content - dropdown */\n",
              "\n",
              "#sk-container-id-3 div.sk-toggleable__content {\n",
              "  max-height: 0;\n",
              "  max-width: 0;\n",
              "  overflow: hidden;\n",
              "  text-align: left;\n",
              "  /* unfitted */\n",
              "  background-color: var(--sklearn-color-unfitted-level-0);\n",
              "}\n",
              "\n",
              "#sk-container-id-3 div.sk-toggleable__content.fitted {\n",
              "  /* fitted */\n",
              "  background-color: var(--sklearn-color-fitted-level-0);\n",
              "}\n",
              "\n",
              "#sk-container-id-3 div.sk-toggleable__content pre {\n",
              "  margin: 0.2em;\n",
              "  border-radius: 0.25em;\n",
              "  color: var(--sklearn-color-text);\n",
              "  /* unfitted */\n",
              "  background-color: var(--sklearn-color-unfitted-level-0);\n",
              "}\n",
              "\n",
              "#sk-container-id-3 div.sk-toggleable__content.fitted pre {\n",
              "  /* unfitted */\n",
              "  background-color: var(--sklearn-color-fitted-level-0);\n",
              "}\n",
              "\n",
              "#sk-container-id-3 input.sk-toggleable__control:checked~div.sk-toggleable__content {\n",
              "  /* Expand drop-down */\n",
              "  max-height: 200px;\n",
              "  max-width: 100%;\n",
              "  overflow: auto;\n",
              "}\n",
              "\n",
              "#sk-container-id-3 input.sk-toggleable__control:checked~label.sk-toggleable__label-arrow:before {\n",
              "  content: \"▾\";\n",
              "}\n",
              "\n",
              "/* Pipeline/ColumnTransformer-specific style */\n",
              "\n",
              "#sk-container-id-3 div.sk-label input.sk-toggleable__control:checked~label.sk-toggleable__label {\n",
              "  color: var(--sklearn-color-text);\n",
              "  background-color: var(--sklearn-color-unfitted-level-2);\n",
              "}\n",
              "\n",
              "#sk-container-id-3 div.sk-label.fitted input.sk-toggleable__control:checked~label.sk-toggleable__label {\n",
              "  background-color: var(--sklearn-color-fitted-level-2);\n",
              "}\n",
              "\n",
              "/* Estimator-specific style */\n",
              "\n",
              "/* Colorize estimator box */\n",
              "#sk-container-id-3 div.sk-estimator input.sk-toggleable__control:checked~label.sk-toggleable__label {\n",
              "  /* unfitted */\n",
              "  background-color: var(--sklearn-color-unfitted-level-2);\n",
              "}\n",
              "\n",
              "#sk-container-id-3 div.sk-estimator.fitted input.sk-toggleable__control:checked~label.sk-toggleable__label {\n",
              "  /* fitted */\n",
              "  background-color: var(--sklearn-color-fitted-level-2);\n",
              "}\n",
              "\n",
              "#sk-container-id-3 div.sk-label label.sk-toggleable__label,\n",
              "#sk-container-id-3 div.sk-label label {\n",
              "  /* The background is the default theme color */\n",
              "  color: var(--sklearn-color-text-on-default-background);\n",
              "}\n",
              "\n",
              "/* On hover, darken the color of the background */\n",
              "#sk-container-id-3 div.sk-label:hover label.sk-toggleable__label {\n",
              "  color: var(--sklearn-color-text);\n",
              "  background-color: var(--sklearn-color-unfitted-level-2);\n",
              "}\n",
              "\n",
              "/* Label box, darken color on hover, fitted */\n",
              "#sk-container-id-3 div.sk-label.fitted:hover label.sk-toggleable__label.fitted {\n",
              "  color: var(--sklearn-color-text);\n",
              "  background-color: var(--sklearn-color-fitted-level-2);\n",
              "}\n",
              "\n",
              "/* Estimator label */\n",
              "\n",
              "#sk-container-id-3 div.sk-label label {\n",
              "  font-family: monospace;\n",
              "  font-weight: bold;\n",
              "  display: inline-block;\n",
              "  line-height: 1.2em;\n",
              "}\n",
              "\n",
              "#sk-container-id-3 div.sk-label-container {\n",
              "  text-align: center;\n",
              "}\n",
              "\n",
              "/* Estimator-specific */\n",
              "#sk-container-id-3 div.sk-estimator {\n",
              "  font-family: monospace;\n",
              "  border: 1px dotted var(--sklearn-color-border-box);\n",
              "  border-radius: 0.25em;\n",
              "  box-sizing: border-box;\n",
              "  margin-bottom: 0.5em;\n",
              "  /* unfitted */\n",
              "  background-color: var(--sklearn-color-unfitted-level-0);\n",
              "}\n",
              "\n",
              "#sk-container-id-3 div.sk-estimator.fitted {\n",
              "  /* fitted */\n",
              "  background-color: var(--sklearn-color-fitted-level-0);\n",
              "}\n",
              "\n",
              "/* on hover */\n",
              "#sk-container-id-3 div.sk-estimator:hover {\n",
              "  /* unfitted */\n",
              "  background-color: var(--sklearn-color-unfitted-level-2);\n",
              "}\n",
              "\n",
              "#sk-container-id-3 div.sk-estimator.fitted:hover {\n",
              "  /* fitted */\n",
              "  background-color: var(--sklearn-color-fitted-level-2);\n",
              "}\n",
              "\n",
              "/* Specification for estimator info (e.g. \"i\" and \"?\") */\n",
              "\n",
              "/* Common style for \"i\" and \"?\" */\n",
              "\n",
              ".sk-estimator-doc-link,\n",
              "a:link.sk-estimator-doc-link,\n",
              "a:visited.sk-estimator-doc-link {\n",
              "  float: right;\n",
              "  font-size: smaller;\n",
              "  line-height: 1em;\n",
              "  font-family: monospace;\n",
              "  background-color: var(--sklearn-color-background);\n",
              "  border-radius: 1em;\n",
              "  height: 1em;\n",
              "  width: 1em;\n",
              "  text-decoration: none !important;\n",
              "  margin-left: 1ex;\n",
              "  /* unfitted */\n",
              "  border: var(--sklearn-color-unfitted-level-1) 1pt solid;\n",
              "  color: var(--sklearn-color-unfitted-level-1);\n",
              "}\n",
              "\n",
              ".sk-estimator-doc-link.fitted,\n",
              "a:link.sk-estimator-doc-link.fitted,\n",
              "a:visited.sk-estimator-doc-link.fitted {\n",
              "  /* fitted */\n",
              "  border: var(--sklearn-color-fitted-level-1) 1pt solid;\n",
              "  color: var(--sklearn-color-fitted-level-1);\n",
              "}\n",
              "\n",
              "/* On hover */\n",
              "div.sk-estimator:hover .sk-estimator-doc-link:hover,\n",
              ".sk-estimator-doc-link:hover,\n",
              "div.sk-label-container:hover .sk-estimator-doc-link:hover,\n",
              ".sk-estimator-doc-link:hover {\n",
              "  /* unfitted */\n",
              "  background-color: var(--sklearn-color-unfitted-level-3);\n",
              "  color: var(--sklearn-color-background);\n",
              "  text-decoration: none;\n",
              "}\n",
              "\n",
              "div.sk-estimator.fitted:hover .sk-estimator-doc-link.fitted:hover,\n",
              ".sk-estimator-doc-link.fitted:hover,\n",
              "div.sk-label-container:hover .sk-estimator-doc-link.fitted:hover,\n",
              ".sk-estimator-doc-link.fitted:hover {\n",
              "  /* fitted */\n",
              "  background-color: var(--sklearn-color-fitted-level-3);\n",
              "  color: var(--sklearn-color-background);\n",
              "  text-decoration: none;\n",
              "}\n",
              "\n",
              "/* Span, style for the box shown on hovering the info icon */\n",
              ".sk-estimator-doc-link span {\n",
              "  display: none;\n",
              "  z-index: 9999;\n",
              "  position: relative;\n",
              "  font-weight: normal;\n",
              "  right: .2ex;\n",
              "  padding: .5ex;\n",
              "  margin: .5ex;\n",
              "  width: min-content;\n",
              "  min-width: 20ex;\n",
              "  max-width: 50ex;\n",
              "  color: var(--sklearn-color-text);\n",
              "  box-shadow: 2pt 2pt 4pt #999;\n",
              "  /* unfitted */\n",
              "  background: var(--sklearn-color-unfitted-level-0);\n",
              "  border: .5pt solid var(--sklearn-color-unfitted-level-3);\n",
              "}\n",
              "\n",
              ".sk-estimator-doc-link.fitted span {\n",
              "  /* fitted */\n",
              "  background: var(--sklearn-color-fitted-level-0);\n",
              "  border: var(--sklearn-color-fitted-level-3);\n",
              "}\n",
              "\n",
              ".sk-estimator-doc-link:hover span {\n",
              "  display: block;\n",
              "}\n",
              "\n",
              "/* \"?\"-specific style due to the `<a>` HTML tag */\n",
              "\n",
              "#sk-container-id-3 a.estimator_doc_link {\n",
              "  float: right;\n",
              "  font-size: 1rem;\n",
              "  line-height: 1em;\n",
              "  font-family: monospace;\n",
              "  background-color: var(--sklearn-color-background);\n",
              "  border-radius: 1rem;\n",
              "  height: 1rem;\n",
              "  width: 1rem;\n",
              "  text-decoration: none;\n",
              "  /* unfitted */\n",
              "  color: var(--sklearn-color-unfitted-level-1);\n",
              "  border: var(--sklearn-color-unfitted-level-1) 1pt solid;\n",
              "}\n",
              "\n",
              "#sk-container-id-3 a.estimator_doc_link.fitted {\n",
              "  /* fitted */\n",
              "  border: var(--sklearn-color-fitted-level-1) 1pt solid;\n",
              "  color: var(--sklearn-color-fitted-level-1);\n",
              "}\n",
              "\n",
              "/* On hover */\n",
              "#sk-container-id-3 a.estimator_doc_link:hover {\n",
              "  /* unfitted */\n",
              "  background-color: var(--sklearn-color-unfitted-level-3);\n",
              "  color: var(--sklearn-color-background);\n",
              "  text-decoration: none;\n",
              "}\n",
              "\n",
              "#sk-container-id-3 a.estimator_doc_link.fitted:hover {\n",
              "  /* fitted */\n",
              "  background-color: var(--sklearn-color-fitted-level-3);\n",
              "}\n",
              "</style><div id=\"sk-container-id-3\" class=\"sk-top-container\"><div class=\"sk-text-repr-fallback\"><pre>DecisionTreeClassifier(random_state=42)</pre><b>In a Jupyter environment, please rerun this cell to show the HTML representation or trust the notebook. <br />On GitHub, the HTML representation is unable to render, please try loading this page with nbviewer.org.</b></div><div class=\"sk-container\" hidden><div class=\"sk-item\"><div class=\"sk-estimator fitted sk-toggleable\"><input class=\"sk-toggleable__control sk-hidden--visually\" id=\"sk-estimator-id-3\" type=\"checkbox\" checked><label for=\"sk-estimator-id-3\" class=\"sk-toggleable__label fitted sk-toggleable__label-arrow fitted\">&nbsp;&nbsp;DecisionTreeClassifier<a class=\"sk-estimator-doc-link fitted\" rel=\"noreferrer\" target=\"_blank\" href=\"https://scikit-learn.org/1.5/modules/generated/sklearn.tree.DecisionTreeClassifier.html\">?<span>Documentation for DecisionTreeClassifier</span></a><span class=\"sk-estimator-doc-link fitted\">i<span>Fitted</span></span></label><div class=\"sk-toggleable__content fitted\"><pre>DecisionTreeClassifier(random_state=42)</pre></div> </div></div></div></div>"
            ]
          },
          "metadata": {},
          "execution_count": 39
        }
      ],
      "source": [
        "model_dt = DecisionTreeClassifier(random_state=42)\n",
        "model_dt.fit(X_train, y_train)"
      ]
    },
    {
      "cell_type": "markdown",
      "metadata": {
        "id": "_NPQ7QLw_TTY"
      },
      "source": [
        "Next, I made predictions on training data. For that, I used `model_dt.predict(X_train)`. To calculate the accuracy of the model I used `accuracy_score(y_train, train_predictions_dt)`."
      ]
    },
    {
      "cell_type": "code",
      "execution_count": 40,
      "metadata": {
        "id": "Ng13uhMT_0EI"
      },
      "outputs": [],
      "source": [
        "train_predictions_dt = model_dt.predict(X_train)\n",
        "train_accuracy_dt = accuracy_score(y_train, train_predictions_dt)"
      ]
    },
    {
      "cell_type": "markdown",
      "metadata": {
        "id": "bGlGkn60_rue"
      },
      "source": [
        "Next I made predictions on test data. For that I used `model_dt.predict(X_test)`. To calculate the accuracy of the model, I used `accuracy_score(y_test, y_test_pred_dt)`."
      ]
    },
    {
      "cell_type": "code",
      "execution_count": 41,
      "metadata": {
        "id": "T0q79puMA30B"
      },
      "outputs": [],
      "source": [
        "y_test_pred_dt = model_dt.predict(X_test)\n",
        "test_accuracy_dt = accuracy_score(y_test, y_test_pred_dt)"
      ]
    },
    {
      "cell_type": "markdown",
      "metadata": {
        "id": "CLyDdR6rBP-Z"
      },
      "source": [
        "The below code output the training accuracy and test accuracy of the Decision Tree model."
      ]
    },
    {
      "cell_type": "code",
      "execution_count": 42,
      "metadata": {
        "id": "PDV8L7FP_4dw",
        "colab": {
          "base_uri": "https://localhost:8080/"
        },
        "outputId": "76ca8b0b-4913-4fc8-d225-efea2ced172c"
      },
      "outputs": [
        {
          "output_type": "stream",
          "name": "stdout",
          "text": [
            "Training Accuracy: 0.9956\n",
            "Test Accuracy: 0.7057\n"
          ]
        }
      ],
      "source": [
        "print(f'Training Accuracy: {train_accuracy_dt:.4f}')\n",
        "print(f'Test Accuracy: {test_accuracy_dt:.4f}')"
      ]
    },
    {
      "cell_type": "markdown",
      "metadata": {
        "id": "2f6OOTRFBzqw"
      },
      "source": [
        "The high training accuracy often suggests that the model might be overfitting the training data, capturing noise or overly specific patterns that might not generalize well.\n",
        "\n",
        "The test accuracy indicating that the model performs reasonably well on unseen data.\n",
        "\n",
        "However, there is a noticeable gap between test accuracy and training accuracy, which reinforces the idea that the model might be overfitting the training data."
      ]
    },
    {
      "cell_type": "markdown",
      "metadata": {
        "id": "Y4Rj9XEhGi4H"
      },
      "source": [
        "Therefore, I did hyperparameter tuning for Decision Tree model."
      ]
    },
    {
      "cell_type": "markdown",
      "metadata": {
        "id": "xiA7lhNJGrl9"
      },
      "source": [
        "## **Hyperparameter Tuning**"
      ]
    },
    {
      "cell_type": "markdown",
      "metadata": {
        "id": "mj5wx2TbG0YI"
      },
      "source": [
        "Hyperparameter tuning is a process in machine learning that involves finding the best values for a learning algorithm's hyperparameters. Hyperparameters are specific to the algorithm and cannot be calculated from the data. Tuning hyperparameters can help ensure that the model performs well and produces the best possible results."
      ]
    },
    {
      "cell_type": "markdown",
      "metadata": {
        "id": "JXiDAnXFG78e"
      },
      "source": [
        "I tuned the maximum depth of the tree (`max_depth`), the minimum samples required to split an internal node (`min_samples_split`), and the minimum samples required to be at a leaf node (`min_samples_leaf`)."
      ]
    },
    {
      "cell_type": "code",
      "execution_count": null,
      "metadata": {
        "id": "3z_a_-ClHFCw"
      },
      "outputs": [],
      "source": [
        "param_grids_dt = {\n",
        "    'max_depth': [None, 10, 20, 30],\n",
        "    'min_samples_split': [2, 5, 10],\n",
        "    'min_samples_leaf': [1, 2, 4]\n",
        "}"
      ]
    },
    {
      "cell_type": "markdown",
      "metadata": {
        "id": "qBViiYtlHJk0"
      },
      "source": [
        "The `grid_search_dt` will creates a `GridSearchCV` object with Decision Tree model and the specified hyperparameter grid. It uses 5-fold cross-validation (`cv=5`) to evaluate the performance of each combination of parameters, optimizing for accuracy (`scoring='accuracy'`)."
      ]
    },
    {
      "cell_type": "code",
      "execution_count": null,
      "metadata": {
        "id": "B-cpY7R9HOtJ"
      },
      "outputs": [],
      "source": [
        "grid_search_dt = GridSearchCV(DecisionTreeClassifier(random_state=42), param_grids_dt, cv=5, scoring='accuracy')\n",
        "grid_search_dt.fit(X_train, y_train)"
      ]
    },
    {
      "cell_type": "markdown",
      "metadata": {
        "id": "Y0RVTA5OHYsb"
      },
      "source": [
        "I outputted the best parameter and best cross validation accuracy for Decision Tree model."
      ]
    },
    {
      "cell_type": "code",
      "execution_count": null,
      "metadata": {
        "id": "krvDwElYHTyH"
      },
      "outputs": [],
      "source": [
        "print(f'Best parameters: {grid_search_dt.best_params_}')\n",
        "print(f'Best cross-validation accuracy: {grid_search_dt.best_score_:.4f}\\n')"
      ]
    },
    {
      "cell_type": "markdown",
      "metadata": {
        "id": "-1nLB5XfH-4p"
      },
      "source": [
        "To evaluate the performance of the best Decision Tree model identified by `GridSearchCV` on the test data, I retrieved best model from the grid search using `best_estimator_`."
      ]
    },
    {
      "cell_type": "code",
      "execution_count": null,
      "metadata": {
        "id": "54-wsTlNH_lK"
      },
      "outputs": [],
      "source": [
        "best_model_dt = grid_search_dt.best_estimator_"
      ]
    },
    {
      "cell_type": "markdown",
      "metadata": {
        "id": "rY0AKYDUILGw"
      },
      "source": [
        "Next, I used to make predictions on the test data (`X_test`)."
      ]
    },
    {
      "cell_type": "code",
      "execution_count": null,
      "metadata": {
        "id": "ZaIiujQyIMB4"
      },
      "outputs": [],
      "source": [
        "y_pred_dt = best_model_dt.predict(X_test)"
      ]
    },
    {
      "cell_type": "markdown",
      "metadata": {
        "id": "1Wo5F45FIVz0"
      },
      "source": [
        "I calculated and outputed the performance metrics of the Decision Tree model.\n",
        "\n",
        "Performance metrics are used to evaluate how well your model performs on the given data. Common metrics include:\n",
        "*   **Accuracy**: The proportion of correctly classified instances.\n",
        "*   **Precision**: The proportion of true positive predictions relative to the total positive predictions.\n",
        "*   **Recall**: The proportion of true positive predictions relative to the total actual positives.\n",
        "*   **F1 Score**: The harmonic mean of precision and recall, balancing the two metrics.\n",
        "*   **AUC-ROC**: A performance measurement for classification problems at various threshold settings.\n",
        "\n",
        "\n",
        "\n",
        "\n",
        "\n",
        "\n",
        "\n",
        "\n",
        "\n"
      ]
    },
    {
      "cell_type": "code",
      "execution_count": null,
      "metadata": {
        "id": "nasInfu-IWxq"
      },
      "outputs": [],
      "source": [
        "accuracy_dt = accuracy_score(y_test, y_pred_dt)\n",
        "precision_dt = precision_score(y_test, y_pred_dt)\n",
        "recall_dt = recall_score(y_test, y_pred_dt)\n",
        "f1_dt  = f1_score(y_test, y_pred_dt)\n",
        "roc_auc_dt  = roc_auc_score(y_test, best_model_dt.predict_proba(X_test)[:, 1])\n",
        "\n",
        "print(f'Accuracy: {accuracy_dt :.4f}')\n",
        "print(f'Precision: {precision_dt :.4f}')\n",
        "print(f'Recall: {recall_dt:.4f}')\n",
        "print(f'F1 Score: {f1_dt :.4f}')\n",
        "print(f'ROC AUC: {roc_auc_dt :.4f}')"
      ]
    },
    {
      "cell_type": "markdown",
      "metadata": {
        "id": "ygAogzabzXpJ"
      },
      "source": [
        "The above output indicates the performance metrics of the best Decision Tree model."
      ]
    },
    {
      "cell_type": "markdown",
      "metadata": {
        "id": "mThIFEB_E2Ul"
      },
      "source": [
        "To find if the best Decision Tree model is overfitting or underfitting, I started with train the model using train data."
      ]
    },
    {
      "cell_type": "code",
      "execution_count": null,
      "metadata": {
        "id": "pxTb4XbKEg3s"
      },
      "outputs": [],
      "source": [
        "best_model_dt.fit(X_train, y_train)"
      ]
    },
    {
      "cell_type": "markdown",
      "metadata": {
        "id": "WchMygZg0xbP"
      },
      "source": [
        "To check if the best Decision Tree model works well or not, I made predictions on training data. For that, I used `best_model_rf.predict(X_train)`. To calculate the accuracy of the model I used `accuracy_score(y_train, train_predictions_rf)`."
      ]
    },
    {
      "cell_type": "code",
      "execution_count": null,
      "metadata": {
        "id": "I2QW38c9IgnQ"
      },
      "outputs": [],
      "source": [
        "best_train_predictions_dt = best_model_dt.predict(X_train)\n",
        "best_train_accuracy_dt = accuracy_score(y_train, best_train_predictions_dt)"
      ]
    },
    {
      "cell_type": "markdown",
      "metadata": {
        "id": "jiMG0AqQ0y_G"
      },
      "source": [
        "Next I made predictions on test data. For that I used `best_model_rf.predict(X_test)`. To calculate the accuracy of the model, I used `accuracy_score(y_test, y_test_pred_rf)`."
      ]
    },
    {
      "cell_type": "code",
      "execution_count": null,
      "metadata": {
        "id": "rhRjjKybI2aU"
      },
      "outputs": [],
      "source": [
        "best_y_test_pred_dt = best_model_dt.predict(X_test)\n",
        "best_test_accuracy_dt = accuracy_score(y_test, best_y_test_pred_dt)"
      ]
    },
    {
      "cell_type": "markdown",
      "metadata": {
        "id": "bNAVf36d1cSi"
      },
      "source": [
        "The below code output the training accuracy and test accuracy of the\n",
        "best Decision Tree model."
      ]
    },
    {
      "cell_type": "code",
      "source": [
        "print(f'Training Accuracy: {best_train_accuracy_dt:.4f}')\n",
        "print(f'Test Accuracy: {best_test_accuracy_dt:.4f}')"
      ],
      "metadata": {
        "id": "vTyDkm9uO4zW"
      },
      "execution_count": null,
      "outputs": []
    },
    {
      "cell_type": "markdown",
      "metadata": {
        "id": "HtWnlfYt0XtR"
      },
      "source": [
        "After hyperparameter tuning, the training accuracy decreased to 0.8683, while the test accuracy improved slightly to 0.7163. The decrease in training accuracy suggests that the model has become less complex and is no longer overfitting as severely. The test accuracy's slight improvement indicates better generalization to unseen data."
      ]
    },
    {
      "cell_type": "markdown",
      "metadata": {
        "id": "KZkjjmlO1zjX"
      },
      "source": [
        "Overall, hyperparameter tuning has helped reduce overfitting and improved the model's reliability on unseen data. But still the model is showing signs of overfitting. Therefore, Decision Tree model is not that much suitable for our project."
      ]
    },
    {
      "cell_type": "markdown",
      "metadata": {
        "id": "KhmfLdMj32NT"
      },
      "source": [
        "# **3. Random Forest**"
      ]
    },
    {
      "cell_type": "markdown",
      "metadata": {
        "id": "h0GdeUvD4Ii3"
      },
      "source": [
        "## **Cross-Validation**"
      ]
    },
    {
      "cell_type": "markdown",
      "metadata": {
        "id": "NBkzouo04NsQ"
      },
      "source": [
        "In below code `cross_val_socre` runs the Random Forest model on the dataset `X_scaled, y `using the 5-fold cross-validation strategy defined by `kf`."
      ]
    },
    {
      "cell_type": "code",
      "execution_count": null,
      "metadata": {
        "id": "QoQm_8gk5DrH"
      },
      "outputs": [],
      "source": [
        "cv_scores_rf = cross_val_score(RandomForestClassifier(random_state=42), X_scaled, y, cv=kf, scoring='accuracy')"
      ]
    },
    {
      "cell_type": "markdown",
      "metadata": {
        "id": "dCsgy_bh5Jo5"
      },
      "source": [
        "Next, I outputted the cross-validation accuracy."
      ]
    },
    {
      "cell_type": "code",
      "execution_count": null,
      "metadata": {
        "id": "KbPl_deu5M45"
      },
      "outputs": [],
      "source": [
        "print(f'Cross-Validation Accuracy: {cv_scores_rf.mean():.4f} ± {cv_scores_rf.std():.4f}')"
      ]
    },
    {
      "cell_type": "markdown",
      "metadata": {
        "id": "yttu8ax95luQ"
      },
      "source": [
        "The output indicates that the model consistently performs well across different subsets of the data."
      ]
    },
    {
      "cell_type": "markdown",
      "metadata": {
        "id": "vavXVxhV55TK"
      },
      "source": [
        "## **Analyze Overfitting and Underfitting**"
      ]
    },
    {
      "cell_type": "markdown",
      "metadata": {
        "id": "8tIB9mOn6Dj4"
      },
      "source": [
        "To find if the Random Forest model is overfitting or underfitting, I started with train the model using train data."
      ]
    },
    {
      "cell_type": "code",
      "execution_count": null,
      "metadata": {
        "id": "A6VgVtPZ6ufi"
      },
      "outputs": [],
      "source": [
        "model_rf = RandomForestClassifier(random_state=42)\n",
        "model_rf.fit(X_train, y_train)"
      ]
    },
    {
      "cell_type": "markdown",
      "metadata": {
        "id": "9tU5grpb64U7"
      },
      "source": [
        "Next, I made predictions on training data. For that, I used `model_rf.predict(X_train)`. To calculate the accuracy of the model I used `accuracy_score(y_train, train_predictions_dt)`."
      ]
    },
    {
      "cell_type": "code",
      "execution_count": null,
      "metadata": {
        "id": "s29FWBv87AW9"
      },
      "outputs": [],
      "source": [
        "train_predictions_rf = model_rf.predict(X_train)\n",
        "train_accuracy_rf = accuracy_score(y_train, train_predictions_rf)"
      ]
    },
    {
      "cell_type": "markdown",
      "metadata": {
        "id": "aNQvrPhD7RZU"
      },
      "source": [
        "Next I made predictions on test data. For that I used `model_rf.predict(X_test)`. To calculate the accuracy of the model, I used `accuracy_score(y_test, y_test_pred_rf)`."
      ]
    },
    {
      "cell_type": "code",
      "execution_count": null,
      "metadata": {
        "id": "jNRLujRn7a8i"
      },
      "outputs": [],
      "source": [
        "y_test_pred_rf = model_rf.predict(X_test)\n",
        "test_accuracy_rf = accuracy_score(y_test, y_test_pred_rf)"
      ]
    },
    {
      "cell_type": "markdown",
      "metadata": {
        "id": "WzZV604k7iSx"
      },
      "source": [
        "The below code output the training accuracy and test accuracy of the Random Forest model."
      ]
    },
    {
      "cell_type": "code",
      "execution_count": null,
      "metadata": {
        "id": "V2UaKDRo75LH"
      },
      "outputs": [],
      "source": [
        "print(f'Training Accuracy: {train_accuracy_rf:.4f}')\n",
        "print(f'Test Accuracy: {test_accuracy_rf:.4f}')"
      ]
    },
    {
      "cell_type": "markdown",
      "metadata": {
        "id": "zkiviION795C"
      },
      "source": [
        "The model performs exceptionally well on the training data, which could indicate overfitting, as it's nearly perfect on the data it was trained on.\n",
        "\n",
        "The model's performance on unseen data is significantly lower than on the training data. This accuracy is fairly close to the cross-validation accuracy, suggesting some generalization but still indicating potential overfitting.\n",
        "\n",
        "Therefore, I performed hyperparameter tuning for Random Forest model."
      ]
    },
    {
      "cell_type": "markdown",
      "metadata": {
        "id": "FB7N8S9KAVrL"
      },
      "source": [
        "## **Hyperparameter Tuning**"
      ]
    },
    {
      "cell_type": "markdown",
      "metadata": {
        "id": "Mh9fUGLjAaDB"
      },
      "source": [
        "The `param_grids_rf` of Random Forest model is similar to the Decision Tree but with an additional parameter for the number of trees (n_estimators)."
      ]
    },
    {
      "cell_type": "code",
      "execution_count": null,
      "metadata": {
        "id": "87CvGlgXAkNz"
      },
      "outputs": [],
      "source": [
        "param_grids_rf = {\n",
        "    'n_estimators': [100, 200, 300],\n",
        "    'max_depth': [None, 10, 20, 30],\n",
        "    'min_samples_split': [2, 5, 10],\n",
        "    'min_samples_leaf': [1, 2, 4]\n",
        "}"
      ]
    },
    {
      "cell_type": "markdown",
      "metadata": {
        "id": "D91aIORzBCde"
      },
      "source": [
        "The `grid_search_dt` will creates a `GridSearchCV` object with Radom Forest model and the specified hyperparameter grid. It uses 5-fold cross-validation (`cv=5`) to evaluate the performance of each combination of parameters, optimizing for accuracy (`scoring='accuracy'`)."
      ]
    },
    {
      "cell_type": "code",
      "execution_count": null,
      "metadata": {
        "id": "NW603dK1BMNX"
      },
      "outputs": [],
      "source": [
        "grid_search_rf = GridSearchCV(RandomForestClassifier(random_state=42), param_grids_rf, cv=5, scoring='accuracy')\n",
        "grid_search_rf.fit(X_train, y_train)"
      ]
    },
    {
      "cell_type": "markdown",
      "metadata": {
        "id": "7prESJ3fBkGp"
      },
      "source": [
        "I outputted the best parameter and best cross validation accuracy for Random Forest model."
      ]
    },
    {
      "cell_type": "code",
      "execution_count": null,
      "metadata": {
        "id": "O0dg3SMABR7H"
      },
      "outputs": [],
      "source": [
        "print(f'Best parameters: {grid_search_rf.best_params_}')\n",
        "print(f'Best cross-validation accuracy: {grid_search_rf.best_score_:.4f}\\n')"
      ]
    },
    {
      "cell_type": "markdown",
      "metadata": {
        "id": "V7zSnUD6BrIf"
      },
      "source": [
        "The output indicates that the best hyperparameters and best cross-validtion accuracy for the best Random Forest model."
      ]
    },
    {
      "cell_type": "markdown",
      "metadata": {
        "id": "AyRx3yyXB25b"
      },
      "source": [
        "To evaluate the performance of the best Random Forest model identified by `GridSearchCV` on the test data, I retrieved best model from the grid search using `best_estimator_`."
      ]
    },
    {
      "cell_type": "code",
      "execution_count": null,
      "metadata": {
        "id": "SEO-ffLgByrx"
      },
      "outputs": [],
      "source": [
        "best_model_rf = grid_search_rf.best_estimator_"
      ]
    },
    {
      "cell_type": "markdown",
      "metadata": {
        "id": "ZcZFolc2CDKy"
      },
      "source": [
        "Next, I used to make predictions on the test data (`X_test`)."
      ]
    },
    {
      "cell_type": "code",
      "execution_count": null,
      "metadata": {
        "id": "7PgkBHTrByiZ"
      },
      "outputs": [],
      "source": [
        "y_pred_rf = best_model_rf.predict(X_test)"
      ]
    },
    {
      "cell_type": "markdown",
      "metadata": {
        "id": "ftFLJJuRCP9Z"
      },
      "source": [
        "Finaly, I calculated and outputed the performance metrics of the best Random Forest model."
      ]
    },
    {
      "cell_type": "code",
      "execution_count": null,
      "metadata": {
        "id": "nwdA5xoeCYJO"
      },
      "outputs": [],
      "source": [
        "accuracy_rf = accuracy_score(y_test, y_pred_rf)\n",
        "precision_rf = precision_score(y_test, y_pred_rf)\n",
        "recall_rf = recall_score(y_test, y_pred_rf)\n",
        "f1_rf  = f1_score(y_test, y_pred_rf)\n",
        "roc_auc_rf  = roc_auc_score(y_test, best_model_rf.predict_proba(X_test)[:, 1])\n",
        "\n",
        "print(f'Accuracy: {accuracy_rf :.4f}')\n",
        "print(f'Precision: {precision_rf :.4f}')\n",
        "print(f'Recall: {recall_rf:.4f}')\n",
        "print(f'F1 Score: {f1_rf :.4f}')\n",
        "print(f'ROC AUC: {roc_auc_rf :.4f}')"
      ]
    },
    {
      "cell_type": "markdown",
      "metadata": {
        "id": "J6REVNIYCu0f"
      },
      "source": [
        "The above output provides insights into the model's accuracy, precision, recall, F1 score, and its ability to separate classes (ROC AUC)."
      ]
    },
    {
      "cell_type": "markdown",
      "metadata": {
        "id": "EGSQdahrFb-0"
      },
      "source": [
        "To find if the best Random Forest model is overfitting or underfitting, I started with train the model using train data."
      ]
    },
    {
      "cell_type": "code",
      "execution_count": null,
      "metadata": {
        "id": "N5taK31IFbh6"
      },
      "outputs": [],
      "source": [
        "best_model_rf.fit(X_train, y_train)"
      ]
    },
    {
      "cell_type": "markdown",
      "metadata": {
        "id": "r2Db6Ab0D6IY"
      },
      "source": [
        "To check if the best Random Forest model works well or not, I made predictions on training data. For that, I used `best_model_rf.predict(X_train)`. To calculate the accuracy of the model I used `accuracy_score(y_train, train_predictions_rf)`."
      ]
    },
    {
      "cell_type": "code",
      "execution_count": null,
      "metadata": {
        "id": "dd-8dqBfEIkT"
      },
      "outputs": [],
      "source": [
        "train_predictions_rf = best_model_rf.predict(X_train)\n",
        "train_accuracy_rf = accuracy_score(y_train, train_predictions_rf)"
      ]
    },
    {
      "cell_type": "markdown",
      "metadata": {
        "id": "k6WqlkvCFt7z"
      },
      "source": [
        "Next, I made predictions on test data. For that I used `best_model_rf.predict(X_test)`. To calculate the accuracy of the model, I used `accuracy_score(y_test, y_test_pred_rf)`."
      ]
    },
    {
      "cell_type": "code",
      "execution_count": null,
      "metadata": {
        "id": "mX9YVoGXFz3v"
      },
      "outputs": [],
      "source": [
        "y_test_pred_rf = best_model_rf.predict(X_test)\n",
        "test_accuracy_rf = accuracy_score(y_test, y_test_pred_rf)"
      ]
    },
    {
      "cell_type": "markdown",
      "metadata": {
        "id": "RyylwhZrF4E6"
      },
      "source": [
        "The below code output the training accuracy and test accuracy of the best Random Forest model."
      ]
    },
    {
      "cell_type": "code",
      "execution_count": null,
      "metadata": {
        "id": "AxfTCYn3F_SD"
      },
      "outputs": [],
      "source": [
        "print(f'Training Accuracy: {train_accuracy_rf:.4f}')\n",
        "print(f'Test Accuracy: {test_accuracy_rf:.4f}')"
      ]
    },
    {
      "cell_type": "markdown",
      "metadata": {
        "id": "qNPfz3EsJv1n"
      },
      "source": [
        "After hyperparameter tuning, the decrease in training accuracy (from 0.9956 to 0.8692) indicates that the model is less overfitted and more generalized. However, the test accuracy slightly increased from 0.7340 to 0.7553, which is still close to the original performance.\n",
        "\n",
        "This suggests that the hyperparameter tuning has helped in making the model more balanced between training and test performance, but the slight drop in test accuracy indicates the need for further adjustments or possibly different strategies to improve generalization.\n",
        "\n",
        "Therefor, Random Forest model is comparatively suitable for our project."
      ]
    },
    {
      "cell_type": "markdown",
      "metadata": {
        "id": "xScSWT4eVMRI"
      },
      "source": [
        "# **4. Gradient Boosting**"
      ]
    },
    {
      "cell_type": "markdown",
      "metadata": {
        "id": "bTBiOGtLG-HG"
      },
      "source": [
        "## **Cross-Validation**"
      ]
    },
    {
      "cell_type": "markdown",
      "metadata": {
        "id": "Rl3MchEOHIq6"
      },
      "source": [
        "In below code `cross_val_socre` runs the Gradient Boosting model on the dataset `X_scaled, y `using the 5-fold cross-validation strategy defined by `kf`."
      ]
    },
    {
      "cell_type": "code",
      "execution_count": null,
      "metadata": {
        "id": "r_tcOH4cHMve"
      },
      "outputs": [],
      "source": [
        "cv_scores_gb = cross_val_score(GradientBoostingClassifier(random_state=42), X_scaled, y, cv=kf, scoring='accuracy')"
      ]
    },
    {
      "cell_type": "markdown",
      "metadata": {
        "id": "qgbjOSg1HWqK"
      },
      "source": [
        "Next, I outputted the cross-validation accuracy."
      ]
    },
    {
      "cell_type": "code",
      "execution_count": null,
      "metadata": {
        "id": "A8zjUmAbHae3"
      },
      "outputs": [],
      "source": [
        "print(f'Cross-Validation Accuracy: {cv_scores_gb.mean():.4f} ± {cv_scores_gb.std():.4f}')"
      ]
    },
    {
      "cell_type": "markdown",
      "metadata": {
        "id": "WnSjH3wmHjgZ"
      },
      "source": [
        "The output indicates that the model consistently performs well across different subsets of the data."
      ]
    },
    {
      "cell_type": "markdown",
      "metadata": {
        "id": "MSB89D53HlLt"
      },
      "source": [
        "## **Analyze Overfitting and Underfitting**"
      ]
    },
    {
      "cell_type": "markdown",
      "metadata": {
        "id": "sj5NG0BZHqt4"
      },
      "source": [
        "To find if the Gradient Boosting model is overfitting or underfitting, I started with train the model using train data."
      ]
    },
    {
      "cell_type": "code",
      "execution_count": null,
      "metadata": {
        "id": "aqM4BSRMH2G2"
      },
      "outputs": [],
      "source": [
        "model_gb = GradientBoostingClassifier(random_state=42)\n",
        "model_gb.fit(X_train, y_train)"
      ]
    },
    {
      "cell_type": "markdown",
      "metadata": {
        "id": "ookev_uiIFz_"
      },
      "source": [
        "Next, I made predictions on training data. For that, I used `model_gb.predict(X_train)`. To calculate the accuracy of the model I used `accuracy_score(y_train, train_predictions_gb)`."
      ]
    },
    {
      "cell_type": "code",
      "execution_count": null,
      "metadata": {
        "id": "ckAsFx0aIL1-"
      },
      "outputs": [],
      "source": [
        "train_predictions_gb = model_gb.predict(X_train)\n",
        "train_accuracy_gb = accuracy_score(y_train, train_predictions_gb)"
      ]
    },
    {
      "cell_type": "markdown",
      "metadata": {
        "id": "P38zwXtwIV61"
      },
      "source": [
        "Next I made predictions on test data. For that I used `model_gb.predict(X_test)`. To calculate the accuracy of the model, I used `accuracy_score(y_test, y_test_pred_gb)`."
      ]
    },
    {
      "cell_type": "code",
      "execution_count": null,
      "metadata": {
        "id": "yc7heu6GIbo_"
      },
      "outputs": [],
      "source": [
        "y_test_pred_gb = model_gb.predict(X_test)\n",
        "test_accuracy_gb = accuracy_score(y_test, y_test_pred_gb)"
      ]
    },
    {
      "cell_type": "markdown",
      "metadata": {
        "id": "jwEcdpnbIie8"
      },
      "source": [
        "The below code output the training accuracy and test accuracy of the Gradient Boosting model."
      ]
    },
    {
      "cell_type": "code",
      "execution_count": null,
      "metadata": {
        "id": "Aevd1WqtJIqb"
      },
      "outputs": [],
      "source": [
        "print(f'Training Accuracy: {train_accuracy_gb:.4f}')\n",
        "print(f'Test Accuracy: {test_accuracy_gb:.4f}')"
      ]
    },
    {
      "cell_type": "markdown",
      "metadata": {
        "id": "emot5CGeJQdJ"
      },
      "source": [
        "The training accuracy is somewhat higher than the test accuracy, which suggests that there might be slight overfitting\n",
        "\n",
        "Anyway I performed hyperparameter tuning for Gradient Boosting model."
      ]
    },
    {
      "cell_type": "markdown",
      "metadata": {
        "id": "h_ZwLjFeJQar"
      },
      "source": [
        "## **Hyperparameter Tuning**"
      ]
    },
    {
      "cell_type": "markdown",
      "metadata": {
        "id": "g5Uq1Ku4WZe_"
      },
      "source": [
        "I tuned the number of boosting stages(`n_estimators`), the learning rate (`learning_rate`), and the maximum depth(`max_depth`) of the individual regression estimators."
      ]
    },
    {
      "cell_type": "code",
      "execution_count": null,
      "metadata": {
        "id": "piqGajmxpVkK"
      },
      "outputs": [],
      "source": [
        "param_grids_gb = {\n",
        "    'n_estimators': [100, 200, 300],\n",
        "    'learning_rate': [0.01, 0.1, 0.2],\n",
        "    'max_depth': [3, 4, 5]\n",
        "}"
      ]
    },
    {
      "cell_type": "markdown",
      "metadata": {
        "id": "78q3BZGNjgsn"
      },
      "source": [
        "The `grid_search_gb` will creates a `GridSearchCV` object with Gradient Boosting model and the specified hyperparameter grid. It uses 5-fold cross-validation (`cv=5`) to evaluate the performance of each combination of parameters, optimizing for accuracy (`scoring='accuracy'`)."
      ]
    },
    {
      "cell_type": "code",
      "execution_count": null,
      "metadata": {
        "id": "JGKooXfKVQ6B"
      },
      "outputs": [],
      "source": [
        "grid_search_gb = GridSearchCV(GradientBoostingClassifier(), param_grids_gb, cv=5, scoring='accuracy')\n",
        "grid_search_gb.fit(X_train, y_train)"
      ]
    },
    {
      "cell_type": "markdown",
      "metadata": {
        "id": "_6bsEW5pMoNO"
      },
      "source": [
        "I outputted the best parameter and best cross validation accuracy for Gradient Boosting model."
      ]
    },
    {
      "cell_type": "code",
      "execution_count": null,
      "metadata": {
        "id": "YlBrxnsRMk2M"
      },
      "outputs": [],
      "source": [
        "print(f'Best parameters: {grid_search_gb.best_params_}')\n",
        "print(f'Best cross-validation accuracy: {grid_search_gb.best_score_:.4f}\\n')"
      ]
    },
    {
      "cell_type": "markdown",
      "metadata": {
        "id": "rG7AbBxyMxhp"
      },
      "source": [
        "The output indicates that the best hyperparameters and best cross-validtion accuracy for the best Gradient Boosting model."
      ]
    },
    {
      "cell_type": "markdown",
      "metadata": {
        "id": "MH2URCT-u21P"
      },
      "source": [
        "To evaluate the performance of the best Gradient Boosting model identified by `GridSearchCV` on the test data, I retrieved best model from the grid search using `best_estimator_`."
      ]
    },
    {
      "cell_type": "code",
      "execution_count": null,
      "metadata": {
        "id": "G21ESIeku6Q6"
      },
      "outputs": [],
      "source": [
        "best_model_gb = grid_search_gb.best_estimator_"
      ]
    },
    {
      "cell_type": "markdown",
      "metadata": {
        "id": "q9lsQ0VXu92p"
      },
      "source": [
        "Next, I used to make predictions on the test data (`X_test`)."
      ]
    },
    {
      "cell_type": "code",
      "execution_count": null,
      "metadata": {
        "id": "QSVKV6USvCDe"
      },
      "outputs": [],
      "source": [
        "y_pred_gb = best_model_gb.predict(X_test)"
      ]
    },
    {
      "cell_type": "markdown",
      "metadata": {
        "id": "l8e6A6Wpjn3l"
      },
      "source": [
        "Finaly, I calculated and outputed the performance metrics of the best Random Forest model."
      ]
    },
    {
      "cell_type": "code",
      "execution_count": null,
      "metadata": {
        "id": "-wP1JV0qat3z"
      },
      "outputs": [],
      "source": [
        "accuracy_gb= accuracy_score(y_test, y_pred_gb)\n",
        "precision_gb = precision_score(y_test, y_pred_gb)\n",
        "recall_gb = recall_score(y_test, y_pred_gb)\n",
        "f1_gb  = f1_score(y_test, y_pred_gb)\n",
        "roc_auc_gb  = roc_auc_score(y_test, best_model_gb.predict_proba(X_test)[:, 1])\n",
        "\n",
        "print(f'Accuracy: {accuracy_gb :.4f}')\n",
        "print(f'Precision: {precision_gb :.4f}')\n",
        "print(f'Recall: {recall_gb:.4f}')\n",
        "print(f'F1 Score: {f1_gb :.4f}')\n",
        "print(f'ROC AUC: {roc_auc_gb :.4f}')"
      ]
    },
    {
      "cell_type": "markdown",
      "metadata": {
        "id": "Krhd8frGNjZP"
      },
      "source": [
        "The above output provides insights into the model's accuracy, precision, recall, F1 score, and its ability to separate classes (ROC AUC)."
      ]
    },
    {
      "cell_type": "markdown",
      "metadata": {
        "id": "pn_RpYXUNllH"
      },
      "source": [
        "To find if the best Gradient Boosting model is overfitting or underfitting, I started with train the model using train data."
      ]
    },
    {
      "cell_type": "code",
      "execution_count": null,
      "metadata": {
        "id": "8RO7GcP9Ns91"
      },
      "outputs": [],
      "source": [
        "best_model_gb.fit(X_train, y_train)"
      ]
    },
    {
      "cell_type": "markdown",
      "metadata": {
        "id": "3J_dyEfDNyfy"
      },
      "source": [
        "To check if the best Gradient Boosting model works well or not, I made predictions on training data. For that, I used `best_model_gb.predict(X_train)`. To calculate the accuracy of the model I used `accuracy_score(y_train, train_predictions_gb)`."
      ]
    },
    {
      "cell_type": "code",
      "execution_count": null,
      "metadata": {
        "id": "G05dyW88OERJ"
      },
      "outputs": [],
      "source": [
        "train_predictions_gb = best_model_gb.predict(X_train)\n",
        "train_accuracy_gb = accuracy_score(y_train, train_predictions_gb)"
      ]
    },
    {
      "cell_type": "markdown",
      "metadata": {
        "id": "j9b2AvWwOI5w"
      },
      "source": [
        "Next, I made predictions on test data. For that I used `best_model_gb.predict(X_test)`. To calculate the accuracy of the model, I used `accuracy_score(y_test, y_test_pred_gb)`."
      ]
    },
    {
      "cell_type": "code",
      "execution_count": null,
      "metadata": {
        "id": "s7spC-3VORr6"
      },
      "outputs": [],
      "source": [
        "y_test_pred_gb = best_model_gb.predict(X_test)\n",
        "test_accuracy_gb = accuracy_score(y_test, y_test_pred_gb)"
      ]
    },
    {
      "cell_type": "markdown",
      "metadata": {
        "id": "jcP800eFOdMy"
      },
      "source": [
        "The below code output the training accuracy and test accuracy of the best Gradient Boosting model."
      ]
    },
    {
      "cell_type": "code",
      "execution_count": null,
      "metadata": {
        "id": "0k2z0IqAOlGG"
      },
      "outputs": [],
      "source": [
        "print(f'Training Accuracy: {train_accuracy_gb:.4f}')\n",
        "print(f'Test Accuracy: {test_accuracy_gb:.4f}')"
      ]
    },
    {
      "cell_type": "markdown",
      "metadata": {
        "id": "7BAQIZRXQAZ1"
      },
      "source": [
        "The hyperparameter tuning process slightly reduced the training accuracy while slightly improving the test accuracy.\n",
        "\n",
        "The smaller gap between training and test accuracy suggests that the model's tendency to overfit has decreased, indicating better generalization to unseen data.\n",
        "\n",
        "Therefore, Gradient Boosting model is suitable for our project."
      ]
    },
    {
      "cell_type": "markdown",
      "metadata": {
        "id": "lQDPneabTG9B"
      },
      "source": [
        "# **Conclusion**"
      ]
    },
    {
      "cell_type": "markdown",
      "metadata": {
        "id": "7FnI2Pn-TIxu"
      },
      "source": [
        "In conclusion, the thorough evaluation of the models using performance metrics, cross-validation, and hyperparameter tuning provided valuable insights into their reliability and effectiveness. While initial results indicated potential overfitting, particularly in the decision tree and random forest models, hyperparameter tuning significantly improved the balance between training and test accuracy. The final models, including logistic regression and gradient boosting, demonstrated solid generalization capabilities, minimizing overfitting. This process underscored the importance of iterative model refinement and careful assessment to achieve models that perform well on both training and unseen data."
      ]
    }
  ],
  "metadata": {
    "colab": {
      "provenance": [],
      "gpuType": "V28",
      "toc_visible": true,
      "mount_file_id": "15xIP1IJsZOrSFAsT9hWeR0SZOgHInex2",
      "authorship_tag": "ABX9TyPVt70nM1+m1i5BMWbkuw2s",
      "include_colab_link": true
    },
    "kernelspec": {
      "display_name": "Python 3",
      "name": "python3"
    },
    "language_info": {
      "name": "python"
    },
    "accelerator": "TPU"
  },
  "nbformat": 4,
  "nbformat_minor": 0
}