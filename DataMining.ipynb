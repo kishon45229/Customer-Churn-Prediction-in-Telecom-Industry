{
  "nbformat": 4,
  "nbformat_minor": 0,
  "metadata": {
    "colab": {
      "provenance": [],
      "authorship_tag": "ABX9TyPY/q/mEkipr2V+POjro9ea",
      "include_colab_link": true
    },
    "kernelspec": {
      "name": "python3",
      "display_name": "Python 3"
    },
    "language_info": {
      "name": "python"
    }
  },
  "cells": [
    {
      "cell_type": "markdown",
      "metadata": {
        "id": "view-in-github",
        "colab_type": "text"
      },
      "source": [
        "<a href=\"https://colab.research.google.com/github/kishon45229/Customer-Churn-Prediction-in-Telecom-Industry/blob/main/DataMining.ipynb\" target=\"_parent\"><img src=\"https://colab.research.google.com/assets/colab-badge.svg\" alt=\"Open In Colab\"/></a>"
      ]
    },
    {
      "cell_type": "code",
      "source": [
        "import pandas as pd\n",
        "from sklearn.preprocessing import LabelEncoder\n",
        "from sklearn.model_selection import train_test_split\n",
        "from sklearn.ensemble import RandomForestClassifier\n",
        "from sklearn.metrics import classification_report, accuracy_score"
      ],
      "metadata": {
        "id": "tMatgT9Xi3EV"
      },
      "execution_count": 47,
      "outputs": []
    },
    {
      "cell_type": "code",
      "source": [
        "# Load the new dataset\n",
        "new_file_path = '/content/Section 3 finished dataset.csv'  # Update with your file path\n",
        "new_data = pd.read_csv('/content/Section 3 finished dataset.csv')"
      ],
      "metadata": {
        "id": "4VDIit-Nr2u4"
      },
      "execution_count": 31,
      "outputs": []
    },
    {
      "cell_type": "code",
      "source": [
        "# Dropping irrelevant columns (if any)\n",
        "new_data = new_data.drop(['customerID'], axis=1)"
      ],
      "metadata": {
        "id": "QtDcjDG_r6Yr"
      },
      "execution_count": 32,
      "outputs": []
    },
    {
      "cell_type": "code",
      "source": [
        "# Encoding categorical features\n",
        "label_encoders = {}\n",
        "for column in new_data.select_dtypes(include=['object']).columns:\n",
        "    label_encoders[column] = LabelEncoder()\n",
        "    new_data[column] = label_encoders[column].fit_transform(new_data[column])\n",
        "\n"
      ],
      "metadata": {
        "id": "oDSvZpDIr9dJ"
      },
      "execution_count": 33,
      "outputs": []
    },
    {
      "cell_type": "code",
      "source": [
        "# Splitting the data into features and target variable\n",
        "#Separate the dataset into features (X) and target variable (y).\n",
        "#Here, X includes all columns except Churn, and y is the Churn column.\n",
        "X = new_data.drop('Churn', axis=1)\n",
        "y = new_data['Churn']\n",
        "\n"
      ],
      "metadata": {
        "id": "oqZRDBlxsAxh"
      },
      "execution_count": 34,
      "outputs": []
    },
    {
      "cell_type": "code",
      "source": [
        "# Splitting the data into training and testing sets\n",
        "#plit the data into training (70%) and testing (30%) sets using train_test_split.\n",
        "#The random_state parameter ensures reproducibility.\n",
        "X_train, X_test, y_train, y_test = train_test_split(X, y, test_size=0.3, random_state=42)"
      ],
      "metadata": {
        "id": "rqKDfaQnsFti"
      },
      "execution_count": 35,
      "outputs": []
    },
    {
      "cell_type": "markdown",
      "source": [
        "Create an instance of RandomForestClassifier with a fixed random_state for reproducibility.\n",
        "it the classifier on the training data (X_train and y_train)."
      ],
      "metadata": {
        "id": "UXYE9IdKrxuL"
      }
    },
    {
      "cell_type": "code",
      "source": [
        "# Initializing and training the RandomForestClassifier\n",
        "clf = RandomForestClassifier(random_state=42)\n",
        "clf.fit(X_train, y_train)\n"
      ],
      "metadata": {
        "colab": {
          "base_uri": "https://localhost:8080/",
          "height": 74
        },
        "id": "7Y-FDFNMi981",
        "outputId": "5f491005-d653-4281-9462-dbd127d28516"
      },
      "execution_count": 36,
      "outputs": [
        {
          "output_type": "execute_result",
          "data": {
            "text/plain": [
              "RandomForestClassifier(random_state=42)"
            ],
            "text/html": [
              "<style>#sk-container-id-2 {color: black;}#sk-container-id-2 pre{padding: 0;}#sk-container-id-2 div.sk-toggleable {background-color: white;}#sk-container-id-2 label.sk-toggleable__label {cursor: pointer;display: block;width: 100%;margin-bottom: 0;padding: 0.3em;box-sizing: border-box;text-align: center;}#sk-container-id-2 label.sk-toggleable__label-arrow:before {content: \"▸\";float: left;margin-right: 0.25em;color: #696969;}#sk-container-id-2 label.sk-toggleable__label-arrow:hover:before {color: black;}#sk-container-id-2 div.sk-estimator:hover label.sk-toggleable__label-arrow:before {color: black;}#sk-container-id-2 div.sk-toggleable__content {max-height: 0;max-width: 0;overflow: hidden;text-align: left;background-color: #f0f8ff;}#sk-container-id-2 div.sk-toggleable__content pre {margin: 0.2em;color: black;border-radius: 0.25em;background-color: #f0f8ff;}#sk-container-id-2 input.sk-toggleable__control:checked~div.sk-toggleable__content {max-height: 200px;max-width: 100%;overflow: auto;}#sk-container-id-2 input.sk-toggleable__control:checked~label.sk-toggleable__label-arrow:before {content: \"▾\";}#sk-container-id-2 div.sk-estimator input.sk-toggleable__control:checked~label.sk-toggleable__label {background-color: #d4ebff;}#sk-container-id-2 div.sk-label input.sk-toggleable__control:checked~label.sk-toggleable__label {background-color: #d4ebff;}#sk-container-id-2 input.sk-hidden--visually {border: 0;clip: rect(1px 1px 1px 1px);clip: rect(1px, 1px, 1px, 1px);height: 1px;margin: -1px;overflow: hidden;padding: 0;position: absolute;width: 1px;}#sk-container-id-2 div.sk-estimator {font-family: monospace;background-color: #f0f8ff;border: 1px dotted black;border-radius: 0.25em;box-sizing: border-box;margin-bottom: 0.5em;}#sk-container-id-2 div.sk-estimator:hover {background-color: #d4ebff;}#sk-container-id-2 div.sk-parallel-item::after {content: \"\";width: 100%;border-bottom: 1px solid gray;flex-grow: 1;}#sk-container-id-2 div.sk-label:hover label.sk-toggleable__label {background-color: #d4ebff;}#sk-container-id-2 div.sk-serial::before {content: \"\";position: absolute;border-left: 1px solid gray;box-sizing: border-box;top: 0;bottom: 0;left: 50%;z-index: 0;}#sk-container-id-2 div.sk-serial {display: flex;flex-direction: column;align-items: center;background-color: white;padding-right: 0.2em;padding-left: 0.2em;position: relative;}#sk-container-id-2 div.sk-item {position: relative;z-index: 1;}#sk-container-id-2 div.sk-parallel {display: flex;align-items: stretch;justify-content: center;background-color: white;position: relative;}#sk-container-id-2 div.sk-item::before, #sk-container-id-2 div.sk-parallel-item::before {content: \"\";position: absolute;border-left: 1px solid gray;box-sizing: border-box;top: 0;bottom: 0;left: 50%;z-index: -1;}#sk-container-id-2 div.sk-parallel-item {display: flex;flex-direction: column;z-index: 1;position: relative;background-color: white;}#sk-container-id-2 div.sk-parallel-item:first-child::after {align-self: flex-end;width: 50%;}#sk-container-id-2 div.sk-parallel-item:last-child::after {align-self: flex-start;width: 50%;}#sk-container-id-2 div.sk-parallel-item:only-child::after {width: 0;}#sk-container-id-2 div.sk-dashed-wrapped {border: 1px dashed gray;margin: 0 0.4em 0.5em 0.4em;box-sizing: border-box;padding-bottom: 0.4em;background-color: white;}#sk-container-id-2 div.sk-label label {font-family: monospace;font-weight: bold;display: inline-block;line-height: 1.2em;}#sk-container-id-2 div.sk-label-container {text-align: center;}#sk-container-id-2 div.sk-container {/* jupyter's `normalize.less` sets `[hidden] { display: none; }` but bootstrap.min.css set `[hidden] { display: none !important; }` so we also need the `!important` here to be able to override the default hidden behavior on the sphinx rendered scikit-learn.org. See: https://github.com/scikit-learn/scikit-learn/issues/21755 */display: inline-block !important;position: relative;}#sk-container-id-2 div.sk-text-repr-fallback {display: none;}</style><div id=\"sk-container-id-2\" class=\"sk-top-container\"><div class=\"sk-text-repr-fallback\"><pre>RandomForestClassifier(random_state=42)</pre><b>In a Jupyter environment, please rerun this cell to show the HTML representation or trust the notebook. <br />On GitHub, the HTML representation is unable to render, please try loading this page with nbviewer.org.</b></div><div class=\"sk-container\" hidden><div class=\"sk-item\"><div class=\"sk-estimator sk-toggleable\"><input class=\"sk-toggleable__control sk-hidden--visually\" id=\"sk-estimator-id-2\" type=\"checkbox\" checked><label for=\"sk-estimator-id-2\" class=\"sk-toggleable__label sk-toggleable__label-arrow\">RandomForestClassifier</label><div class=\"sk-toggleable__content\"><pre>RandomForestClassifier(random_state=42)</pre></div></div></div></div></div>"
            ]
          },
          "metadata": {},
          "execution_count": 36
        }
      ]
    },
    {
      "cell_type": "markdown",
      "source": [
        "Use the trained classifier to make predictions on the test set (X_test)."
      ],
      "metadata": {
        "id": "1AJ8EOgIr_3q"
      }
    },
    {
      "cell_type": "code",
      "source": [
        "# Making predictions on the test set\n",
        "y_pred = clf.predict(X_test)\n",
        "\n",
        "# Evaluating the model\n",
        "accuracy = accuracy_score(y_test, y_pred)\n",
        "report = classification_report(y_test, y_pred)\n",
        "\n",
        "print(f\"Accuracy: {accuracy}\")\n",
        "print(\"Classification Report:\\n\", report)\n"
      ],
      "metadata": {
        "colab": {
          "base_uri": "https://localhost:8080/"
        },
        "id": "4jUMAGPwjH3_",
        "outputId": "593f775e-6641-4876-bc0e-21ca858bef93"
      },
      "execution_count": 37,
      "outputs": [
        {
          "output_type": "stream",
          "name": "stdout",
          "text": [
            "Accuracy: 0.785781990521327\n",
            "Classification Report:\n",
            "               precision    recall  f1-score   support\n",
            "\n",
            "           0       0.83      0.90      0.86      1549\n",
            "           1       0.63      0.48      0.54       561\n",
            "\n",
            "    accuracy                           0.79      2110\n",
            "   macro avg       0.73      0.69      0.70      2110\n",
            "weighted avg       0.77      0.79      0.78      2110\n",
            "\n"
          ]
        }
      ]
    },
    {
      "cell_type": "code",
      "source": [
        "import pandas as pd\n",
        "from sklearn.model_selection import train_test_split\n",
        "from sklearn.preprocessing import StandardScaler, LabelEncoder"
      ],
      "metadata": {
        "id": "8tydxtGIyHq8"
      },
      "execution_count": 54,
      "outputs": []
    },
    {
      "cell_type": "markdown",
      "source": [
        " Load the dataset"
      ],
      "metadata": {
        "id": "XjBYiQlbyMYG"
      }
    },
    {
      "cell_type": "code",
      "source": [
        "file_path = '/content/Section 3 finished dataset.csv'\n",
        "data = pd.read_csv(file_path)"
      ],
      "metadata": {
        "id": "aLG4BHKxyRJp"
      },
      "execution_count": 56,
      "outputs": []
    },
    {
      "cell_type": "markdown",
      "source": [
        " Check for missing values"
      ],
      "metadata": {
        "id": "od6PWO-1yb6k"
      }
    },
    {
      "cell_type": "code",
      "source": [
        "missing_values = data.isnull().sum()\n",
        "print(\"Missing values in each column:\\n\", missing_values)"
      ],
      "metadata": {
        "colab": {
          "base_uri": "https://localhost:8080/"
        },
        "id": "VB_8Jx_BycpJ",
        "outputId": "660916eb-d514-4c3b-cdb5-a0057e55a240"
      },
      "execution_count": 57,
      "outputs": [
        {
          "output_type": "stream",
          "name": "stdout",
          "text": [
            "Missing values in each column:\n",
            " customerID            0\n",
            "gender                0\n",
            "SeniorCitizen         0\n",
            "Partner               0\n",
            "Dependents            0\n",
            "tenure                0\n",
            "PhoneService          0\n",
            "MultipleLines         0\n",
            "InternetService       0\n",
            "OnlineSecurity        0\n",
            "OnlineBackup          0\n",
            "DeviceProtection      0\n",
            "TechSupport           0\n",
            "StreamingTV           0\n",
            "StreamingMovies       0\n",
            "Contract              0\n",
            "PaperlessBilling      0\n",
            "PaymentMethod         0\n",
            "MonthlyCharges        0\n",
            "TotalCharges          0\n",
            "Churn                 0\n",
            "tenure_bin            0\n",
            "MonthlyCharges_bin    0\n",
            "Cluster               0\n",
            "PCA1                  0\n",
            "PCA2                  0\n",
            "dtype: int64\n"
          ]
        }
      ]
    },
    {
      "cell_type": "markdown",
      "source": [
        "Drop customerID as it's not needed for the model"
      ],
      "metadata": {
        "id": "LJM8jRSuyhhk"
      }
    },
    {
      "cell_type": "code",
      "source": [
        "data = data.drop(columns=['customerID'])"
      ],
      "metadata": {
        "id": "nLzUH4fJyj5U"
      },
      "execution_count": 58,
      "outputs": []
    },
    {
      "cell_type": "markdown",
      "source": [
        "Encode categorical variables"
      ],
      "metadata": {
        "id": "uNsk8DlmynkD"
      }
    },
    {
      "cell_type": "code",
      "source": [
        "categorical_columns = data.select_dtypes(include=['object']).columns\n",
        "label_encoders = {}\n",
        "for column in categorical_columns:\n",
        "    label_encoders[column] = LabelEncoder()\n",
        "    data[column] = label_encoders[column].fit_transform(data[column])"
      ],
      "metadata": {
        "id": "EFSJNQuSyqhF"
      },
      "execution_count": 59,
      "outputs": []
    },
    {
      "cell_type": "markdown",
      "source": [
        " Separate features and target variable"
      ],
      "metadata": {
        "id": "XTbNfseoyxBo"
      }
    },
    {
      "cell_type": "code",
      "source": [
        "X = data.drop(columns=['Churn'])\n",
        "y = data['Churn']"
      ],
      "metadata": {
        "id": "VDQYWEg9y0sX"
      },
      "execution_count": 60,
      "outputs": []
    },
    {
      "cell_type": "markdown",
      "source": [
        "Split the data into training and test sets"
      ],
      "metadata": {
        "id": "-NS3YiFBy4DB"
      }
    },
    {
      "cell_type": "code",
      "source": [
        "X_train, X_test, y_train, y_test = train_test_split(X, y, test_size=0.2, random_state=42)"
      ],
      "metadata": {
        "id": "GoTyVF_3y81t"
      },
      "execution_count": 61,
      "outputs": []
    },
    {
      "cell_type": "markdown",
      "source": [
        "Standardize the features"
      ],
      "metadata": {
        "id": "ziYdw-Nky_MB"
      }
    },
    {
      "cell_type": "code",
      "source": [
        "scaler = StandardScaler()\n",
        "X_train = scaler.fit_transform(X_train)\n",
        "X_test = scaler.transform(X_test)"
      ],
      "metadata": {
        "id": "60eRbkoEzB1a"
      },
      "execution_count": 62,
      "outputs": []
    },
    {
      "cell_type": "code",
      "source": [
        "print(\"First 5 rows of X_train:\\n\", X_train[:5])\n",
        "print(\"First 5 rows of X_test:\\n\", X_test[:5])\n",
        "print(\"First 5 values of y_train:\\n\", y_train[:5])\n",
        "print(\"First 5 values of y_test:\\n\", y_test[:5])"
      ],
      "metadata": {
        "colab": {
          "base_uri": "https://localhost:8080/"
        },
        "id": "ZnUCOAkezGMj",
        "outputId": "931daee6-0ade-44c5-d9f6-d17d547ff744"
      },
      "execution_count": 63,
      "outputs": [
        {
          "output_type": "stream",
          "name": "stdout",
          "text": [
            "First 5 rows of X_train:\n",
            " [[-1.01378388e+00 -4.37589825e-01 -9.62481097e-01 -6.53683957e-01\n",
            "   4.34674035e-01 -3.04070742e+00  7.24271414e-02 -1.18846035e+00\n",
            "  -9.24149045e-01 -1.03744535e+00  1.24680575e+00 -9.28345891e-01\n",
            "   1.14222124e+00  1.12968721e+00 -8.29915093e-01  8.31396828e-01\n",
            "  -1.49123331e+00 -5.18620315e-01 -8.79078381e-02  4.26764303e-01\n",
            "   4.30079597e-04 -1.29591491e+00 -2.77640891e-01 -1.11933660e+00]\n",
            " [ 9.86403534e-01 -4.37589825e-01 -9.62481097e-01 -6.53683957e-01\n",
            "  -1.19565249e+00  3.28870838e-01 -9.83020191e-01 -1.18846035e+00\n",
            "  -9.24149045e-01 -1.03744535e+00 -1.02986438e+00 -9.28345891e-01\n",
            "   1.14222124e+00 -1.13371103e+00 -8.29915093e-01 -1.20279506e+00\n",
            "  -5.50853561e-01 -3.74443398e-01 -9.21284626e-01 -1.12431207e+00\n",
            "   4.30079597e-04  1.12304025e+00 -8.49715528e-01  1.03188861e+00]\n",
            " [-1.01378388e+00 -4.37589825e-01  1.03898144e+00 -6.53683957e-01\n",
            "   9.23771992e-01  3.28870838e-01  1.12787447e+00  1.65344727e-01\n",
            "  -9.24149045e-01 -1.03744535e+00  1.24680575e+00 -9.28345891e-01\n",
            "  -1.12129628e+00 -1.13371103e+00 -8.29915093e-01  8.31396828e-01\n",
            "   3.89526190e-01  4.32615893e-01  9.63780554e-01  9.43789762e-01\n",
            "   6.05229513e-01 -8.64373308e-02  8.10428125e-01 -5.16730301e-01]\n",
            " [ 9.86403534e-01 -4.37589825e-01  1.03898144e+00  1.52979125e+00\n",
            "   5.16190361e-01  3.28870838e-01 -9.83020191e-01 -1.18846035e+00\n",
            "   1.40329146e+00 -1.03744535e+00 -1.02986438e+00  1.39613470e+00\n",
            "  -1.12129628e+00 -1.13371103e+00  1.57331394e+00 -1.20279506e+00\n",
            "  -1.49123331e+00 -3.33013250e-01  1.22919932e-01  4.26764303e-01\n",
            "   4.30079597e-04 -1.29591491e+00 -9.34293800e-02 -1.12875067e+00]\n",
            " [-1.01378388e+00 -4.37589825e-01  1.03898144e+00  1.52979125e+00\n",
            "   9.23771992e-01  3.28870838e-01  1.12787447e+00  1.65344727e-01\n",
            "   1.40329146e+00 -1.03744535e+00 -1.02986438e+00 -9.28345891e-01\n",
            "   1.14222124e+00  1.12968721e+00  3.71699424e-01 -1.20279506e+00\n",
            "   1.32990594e+00  1.19990224e+00  1.40108812e+00  9.43789762e-01\n",
            "  -1.20916879e+00 -8.64373308e-02  1.27716395e+00 -3.54668092e-01]]\n",
            "First 5 rows of X_test:\n",
            " [[ 9.86403534e-01  2.28524509e+00  1.03898144e+00 -6.53683957e-01\n",
            "   1.16832097e+00  3.28870838e-01  1.12787447e+00  1.51914981e+00\n",
            "   2.39571210e-01  9.98826750e-02  1.08470684e-01  2.33894402e-01\n",
            "   1.04624810e-02 -2.01190954e-03  1.57331394e+00 -1.20279506e+00\n",
            "  -1.49123331e+00 -1.31573637e+00 -3.41541372e-01  1.46081522e+00\n",
            "  -6.04369353e-01 -1.29591491e+00 -1.16452487e-01 -1.05268320e+00]\n",
            " [-1.01378388e+00 -4.37589825e-01 -9.62481097e-01 -6.53683957e-01\n",
            "  -5.43521879e-01  3.28870838e-01  1.12787447e+00  1.51914981e+00\n",
            "   2.39571210e-01  9.98826750e-02  1.08470684e-01  2.33894402e-01\n",
            "   1.04624810e-02 -2.01190954e-03 -8.29915093e-01 -1.20279506e+00\n",
            "  -1.49123331e+00 -1.32567961e+00 -7.98916214e-01 -6.07286614e-01\n",
            "  -6.04369353e-01 -1.29591491e+00 -1.19747482e+00 -8.75041245e-01]\n",
            " [ 9.86403534e-01 -4.37589825e-01  1.03898144e+00 -6.53683957e-01\n",
            "  -7.88070858e-01  3.28870838e-01  1.12787447e+00  1.65344727e-01\n",
            "  -9.24149045e-01 -1.03744535e+00  1.24680575e+00 -9.28345891e-01\n",
            "   1.14222124e+00  1.12968721e+00 -8.29915093e-01  8.31396828e-01\n",
            "  -5.50853561e-01  1.24464680e+00 -4.04568941e-01 -6.07286614e-01\n",
            "  -1.20916879e+00  1.12304025e+00  9.79777958e-02  1.28636152e+00]\n",
            " [ 9.86403534e-01 -4.37589825e-01  1.03898144e+00 -6.53683957e-01\n",
            "   1.90125056e-01  3.28870838e-01  1.12787447e+00 -1.18846035e+00\n",
            "   1.40329146e+00 -1.03744535e+00 -1.02986438e+00 -9.28345891e-01\n",
            "  -1.12129628e+00 -1.13371103e+00 -8.29915093e-01  8.31396828e-01\n",
            "   1.32990594e+00 -3.19755602e-01 -1.07975110e-01  4.26764303e-01\n",
            "   4.30079597e-04 -1.29591491e+00 -2.93768311e-01 -9.61840910e-01]\n",
            " [-1.01378388e+00 -4.37589825e-01 -9.62481097e-01 -6.53683957e-01\n",
            "  -1.07337800e+00 -3.04070742e+00  7.24271414e-02 -1.18846035e+00\n",
            "   1.40329146e+00 -1.03744535e+00 -1.02986438e+00 -9.28345891e-01\n",
            "  -1.12129628e+00 -1.13371103e+00 -8.29915093e-01 -1.20279506e+00\n",
            "  -1.49123331e+00 -1.16824504e+00 -9.33316158e-01 -1.12431207e+00\n",
            "  -6.04369353e-01 -1.29591491e+00 -1.37130065e+00 -6.02401130e-01]]\n",
            "First 5 values of y_train:\n",
            " 6021    1\n",
            "3404    1\n",
            "5474    1\n",
            "5515    0\n",
            "6328    0\n",
            "Name: Churn, dtype: int64\n",
            "First 5 values of y_test:\n",
            " 2476    0\n",
            "6773    0\n",
            "6116    1\n",
            "3047    0\n",
            "4092    0\n",
            "Name: Churn, dtype: int64\n"
          ]
        }
      ]
    },
    {
      "cell_type": "markdown",
      "source": [
        "# **Model Training**"
      ],
      "metadata": {
        "id": "HZdxbNSpzQG6"
      }
    },
    {
      "cell_type": "code",
      "source": [
        "import pandas as pd\n",
        "from sklearn.model_selection import train_test_split\n",
        "from sklearn.preprocessing import StandardScaler, LabelEncoder\n",
        "from sklearn.linear_model import LogisticRegression\n",
        "from sklearn.metrics import accuracy_score, precision_score, recall_score, f1_score, confusion_matrix, classification_report"
      ],
      "metadata": {
        "id": "mrTL8o91zpBp"
      },
      "execution_count": 64,
      "outputs": []
    },
    {
      "cell_type": "code",
      "source": [
        "file_path = '/content/Section 3 finished dataset.csv'\n",
        "data = pd.read_csv(file_path)"
      ],
      "metadata": {
        "id": "YAp0Ob57z6vU"
      },
      "execution_count": 66,
      "outputs": []
    },
    {
      "cell_type": "code",
      "source": [
        "data = data.drop(columns=['customerID'])"
      ],
      "metadata": {
        "id": "_wx1vIoK0ACn"
      },
      "execution_count": 67,
      "outputs": []
    },
    {
      "cell_type": "markdown",
      "source": [
        "Encode categorical variables"
      ],
      "metadata": {
        "id": "uVh4h-_H0DUk"
      }
    },
    {
      "cell_type": "code",
      "source": [
        "categorical_columns = data.select_dtypes(include=['object']).columns\n",
        "label_encoders = {}\n",
        "for column in categorical_columns:\n",
        "    label_encoders[column] = LabelEncoder()\n",
        "    data[column] = label_encoders[column].fit_transform(data[column])"
      ],
      "metadata": {
        "id": "N8-_f9_I0GeL"
      },
      "execution_count": 68,
      "outputs": []
    },
    {
      "cell_type": "markdown",
      "source": [
        "Separate features and target variable"
      ],
      "metadata": {
        "id": "8A8vSJ3x0QMl"
      }
    },
    {
      "cell_type": "code",
      "source": [
        "X = data.drop(columns=['Churn'])\n",
        "y = data['Churn']"
      ],
      "metadata": {
        "id": "juDUVdWS0Q51"
      },
      "execution_count": 69,
      "outputs": []
    },
    {
      "cell_type": "markdown",
      "source": [
        "Split the data into training and test sets"
      ],
      "metadata": {
        "id": "XtIdgqhW0WvZ"
      }
    },
    {
      "cell_type": "code",
      "source": [
        "X_train, X_test, y_train, y_test = train_test_split(X, y, test_size=0.2, random_state=42)"
      ],
      "metadata": {
        "id": "KzhMGLGE0XVM"
      },
      "execution_count": 70,
      "outputs": []
    },
    {
      "cell_type": "markdown",
      "source": [
        "Standardize the features"
      ],
      "metadata": {
        "id": "e3vZYhB50bbI"
      }
    },
    {
      "cell_type": "code",
      "source": [
        "scaler = StandardScaler()\n",
        "X_train = scaler.fit_transform(X_train)\n",
        "X_test = scaler.transform(X_test)"
      ],
      "metadata": {
        "id": "069Wa0wT0fzi"
      },
      "execution_count": 71,
      "outputs": []
    },
    {
      "cell_type": "markdown",
      "source": [
        "Train a logistic regression model"
      ],
      "metadata": {
        "id": "XymGGILU0tx2"
      }
    },
    {
      "cell_type": "code",
      "source": [
        "model = LogisticRegression(random_state=42, max_iter=1000)\n",
        "model.fit(X_train, y_train)"
      ],
      "metadata": {
        "colab": {
          "base_uri": "https://localhost:8080/",
          "height": 74
        },
        "id": "XtmoM9sy0uXt",
        "outputId": "f90ea01a-431a-4f7d-b44f-f8565cbc7e6f"
      },
      "execution_count": 72,
      "outputs": [
        {
          "output_type": "execute_result",
          "data": {
            "text/plain": [
              "LogisticRegression(max_iter=1000, random_state=42)"
            ],
            "text/html": [
              "<style>#sk-container-id-3 {color: black;}#sk-container-id-3 pre{padding: 0;}#sk-container-id-3 div.sk-toggleable {background-color: white;}#sk-container-id-3 label.sk-toggleable__label {cursor: pointer;display: block;width: 100%;margin-bottom: 0;padding: 0.3em;box-sizing: border-box;text-align: center;}#sk-container-id-3 label.sk-toggleable__label-arrow:before {content: \"▸\";float: left;margin-right: 0.25em;color: #696969;}#sk-container-id-3 label.sk-toggleable__label-arrow:hover:before {color: black;}#sk-container-id-3 div.sk-estimator:hover label.sk-toggleable__label-arrow:before {color: black;}#sk-container-id-3 div.sk-toggleable__content {max-height: 0;max-width: 0;overflow: hidden;text-align: left;background-color: #f0f8ff;}#sk-container-id-3 div.sk-toggleable__content pre {margin: 0.2em;color: black;border-radius: 0.25em;background-color: #f0f8ff;}#sk-container-id-3 input.sk-toggleable__control:checked~div.sk-toggleable__content {max-height: 200px;max-width: 100%;overflow: auto;}#sk-container-id-3 input.sk-toggleable__control:checked~label.sk-toggleable__label-arrow:before {content: \"▾\";}#sk-container-id-3 div.sk-estimator input.sk-toggleable__control:checked~label.sk-toggleable__label {background-color: #d4ebff;}#sk-container-id-3 div.sk-label input.sk-toggleable__control:checked~label.sk-toggleable__label {background-color: #d4ebff;}#sk-container-id-3 input.sk-hidden--visually {border: 0;clip: rect(1px 1px 1px 1px);clip: rect(1px, 1px, 1px, 1px);height: 1px;margin: -1px;overflow: hidden;padding: 0;position: absolute;width: 1px;}#sk-container-id-3 div.sk-estimator {font-family: monospace;background-color: #f0f8ff;border: 1px dotted black;border-radius: 0.25em;box-sizing: border-box;margin-bottom: 0.5em;}#sk-container-id-3 div.sk-estimator:hover {background-color: #d4ebff;}#sk-container-id-3 div.sk-parallel-item::after {content: \"\";width: 100%;border-bottom: 1px solid gray;flex-grow: 1;}#sk-container-id-3 div.sk-label:hover label.sk-toggleable__label {background-color: #d4ebff;}#sk-container-id-3 div.sk-serial::before {content: \"\";position: absolute;border-left: 1px solid gray;box-sizing: border-box;top: 0;bottom: 0;left: 50%;z-index: 0;}#sk-container-id-3 div.sk-serial {display: flex;flex-direction: column;align-items: center;background-color: white;padding-right: 0.2em;padding-left: 0.2em;position: relative;}#sk-container-id-3 div.sk-item {position: relative;z-index: 1;}#sk-container-id-3 div.sk-parallel {display: flex;align-items: stretch;justify-content: center;background-color: white;position: relative;}#sk-container-id-3 div.sk-item::before, #sk-container-id-3 div.sk-parallel-item::before {content: \"\";position: absolute;border-left: 1px solid gray;box-sizing: border-box;top: 0;bottom: 0;left: 50%;z-index: -1;}#sk-container-id-3 div.sk-parallel-item {display: flex;flex-direction: column;z-index: 1;position: relative;background-color: white;}#sk-container-id-3 div.sk-parallel-item:first-child::after {align-self: flex-end;width: 50%;}#sk-container-id-3 div.sk-parallel-item:last-child::after {align-self: flex-start;width: 50%;}#sk-container-id-3 div.sk-parallel-item:only-child::after {width: 0;}#sk-container-id-3 div.sk-dashed-wrapped {border: 1px dashed gray;margin: 0 0.4em 0.5em 0.4em;box-sizing: border-box;padding-bottom: 0.4em;background-color: white;}#sk-container-id-3 div.sk-label label {font-family: monospace;font-weight: bold;display: inline-block;line-height: 1.2em;}#sk-container-id-3 div.sk-label-container {text-align: center;}#sk-container-id-3 div.sk-container {/* jupyter's `normalize.less` sets `[hidden] { display: none; }` but bootstrap.min.css set `[hidden] { display: none !important; }` so we also need the `!important` here to be able to override the default hidden behavior on the sphinx rendered scikit-learn.org. See: https://github.com/scikit-learn/scikit-learn/issues/21755 */display: inline-block !important;position: relative;}#sk-container-id-3 div.sk-text-repr-fallback {display: none;}</style><div id=\"sk-container-id-3\" class=\"sk-top-container\"><div class=\"sk-text-repr-fallback\"><pre>LogisticRegression(max_iter=1000, random_state=42)</pre><b>In a Jupyter environment, please rerun this cell to show the HTML representation or trust the notebook. <br />On GitHub, the HTML representation is unable to render, please try loading this page with nbviewer.org.</b></div><div class=\"sk-container\" hidden><div class=\"sk-item\"><div class=\"sk-estimator sk-toggleable\"><input class=\"sk-toggleable__control sk-hidden--visually\" id=\"sk-estimator-id-3\" type=\"checkbox\" checked><label for=\"sk-estimator-id-3\" class=\"sk-toggleable__label sk-toggleable__label-arrow\">LogisticRegression</label><div class=\"sk-toggleable__content\"><pre>LogisticRegression(max_iter=1000, random_state=42)</pre></div></div></div></div></div>"
            ]
          },
          "metadata": {},
          "execution_count": 72
        }
      ]
    },
    {
      "cell_type": "markdown",
      "source": [
        "Predict on the test set"
      ],
      "metadata": {
        "id": "eYTugpAA0yvm"
      }
    },
    {
      "cell_type": "code",
      "source": [
        "y_pred = model.predict(X_test)"
      ],
      "metadata": {
        "id": "vguggtHS01m1"
      },
      "execution_count": 73,
      "outputs": []
    },
    {
      "cell_type": "markdown",
      "source": [
        "Evaluate the model"
      ],
      "metadata": {
        "id": "W8utxEB1043c"
      }
    },
    {
      "cell_type": "code",
      "source": [
        "accuracy = accuracy_score(y_test, y_pred)\n",
        "precision = precision_score(y_test, y_pred)\n",
        "recall = recall_score(y_test, y_pred)\n",
        "f1 = f1_score(y_test, y_pred)\n",
        "conf_matrix = confusion_matrix(y_test, y_pred)\n",
        "class_report = classification_report(y_test, y_pred)"
      ],
      "metadata": {
        "id": "s1IK_4Gw07W-"
      },
      "execution_count": 74,
      "outputs": []
    },
    {
      "cell_type": "markdown",
      "source": [
        "Print the evaluation results"
      ],
      "metadata": {
        "id": "Eg2XLlLx1A2A"
      }
    },
    {
      "cell_type": "code",
      "source": [
        "print(\"Accuracy:\", accuracy)\n",
        "print(\"Precision:\", precision)\n",
        "print(\"Recall:\", recall)\n",
        "print(\"F1-score:\", f1)\n",
        "print(\"Confusion Matrix:\\n\", conf_matrix)\n",
        "print(\"Classification Report:\\n\", class_report)"
      ],
      "metadata": {
        "colab": {
          "base_uri": "https://localhost:8080/"
        },
        "id": "baC-3DsX1Bci",
        "outputId": "ed439ed1-ea2c-40a6-8323-6e867efd8d81"
      },
      "execution_count": 75,
      "outputs": [
        {
          "output_type": "stream",
          "name": "stdout",
          "text": [
            "Accuracy: 0.7896233120113717\n",
            "Precision: 0.6344827586206897\n",
            "Recall: 0.4919786096256685\n",
            "F1-score: 0.5542168674698795\n",
            "Confusion Matrix:\n",
            " [[927 106]\n",
            " [190 184]]\n",
            "Classification Report:\n",
            "               precision    recall  f1-score   support\n",
            "\n",
            "           0       0.83      0.90      0.86      1033\n",
            "           1       0.63      0.49      0.55       374\n",
            "\n",
            "    accuracy                           0.79      1407\n",
            "   macro avg       0.73      0.69      0.71      1407\n",
            "weighted avg       0.78      0.79      0.78      1407\n",
            "\n"
          ]
        }
      ]
    }
  ]
}